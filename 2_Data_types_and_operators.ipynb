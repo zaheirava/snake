{
 "cells": [
  {
   "cell_type": "code",
   "execution_count": 23,
   "metadata": {
    "slideshow": {
     "slide_type": "skip"
    }
   },
   "outputs": [
    {
     "data": {
      "text/html": [
       "<style>\n",
       "\n",
       "body {\n",
       " counter-reset: h2counter;\n",
       "}\n",
       "h1 {\n",
       " counter-reset: h2counter;\n",
       "}\n",
       "h2:before {\n",
       " content: counter(h2counter) \".\\0000a0\\0000a0\";\n",
       " counter-increment: h2counter;\n",
       " counter-reset: h3counter;\n",
       "}\n",
       "\n",
       "\n",
       "</style>\n"
      ],
      "text/plain": [
       "<IPython.core.display.HTML object>"
      ]
     },
     "execution_count": 23,
     "metadata": {},
     "output_type": "execute_result"
    }
   ],
   "source": [
    "from IPython.core.display import HTML\n",
    "def css_styling():\n",
    "    styles = open(\"./styles/custom.css\", \"r\").read()\n",
    "    return HTML(styles)\n",
    "css_styling()"
   ]
  },
  {
   "cell_type": "code",
   "execution_count": 7,
   "metadata": {
    "collapsed": true
   },
   "outputs": [],
   "source": [
    "import random\n",
    "from scipy.stats import levy"
   ]
  },
  {
   "cell_type": "markdown",
   "metadata": {},
   "source": [
    "### BEFORE YOU DO ANYTHING...\n",
    "In the terminal:\n",
    "1. Navigate to __inside__ your ILAS_Python repository.\n",
    "2. __COMMIT__ any un-commited work on your personal computer.\n",
    "3. __PULL__ any changes *you* have made using another computer.\n",
    "4. __PULL__ textbook updates (including homework answers)."
   ]
  },
  {
   "cell_type": "markdown",
   "metadata": {
    "slideshow": {
     "slide_type": "slide"
    }
   },
   "source": [
    "1. Open Jupyter notebook:<br> Start >> Programs (すべてのプログラム) >> Programming >> Anaconda3 >> JupyterNotebook\n",
    "1. Navigate to the ILAS_Python folder. \n",
    "1. __Open today's seminar__  by clicking on __2_Data_types_and_operators__."
   ]
  },
  {
   "cell_type": "markdown",
   "metadata": {
    "collapsed": true,
    "slideshow": {
     "slide_type": "slide"
    }
   },
   "source": [
    "<h1>Data Types and Simple Arithmetic Operators</h1> \n",
    "\n",
    "<h1>Lesson Goal</h1> \n",
    "\n",
    "Compose and solve simple mathematical problems using Python.  \n",
    "\n"
   ]
  },
  {
   "cell_type": "markdown",
   "metadata": {
    "slideshow": {
     "slide_type": "slide"
    }
   },
   "source": [
    "<h1>Objectives</h1> \n",
    "\n",
    " - Use Python as a calculator.\n",
    " - Express mathematical and logic operations correctly.  \n",
    " - Learn to use different \"types\" of variable. \n",
    " \n",
    "We will finish by learning how to create a local copy of the interactive textbook on your personal computer that you will use to complete your homework. "
   ]
  },
  {
   "cell_type": "markdown",
   "metadata": {
    "slideshow": {
     "slide_type": "slide"
    }
   },
   "source": [
    "Why we are studying this:\n",
    "\n",
    "   - To do basic algebra in Python.\n",
    "    \n",
    "   - To use programming to solve engineering problems that you will encounter in your other classes. \n"
   ]
  },
  {
   "cell_type": "markdown",
   "metadata": {
    "slideshow": {
     "slide_type": "slide"
    }
   },
   "source": [
    "Lesson structure:\n",
    " - Learn new skills together:\n",
    "  - __Demonstration__ on slides.\n",
    "  - __Completing examples__ in textbooks.\n",
    "  - __Share answers__ (verbally / whiteboards)\n",
    " - Practise alone: __Completing review excercises__.\n",
    " - Skills Review: __Updating your online git repository__.\n",
    " - New skills: Updating your online git repository __from home__.\n",
    " - __Summary__.\n",
    " "
   ]
  },
  {
   "cell_type": "markdown",
   "metadata": {
    "slideshow": {
     "slide_type": "slide"
    }
   },
   "source": [
    "Each time you complete a section of your textbook, please wait to share the answer before moving on.\n",
    "\n",
    "Let’s start by practising how you will fill in your textbooks and share answers.\n",
    "\n",
    "__Basic Arithmetic Operators...__"
   ]
  },
  {
   "cell_type": "markdown",
   "metadata": {
    "slideshow": {
     "slide_type": "skip"
    }
   },
   "source": [
    "<a id='AlgebraicOperators'></a>"
   ]
  },
  {
   "cell_type": "markdown",
   "metadata": {
    "slideshow": {
     "slide_type": "slide"
    }
   },
   "source": [
    "<h2>Simple Operators</h2>\n",
    "\n",
    "We can use Python like a calculator.\n",
    "\n",
    "__Simple arithmetical operators:__\n",
    "\n",
    "$+$    &nbsp; &nbsp; &nbsp; &nbsp; &nbsp;         Addition <br>\n",
    "$-$    &nbsp; &nbsp; &nbsp; &nbsp; &nbsp;         Subtraction <br>\n",
    "$*$    &nbsp; &nbsp; &nbsp; &nbsp; &nbsp;         Multiplication <br>\n",
    "$/$    &nbsp; &nbsp; &nbsp; &nbsp; &nbsp; &nbsp;  Division <br>\n",
    "$//$   &nbsp; &nbsp; &nbsp; &nbsp; &nbsp;         Floor division (round down to the next integer)<br>\n",
    "$\\%$   &nbsp; &nbsp; &nbsp; &nbsp; &nbsp;         Modulo (remainder)<br>\n",
    "$**$   &nbsp; &nbsp; &nbsp; &nbsp;                Exponent <br>"
   ]
  },
  {
   "cell_type": "markdown",
   "metadata": {
    "slideshow": {
     "slide_type": "slide"
    }
   },
   "source": [
    "<h3>Algebraic Operators</h3> \n",
    "Express the following simple expressions using python code. <br>\n",
    "Click on the cell to type in it. <br>\n",
    "Press \"Shift\" + \"Enter\" to run the cell. \n",
    "\n",
    "$3 + 8$ \n"
   ]
  },
  {
   "cell_type": "code",
   "execution_count": null,
   "metadata": {
    "collapsed": true,
    "slideshow": {
     "slide_type": "-"
    }
   },
   "outputs": [],
   "source": [
    "3 + 8\n"
   ]
  },
  {
   "cell_type": "markdown",
   "metadata": {
    "slideshow": {
     "slide_type": "slide"
    }
   },
   "source": [
    "$2 - 4$"
   ]
  },
  {
   "cell_type": "code",
   "execution_count": 1,
   "metadata": {
    "slideshow": {
     "slide_type": "-"
    }
   },
   "outputs": [
    {
     "data": {
      "text/plain": [
       "-2"
      ]
     },
     "execution_count": 1,
     "metadata": {},
     "output_type": "execute_result"
    }
   ],
   "source": [
    " 2-4"
   ]
  },
  {
   "cell_type": "markdown",
   "metadata": {
    "slideshow": {
     "slide_type": "-"
    }
   },
   "source": [
    "$6 \\times 4$"
   ]
  },
  {
   "cell_type": "code",
   "execution_count": 2,
   "metadata": {
    "slideshow": {
     "slide_type": "-"
    }
   },
   "outputs": [
    {
     "data": {
      "text/plain": [
       "24"
      ]
     },
     "execution_count": 2,
     "metadata": {},
     "output_type": "execute_result"
    }
   ],
   "source": [
    "6*4"
   ]
  },
  {
   "cell_type": "markdown",
   "metadata": {
    "slideshow": {
     "slide_type": "slide"
    }
   },
   "source": [
    "$2^{3}$"
   ]
  },
  {
   "cell_type": "code",
   "execution_count": 3,
   "metadata": {},
   "outputs": [
    {
     "data": {
      "text/plain": [
       "8"
      ]
     },
     "execution_count": 3,
     "metadata": {},
     "output_type": "execute_result"
    }
   ],
   "source": [
    "2**3"
   ]
  },
  {
   "cell_type": "markdown",
   "metadata": {
    "slideshow": {
     "slide_type": "slide"
    }
   },
   "source": [
    "$ 12 \\div 5$"
   ]
  },
  {
   "cell_type": "code",
   "execution_count": 4,
   "metadata": {
    "slideshow": {
     "slide_type": "-"
    }
   },
   "outputs": [
    {
     "data": {
      "text/plain": [
       "2.4"
      ]
     },
     "execution_count": 4,
     "metadata": {},
     "output_type": "execute_result"
    }
   ],
   "source": [
    "12/5"
   ]
  },
  {
   "cell_type": "markdown",
   "metadata": {
    "slideshow": {
     "slide_type": "-"
    }
   },
   "source": [
    "The remainder when $12 \\div 5$"
   ]
  },
  {
   "cell_type": "code",
   "execution_count": 5,
   "metadata": {},
   "outputs": [
    {
     "data": {
      "text/plain": [
       "2"
      ]
     },
     "execution_count": 5,
     "metadata": {},
     "output_type": "execute_result"
    }
   ],
   "source": [
    "\n",
    "12%5"
   ]
  },
  {
   "cell_type": "markdown",
   "metadata": {
    "slideshow": {
     "slide_type": "slide"
    }
   },
   "source": [
    "### Operator precedence\n",
    "\n",
    "__Operator precedence:__ The order in which operations are performed when there are multiple operations in an expression\n",
    "\n",
    "e.g. multiplication before addition.\n"
   ]
  },
  {
   "cell_type": "markdown",
   "metadata": {
    "slideshow": {
     "slide_type": "slide"
    }
   },
   "source": [
    "Python follows the usual mathematical rules for precedence. \n",
    "\n",
    "> 1. Parentheses &nbsp; e.g. $(2+4)$\n",
    "1. Exponents &nbsp; &nbsp; &nbsp; e.g. $2^2$\n",
    "1. Multiplication, Division, Floor Division and Modulo (left to right)\n",
    "1. Addition and Subtraction (left to right)"
   ]
  },
  {
   "cell_type": "markdown",
   "metadata": {
    "slideshow": {
     "slide_type": "slide"
    }
   },
   "source": [
    "- The expression should __evaluate correctly__.\n",
    "- The expression should be __easily readable__. \n"
   ]
  },
  {
   "cell_type": "markdown",
   "metadata": {
    "slideshow": {
     "slide_type": "slide"
    }
   },
   "source": [
    "__Easily Readable__\n",
    "\n",
    "Simple enough for someone else reading the code to understand.\n",
    "\n",
    "It is possible to write __code__ that is correct, but might be difficult for someone (including you!) to check."
   ]
  },
  {
   "cell_type": "markdown",
   "metadata": {
    "slideshow": {
     "slide_type": "slide"
    }
   },
   "source": [
    "#### Correct Evaluation\n",
    "\n",
    "A common example: \n",
    "\n",
    "$$\n",
    "\\frac{10}{2 \\times 50} = 0.1\n",
    "$$"
   ]
  },
  {
   "cell_type": "code",
   "execution_count": 24,
   "metadata": {},
   "outputs": [
    {
     "data": {
      "text/plain": [
       "250.0"
      ]
     },
     "execution_count": 24,
     "metadata": {},
     "output_type": "execute_result"
    }
   ],
   "source": [
    "10 / 2 * 50"
   ]
  },
  {
   "cell_type": "markdown",
   "metadata": {},
   "source": [
    "is incorrect.\n",
    "\n"
   ]
  },
  {
   "cell_type": "markdown",
   "metadata": {
    "slideshow": {
     "slide_type": "slide"
    }
   },
   "source": [
    "Multiplication and division have the same precedence.\n",
    "\n",
    "The expression is evaluated 'left-to-right'. \n",
    "\n",
    "The correct result is acheived by using brackets &nbsp; $()$, as you would when using a calculator. \n",
    "\n"
   ]
  },
  {
   "cell_type": "markdown",
   "metadata": {
    "slideshow": {
     "slide_type": "slide"
    }
   },
   "source": [
    "$$\n",
    "\\frac{10}{2 \\times 50} = 0.1\n",
    "$$\n",
    "\n",
    "__How would you enter this using a calculator to get the correct order of precedence?__"
   ]
  },
  {
   "cell_type": "code",
   "execution_count": 6,
   "metadata": {},
   "outputs": [
    {
     "data": {
      "text/plain": [
       "0.1"
      ]
     },
     "execution_count": 6,
     "metadata": {},
     "output_type": "execute_result"
    }
   ],
   "source": [
    "10/(2*50)"
   ]
  },
  {
   "cell_type": "markdown",
   "metadata": {
    "slideshow": {
     "slide_type": "slide"
    }
   },
   "source": [
    "#### Readability\n",
    "\n",
    "An example that __evaluates__ the following expression correctly:\n",
    "\n",
    "$$\n",
    "2^{3} \\cdot 4 = 32\n",
    "$$\n",
    "\n",
    "but is __not easily readable__:"
   ]
  },
  {
   "cell_type": "code",
   "execution_count": 7,
   "metadata": {},
   "outputs": [
    {
     "data": {
      "text/plain": [
       "32"
      ]
     },
     "execution_count": 7,
     "metadata": {},
     "output_type": "execute_result"
    }
   ],
   "source": [
    "2**3*4\n"
   ]
  },
  {
   "cell_type": "markdown",
   "metadata": {
    "slideshow": {
     "slide_type": "slide"
    }
   },
   "source": [
    "$$\n",
    "2^{3} \\cdot 4 = 32\n",
    "$$\n",
    "\n",
    "A better (__more readable__) expression:"
   ]
  },
  {
   "cell_type": "code",
   "execution_count": 26,
   "metadata": {},
   "outputs": [
    {
     "data": {
      "text/plain": [
       "32"
      ]
     },
     "execution_count": 26,
     "metadata": {},
     "output_type": "execute_result"
    }
   ],
   "source": [
    "(2**3)*4"
   ]
  },
  {
   "cell_type": "markdown",
   "metadata": {
    "slideshow": {
     "slide_type": "slide"
    }
   },
   "source": [
    "It is best practise to use spaces between characters to make your code more readable.\n",
    "\n",
    "You will be marked on readbility in your assessment.\n",
    "\n",
    "Start developing good habits now!"
   ]
  },
  {
   "cell_type": "code",
   "execution_count": 1,
   "metadata": {
    "slideshow": {
     "slide_type": "-"
    }
   },
   "outputs": [
    {
     "data": {
      "text/plain": [
       "32"
      ]
     },
     "execution_count": 1,
     "metadata": {},
     "output_type": "execute_result"
    }
   ],
   "source": [
    "(2**3)*4\n",
    "\n",
    "(2**3) * 4"
   ]
  },
  {
   "cell_type": "markdown",
   "metadata": {
    "slideshow": {
     "slide_type": "slide"
    }
   },
   "source": [
    "## Variables and Assignment\n",
    "\n",
    "We can easily solve the equations so far using a calculator.\n",
    "\n",
    "Let's look at some special operations that Python allows us to do.\n",
    "\n",
    "\n",
    "\n"
   ]
  },
  {
   "cell_type": "markdown",
   "metadata": {
    "slideshow": {
     "slide_type": "slide"
    }
   },
   "source": [
    "What if we want to evaluate the same expression multiple times, changing the numerical constants each time?\n",
    "\n",
    "Example:\n",
    ">$x^{y} \\cdot z = $ <br>\n",
    "\n",
    ">$2^{3} \\cdot 4 = $ <br>\n",
    "$4^{5} \\cdot 3 = $ <br>\n",
    "$6^{2} \\cdot 2 =$ &nbsp; ...\n",
    "\n",
    "\n",
    "\n",
    "\n",
    "\n"
   ]
  },
  {
   "cell_type": "markdown",
   "metadata": {
    "slideshow": {
     "slide_type": "slide"
    }
   },
   "source": [
    "What if we want to use the value of the expression in a subsequent computation?\n",
    "\n",
    "Example:\n",
    "\n",
    ">$a = b + c$\n",
    "\n",
    ">$d = a + b$"
   ]
  },
  {
   "cell_type": "markdown",
   "metadata": {
    "slideshow": {
     "slide_type": "slide"
    }
   },
   "source": [
    "In both these cases programming can improve the speed and ease of computation by using *assignment*."
   ]
  },
  {
   "cell_type": "markdown",
   "metadata": {
    "slideshow": {
     "slide_type": "slide"
    }
   },
   "source": [
    "### Assigning Variables\n",
    "\n",
    "When we compute something, we usually want to __store__ the result.\n",
    "\n",
    "This allows us to use it in subsequent computations. \n",
    "\n",
    "*Variables* are what we use to store values. "
   ]
  },
  {
   "cell_type": "code",
   "execution_count": 28,
   "metadata": {
    "slideshow": {
     "slide_type": "slide"
    }
   },
   "outputs": [
    {
     "name": "stdout",
     "output_type": "stream",
     "text": [
      "10\n"
     ]
    }
   ],
   "source": [
    "c = 10\n",
    "print(c)"
   ]
  },
  {
   "cell_type": "markdown",
   "metadata": {},
   "source": [
    "Above, the variable `c` is used to 'store' the value `10`. \n",
    "\n",
    "The function `print` is used to display the value of a variable. \n",
    "\n",
    "(We will learn what functions are and how we use them later).\n",
    "\n"
   ]
  },
  {
   "cell_type": "markdown",
   "metadata": {
    "slideshow": {
     "slide_type": "slide"
    }
   },
   "source": [
    "To compute $c = a + b$ , \n",
    "<br>where $a = 2$ and $b = 11$:"
   ]
  },
  {
   "cell_type": "code",
   "execution_count": 2,
   "metadata": {},
   "outputs": [
    {
     "name": "stdout",
     "output_type": "stream",
     "text": [
      "22\n"
     ]
    }
   ],
   "source": [
    "a = 11\n",
    "b = 11\n",
    "c = a + b\n",
    "\n",
    "print(c)"
   ]
  },
  {
   "cell_type": "markdown",
   "metadata": {
    "slideshow": {
     "slide_type": "slide"
    }
   },
   "source": [
    "If we want to change the value of $a$ to $4$ and recompute the sum,\n",
    "\n",
    "we re-write `a = 2` \n",
    "\n",
    "as `a = 4` \n",
    "\n",
    "and run the cell again to execute the code. "
   ]
  },
  {
   "cell_type": "markdown",
   "metadata": {
    "slideshow": {
     "slide_type": "slide"
    }
   },
   "source": [
    "__Try this yourself__. \n",
    "\n",
    "Change the value of a or b.\n",
    "\n",
    "Re-run the cell to update the value.\n",
    "\n",
    "(Click on the cell to type in it. <br>\n",
    "Press \"Shift\" + \"Enter\" to run the cell.)\n",
    "\n",
    "Then run the `print(c)` block to view the new value."
   ]
  },
  {
   "cell_type": "markdown",
   "metadata": {
    "slideshow": {
     "slide_type": "slide"
    }
   },
   "source": [
    "__In the cell below find $y$ when__:\n",
    "<br>$y=ax^2+bx+c$, \n",
    "<br>$a=1$\n",
    "<br>$b=1$\n",
    "<br>$c=-6$\n",
    "<br>$x=-2$\n",
    "\n",
    "When you have finished, hold up your answer on your whiteboard."
   ]
  },
  {
   "cell_type": "code",
   "execution_count": 9,
   "metadata": {},
   "outputs": [
    {
     "name": "stdout",
     "output_type": "stream",
     "text": [
      "-6\n"
     ]
    }
   ],
   "source": [
    "# create variables a, b, c and x\n",
    "# e.g. a = 1  \n",
    "a=1\n",
    "b=1\n",
    "c=-6\n",
    "x=0\n",
    "y=a*x**2+b*x+c\n",
    "print(y)\n",
    "\n",
    "#type: print (y) to reveal the answer\n"
   ]
  },
  {
   "cell_type": "markdown",
   "metadata": {
    "slideshow": {
     "slide_type": "slide"
    }
   },
   "source": [
    "What value did you get for y?"
   ]
  },
  {
   "cell_type": "markdown",
   "metadata": {
    "slideshow": {
     "slide_type": "slide"
    }
   },
   "source": [
    "Now change the value of $x$ so that $x = 0$ and re-run the cell to update the value. \n",
    "\n",
    "What value did you get for y this time?"
   ]
  },
  {
   "cell_type": "markdown",
   "metadata": {
    "slideshow": {
     "slide_type": "slide"
    }
   },
   "source": [
    "### Augmented Assignment\n",
    "\n",
    "The case where the assigned value depends on a previous value of the variable. \n",
    "\n",
    "Example:"
   ]
  },
  {
   "cell_type": "code",
   "execution_count": 10,
   "metadata": {},
   "outputs": [
    {
     "name": "stdout",
     "output_type": "stream",
     "text": [
      "13\n"
     ]
    }
   ],
   "source": [
    "a = 2\n",
    "b = 11\n",
    "a = a + b\n",
    "print(a)"
   ]
  },
  {
   "cell_type": "markdown",
   "metadata": {
    "slideshow": {
     "slide_type": "-"
    }
   },
   "source": [
    "This type of expression is not a valid algebraic statement since '`a`' appears on both sides of '`=`'. \n",
    "\n",
    "However, is very common in computer programming. \n",
    "\n",
    "\n"
   ]
  },
  {
   "cell_type": "markdown",
   "metadata": {
    "slideshow": {
     "slide_type": "slide"
    }
   },
   "source": [
    "__How it works:__\n",
    "    \n",
    " > `a = a + b`\n",
    "    \n",
    " The final value of `a` (left-hand side) is equal to the sum of the initial value of `a` and `b`"
   ]
  },
  {
   "cell_type": "markdown",
   "metadata": {},
   "source": [
    "<a id='Shortcuts'></a>"
   ]
  },
  {
   "cell_type": "markdown",
   "metadata": {
    "slideshow": {
     "slide_type": "slide"
    }
   },
   "source": [
    "### Shortcuts"
   ]
  },
  {
   "cell_type": "markdown",
   "metadata": {},
   "source": [
    "Augmented assignments can be written in short form.\n",
    "\n",
    "For __addition__:\n",
    "\n",
    "`a = a + b`  &nbsp;&nbsp; &nbsp; can be written &nbsp;&nbsp;&nbsp; `a += b`"
   ]
  },
  {
   "cell_type": "code",
   "execution_count": 11,
   "metadata": {},
   "outputs": [
    {
     "name": "stdout",
     "output_type": "stream",
     "text": [
      "13\n",
      "13\n"
     ]
    }
   ],
   "source": [
    "# Long-hand addition\n",
    "a = 2\n",
    "b = 11\n",
    "a = a + b\n",
    "print(a)\n",
    "\n",
    "# Short-hand addition\n",
    "a = 2\n",
    "b = 11\n",
    "a += b\n",
    "print(a)"
   ]
  },
  {
   "cell_type": "markdown",
   "metadata": {
    "slideshow": {
     "slide_type": "slide"
    }
   },
   "source": [
    "For __subtraction__:\n",
    "\n",
    "`a = a - b`  &nbsp;&nbsp; &nbsp; can be written &nbsp;&nbsp;&nbsp; `a -= b`\n"
   ]
  },
  {
   "cell_type": "code",
   "execution_count": 12,
   "metadata": {},
   "outputs": [
    {
     "name": "stdout",
     "output_type": "stream",
     "text": [
      "1\n",
      "1\n"
     ]
    }
   ],
   "source": [
    "# Long-hand subtraction\n",
    "a = 1\n",
    "b = 4\n",
    "\n",
    "print(a)\n",
    "\n",
    "# Short-hand subtraction\n",
    "a = 1\n",
    "b = 4\n",
    "\n",
    "print(a)"
   ]
  },
  {
   "cell_type": "markdown",
   "metadata": {
    "slideshow": {
     "slide_type": "slide"
    }
   },
   "source": [
    "The <a href='#AlgebraicOperators'>basic algebraic operators</a> can all be manipulated in the same way to produce a short form of augmented assigment. \n",
    "\n",
    "Complete the cells below to include the __short form__ of the expression and `print(a)` to check your answers match. "
   ]
  },
  {
   "cell_type": "markdown",
   "metadata": {
    "slideshow": {
     "slide_type": "slide"
    }
   },
   "source": [
    "__Multiplication__"
   ]
  },
  {
   "cell_type": "code",
   "execution_count": 14,
   "metadata": {},
   "outputs": [
    {
     "name": "stdout",
     "output_type": "stream",
     "text": [
      "20\n",
      "20\n"
     ]
    }
   ],
   "source": [
    "# Long-hand multiplication\n",
    "a = 10\n",
    "c = 2\n",
    "a = c*a\n",
    "print(a)\n",
    "\n",
    "# Short-hand multiplication\n",
    "a = 10\n",
    "c = 2\n",
    "a*=c\n",
    "print(a)"
   ]
  },
  {
   "cell_type": "markdown",
   "metadata": {
    "slideshow": {
     "slide_type": "slide"
    }
   },
   "source": [
    "__Division__"
   ]
  },
  {
   "cell_type": "code",
   "execution_count": 15,
   "metadata": {},
   "outputs": [
    {
     "name": "stdout",
     "output_type": "stream",
     "text": [
      "0.25\n",
      "0.25\n"
     ]
    }
   ],
   "source": [
    "# Long-hand division\n",
    "a = 1\n",
    "a = a/4\n",
    "print(a)\n",
    "\n",
    "# Short-hand division\n",
    "a = 1\n",
    "a/=4\n",
    "print(a)"
   ]
  },
  {
   "cell_type": "markdown",
   "metadata": {
    "slideshow": {
     "slide_type": "slide"
    }
   },
   "source": [
    "__Floor Division__"
   ]
  },
  {
   "cell_type": "code",
   "execution_count": 16,
   "metadata": {},
   "outputs": [
    {
     "name": "stdout",
     "output_type": "stream",
     "text": [
      "2\n",
      "2\n"
     ]
    }
   ],
   "source": [
    "# Long-hand floor division\n",
    "a = 12\n",
    "a = a//5\n",
    "print(a)\n",
    "\n",
    "# Short-hand floor division\n",
    "a = 12\n",
    "a//=5\n",
    "print(a)"
   ]
  },
  {
   "cell_type": "markdown",
   "metadata": {
    "collapsed": true,
    "slideshow": {
     "slide_type": "slide"
    }
   },
   "source": [
    "__Floor Division (of negative nunbers)__"
   ]
  },
  {
   "cell_type": "code",
   "execution_count": 18,
   "metadata": {
    "slideshow": {
     "slide_type": "-"
    }
   },
   "outputs": [
    {
     "name": "stdout",
     "output_type": "stream",
     "text": [
      "-3\n",
      "-3\n"
     ]
    }
   ],
   "source": [
    "# Long-hand floor division\n",
    "a = -12\n",
    "a = a//5\n",
    "print(a)\n",
    "\n",
    "# Short-hand floor division\n",
    "a = -12\n",
    "a//=5\n",
    "print(a)"
   ]
  },
  {
   "cell_type": "markdown",
   "metadata": {},
   "source": [
    "__NOTE:__ Floor division always rounds DOWN. \n",
    "\n",
    "$$\\frac{-12}{5} = -2.4$$\n",
    "\n",
    "The cloest integer __less than__ -2.4 is -3."
   ]
  },
  {
   "cell_type": "markdown",
   "metadata": {
    "slideshow": {
     "slide_type": "slide"
    }
   },
   "source": [
    "__Modulo__"
   ]
  },
  {
   "cell_type": "code",
   "execution_count": 19,
   "metadata": {},
   "outputs": [
    {
     "name": "stdout",
     "output_type": "stream",
     "text": [
      "2\n",
      "2\n"
     ]
    }
   ],
   "source": [
    "# Long-hand modulo\n",
    "a = 12\n",
    "c = 5\n",
    "a = a % c\n",
    "print(a)\n",
    "\n",
    "\n",
    "# Short-hand modulo\n",
    "a = 12\n",
    "c = 5\n",
    "a%=c\n",
    "print(a)"
   ]
  },
  {
   "cell_type": "markdown",
   "metadata": {
    "slideshow": {
     "slide_type": "slide"
    }
   },
   "source": [
    "__Exponent__"
   ]
  },
  {
   "cell_type": "code",
   "execution_count": 20,
   "metadata": {},
   "outputs": [
    {
     "name": "stdout",
     "output_type": "stream",
     "text": [
      "9\n",
      "9\n"
     ]
    }
   ],
   "source": [
    "# Long-hand exponent\n",
    "a = 3\n",
    "c = 2\n",
    "a = a ** c\n",
    "print(a)\n",
    "\n",
    "# Short-hand exponent\n",
    "a = 3\n",
    "c = 2\n",
    "a**=c\n",
    "print(a)"
   ]
  },
  {
   "cell_type": "markdown",
   "metadata": {
    "slideshow": {
     "slide_type": "slide"
    }
   },
   "source": [
    "##### Note:  The sentences beginning with \"#\" in the cell are called comments.  \n",
    "These are not computed as part of the program but are there for humans to read to help understand what the code does."
   ]
  },
  {
   "cell_type": "markdown",
   "metadata": {
    "slideshow": {
     "slide_type": "slide"
    }
   },
   "source": [
    "## Naming Variables\n",
    "__It is good practice to use meaningful variable names. __\n",
    "\n",
    "e.g. using '`x`' for time, and '`t`' for position is likely to cause confusion. \n",
    "\n",
    "You will be marked on readbility in your assessment.\n",
    "\n",
    "Start developing good habits now!"
   ]
  },
  {
   "cell_type": "markdown",
   "metadata": {
    "slideshow": {
     "slide_type": "slide"
    }
   },
   "source": [
    "Problems with poorly considered variable names: \n",
    "\n",
    "1. You're much more likely to make errors.\n",
    "1. It can be difficult to remember what the program does.  \n",
    "1. It can be difficult for others to understand and use your program. \n"
   ]
  },
  {
   "cell_type": "markdown",
   "metadata": {
    "slideshow": {
     "slide_type": "slide"
    }
   },
   "source": [
    "__Different languages have different rules__ for what characters can be used in variable names. \n",
    "\n",
    "In Python variable names can use letters and digits, but cannot start with a digit.\n",
    "\n",
    "e.g. \n",
    "\n",
    "`data5 = 3` &nbsp; &nbsp; &nbsp; $\\checkmark$\n",
    "\n",
    "`5data = 3` &nbsp; &nbsp; &nbsp; $\\times$"
   ]
  },
  {
   "cell_type": "markdown",
   "metadata": {
    "slideshow": {
     "slide_type": "slide"
    }
   },
   "source": [
    "__Python is a case-sensitive language__\n",
    "\n",
    "e.g. the variables '`A`' and '`a`' are different. \n",
    "\n"
   ]
  },
  {
   "cell_type": "markdown",
   "metadata": {
    "slideshow": {
     "slide_type": "slide"
    }
   },
   "source": [
    "__Languages have *reserved keywords*__ that cannot be used as variable names as they are used for other purposes. \n",
    "\n",
    "The reserved keywords in Python are:\n",
    "\n",
    "`['False', 'None', 'True', 'and', 'as', 'assert', 'break', 'class', 'continue', 'def', 'del', 'elif', 'else', 'except', 'finally', 'for', 'from', 'global', 'if', 'import', 'in', 'is', 'lambda', 'nonlocal', 'not', 'or', 'pass', 'raise', 'return', 'try', 'while', 'with', 'yield']`"
   ]
  },
  {
   "cell_type": "markdown",
   "metadata": {
    "slideshow": {
     "slide_type": "slide"
    }
   },
   "source": [
    "Reserved words are colored bold green when you type them in the Notebook so you can see if one is being used. \n",
    "\n",
    " "
   ]
  },
  {
   "cell_type": "markdown",
   "metadata": {
    "slideshow": {
     "slide_type": "slide"
    }
   },
   "source": [
    "If you try to assign something to a reserved keyword, you will get an error e.g. it is not possible to create a variable with the name __`for`__:"
   ]
  },
  {
   "cell_type": "code",
   "execution_count": 40,
   "metadata": {},
   "outputs": [
    {
     "ename": "SyntaxError",
     "evalue": "invalid syntax (<ipython-input-40-b2b80c29dc9d>, line 1)",
     "output_type": "error",
     "traceback": [
      "\u001b[0;36m  File \u001b[0;32m\"<ipython-input-40-b2b80c29dc9d>\"\u001b[0;36m, line \u001b[0;32m1\u001b[0m\n\u001b[0;31m    for = 12\u001b[0m\n\u001b[0m        ^\u001b[0m\n\u001b[0;31mSyntaxError\u001b[0m\u001b[0;31m:\u001b[0m invalid syntax\n"
     ]
    }
   ],
   "source": [
    "for = 12"
   ]
  },
  {
   "cell_type": "markdown",
   "metadata": {
    "slideshow": {
     "slide_type": "slide"
    }
   },
   "source": [
    "__Sometimes it is useful to have variable names that are made up of two words.__ \n",
    "\n",
    "A convention is to separate the words in the variable name using an underscore '`_`'. \n",
    "\n",
    " e.g. a variable name for storing the number of days: \n",
    "```python \n",
    " num_days = 10\n",
    "```"
   ]
  },
  {
   "cell_type": "markdown",
   "metadata": {
    "slideshow": {
     "slide_type": "slide"
    }
   },
   "source": [
    "Suggest a variable name for each of the following quantities and hold it up on your whiteboard.\n",
    "\n",
    "__temperature__\n",
    "\n",
    "__height__\n",
    "\n",
    "__depth of hole__\n",
    "\n",
    "__class__\n"
   ]
  },
  {
   "cell_type": "code",
   "execution_count": null,
   "metadata": {
    "collapsed": true
   },
   "outputs": [],
   "source": []
  },
  {
   "cell_type": "markdown",
   "metadata": {
    "slideshow": {
     "slide_type": "slide"
    }
   },
   "source": [
    "## Comparing Variables Using Booleans\n",
    "\n",
    "__Boolean:__A type of variable that can take on one of two values - true or false. \n",
    "\n"
   ]
  },
  {
   "cell_type": "markdown",
   "metadata": {
    "slideshow": {
     "slide_type": "slide"
    }
   },
   "source": [
    "One way to visualise how a Boolean works is consider the answer when we make a comparison..."
   ]
  },
  {
   "cell_type": "markdown",
   "metadata": {},
   "source": [
    "<a id='ComparisonOperators'></a>"
   ]
  },
  {
   "cell_type": "markdown",
   "metadata": {
    "slideshow": {
     "slide_type": "slide"
    }
   },
   "source": [
    "### Comparison Operators\n",
    "\n",
    "__Comparison Operator:__An operator that is used to compare the values of two variables. \n",
    "\n",
    "__Commonly used comparison operators:__\n",
    "\n",
    "$==$   &nbsp; &nbsp; &nbsp; &nbsp; &nbsp;         Equality <br>\n",
    "$!=$   &nbsp; &nbsp; &nbsp; &nbsp; &nbsp;         Inequality <br>\n",
    "$>$    &nbsp; &nbsp; &nbsp; &nbsp; &nbsp; &nbsp;  Greater than <br>\n",
    "$<$    &nbsp; &nbsp; &nbsp; &nbsp; &nbsp; &nbsp;  Less than <br>\n",
    "$>=$   &nbsp; &nbsp; &nbsp; &nbsp;         Greater than or equal to <br>\n",
    "$<=$   &nbsp; &nbsp; &nbsp; &nbsp;         Less than or equal to <br>\n",
    "\n",
    "\n"
   ]
  },
  {
   "cell_type": "markdown",
   "metadata": {
    "slideshow": {
     "slide_type": "slide"
    }
   },
   "source": [
    "__Example:__ Comparing variables a and b using comparison operators returns a boolean variable:"
   ]
  },
  {
   "cell_type": "code",
   "execution_count": 4,
   "metadata": {},
   "outputs": [
    {
     "name": "stdout",
     "output_type": "stream",
     "text": [
      "Is a less than b?\n",
      "False\n",
      "Is a greater than b?\n",
      "True\n"
     ]
    }
   ],
   "source": [
    "a = 10.0\n",
    "b = 9.9\n",
    "\n",
    "# Check if a is less than b.\n",
    "print(\"Is a less than b?\")\n",
    "print(a < b)\n",
    "\n",
    "# Check if a is more than b.\n",
    "print(\"Is a greater than b?\")\n",
    "print(a>b)"
   ]
  },
  {
   "cell_type": "markdown",
   "metadata": {},
   "source": [
    "##### Note: We can print words by placing them between quotation marks  \"......\".\n",
    "The collection of words between the marks is called a *string*.\n",
    "\n",
    "A string is a type of *variable*. We will learn about other types of variable shortly.\n"
   ]
  },
  {
   "cell_type": "markdown",
   "metadata": {
    "slideshow": {
     "slide_type": "slide"
    }
   },
   "source": [
    "__Complete the cell in your textbook by writing the correct comparison operator in each set of empty brackets.__ "
   ]
  },
  {
   "cell_type": "code",
   "execution_count": 22,
   "metadata": {},
   "outputs": [
    {
     "name": "stdout",
     "output_type": "stream",
     "text": [
      "Is a equal to b?\n",
      "False\n",
      "Is a equal to c?\n",
      "True\n",
      "Is a not equal to c?\n",
      "False\n",
      "Is a less than or equal to b?\n",
      "False\n",
      "Is a less than or equal to c?\n",
      "True\n",
      "Is colour0 the same as colour1?\n",
      "False\n"
     ]
    }
   ],
   "source": [
    "a = 14\n",
    "b = -9\n",
    "c = 14\n",
    "\n",
    "# Check if a is equal to b \n",
    "print(\"Is a equal to b?\")\n",
    "print(a==b)\n",
    "\n",
    "# Check if a is equal to c \n",
    "print(\"Is a equal to c?\")\n",
    "print(a==c)\n",
    "\n",
    "# Check if a is not equal to c \n",
    "print(\"Is a not equal to c?\")\n",
    "print(a!=c)\n",
    "\n",
    "# Check if a is less than or equal to b \n",
    "print(\"Is a less than or equal to b?\")\n",
    "print(a<=b)\n",
    "\n",
    "# Check if a is less than or equal to c \n",
    "print(\"Is a less than or equal to c?\")\n",
    "print(a<=c)\n",
    "\n",
    "# Check if two colours are the same\n",
    "colour0 = 'blue'\n",
    "colour1 = 'green'\n",
    "print(\"Is colour0 the same as colour1?\")\n",
    "print(colour0==colour1)"
   ]
  },
  {
   "cell_type": "markdown",
   "metadata": {
    "slideshow": {
     "slide_type": "slide"
    }
   },
   "source": [
    "### Logical Operators\n",
    "\n",
    "The comparisons we have looked at so far consider two variables.\n",
    "\n",
    "*Logical operators*:\n",
    "\n",
    "> ```python \n",
    "  and\n",
    "  or\n",
    "  not\n",
    "  ```\n",
    "  \n",
    "allow us to make multiple comparisons at the same time.\n",
    "\n",
    "\n",
    "\n"
   ]
  },
  {
   "cell_type": "markdown",
   "metadata": {
    "slideshow": {
     "slide_type": "slide"
    }
   },
   "source": [
    "The code\n",
    "```python\n",
    "X and Y\n",
    "```\n",
    "will evaluate to `True` if statement `X` *and* statement `Y` are both true.\n",
    "\n",
    "Otherwise will evaluate to `False`. \n",
    "\n"
   ]
  },
  {
   "cell_type": "markdown",
   "metadata": {
    "slideshow": {
     "slide_type": "slide"
    }
   },
   "source": [
    "The code\n",
    "```python\n",
    "X or Y\n",
    "```\n",
    "will evaluate to `True` if statement `X` *or* statement `Y` is true. \n",
    "\n",
    "Otherwise will evaluate to `False`."
   ]
  },
  {
   "cell_type": "markdown",
   "metadata": {
    "slideshow": {
     "slide_type": "slide"
    }
   },
   "source": [
    "__Examples:__\n",
    "\n",
    "$10 < 9$   &nbsp; &nbsp;&nbsp; &nbsp;  is false\n",
    "\n",
    "$15 < 20$  &nbsp; &nbsp;                is true"
   ]
  },
  {
   "cell_type": "code",
   "execution_count": 5,
   "metadata": {},
   "outputs": [
    {
     "name": "stdout",
     "output_type": "stream",
     "text": [
      "False\n"
     ]
    }
   ],
   "source": [
    "\n",
    "\n",
    "print(10 < 9 and 15 < 20)"
   ]
  },
  {
   "cell_type": "code",
   "execution_count": 6,
   "metadata": {},
   "outputs": [
    {
     "name": "stdout",
     "output_type": "stream",
     "text": [
      "True\n"
     ]
    }
   ],
   "source": [
    "print(10 < 9 or 15 < 20)"
   ]
  },
  {
   "cell_type": "markdown",
   "metadata": {
    "slideshow": {
     "slide_type": "slide"
    }
   },
   "source": [
    "Guess the answer (`True` or `False`):"
   ]
  },
  {
   "cell_type": "code",
   "execution_count": 23,
   "metadata": {},
   "outputs": [
    {
     "name": "stdout",
     "output_type": "stream",
     "text": [
      "True\n"
     ]
    }
   ],
   "source": [
    "print(1 < 2 and 3 < 4)\n"
   ]
  },
  {
   "cell_type": "code",
   "execution_count": 24,
   "metadata": {},
   "outputs": [
    {
     "name": "stdout",
     "output_type": "stream",
     "text": [
      "True\n"
     ]
    }
   ],
   "source": [
    " print(1 < 2 or 4 < 3)"
   ]
  },
  {
   "cell_type": "code",
   "execution_count": 25,
   "metadata": {},
   "outputs": [
    {
     "name": "stdout",
     "output_type": "stream",
     "text": [
      "False\n"
     ]
    }
   ],
   "source": [
    " print(1 < 2 and 4 < 3)"
   ]
  },
  {
   "cell_type": "markdown",
   "metadata": {
    "slideshow": {
     "slide_type": "slide"
    }
   },
   "source": [
    "In Python, the 'not' operator negates a statement, e.g.:"
   ]
  },
  {
   "cell_type": "code",
   "execution_count": 8,
   "metadata": {},
   "outputs": [
    {
     "name": "stdout",
     "output_type": "stream",
     "text": [
      "False\n",
      "True\n"
     ]
    }
   ],
   "source": [
    "a = 12\n",
    "b = 7\n",
    "print(a < b)\n",
    "print(not a < b)"
   ]
  },
  {
   "cell_type": "markdown",
   "metadata": {
    "slideshow": {
     "slide_type": "slide"
    }
   },
   "source": [
    "In your textbook you will find an example of a simple computer program that uses these comparison and logical operators.\n",
    "\n",
    "Based on the current time of day, the time-telling program answers two questions:\n",
    "\n",
    "\n",
    "Based on the current time of day, the program answers two questions:\n",
    "\n",
    ">__Is it lunchtime?__\n",
    "\n",
    ">`True`\n",
    "\n",
    "if it is lunch time.\n",
    "\n",
    "<br>\n",
    "\n",
    ">__Is it time for work?__\n",
    "\n",
    ">`True`\n",
    "\n",
    "if it is `not`:\n",
    "- before work (`time < work_starts`)\n",
    "- after work (`time > work_ends `)\n",
    "- lunchtime (the previous question assigns the value `True` or `False` to variable `lunchtime`)."
   ]
  },
  {
   "cell_type": "markdown",
   "metadata": {},
   "source": [
    "<a id='TimeTelling'></a>"
   ]
  },
  {
   "cell_type": "code",
   "execution_count": 1,
   "metadata": {
    "slideshow": {
     "slide_type": "slide"
    }
   },
   "outputs": [
    {
     "name": "stdout",
     "output_type": "stream",
     "text": [
      "Is it work time?\n",
      "False\n",
      "Is it lunchtime?\n",
      "True\n"
     ]
    }
   ],
   "source": [
    "# Time-telling program\n",
    "\n",
    "time = 13.05          # current time\n",
    "\n",
    "work_starts = 8.00    # time work starts \n",
    "work_ends =  17.00    # time work ends\n",
    "\n",
    "lunch_starts = 13.00  # time lunch starts\n",
    "lunch_ends =   14.00  # time lunch ends\n",
    "\n",
    "# variable lunchtime is True if the time is between the start and end of lunchtime\n",
    "lunchtime = (time >= lunch_starts and time < lunch_ends)\n",
    "\n",
    "# variable work_time is True if the time is not...  \n",
    "work_time = not (   time < work_starts     # ... before work\n",
    "                 or time > work_ends       # ... or after work\n",
    "                 or lunchtime)             # ... or lunchtime\n",
    "                 \n",
    "\n",
    "print(\"Is it work time?\")\n",
    "print(work_time)\n",
    "print(\"Is it lunchtime?\")\n",
    "print(lunchtime)"
   ]
  },
  {
   "cell_type": "markdown",
   "metadata": {
    "slideshow": {
     "slide_type": "slide"
    }
   },
   "source": [
    "You can see that if we change the time, the program output changes. "
   ]
  },
  {
   "cell_type": "markdown",
   "metadata": {
    "slideshow": {
     "slide_type": "slide"
    }
   },
   "source": [
    "__Try it yourself__\n",
    "\n",
    "Click on the cell containing the time-telling program to select it.\n",
    "\n",
    "Change the value of variable `time` to a value that is:\n",
    " - before work\n",
    " - during work \n",
    " - during lunchtime \n",
    " - after work\n",
    " \n",
    " \n",
    "Each time you change the value of `time` re-run the cell by pressing \"shift\" + \"enter\" to check if the answer is as you expect; lunchtime, work-time or neither. "
   ]
  },
  {
   "cell_type": "markdown",
   "metadata": {
    "slideshow": {
     "slide_type": "slide"
    }
   },
   "source": [
    "Note that the comparison operators (`>=`, `<=`, `<` and `>`) are evaluated before the Boolean operators (`and`, `or`).\n",
    "\n",
    "### Operator Precedence\n",
    "\n",
    "> 1. Parentheses\n",
    "1. Exponents \n",
    "1. Multiplication, Division, Floor Division and Modulo (left to right)\n",
    "1. Addition and Subtraction (left to right)\n",
    "1. Comparison Operators (left to right)\n",
    "1. Boolean not\n",
    "1. Boolean and\n",
    "1. Boolean or"
   ]
  },
  {
   "cell_type": "code",
   "execution_count": 26,
   "metadata": {
    "collapsed": true,
    "slideshow": {
     "slide_type": "slide"
    }
   },
   "outputs": [],
   "source": [
    "a = 3 + 1 < 4 or 3 * 1 < 4\n",
    "\n",
    "a = ((3 + 1) < 4) or ((3 * 1) < 4)"
   ]
  },
  {
   "cell_type": "markdown",
   "metadata": {},
   "source": [
    "Both expressions show the same equation but the second is more __readable__.  "
   ]
  },
  {
   "cell_type": "markdown",
   "metadata": {
    "slideshow": {
     "slide_type": "slide"
    }
   },
   "source": [
    "## Types\n",
    "All variables have a 'type', which indicates what the variable is, e.g. a number, a string of characters, etc. \n",
    "\n"
   ]
  },
  {
   "cell_type": "markdown",
   "metadata": {
    "slideshow": {
     "slide_type": "slide"
    }
   },
   "source": [
    "Type is important because it determines:\n",
    " - how a variable is stored\n",
    " - how it behaves when we perform operations on it\n",
    " - how it interacts with other variables. \n",
    "\n",
    "e.g.multiplication of two real numbers is different from multiplication of two complex numbers."
   ]
  },
  {
   "cell_type": "markdown",
   "metadata": {
    "slideshow": {
     "slide_type": "slide"
    }
   },
   "source": [
    "### Introspection \n",
    "\n",
    "We can check a variable's type using *introspection*. \n",
    "\n",
    "To check the type of a variable we use the function `type`."
   ]
  },
  {
   "cell_type": "code",
   "execution_count": 27,
   "metadata": {},
   "outputs": [
    {
     "name": "stdout",
     "output_type": "stream",
     "text": [
      "<class 'bool'>\n",
      "<class 'str'>\n"
     ]
    }
   ],
   "source": [
    "x = True\n",
    "print(type(x))\n",
    "\n",
    "a = \"1.0\"\n",
    "print(type(a))"
   ]
  },
  {
   "cell_type": "markdown",
   "metadata": {},
   "source": [
    "Complete the cell in your interactive textbook to find the `type` of `a` when it is written as shown below:"
   ]
  },
  {
   "cell_type": "code",
   "execution_count": null,
   "metadata": {
    "collapsed": true
   },
   "outputs": [],
   "source": [
    "a = 1\n",
    "\n",
    "a = 1.0"
   ]
  },
  {
   "cell_type": "markdown",
   "metadata": {},
   "source": [
    "What is the first type? What is the second type? \n",
    "\n",
    "Did anyone get a different answer?"
   ]
  },
  {
   "cell_type": "markdown",
   "metadata": {
    "slideshow": {
     "slide_type": "slide"
    }
   },
   "source": [
    "Note that `a = 1` and `a = 1.0` are different types! \n",
    "\n",
    " - __bool__ means __Boolean__ variable.\n",
    " - __str__ means __string__ variable. \n",
    " - __int__ means __integer__ variable.\n",
    " - __float__ means __floating point__ variable. \n",
    "\n",
    "This distinction is very important for numerical computations.\n",
    "\n",
    "We will look at the meaning of these different types next..."
   ]
  },
  {
   "cell_type": "markdown",
   "metadata": {
    "slideshow": {
     "slide_type": "notes"
    }
   },
   "source": [
    "Explain the importance of the position of print statements when augmenting variables. "
   ]
  },
  {
   "cell_type": "markdown",
   "metadata": {
    "slideshow": {
     "slide_type": "slide"
    }
   },
   "source": [
    "### Booleans\n",
    "\n",
    "A type of variable that can take on one of two values - true or false.  This is the simplest type."
   ]
  },
  {
   "cell_type": "code",
   "execution_count": 28,
   "metadata": {
    "slideshow": {
     "slide_type": "slide"
    }
   },
   "outputs": [
    {
     "name": "stdout",
     "output_type": "stream",
     "text": [
      "True\n",
      "<class 'bool'>\n"
     ]
    }
   ],
   "source": [
    "a = True\n",
    "b = False\n",
    "\n",
    "# test will = True if a or b = True\n",
    "test = a or b  \n",
    "\n",
    "print(test)\n",
    "print(type(test))"
   ]
  },
  {
   "cell_type": "markdown",
   "metadata": {
    "slideshow": {
     "slide_type": "slide"
    }
   },
   "source": [
    "##### Note: We can use a single instance of the print function to display multiple pieces of information if we sperate them by commas.\n",
    "\n",
    "e.g. `print(item_1, item_2)`\n"
   ]
  },
  {
   "cell_type": "code",
   "execution_count": 29,
   "metadata": {},
   "outputs": [
    {
     "name": "stdout",
     "output_type": "stream",
     "text": [
      "True <class 'bool'>\n"
     ]
    }
   ],
   "source": [
    "print(test, type(test))"
   ]
  },
  {
   "cell_type": "markdown",
   "metadata": {
    "slideshow": {
     "slide_type": "slide"
    }
   },
   "source": [
    "__Re-cap: what does a evaluate to? (`True` or `False`)__"
   ]
  },
  {
   "cell_type": "code",
   "execution_count": 31,
   "metadata": {
    "slideshow": {
     "slide_type": "-"
    }
   },
   "outputs": [
    {
     "name": "stdout",
     "output_type": "stream",
     "text": [
      "True\n"
     ]
    }
   ],
   "source": [
    "a = (5 < 6 or 7 > 8)\n",
    "print(a)"
   ]
  },
  {
   "cell_type": "markdown",
   "metadata": {
    "slideshow": {
     "slide_type": "slide"
    }
   },
   "source": [
    "<a id='Strings'></a>\n",
    "\n",
    "### Strings\n",
    "\n",
    "A string is a collection of characters.    \n"
   ]
  },
  {
   "cell_type": "markdown",
   "metadata": {
    "slideshow": {
     "slide_type": "slide"
    }
   },
   "source": [
    "A string is created by placing the characters between quotation marks. \n",
    "\n",
    "You may use single or double quotation marks; either is fine e.g.\n",
    "\n",
    "    my_string = 'This is a string.'\n",
    "    \n",
    "or\n",
    "\n",
    "    my_string = \"This is a string.\""
   ]
  },
  {
   "cell_type": "markdown",
   "metadata": {
    "slideshow": {
     "slide_type": "slide"
    }
   },
   "source": [
    "__Example:__ Assign a string to a variable, display the string, and then check its type:"
   ]
  },
  {
   "cell_type": "code",
   "execution_count": 32,
   "metadata": {},
   "outputs": [
    {
     "name": "stdout",
     "output_type": "stream",
     "text": [
      "This is a string.\n",
      "<class 'str'>\n"
     ]
    }
   ],
   "source": [
    "my_string = \"This is a string.\"\n",
    "\n",
    "print(my_string)\n",
    "\n",
    "print(type(my_string))"
   ]
  },
  {
   "cell_type": "markdown",
   "metadata": {
    "slideshow": {
     "slide_type": "slide"
    }
   },
   "source": [
    "We can perform many different operations on strings. \n",
    "\n",
    "__Example__: Extract a *single* character as a new string:\n",
    "\n",
    "> *__NOTE:__ Python counts from 0.*"
   ]
  },
  {
   "cell_type": "code",
   "execution_count": 34,
   "metadata": {},
   "outputs": [
    {
     "name": "stdout",
     "output_type": "stream",
     "text": [
      "i\n",
      "<class 'str'>\n"
     ]
    }
   ],
   "source": [
    "my_string = \"This is a string.\"\n",
    "\n",
    "# Store the 3rd character of `my_string` as a new variable\n",
    "s = my_string[2]\n",
    "\n",
    "# Print \n",
    "print(s)\n",
    "\n",
    "# Check type \n",
    "print(type(s))"
   ]
  },
  {
   "cell_type": "markdown",
   "metadata": {
    "slideshow": {
     "slide_type": "slide"
    }
   },
   "source": [
    "The number that describes the position of a character is called the *index*.\n",
    "\n",
    "What is the character at index 4?\n",
    "\n",
    "What is the index of character r?"
   ]
  },
  {
   "cell_type": "code",
   "execution_count": 35,
   "metadata": {},
   "outputs": [
    {
     "data": {
      "text/plain": [
       "' '"
      ]
     },
     "execution_count": 35,
     "metadata": {},
     "output_type": "execute_result"
    }
   ],
   "source": [
    "my_string = \"This is a string.\"\n",
    "my_string[4]"
   ]
  },
  {
   "cell_type": "markdown",
   "metadata": {
    "slideshow": {
     "slide_type": "-"
    }
   },
   "source": [
    "This shows that we count spaces as characters."
   ]
  },
  {
   "cell_type": "markdown",
   "metadata": {
    "slideshow": {
     "slide_type": "slide"
    }
   },
   "source": [
    "__Try it yourself__. \n",
    "\n",
    "`my_string = \"This is a string.\"`\n",
    "\n",
    "In the cell provided in your textbook:\n",
    "\n",
    " - store the 4th character as a new variable\n",
    " - print the new variable\n",
    " - check that it is a string"
   ]
  },
  {
   "cell_type": "code",
   "execution_count": 36,
   "metadata": {},
   "outputs": [
    {
     "name": "stdout",
     "output_type": "stream",
     "text": [
      "s\n",
      "<class 'str'>\n"
     ]
    }
   ],
   "source": [
    "# Store the 4th character as a new variable\n",
    "nv=my_string[3]\n",
    "# Print the new variable\n",
    "print(nv)\n",
    "# Check the type of the new variable\n",
    "print(type(nv))"
   ]
  },
  {
   "cell_type": "markdown",
   "metadata": {
    "slideshow": {
     "slide_type": "slide"
    }
   },
   "source": [
    "We can extract a *range of* characters as a new string by specifiying the index to __start__ at and the index to __stop__ at:\n"
   ]
  },
  {
   "cell_type": "code",
   "execution_count": 39,
   "metadata": {
    "slideshow": {
     "slide_type": "slide"
    }
   },
   "outputs": [
    {
     "name": "stdout",
     "output_type": "stream",
     "text": [
      "This i\n",
      "<class 'str'>\n"
     ]
    }
   ],
   "source": [
    "my_string = \"This is a string.\"\n",
    "\n",
    "# Store the first 6 characters\n",
    "s = my_string[0:6]\n",
    "\n",
    "# print \n",
    "print(s)\n",
    "\n",
    "# check type\n",
    "print(type(s))\n"
   ]
  },
  {
   "cell_type": "markdown",
   "metadata": {},
   "source": [
    "$$\n",
    "\\underbrace{\n",
    "\\underbrace{t}_{\\text{0}} \\\n",
    "\\underbrace{h}_{\\text{1}}\\\n",
    "\\underbrace{i}_{\\text{2}}\\\n",
    "\\underbrace{s}_{\\text{3}}\\\n",
    "\\underbrace{}_{\\text{4}}\\\n",
    "\\underbrace{i}_{\\text{5}}\\\n",
    "}_{\\text{s}}\n",
    "\\underbrace{s}_{\\text{6}}\\\n",
    "\\underbrace{}_{\\text{7}}\\\n",
    "\\underbrace{a}_{\\text{8}}\\\n",
    "\\underbrace{}_{\\text{9}}\\\n",
    "\\underbrace{s}_{\\text{10}}\\\n",
    "\\underbrace{t}_{\\text{11}}\\\n",
    "\\underbrace{r}_{\\text{12}}\\\n",
    "\\underbrace{i}_{\\text{13}}\\\n",
    "\\underbrace{n}_{\\text{14}} \\\n",
    "\\underbrace{g}_{\\text{15}} \\\n",
    "\\underbrace{.}_{\\text{16}} \\\n",
    "$$"
   ]
  },
  {
   "cell_type": "markdown",
   "metadata": {},
   "source": [
    "__Note:__ \n",
    " - The space between the first and second word is counted as the 5th character. \n",
    " - The \"stop\" value is not included in the range. "
   ]
  },
  {
   "cell_type": "code",
   "execution_count": 96,
   "metadata": {
    "slideshow": {
     "slide_type": "slide"
    }
   },
   "outputs": [
    {
     "name": "stdout",
     "output_type": "stream",
     "text": [
      "ing.\n"
     ]
    }
   ],
   "source": [
    "# Store the last 4 characters and print\n",
    "s = my_string[-4:]\n",
    "print(s)"
   ]
  },
  {
   "cell_type": "markdown",
   "metadata": {},
   "source": [
    "$$\n",
    "my\\_string = \n",
    "\\underbrace{t}_{\\text{-17}} \\\n",
    "\\underbrace{h}_{\\text{-16}}\\\n",
    "\\underbrace{i}_{\\text{-15}}\\\n",
    "\\underbrace{s}_{\\text{-14}}\\\n",
    "\\underbrace{}_{\\text{-13}}\\\n",
    "\\underbrace{i}_{\\text{-12}}\\\n",
    "\\underbrace{s}_{\\text{-11}}\\\n",
    "\\underbrace{}_{\\text{-10}}\\\n",
    "\\underbrace{a}_{\\text{-9}}\\\n",
    "\\underbrace{}_{\\text{-8}}\\\n",
    "\\underbrace{s}_{\\text{-7}}\\\n",
    "\\underbrace{t}_{\\text{-6}}\\\n",
    "\\underbrace{r}_{\\text{-5}}\\\n",
    "\\underbrace{\n",
    "\\underbrace{i}_{\\text{-4}}\\\n",
    "\\underbrace{n}_{\\text{-3}} \\\n",
    "\\underbrace{g}_{\\text{-2}} \\\n",
    "\\underbrace{.}_{\\text{-1}} \\\n",
    "}_{\\text{s}}\n",
    "$$"
   ]
  },
  {
   "cell_type": "markdown",
   "metadata": {},
   "source": [
    "__Note:__ \n",
    " - The second value in this range is empty.\n",
    " - This means the range ends at the end of the string."
   ]
  },
  {
   "cell_type": "markdown",
   "metadata": {
    "slideshow": {
     "slide_type": "slide"
    }
   },
   "source": [
    "__Try it yourself.__ \n",
    "\n",
    "In the cell provided in your textbook:\n",
    "\n",
    "  - store the last 6 characters\n",
    "  - print your new variable\n",
    "\n"
   ]
  },
  {
   "cell_type": "code",
   "execution_count": 42,
   "metadata": {
    "slideshow": {
     "slide_type": "-"
    }
   },
   "outputs": [
    {
     "name": "stdout",
     "output_type": "stream",
     "text": [
      "tring.\n"
     ]
    }
   ],
   "source": [
    "# Store the last 6 characters as a new variable\n",
    "nv=my_string[-6:]\n",
    "# Print the new varaible\n",
    "print(nv)"
   ]
  },
  {
   "cell_type": "markdown",
   "metadata": {
    "slideshow": {
     "slide_type": "slide"
    }
   },
   "source": [
    "In the next cell provided:\n",
    " - store 6 characters, starting with the 2nd character; \"his is\"\n",
    " - print your new variable"
   ]
  },
  {
   "cell_type": "code",
   "execution_count": 43,
   "metadata": {},
   "outputs": [
    {
     "name": "stdout",
     "output_type": "stream",
     "text": [
      "his is\n",
      "his is\n"
     ]
    }
   ],
   "source": [
    "# Store 6 characters, starting with \"h\"\n",
    "print(my_string[1:7])\n",
    "print(my_string[-16:-10])\n",
    "\n",
    "# Print the new varaible"
   ]
  },
  {
   "cell_type": "markdown",
   "metadata": {
    "slideshow": {
     "slide_type": "slide"
    }
   },
   "source": [
    "Is there an alternative way of extracting the same string?"
   ]
  },
  {
   "cell_type": "markdown",
   "metadata": {
    "slideshow": {
     "slide_type": "slide"
    }
   },
   "source": [
    "__Example:__ Add strings together. "
   ]
  },
  {
   "cell_type": "code",
   "execution_count": 44,
   "metadata": {},
   "outputs": [
    {
     "name": "stdout",
     "output_type": "stream",
     "text": [
      "Python\n"
     ]
    }
   ],
   "source": [
    "start = \"Py\"\n",
    "\n",
    "end = \"thon\"\n",
    "\n",
    "word = start + end\n",
    "\n",
    "print(word)"
   ]
  },
  {
   "cell_type": "markdown",
   "metadata": {
    "slideshow": {
     "slide_type": "slide"
    }
   },
   "source": [
    "__Example:__ Add a section of a string to a section of another string:"
   ]
  },
  {
   "cell_type": "code",
   "execution_count": 45,
   "metadata": {},
   "outputs": [
    {
     "name": "stdout",
     "output_type": "stream",
     "text": [
      "Python\n"
     ]
    }
   ],
   "source": [
    "start = \"Pythagoras\"\n",
    "\n",
    "end = \"marathon\"\n",
    "\n",
    "word = start[:2] + end[-4:]\n",
    "\n",
    "print(word)"
   ]
  },
  {
   "cell_type": "markdown",
   "metadata": {
    "collapsed": true
   },
   "source": [
    "__Note__: We can use a blank space __or__ a 0 to index the first character; either is OK."
   ]
  },
  {
   "cell_type": "markdown",
   "metadata": {
    "slideshow": {
     "slide_type": "slide"
    }
   },
   "source": [
    "__Try it yourself:__ \n",
    "In the cell in your textbook add the variables `start` and `end` to make a sentence."
   ]
  },
  {
   "cell_type": "code",
   "execution_count": 47,
   "metadata": {},
   "outputs": [
    {
     "name": "stdout",
     "output_type": "stream",
     "text": [
      "My name isHemma\n"
     ]
    }
   ],
   "source": [
    "start = \"My name is\"\n",
    "\n",
    "end = \"Hemma\"\n",
    "\n",
    "# Add start and end to make a new variable and print it\n",
    "hemma=start+end\n",
    "print(hemma)"
   ]
  },
  {
   "cell_type": "markdown",
   "metadata": {
    "slideshow": {
     "slide_type": "slide"
    }
   },
   "source": [
    "Notice that we need to add a space to seperate the words \"is\" and \"Hemma\". \n",
    "We do this using a pair of quotation marks, seperated by a space. "
   ]
  },
  {
   "cell_type": "code",
   "execution_count": 49,
   "metadata": {},
   "outputs": [
    {
     "name": "stdout",
     "output_type": "stream",
     "text": [
      "My name is Hemma\n"
     ]
    }
   ],
   "source": [
    "sentence = start + \" \" + end\n",
    "print(sentence)"
   ]
  },
  {
   "cell_type": "markdown",
   "metadata": {
    "slideshow": {
     "slide_type": "slide"
    }
   },
   "source": [
    "### Numeric types\n",
    "\n",
    "Numeric types are particlarly important when solving scientific and engineering problems. \n",
    "\n"
   ]
  },
  {
   "cell_type": "markdown",
   "metadata": {
    "slideshow": {
     "slide_type": "slide"
    }
   },
   "source": [
    "Python 3 has three numerical types:\n",
    "\n",
    "- integers (`int`)\n",
    "- floating point numbers (`float`)\n",
    "- complex numbers (`complex`)\n",
    "\n",
    "__Integers:__ Whole numbers. <br>\n",
    "__Floating point:__ Numbers with a decimal place.<br>\n",
    "__Complex numbers:__ Numbers with a real and imaginary part.<br>"
   ]
  },
  {
   "cell_type": "markdown",
   "metadata": {
    "slideshow": {
     "slide_type": "slide"
    }
   },
   "source": [
    "Python determines the type of a number from the way we input it.\n",
    "\n",
    "e.g. It will decide that a number is an `int` if we assign a number with no decimal place:\n",
    "\n",
    "\n",
    " \n"
   ]
  },
  {
   "cell_type": "raw",
   "metadata": {},
   "source": []
  },
  {
   "cell_type": "markdown",
   "metadata": {
    "slideshow": {
     "slide_type": "slide"
    }
   },
   "source": [
    "__Try it for yourself__ \n",
    "\n",
    "In the cell provided in your textbook:\n",
    "\n",
    " - Create a variable with the value 3.1\n",
    " - Print the variable type  \n",
    " - Create a variable with the value 2\n",
    " - Print the variable type"
   ]
  },
  {
   "cell_type": "code",
   "execution_count": 55,
   "metadata": {},
   "outputs": [
    {
     "name": "stdout",
     "output_type": "stream",
     "text": [
      "<class 'float'>\n",
      "<class 'int'>\n",
      "<class 'float'>\n"
     ]
    }
   ],
   "source": [
    "# Create a variable with the value 3.1\n",
    "val=3.1\n",
    "\n",
    "# Print the variable type\n",
    "print(type(val))\n",
    "\n",
    "# Create a variable with the value 2\n",
    "val=2\n",
    "\n",
    "# Print the variable type \n",
    "print(type(val))\n",
    "val=float(val)\n",
    "print(type(val))"
   ]
  },
  {
   "cell_type": "markdown",
   "metadata": {
    "slideshow": {
     "slide_type": "slide"
    }
   },
   "source": [
    "What type is the first variable?\n",
    "\n",
    "What type is the second variable?"
   ]
  },
  {
   "cell_type": "markdown",
   "metadata": {
    "slideshow": {
     "slide_type": "slide"
    }
   },
   "source": [
    "__How could you re-write the number 2 so that Python makes it a float?__\n",
    "\n",
    "Try changing the way 2 is written and run the cell again to check that the variable type has changed. "
   ]
  },
  {
   "cell_type": "markdown",
   "metadata": {
    "slideshow": {
     "slide_type": "slide"
    }
   },
   "source": [
    "### Integers\n",
    "\n",
    " - Integers (`int`) are whole numbers.\n",
    " - They can be postive or negative. \n",
    " - Integers should be used when a value can only take on a whole number <br> e.g. the year, or the number of students following this course. "
   ]
  },
  {
   "cell_type": "markdown",
   "metadata": {
    "slideshow": {
     "slide_type": "slide"
    }
   },
   "source": [
    "### Floating point \n",
    "\n",
    "Most engineering calculations involve numbers that cannot be represented as integers. \n",
    "\n",
    "Numbers that have a decimal point are automatically stored using the `float` type. \n",
    "\n",
    "A number is automatically classed as a float:\n",
    "- if it has a decimal point\n",
    "- if it is written using scientific notation (i.e. using e or E - either is fine)\n",
    "\n"
   ]
  },
  {
   "cell_type": "markdown",
   "metadata": {},
   "source": [
    "<a id='Round'></a>\n",
    "### Rounding floating point numbers.\n",
    "\n",
    "You can round your answer to a defined number of digits after the decimal point using the `round` function:\n",
    "<br>https://docs.python.org/3/library/functions.html#round\n"
   ]
  },
  {
   "cell_type": "code",
   "execution_count": 7,
   "metadata": {},
   "outputs": [
    {
     "name": "stdout",
     "output_type": "stream",
     "text": [
      "0.77\n",
      "0.769\n",
      "0.7686\n"
     ]
    }
   ],
   "source": [
    "a = 0.768567\n",
    "\n",
    "print(round(a,2))\n",
    "print(round(a,3))\n",
    "print(round(a,4))"
   ]
  },
  {
   "cell_type": "markdown",
   "metadata": {
    "slideshow": {
     "slide_type": "slide"
    }
   },
   "source": [
    "<a id='ScientificNotation'></a>\n",
    "### Scientific Notation \n",
    "\n",
    "In scientific notation, the letter e (or E) symbolises power of ten in the exponent. \n",
    "\n",
    "For example:\n",
    "\n",
    "$$\n",
    "10.45\\textrm{e}2 = 10.45 \\times 10^{2} = 1045\n",
    "$$\n",
    "\n",
    "$$\n",
    "1.045\\textrm{e}3 = 1.045 \\times 10^{3} = 1045\n",
    "$$"
   ]
  },
  {
   "cell_type": "markdown",
   "metadata": {
    "slideshow": {
     "slide_type": "slide"
    }
   },
   "source": [
    "Examples using scientific notation."
   ]
  },
  {
   "cell_type": "code",
   "execution_count": 56,
   "metadata": {},
   "outputs": [
    {
     "name": "stdout",
     "output_type": "stream",
     "text": [
      "2.0 <class 'float'>\n",
      "2000.0\n",
      "2100.0\n"
     ]
    }
   ],
   "source": [
    "a = 2e0\n",
    "print(a, type(a))\n",
    "\n",
    "b = 2e3\n",
    "print(b)\n",
    "\n",
    "c = 2.1E3\n",
    "print(c)"
   ]
  },
  {
   "cell_type": "markdown",
   "metadata": {
    "slideshow": {
     "slide_type": "slide"
    }
   },
   "source": [
    "__Try it yourself__ \n",
    "\n",
    "In the cell provided in your textbook:\n",
    "\n",
    "- create a floating point variable for each number shown using scientific notation.\n",
    "- print each variable to check it matches the number given in the comment. "
   ]
  },
  {
   "cell_type": "code",
   "execution_count": 57,
   "metadata": {},
   "outputs": [
    {
     "name": "stdout",
     "output_type": "stream",
     "text": [
      "62\n",
      "35000\n"
     ]
    }
   ],
   "source": [
    "# Create a variable with value 62\n",
    "val=62\n",
    "# Print the variable\n",
    "print(val)\n",
    "# Create a variable with value 35,000\n",
    "val=35000\n",
    "# Print the variable\n",
    "print(val)\n",
    "# Are there any other ways you could have expressed this? "
   ]
  },
  {
   "cell_type": "markdown",
   "metadata": {},
   "source": [
    "What alternative ways can be used to express 35,000?"
   ]
  },
  {
   "cell_type": "markdown",
   "metadata": {
    "slideshow": {
     "slide_type": "slide"
    }
   },
   "source": [
    "### Complex numbers\n",
    "\n",
    "Complex numbers have real and imaginary parts. \n",
    "\n",
    "We can declare a complex number in Python by adding `j` or `J` after the complex part of the number:\n",
    "\n",
    "&nbsp; &nbsp; __Standard mathematical notation.__ &nbsp; &nbsp; &nbsp; &nbsp; &nbsp; &nbsp; &nbsp; &nbsp;__Python notation__\n",
    "\n",
    "&nbsp; &nbsp; &nbsp; &nbsp;\n",
    "$ a = \\underbrace{3}_{\\text{real part}} + \\underbrace{4j}_{\\text{imaginary part}} $        &nbsp; &nbsp; &nbsp; &nbsp; &nbsp; &nbsp; &nbsp; &nbsp; &nbsp; &nbsp; &nbsp; &nbsp; &nbsp; &nbsp;\n",
    "`a = 3 + 4j` &nbsp; &nbsp; __or__ &nbsp; &nbsp; `a = 3 + 4J`"
   ]
  },
  {
   "cell_type": "code",
   "execution_count": 58,
   "metadata": {},
   "outputs": [
    {
     "name": "stdout",
     "output_type": "stream",
     "text": [
      "(4-3j) <class 'complex'>\n"
     ]
    }
   ],
   "source": [
    "b = 4 - 3j\n",
    "print(b, type(b))"
   ]
  },
  {
   "cell_type": "markdown",
   "metadata": {
    "slideshow": {
     "slide_type": "slide"
    }
   },
   "source": [
    "<a id='Casting'></a>\n",
    "\n",
    "## Type Conversions (Casting)\n",
    "\n",
    "We often want to change between types. \n",
    "\n",
    "Sometimes we need to make sure two variables have the same type in order to perform an operation on them. \n",
    "\n",
    "Sometimes we recieve data of a type that is not directly usable by the program.\n",
    "\n",
    "This is called *type conversion* or *type casting*. \n"
   ]
  },
  {
   "cell_type": "markdown",
   "metadata": {
    "slideshow": {
     "slide_type": "slide"
    }
   },
   "source": [
    "### Automatic Type Conversion\n",
    "\n",
    "If we add two integers, the results will be an integer:"
   ]
  },
  {
   "cell_type": "code",
   "execution_count": 61,
   "metadata": {},
   "outputs": [
    {
     "name": "stdout",
     "output_type": "stream",
     "text": [
      "19 <class 'int'>\n"
     ]
    }
   ],
   "source": [
    "a = 4     # int\n",
    "b = 15    # int\n",
    "\n",
    "c = a + b\n",
    "\n",
    "print(c, type(c))"
   ]
  },
  {
   "cell_type": "markdown",
   "metadata": {
    "slideshow": {
     "slide_type": "slide"
    }
   },
   "source": [
    "However, if we add an int and a float, the result will be a float:"
   ]
  },
  {
   "cell_type": "code",
   "execution_count": 63,
   "metadata": {},
   "outputs": [
    {
     "name": "stdout",
     "output_type": "stream",
     "text": [
      "19.0 <class 'float'>\n"
     ]
    }
   ],
   "source": [
    "a = 4     # int\n",
    "b = 15.0  # float\n",
    "\n",
    "c = a + b\n",
    "\n",
    "print(c, type(c))"
   ]
  },
  {
   "cell_type": "markdown",
   "metadata": {
    "slideshow": {
     "slide_type": "slide"
    }
   },
   "source": [
    "If we divide two integers, the result will be a `float`:"
   ]
  },
  {
   "cell_type": "code",
   "execution_count": 64,
   "metadata": {},
   "outputs": [
    {
     "name": "stdout",
     "output_type": "stream",
     "text": [
      "4.0 <class 'float'>\n"
     ]
    }
   ],
   "source": [
    "a = 16  # int\n",
    "b = 4   # int\n",
    "\n",
    "c = a / b\n",
    "\n",
    "print(c, type(c))"
   ]
  },
  {
   "cell_type": "markdown",
   "metadata": {
    "slideshow": {
     "slide_type": "slide"
    }
   },
   "source": [
    "When dividing two integers with floor division (or 'integer division') using `//`, the result will be an `int` e.g."
   ]
  },
  {
   "cell_type": "code",
   "execution_count": 65,
   "metadata": {},
   "outputs": [
    {
     "name": "stdout",
     "output_type": "stream",
     "text": [
      "5 <class 'int'>\n"
     ]
    }
   ],
   "source": [
    "a = 16   # int\n",
    "b = 3    # int\n",
    "\n",
    "c = a // b\n",
    "\n",
    "print(c, type(c))"
   ]
  },
  {
   "cell_type": "markdown",
   "metadata": {
    "slideshow": {
     "slide_type": "slide"
    }
   },
   "source": [
    "In general:\n",
    " - operations that mix an `int` and `float` will generate a `float`.\n",
    " - operations that mix an `int` or a `float` with `complex` will generate a `complex` type. \n",
    " \n",
    " \n",
    "If in doubt, use `type` to check.  "
   ]
  },
  {
   "cell_type": "markdown",
   "metadata": {
    "slideshow": {
     "slide_type": "slide"
    }
   },
   "source": [
    "### Explicit Type Conversion\n",
    "\n",
    "We can explicitly change (or *cast*) the type.\n",
    "\n",
    "To cast variable a as a different type, write the name of the type, followed by the variable to convert in brackets. \n",
    "\n",
    "__Example: Cast from an int to a float:__"
   ]
  },
  {
   "cell_type": "code",
   "execution_count": 20,
   "metadata": {},
   "outputs": [
    {
     "name": "stdout",
     "output_type": "stream",
     "text": [
      "1.0 <class 'float'>\n"
     ]
    }
   ],
   "source": [
    "a = 1\n",
    "\n",
    "a = float(a)\n",
    "\n",
    "print(a, type(a))"
   ]
  },
  {
   "cell_type": "code",
   "execution_count": 66,
   "metadata": {
    "slideshow": {
     "slide_type": "slide"
    }
   },
   "outputs": [
    {
     "name": "stdout",
     "output_type": "stream",
     "text": [
      "1 <class 'int'>\n",
      "1.0 <class 'float'>\n"
     ]
    }
   ],
   "source": [
    "# If we use a new variable name the original value is unchanged.\n",
    "\n",
    "a = 1\n",
    "\n",
    "b = float(a)      \n",
    "\n",
    "print(a, type(a))\n",
    "print(b, type(b))"
   ]
  },
  {
   "cell_type": "code",
   "execution_count": 67,
   "metadata": {},
   "outputs": [
    {
     "name": "stdout",
     "output_type": "stream",
     "text": [
      "1.0 <class 'float'>\n"
     ]
    }
   ],
   "source": [
    "# If we use the orignal name, the variable is updated. \n",
    "\n",
    "a = 1\n",
    "\n",
    "a = float(a)       \n",
    "\n",
    "print(a, type(a))"
   ]
  },
  {
   "cell_type": "markdown",
   "metadata": {
    "slideshow": {
     "slide_type": "slide"
    }
   },
   "source": [
    "__Try it yourself.__\n",
    "\n",
    "In the cell provided: \n",
    "\n",
    "- cast variable `a` from a float back to an int. \n",
    "- print variable `a` and its type to check your answer "
   ]
  },
  {
   "cell_type": "code",
   "execution_count": 68,
   "metadata": {},
   "outputs": [
    {
     "name": "stdout",
     "output_type": "stream",
     "text": [
      "1 <class 'int'>\n"
     ]
    }
   ],
   "source": [
    "# cast a as an int\n",
    "a=int(a)\n",
    "# print a and its type \n",
    "print(a, type(a))"
   ]
  },
  {
   "cell_type": "markdown",
   "metadata": {
    "slideshow": {
     "slide_type": "slide"
    }
   },
   "source": [
    "##### Note: Take care when casting as the value of the variable may change as well as the type.\n",
    "\n",
    "To demonstrate this we will complete a short exercise together...\n",
    "\n"
   ]
  },
  {
   "cell_type": "markdown",
   "metadata": {
    "slideshow": {
     "slide_type": "slide"
    }
   },
   "source": [
    "In the cell provided in your textbook:\n",
    "1. cast `i` as an `int` and print `i`.\n",
    "1. cast `i` back to a `float` and print `i`."
   ]
  },
  {
   "cell_type": "code",
   "execution_count": 69,
   "metadata": {},
   "outputs": [
    {
     "name": "stdout",
     "output_type": "stream",
     "text": [
      "1.3 <class 'float'>\n",
      "1\n",
      "1.0\n"
     ]
    }
   ],
   "source": [
    "i = 1.3                  # float\n",
    "print(i, type(i))\n",
    "\n",
    "# cast i as an int and print it\n",
    "i = int(i)\n",
    "print(i)\n",
    "\n",
    "i = float(i)\n",
    "print(i)"
   ]
  },
  {
   "cell_type": "markdown",
   "metadata": {
    "slideshow": {
     "slide_type": "slide"
    }
   },
   "source": [
    "What has happened to the original value of `i`?\n",
    "\n"
   ]
  },
  {
   "cell_type": "markdown",
   "metadata": {
    "slideshow": {
     "slide_type": "slide"
    }
   },
   "source": [
    "Note that rounding is applied when converting from a `float` to an `int`; the values after the decimal point are discarded. \n",
    "\n",
    "This type of rounding is called 'round towards zero' or 'truncation'."
   ]
  },
  {
   "cell_type": "markdown",
   "metadata": {
    "slideshow": {
     "slide_type": "slide"
    }
   },
   "source": [
    "A common task is converting numerical types to-and-from strings. \n",
    "\n",
    "Examples:\n",
    " - Reading a number from a file where it appears as as a string\n",
    " - User input might be given as a string. \n",
    "\n",
    "__Example: Cast from a float to a string:__\n"
   ]
  },
  {
   "cell_type": "code",
   "execution_count": 71,
   "metadata": {},
   "outputs": [
    {
     "name": "stdout",
     "output_type": "stream",
     "text": [
      "1.023 <class 'str'>\n"
     ]
    }
   ],
   "source": [
    "a = 1.023\n",
    "\n",
    "b = str(a)\n",
    "\n",
    "print(b, type(b))"
   ]
  },
  {
   "cell_type": "markdown",
   "metadata": {
    "slideshow": {
     "slide_type": "slide"
    }
   },
   "source": [
    "__Example: Cast from a string to a float:__\n",
    "\n",
    "It is important to cast string numbers as either `int`s or `float`s for them to perform correctly in algebraic expressions.\n",
    "\n",
    "Consider the example below:"
   ]
  },
  {
   "cell_type": "code",
   "execution_count": 72,
   "metadata": {},
   "outputs": [
    {
     "name": "stdout",
     "output_type": "stream",
     "text": [
      "As string numbers:\n",
      "15.07 + 18.07 =  15.0718.07\n",
      "When cast from string to float:\n",
      "15.07 + 18.07 =  33.14\n"
     ]
    }
   ],
   "source": [
    "a = \"15.07\"\n",
    "b = \"18.07\"\n",
    "\n",
    "print(\"As string numbers:\")\n",
    "print(\"15.07 + 18.07 = \", a + b)\n",
    "      \n",
    "print(\"When cast from string to float:\")\n",
    "print(\"15.07 + 18.07 = \", float(a) + float(b))\n"
   ]
  },
  {
   "cell_type": "markdown",
   "metadata": {},
   "source": [
    "Note from the cell above that numbers expressed as strings can be cast as floats *within* algebraic expressions."
   ]
  },
  {
   "cell_type": "markdown",
   "metadata": {
    "slideshow": {
     "slide_type": "slide"
    }
   },
   "source": [
    "Only numerical values can be cast as numerical types.\n",
    "e.g. Trying to cast the string `four` as an integer causes an error:"
   ]
  },
  {
   "cell_type": "code",
   "execution_count": 73,
   "metadata": {},
   "outputs": [
    {
     "ename": "ValueError",
     "evalue": "could not convert string to float: 'four'",
     "output_type": "error",
     "traceback": [
      "\u001b[0;31m---------------------------------------------------------------------------\u001b[0m",
      "\u001b[0;31mValueError\u001b[0m                                Traceback (most recent call last)",
      "\u001b[0;32m<ipython-input-73-3277840d9888>\u001b[0m in \u001b[0;36m<module>\u001b[0;34m()\u001b[0m\n\u001b[0;32m----> 1\u001b[0;31m \u001b[0mf\u001b[0m \u001b[0;34m=\u001b[0m \u001b[0mfloat\u001b[0m\u001b[0;34m(\u001b[0m\u001b[0;34m\"four\"\u001b[0m\u001b[0;34m)\u001b[0m\u001b[0;34m\u001b[0m\u001b[0m\n\u001b[0m",
      "\u001b[0;31mValueError\u001b[0m: could not convert string to float: 'four'"
     ]
    }
   ],
   "source": [
    "f = float(\"four\")"
   ]
  },
  {
   "cell_type": "markdown",
   "metadata": {},
   "source": [
    "## Optional Extension: Stacking Boolean Operators\n",
    "\n",
    "In the time-telling program we studied earlier, we compared an input value, `time`, to the lunch start time and end time to deterimne if `time` is within lunchtime using a Boolean `True` or `False` value.\n",
    "\n",
    "Extract from time-telling program:\n",
    "\n",
    "```python\n",
    "\n",
    "time = 13.05          # current time\n",
    "lunch_starts = 13.00  # time lunch starts\n",
    "lunch_ends =   14.00  # time lunch ends\n",
    "\n",
    "lunchtime = time >= lunch_starts and time < lunch_ends\n",
    "\n",
    "print(\"Is it lunchtime?\")\n",
    "print(lunchtime)\n",
    "\n",
    "```\n",
    "<br><a href='#TimeTelling'>Jump to full version of Time-Telling Program</a>\n",
    "\n",
    "We can rewrite the line: `lunchtime = time >= lunch_starts and time <= lunch_ends` \n",
    "<br> to *stack* the logical operations.  "
   ]
  },
  {
   "cell_type": "code",
   "execution_count": 74,
   "metadata": {},
   "outputs": [
    {
     "name": "stdout",
     "output_type": "stream",
     "text": [
      "Is it lunchtime?\n",
      "True\n"
     ]
    }
   ],
   "source": [
    "# Extract from time-telling program\n",
    "\n",
    "time = 13.05          # current time\n",
    "lunch_starts = 13.00  # time lunch starts\n",
    "lunch_ends =   14.00  # time lunch ends\n",
    "\n",
    "lunchtime = lunch_starts <= time < lunch_ends\n",
    "\n",
    "print(\"Is it lunchtime?\")\n",
    "print(lunchtime)"
   ]
  },
  {
   "cell_type": "code",
   "execution_count": null,
   "metadata": {
    "collapsed": true
   },
   "outputs": [],
   "source": []
  },
  {
   "cell_type": "markdown",
   "metadata": {
    "slideshow": {
     "slide_type": "slide"
    }
   },
   "source": [
    "__Complete the review exercises in your textbook.__\n",
    "\n",
    "We will stop 10 minutes before the end of the seminar to:\n",
    "\n",
    " - update your online git repository\n",
    " - summarise what we have learnt today\n",
    "\n"
   ]
  },
  {
   "cell_type": "markdown",
   "metadata": {
    "slideshow": {
     "slide_type": "slide"
    }
   },
   "source": [
    "## Review Exercises\n",
    "Here are a series of short engineering problems for you to practise each of the new Python skills that you have learnt today. \n"
   ]
  },
  {
   "cell_type": "markdown",
   "metadata": {
    "collapsed": true,
    "slideshow": {
     "slide_type": "subslide"
    }
   },
   "source": [
    "### Review Excercise: Gravitational Potential\n",
    "The gravitational potential, $V$, of a particle of mass $m$ at a distance $r$ from a body of mass $M$, is:\n",
    "\n",
    "$$\n",
    "V = \\frac{G M m}{r}\n",
    "$$\n",
    "\n",
    "In the cell below, solve for $V$ when:\n",
    "\n",
    "$G$ = *gravitational constant* = $6.674 \\times 10^{-11} \\textrm{Nm}^{2}\\textrm{kg}^{-2}$.\n",
    "\n",
    "$M = 1.65 \\times 10^{12}\\textrm{kg}$\n",
    "\n",
    "$m = 6.1 \\times 10^2\\textrm{kg}$\n",
    "\n",
    "$r = 7.0 \\times 10^3\\textrm{kg}$\n",
    "\n",
    "Assign variables for $G, M, m$ and $r$ before solving. \n",
    "<br>Express the numbers using __scientific notation__.\n",
    "\n",
    "<a href='#ScientificNotation'>Jump to Scientific Notation</a>"
   ]
  },
  {
   "cell_type": "code",
   "execution_count": null,
   "metadata": {
    "collapsed": true
   },
   "outputs": [],
   "source": [
    "# Gravitational Potential\n"
   ]
  },
  {
   "cell_type": "code",
   "execution_count": 75,
   "metadata": {},
   "outputs": [
    {
     "name": "stdout",
     "output_type": "stream",
     "text": [
      "959.6258571428574\n"
     ]
    }
   ],
   "source": [
    "# Example Solution\n",
    "\n",
    "G = 6.674 * 10e-11\n",
    "M = 1.65 * 10e12\n",
    "m = 6.1 * 10e2\n",
    "r = 7.0 * 10e3\n",
    "\n",
    "V = (G * M * m) / r\n",
    "\n",
    "print(V)"
   ]
  },
  {
   "cell_type": "markdown",
   "metadata": {
    "slideshow": {
     "slide_type": "subslide"
    }
   },
   "source": [
    "### Review Exercise: Fahrenheit to Celsius\n",
    "\n",
    "Degrees Fahrenheit ($T_F$) are converted to degrees Celsius ($T_c$) using the formula:\n",
    "\n",
    "$$\n",
    "T_c = 5(T_f - 32)/9\n",
    "$$\n",
    "\n",
    "In the cell below, write a program to convert 78 degrees Fahrenheit to degrees Celsius and print the result.\n",
    "\n",
    "Write your program such that you can easily change the input temperature in Fahrenheit and re-calculate the answer.\n",
    "\n",
    "Round the converted values to what you think is a suitable number of decimal places using the `round` function. \n",
    "\n",
    "<a href='#Round'>Jump to Rounding Floating Point Numbers</a>"
   ]
  },
  {
   "cell_type": "code",
   "execution_count": null,
   "metadata": {
    "collapsed": true
   },
   "outputs": [],
   "source": [
    "# Convert degrees Fahrenheit to degrees Celsius"
   ]
  },
  {
   "cell_type": "code",
   "execution_count": 76,
   "metadata": {},
   "outputs": [
    {
     "name": "stdout",
     "output_type": "stream",
     "text": [
      "25.556\n"
     ]
    }
   ],
   "source": [
    "# Example Solution\n",
    "\n",
    "Tf = 78\n",
    "\n",
    "Tc = (5 * (Tf - 32)) / 9\n",
    "\n",
    "print(round (Tc, 3))"
   ]
  },
  {
   "cell_type": "markdown",
   "metadata": {
    "slideshow": {
     "slide_type": "subslide"
    }
   },
   "source": [
    "### Review Exercise: Volume of a Cone\n",
    "The volume of a cone is:\n",
    "$$\n",
    "V = \\frac{1}{3}(base \\ area)\\times(perpendicular \\ height)\n",
    "$$\n",
    "\n",
    "![title](img/cone.png)\n",
    "\n",
    "In the cell below, find the internal volume of a cone of internal dimensions:\n",
    "\n",
    "base radius, $r = 5cm$\n",
    "\n",
    "perpendicular height, $h = 15cm$\n",
    "\n",
    "Assign variables for $r$ and $h$ before solving."
   ]
  },
  {
   "cell_type": "code",
   "execution_count": 78,
   "metadata": {
    "collapsed": true
   },
   "outputs": [],
   "source": [
    "pi = 3.142\n",
    "# Internal volume"
   ]
  },
  {
   "cell_type": "code",
   "execution_count": 79,
   "metadata": {},
   "outputs": [
    {
     "name": "stdout",
     "output_type": "stream",
     "text": [
      "98.18749999999999\n"
     ]
    }
   ],
   "source": [
    "# Example Solution\n",
    "\n",
    "r = 2.5\n",
    "h = 15\n",
    "v = (1/3) * pi * r**2 * h\n",
    "print(v)"
   ]
  },
  {
   "cell_type": "markdown",
   "metadata": {
    "slideshow": {
     "slide_type": "subslide"
    }
   },
   "source": [
    "The cone is held upside down and filled with liquid.\n",
    "\n",
    "The liquid is then transferred to a hollow cylinder.\n",
    "\n",
    "Base radius of cylinder, $r_c = 4cm$.\n",
    "\n",
    "<img src=\"img/cone-cyl.gif\" alt=\"Drawing\" style=\"width: 200px;\"/>\n",
    "\n",
    "The volume of liquid in the cylinder is:\n",
    "\n",
    "$V = (base \\ area)\\times(height \\ of \\ liquid)$\n",
    "\n",
    "\n",
    "In the cell below, find the height of the liquid in the cylinder?\n",
    "\n",
    "Assign a variables for $r_c$ before solving."
   ]
  },
  {
   "cell_type": "code",
   "execution_count": null,
   "metadata": {
    "collapsed": true
   },
   "outputs": [],
   "source": [
    "# H = height of liquid in the cylinder\n"
   ]
  },
  {
   "cell_type": "code",
   "execution_count": 80,
   "metadata": {},
   "outputs": [
    {
     "name": "stdout",
     "output_type": "stream",
     "text": [
      "50.272\n",
      "1.9531249999999998\n"
     ]
    }
   ],
   "source": [
    "# Example Solution\n",
    "\n",
    "rc = 4\n",
    "\n",
    "H = v / (pi * rc**2)\n",
    "\n",
    "print(pi * rc**2)\n",
    "\n",
    "print(H)"
   ]
  },
  {
   "cell_type": "markdown",
   "metadata": {},
   "source": [
    "The total height of the cyclinder, $H_{tot}$ is 10cm.\n",
    "\n",
    "In the cell below, use a __comparison operator__ to show if the height of the liquid, $H$, is more than half the total height of the cylinder.  \n",
    "\n",
    "<a href='#ComparisonOperators'>Jump to Comparison Operators</a>"
   ]
  },
  {
   "cell_type": "code",
   "execution_count": null,
   "metadata": {
    "collapsed": true
   },
   "outputs": [],
   "source": [
    "# Is the height of the liquid more than half the total height of the cylinder?"
   ]
  },
  {
   "cell_type": "code",
   "execution_count": 81,
   "metadata": {},
   "outputs": [
    {
     "name": "stdout",
     "output_type": "stream",
     "text": [
      "False\n"
     ]
    }
   ],
   "source": [
    "# Example Solution \n",
    "\n",
    "Htot = 10\n",
    "print(H > (Htot / 2))"
   ]
  },
  {
   "cell_type": "markdown",
   "metadata": {},
   "source": [
    "Lastly, go back and change the radius of the __cone__ to 2.5cm. \n",
    "\n",
    "Re-run the cells to observe how you can quickly re-run calculations using different initial values. "
   ]
  },
  {
   "cell_type": "markdown",
   "metadata": {
    "slideshow": {
     "slide_type": "subslide"
    }
   },
   "source": [
    "### Review Exercise: Manipulating Strings\n",
    "<a href='#Strings'>Jump to Strings</a>\n",
    "\n",
    "__(A)__ \n",
    "In the cell below, print a new string whose:\n",
    " - first 3 letters are the last 3 letters of `a` \n",
    " - last 3 letters are the first 3 letters of `b` "
   ]
  },
  {
   "cell_type": "code",
   "execution_count": 82,
   "metadata": {
    "collapsed": true
   },
   "outputs": [],
   "source": [
    "a = \"orangutans\"\n",
    "b = \"werewolves\""
   ]
  },
  {
   "cell_type": "code",
   "execution_count": 98,
   "metadata": {},
   "outputs": [
    {
     "name": "stdout",
     "output_type": "stream",
     "text": [
      "answer\n"
     ]
    }
   ],
   "source": [
    "# Example Solution\n",
    "\n",
    "print(a[-3:] + b[:3])"
   ]
  },
  {
   "cell_type": "markdown",
   "metadata": {},
   "source": [
    "__(B)__ \n",
    "\n",
    "In the cell below, use `c` to make a new string that says: `programming`."
   ]
  },
  {
   "cell_type": "code",
   "execution_count": 100,
   "metadata": {
    "collapsed": true
   },
   "outputs": [],
   "source": [
    "c = \"programme\""
   ]
  },
  {
   "cell_type": "code",
   "execution_count": 101,
   "metadata": {},
   "outputs": [
    {
     "name": "stdout",
     "output_type": "stream",
     "text": [
      "programming\n"
     ]
    }
   ],
   "source": [
    "# Example Solution\n",
    "\n",
    "print(c[0:-1] + \"ing\")"
   ]
  },
  {
   "cell_type": "markdown",
   "metadata": {},
   "source": [
    "__(C)__ \n",
    "\n",
    "In the cell below, __cast__ `d` and `e` as a different type so that:\n",
    "\n",
    "`f` = (numerical value of `d`) +  (numerical value of `e`)\n",
    "\n",
    "\n",
    "using standard arithmetic. \n",
    "\n",
    "<a href='#Casting'>Jump to Type Conversion (Casting)'</a>\n",
    "\n",
    "Print `f`"
   ]
  },
  {
   "cell_type": "code",
   "execution_count": 103,
   "metadata": {
    "collapsed": true
   },
   "outputs": [],
   "source": [
    "d = \"3.12\"\n",
    "e = \"7.41\"\n"
   ]
  },
  {
   "cell_type": "code",
   "execution_count": 104,
   "metadata": {},
   "outputs": [
    {
     "name": "stdout",
     "output_type": "stream",
     "text": [
      "10.530000000000001\n"
     ]
    }
   ],
   "source": [
    "# Example Solution\n",
    "\n",
    "f = float(d) + float(e)\n",
    "print(f)"
   ]
  },
  {
   "cell_type": "markdown",
   "metadata": {},
   "source": [
    "Use __shortcut notation__ to update the value of `f`.\n",
    "The new value of f should equal the __remainder (or modulo)__ when f is divided by 3.\n",
    "\n",
    "<a href='#Shortcuts'>Jump to Shortcuts</a>"
   ]
  },
  {
   "cell_type": "code",
   "execution_count": null,
   "metadata": {
    "collapsed": true
   },
   "outputs": [],
   "source": [
    "# What is the remainder (modulo) when f is divided by 3"
   ]
  },
  {
   "cell_type": "code",
   "execution_count": 105,
   "metadata": {},
   "outputs": [
    {
     "data": {
      "text/plain": [
       "1.5300000000000011"
      ]
     },
     "execution_count": 105,
     "metadata": {},
     "output_type": "execute_result"
    }
   ],
   "source": [
    "# Example Solution\n",
    "\n",
    "f % 3"
   ]
  },
  {
   "cell_type": "markdown",
   "metadata": {},
   "source": [
    "In the cell below, change the type of the variable f to ab integer.  \n",
    "\n",
    "<a href='#Casting'>Jump to Type Conversion (Casting)'</a>"
   ]
  },
  {
   "cell_type": "code",
   "execution_count": null,
   "metadata": {
    "collapsed": true
   },
   "outputs": [],
   "source": [
    "# f expressed as an integer"
   ]
  },
  {
   "cell_type": "code",
   "execution_count": 106,
   "metadata": {},
   "outputs": [
    {
     "name": "stdout",
     "output_type": "stream",
     "text": [
      "10\n"
     ]
    }
   ],
   "source": [
    "# Example Solution\n",
    "\n",
    "print(int(f))"
   ]
  },
  {
   "cell_type": "markdown",
   "metadata": {
    "collapsed": true,
    "slideshow": {
     "slide_type": "slide"
    }
   },
   "source": [
    "# Summary\n",
    "\n",
    " - We can perform simple *arithmetic operations* in Python (+, -, $\\times$, $\\div$.....)\n",
    " - We can *assign* values to variables.\n",
    " - Expressions containing multiple operators obey precedence when executing operations.\n",
    " \n",
    " \n"
   ]
  },
  {
   "cell_type": "markdown",
   "metadata": {
    "slideshow": {
     "slide_type": "slide"
    }
   },
   "source": [
    "- *Comparison operators* (==, !=, <, >....) compare two variables.\n",
    "- The outcome of a comparison is a *Boolean* (True or False) value.\n",
    "- *Logical operators* (`and`, `or`) compares the outcomes of two comparison operations.\n",
    "- The outcome of a logical operation is a *Boolean* (True or False) value.\n",
    "- The logical `not` operator returns the inverse Boolean value of a comparison."
   ]
  },
  {
   "cell_type": "markdown",
   "metadata": {
    "slideshow": {
     "slide_type": "slide"
    }
   },
   "source": [
    " - Every variable has a type (`int`, `float`, `string`....).\n",
    " - A type is automatically assigned when a variable is created. \n",
    " - Python's `type()` function can be used to determine the type of a variable.\n",
    " - The data type of a variable can be converted by casting (`int()`, `float()`....) "
   ]
  },
  {
   "cell_type": "markdown",
   "metadata": {
    "slideshow": {
     "slide_type": "slide"
    }
   },
   "source": [
    "# Homework \n",
    "\n",
    "1. __CLONE__ your online GitHub repository to your personal computer (if you have not done so already). \n",
    "1. __COMPLETE__ any unfinished Review Exercises.\n",
    "1. __PUSH__ the changes you make at home to your online repository \n",
    "\n",
    "<br>For a reminder of how to do this refer to  __1_Introduction_to_Version_Control.ipynb__. "
   ]
  },
  {
   "cell_type": "markdown",
   "metadata": {
    "slideshow": {
     "slide_type": "slide"
    }
   },
   "source": [
    "# Updating your Git repository\n",
    "\n",
    "You have made several changes to your interactive textbook.\n",
    "\n",
    "The final thing we are going to do is add these changes to your online repository so that:\n",
    " - I can check your progress\n",
    " - You can access the changes from outside of the university server. \n",
    " \n",
    " > Save your work.\n",
    " > <br>`git add -A`\n",
    " > <br>`git commit -m \"A short message describing changes\"`\n",
    " > <br>`git push`\n",
    " \n",
    " <br>Refer to: __1_Introduction_to_Version_Control.ipynb__ "
   ]
  },
  {
   "cell_type": "code",
   "execution_count": null,
   "metadata": {
    "collapsed": true
   },
   "outputs": [],
   "source": []
  }
 ],
 "metadata": {
  "celltoolbar": "Slideshow",
  "kernelspec": {
   "display_name": "Python 3",
   "language": "python",
   "name": "python3"
  },
  "language_info": {
   "codemirror_mode": {
    "name": "ipython",
    "version": 3
   },
   "file_extension": ".py",
   "mimetype": "text/x-python",
   "name": "python",
   "nbconvert_exporter": "python",
   "pygments_lexer": "ipython3",
   "version": "3.6.2"
  }
 },
 "nbformat": 4,
 "nbformat_minor": 2
}
