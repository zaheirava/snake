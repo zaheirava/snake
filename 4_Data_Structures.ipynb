{
 "cells": [
  {
   "cell_type": "code",
   "execution_count": 27,
   "metadata": {
    "slideshow": {
     "slide_type": "skip"
    }
   },
   "outputs": [
    {
     "data": {
      "text/html": [
       "<style>\n",
       "\n",
       "body {\n",
       " counter-reset: h2counter;\n",
       "}\n",
       "h1 {\n",
       " counter-reset: h2counter;\n",
       "}\n",
       "h2:before {\n",
       " content: counter(h2counter) \".\\0000a0\\0000a0\";\n",
       " counter-increment: h2counter;\n",
       " counter-reset: h3counter;\n",
       "}\n",
       "\n",
       "\n",
       "</style>\n"
      ],
      "text/plain": [
       "<IPython.core.display.HTML object>"
      ]
     },
     "execution_count": 27,
     "metadata": {},
     "output_type": "execute_result"
    }
   ],
   "source": [
    "from IPython.core.display import HTML\n",
    "def css_styling():\n",
    "    styles = open(\"./styles/custom.css\", \"r\").read()\n",
    "    return HTML(styles)\n",
    "css_styling()"
   ]
  },
  {
   "cell_type": "markdown",
   "metadata": {
    "slideshow": {
     "slide_type": "slide"
    }
   },
   "source": [
    "### BEFORE YOU DO ANYTHING...\n",
    "In the terminal:\n",
    "1. Navigate to __inside__ your ILAS_Python repository.\n",
    "2. __COMMIT__ any un-commited work on your personal computer.\n",
    "3. __PULL__ any changes *you* have made using another computer.\n",
    "4. __PULL__ textbook updates (including homework answers)."
   ]
  },
  {
   "cell_type": "markdown",
   "metadata": {},
   "source": [
    "1. __Open Jupyter notebook:__   Start >> Programs (すべてのプログラム) >> Programming >> Anaconda3 >> JupyterNotebook\n",
    "1. __Navigate to the ILAS_Python folder__. \n",
    "1. __Open today's seminar__  by clicking on 4_Data_Structures."
   ]
  },
  {
   "cell_type": "markdown",
   "metadata": {
    "collapsed": true,
    "slideshow": {
     "slide_type": "slide"
    }
   },
   "source": [
    "# Data Structures\n",
    "\n",
    "# Lesson Goal\n",
    "\n",
    "Learn to manipulate multiple values and variables contained in data structures.\n",
    "\n",
    "\n"
   ]
  },
  {
   "cell_type": "markdown",
   "metadata": {
    "slideshow": {
     "slide_type": "slide"
    }
   },
   "source": [
    "# Objectives\n",
    "\n",
    "\n",
    "- Express collections of mulitple variables using `lists`, `tuples` and `dictionaries`.  \n",
    "- Use python functions to manipulate data structures.\n",
    "- Use control statements for iteratation and comprehension.\n",
    "- Learn to select the right data structure for an application."
   ]
  },
  {
   "cell_type": "markdown",
   "metadata": {
    "slideshow": {
     "slide_type": "slide"
    }
   },
   "source": [
    "Why we are studying this:\n",
    "\n",
    "To use Python to solve more complex engineering problems you are likely to encounter involving:\n",
    " - multi-variable values (e.g. vectors)\n",
    " - large data sets (e.g. experiment results)\n",
    " - using control flow to manipulate data sets using logic (e.g. sorting and categorising)\n",
    "\n"
   ]
  },
  {
   "cell_type": "markdown",
   "metadata": {
    "slideshow": {
     "slide_type": "slide"
    }
   },
   "source": [
    " Lesson structure:\n",
    " \n",
    " Three data strcutures: `lists`, `tuples` and `dictionaries`. \n",
    " \n",
    "  - Lists\n",
    "   - General data structure manipulations: sorting, adding, removing...\n",
    "   - Indexing and enumerating\n",
    "   - Iterating and comprension\n",
    "  - Tuple\n",
    "  - Dictionaries\n",
    "  \n",
    "   "
   ]
  },
  {
   "cell_type": "markdown",
   "metadata": {
    "slideshow": {
     "slide_type": "slide"
    }
   },
   "source": [
    "In the last seminar we learnt to generate a range of numbers for use in control flow of  a program, using the function `range()`:"
   ]
  },
  {
   "cell_type": "code",
   "execution_count": 28,
   "metadata": {},
   "outputs": [
    {
     "name": "stdout",
     "output_type": "stream",
     "text": [
      "1 is not a multiple of 4\n",
      "2 is not a multiple of 4\n",
      "3 is not a multiple of 4\n",
      "5 is not a multiple of 4\n",
      "6 is not a multiple of 4\n",
      "7 is not a multiple of 4\n",
      "9 is not a multiple of 4\n",
      "10 is not a multiple of 4\n",
      "11 is not a multiple of 4\n",
      "13 is not a multiple of 4\n",
      "14 is not a multiple of 4\n",
      "15 is not a multiple of 4\n",
      "17 is not a multiple of 4\n",
      "18 is not a multiple of 4\n",
      "19 is not a multiple of 4\n"
     ]
    }
   ],
   "source": [
    "for j in range(20):\n",
    "    \n",
    "    if j % 4 == 0:  # Check remainer of j/4\n",
    "        continue    # continue to next value of j\n",
    "        \n",
    "    print(j, \"is not a multiple of 4\")"
   ]
  },
  {
   "cell_type": "markdown",
   "metadata": {
    "slideshow": {
     "slide_type": "slide"
    }
   },
   "source": [
    "## Data Structures\n",
    "\n",
    "Often we want to manipulate data that is more meaningful than ranges of numbers.\n",
    "\n",
    "These collections of variables might include:\n",
    " - the results of an experiment\n",
    " - a list of names\n",
    " - the components of a vector\n",
    " - a telephone directory with names and associated numbers.\n",
    " \n",
    "\n",
    "\n",
    " \n",
    " "
   ]
  },
  {
   "cell_type": "markdown",
   "metadata": {
    "slideshow": {
     "slide_type": "subslide"
    }
   },
   "source": [
    "Python has different __data structures__ that can be used to store and manipulate these values.\n",
    "\n",
    "Like variable types (`string`, `int`,`float`...) different data structures behave in different ways.\n",
    "\n",
    "Today we will learn to use `list`, `tuple` and dictionary (`dict`) data structures."
   ]
  },
  {
   "cell_type": "markdown",
   "metadata": {
    "slideshow": {
     "slide_type": "subslide"
    }
   },
   "source": [
    "\n",
    "We will study the differences in how they behave so that you can learn to select the most suitable data structure for an application. "
   ]
  },
  {
   "cell_type": "markdown",
   "metadata": {
    "slideshow": {
     "slide_type": "subslide"
    }
   },
   "source": [
    "Example\n",
    "\n",
    "If we want to store the names of students in a laboratory group, \n",
    "rather than representing each students using an individual string variable, we could use a list of names. \n",
    "\n"
   ]
  },
  {
   "cell_type": "code",
   "execution_count": 29,
   "metadata": {},
   "outputs": [
    {
     "name": "stdout",
     "output_type": "stream",
     "text": [
      "['Sarah', 'John', 'Joe', 'Emily']\n",
      "['Roger', 'Rachel', 'Amer', 'Caroline', 'Colin']\n"
     ]
    }
   ],
   "source": [
    "lab_group0 = [\"Sarah\", \"John\", \"Joe\", \"Emily\"]\n",
    "lab_group1 = [\"Roger\", \"Rachel\", \"Amer\", \"Caroline\", \"Colin\"]\n",
    "\n",
    "print(lab_group0)\n",
    "print(lab_group1)"
   ]
  },
  {
   "cell_type": "markdown",
   "metadata": {
    "slideshow": {
     "slide_type": "subslide"
    }
   },
   "source": [
    "This is useful because we can perform operations on lists such as:\n",
    " - checking its length (number of students in a lab group)\n",
    " - sorting the names in the list into alphabetical order\n",
    " - making a list of lists (we call this a *nested list*):\n"
   ]
  },
  {
   "cell_type": "code",
   "execution_count": 30,
   "metadata": {
    "collapsed": true
   },
   "outputs": [],
   "source": [
    "lab_groups = [lab_group0, lab_group1]"
   ]
  },
  {
   "cell_type": "markdown",
   "metadata": {
    "slideshow": {
     "slide_type": "slide"
    }
   },
   "source": [
    "## Lists"
   ]
  },
  {
   "cell_type": "markdown",
   "metadata": {
    "slideshow": {
     "slide_type": "slide"
    }
   },
   "source": [
    "A list is a sequence of data. \n",
    "\n",
    "We call each item in the sequence an *element*. \n",
    "\n",
    "A list is constructed using square brackets:\n",
    "\n"
   ]
  },
  {
   "cell_type": "code",
   "execution_count": 31,
   "metadata": {
    "collapsed": true
   },
   "outputs": [],
   "source": [
    "a = [1, 2, 3]"
   ]
  },
  {
   "cell_type": "markdown",
   "metadata": {
    "slideshow": {
     "slide_type": "subslide"
    }
   },
   "source": [
    "A `range` can be converted to a list with the `list` function (casting)."
   ]
  },
  {
   "cell_type": "code",
   "execution_count": 32,
   "metadata": {},
   "outputs": [
    {
     "name": "stdout",
     "output_type": "stream",
     "text": [
      "[0, 1, 2, 3, 4, 5, 6, 7, 8, 9]\n"
     ]
    }
   ],
   "source": [
    "print(list(range(10)))"
   ]
  },
  {
   "cell_type": "markdown",
   "metadata": {
    "slideshow": {
     "slide_type": "subslide"
    }
   },
   "source": [
    "Reminder, when a range has one arguments:\n",
    " - the first value is 0.\n",
    " - the second value is the stopping value.\n",
    " - the stopping value is not included in the range\n"
   ]
  },
  {
   "cell_type": "markdown",
   "metadata": {
    "slideshow": {
     "slide_type": "subslide"
    }
   },
   "source": [
    "When a range has two arguments:\n",
    " - the first value is the starting value.\n",
    " - the second value is the stoping value.\n",
    " - the stopping value is not included in the range"
   ]
  },
  {
   "cell_type": "code",
   "execution_count": 33,
   "metadata": {
    "slideshow": {
     "slide_type": "-"
    }
   },
   "outputs": [
    {
     "name": "stdout",
     "output_type": "stream",
     "text": [
      "[10, 11, 12, 13, 14, 15, 16, 17, 18, 19]\n"
     ]
    }
   ],
   "source": [
    "print(list(range(10,20)))\n"
   ]
  },
  {
   "cell_type": "markdown",
   "metadata": {
    "slideshow": {
     "slide_type": "subslide"
    }
   },
   "source": [
    "You can optionally include a step:"
   ]
  },
  {
   "cell_type": "code",
   "execution_count": 34,
   "metadata": {
    "slideshow": {
     "slide_type": "-"
    }
   },
   "outputs": [
    {
     "name": "stdout",
     "output_type": "stream",
     "text": [
      "[10, 12, 14, 16, 18]\n"
     ]
    }
   ],
   "source": [
    "print(list(range(10, 20, 2)))"
   ]
  },
  {
   "cell_type": "markdown",
   "metadata": {
    "slideshow": {
     "slide_type": "subslide"
    }
   },
   "source": [
    "A list can hold a mixture of types (`int`, `string`....)."
   ]
  },
  {
   "cell_type": "code",
   "execution_count": 35,
   "metadata": {
    "collapsed": true,
    "slideshow": {
     "slide_type": "-"
    }
   },
   "outputs": [],
   "source": [
    "a = [1, 2.0, \"three\"]"
   ]
  },
  {
   "cell_type": "markdown",
   "metadata": {
    "slideshow": {
     "slide_type": "subslide"
    }
   },
   "source": [
    "An empty list is created by"
   ]
  },
  {
   "cell_type": "code",
   "execution_count": 36,
   "metadata": {
    "collapsed": true
   },
   "outputs": [],
   "source": [
    "my_list = []"
   ]
  },
  {
   "cell_type": "markdown",
   "metadata": {
    "slideshow": {
     "slide_type": "subslide"
    }
   },
   "source": [
    "A list of length 5 with repeated values can be created by"
   ]
  },
  {
   "cell_type": "code",
   "execution_count": 37,
   "metadata": {},
   "outputs": [
    {
     "name": "stdout",
     "output_type": "stream",
     "text": [
      "['Hello', 'Hello', 'Hello', 'Hello', 'Hello']\n"
     ]
    }
   ],
   "source": [
    "my_list = [\"Hello\"]*5\n",
    "print(my_list)"
   ]
  },
  {
   "cell_type": "markdown",
   "metadata": {
    "slideshow": {
     "slide_type": "subslide"
    }
   },
   "source": [
    "We can check if an item is in a list using the function `in`:\n"
   ]
  },
  {
   "cell_type": "code",
   "execution_count": 38,
   "metadata": {},
   "outputs": [
    {
     "name": "stdout",
     "output_type": "stream",
     "text": [
      "True\n",
      "False\n"
     ]
    }
   ],
   "source": [
    "print(\"Hello\" in my_list)\n",
    "print(\"Goodbye\" in my_list)"
   ]
  },
  {
   "cell_type": "markdown",
   "metadata": {
    "slideshow": {
     "slide_type": "slide"
    }
   },
   "source": [
    "<a id='Indexing'></a>\n",
    "### Indexing\n",
    "\n",
    "Lists store data in order.\n",
    "\n",
    "We can select a single element or multiple elements of a list using the __index__ of the element(s).\n",
    "\n",
    "You are familiar with this process; it is the same as selecting individual characters of a string:"
   ]
  },
  {
   "cell_type": "code",
   "execution_count": 39,
   "metadata": {
    "slideshow": {
     "slide_type": "subslide"
    }
   },
   "outputs": [
    {
     "name": "stdout",
     "output_type": "stream",
     "text": [
      "t\n"
     ]
    }
   ],
   "source": [
    "word = \"string\"\n",
    "letter = word[1]\n",
    "print(letter)"
   ]
  },
  {
   "cell_type": "code",
   "execution_count": 40,
   "metadata": {
    "slideshow": {
     "slide_type": "subslide"
    }
   },
   "outputs": [
    {
     "name": "stdout",
     "output_type": "stream",
     "text": [
      "Sarah\n"
     ]
    }
   ],
   "source": [
    "lab_group0 = [\"Sarah\", \"John\", \"Joe\", \"Emily\"]\n",
    "\n",
    "first_member = lab_group0[0]\n",
    "\n",
    "print(first_member)"
   ]
  },
  {
   "cell_type": "markdown",
   "metadata": {
    "slideshow": {
     "slide_type": "subslide"
    }
   },
   "source": [
    "If we select multiple elements they are returned as a list:"
   ]
  },
  {
   "cell_type": "code",
   "execution_count": 41,
   "metadata": {},
   "outputs": [
    {
     "name": "stdout",
     "output_type": "stream",
     "text": [
      "['Sarah', 'John']\n"
     ]
    }
   ],
   "source": [
    "lab_group0 = [\"Sarah\", \"John\", \"Joe\", \"Emily\"]\n",
    "\n",
    "first_members = lab_group0[0:2]\n",
    "\n",
    "print(first_members)"
   ]
  },
  {
   "cell_type": "markdown",
   "metadata": {
    "slideshow": {
     "slide_type": "subslide"
    }
   },
   "source": [
    "We can select the inidividual characters of a string using a second index.\n",
    "\n",
    "For example to select the first letter of the second group member's name:"
   ]
  },
  {
   "cell_type": "code",
   "execution_count": 42,
   "metadata": {},
   "outputs": [
    {
     "name": "stdout",
     "output_type": "stream",
     "text": [
      "J\n"
     ]
    }
   ],
   "source": [
    "lab_group0 = [\"Sarah\", \"John\", \"Joe\", \"Emily\"]\n",
    "\n",
    "letter = lab_group0[1][0]\n",
    "\n",
    "print(letter)"
   ]
  },
  {
   "cell_type": "markdown",
   "metadata": {
    "slideshow": {
     "slide_type": "slide"
    }
   },
   "source": [
    "### Manipulating Lists \n",
    "\n",
    "There are many functions for manipulating lists.\n",
    "\n",
    "Many of these functions apply to other data structures.\n",
    "\n",
    "\n",
    "\n",
    "\n",
    "\n",
    "\n",
    "\n",
    "\n",
    "\n"
   ]
  },
  {
   "cell_type": "markdown",
   "metadata": {
    "slideshow": {
     "slide_type": "slide"
    }
   },
   "source": [
    "<a id='Length'></a>\n",
    "### Finding the Length of a List\n",
    "\n",
    "We can find the length (number of items) of a list using the function `len()`, by including the name of the list in the brackets. "
   ]
  },
  {
   "cell_type": "markdown",
   "metadata": {
    "slideshow": {
     "slide_type": "subslide"
    }
   },
   "source": [
    "In the example below, we find the length of the list `lab_group0`. "
   ]
  },
  {
   "cell_type": "code",
   "execution_count": 43,
   "metadata": {},
   "outputs": [
    {
     "name": "stdout",
     "output_type": "stream",
     "text": [
      "Lab group members: ['Sara', 'Mari', 'Quang']\n",
      "Size of lab group: 3\n",
      "Check the Python object type: <class 'list'>\n"
     ]
    }
   ],
   "source": [
    "lab_group0 = [\"Sara\", \"Mari\", \"Quang\"]\n",
    "\n",
    "size = len(lab_group0)\n",
    "\n",
    "print(\"Lab group members:\", lab_group0)\n",
    "\n",
    "print(\"Size of lab group:\", size)\n",
    "\n",
    "print(\"Check the Python object type:\", type(lab_group0))"
   ]
  },
  {
   "cell_type": "markdown",
   "metadata": {
    "slideshow": {
     "slide_type": "slide"
    }
   },
   "source": [
    "<a id='SortLists'></a>\n",
    "### Sorting Lists\n",
    "\n",
    "To sort the list we use the function `sorted()`.\n",
    "\n",
    "#### Sorting Numerically\n",
    "\n",
    "If the list contains numerical variables, the numbers is sorted in ascending order."
   ]
  },
  {
   "cell_type": "code",
   "execution_count": 44,
   "metadata": {
    "scrolled": true
   },
   "outputs": [
    {
     "name": "stdout",
     "output_type": "stream",
     "text": [
      "[7, 1, 3.0]\n",
      "[1, 3.0, 7]\n"
     ]
    }
   ],
   "source": [
    "numbers = [7, 1, 3.0]\n",
    "\n",
    "print(numbers)\n",
    "\n",
    "numbers = sorted(numbers)\n",
    "\n",
    "print(numbers)"
   ]
  },
  {
   "cell_type": "markdown",
   "metadata": {
    "slideshow": {
     "slide_type": "subslide"
    }
   },
   "source": [
    "__Note:__ We can sort a list with mixed numeric types (e.g. `float` and `int`). \n",
    "\n",
    "However, we cannot sort a list with types that cannot be sorted by the same ordering rule. \n",
    "\n",
    "(e.g. `numbers = sorted([\"7\", 1, 3.0])` causes an error.)"
   ]
  },
  {
   "cell_type": "code",
   "execution_count": null,
   "metadata": {
    "collapsed": true
   },
   "outputs": [],
   "source": [
    "\n",
    "\n"
   ]
  },
  {
   "cell_type": "markdown",
   "metadata": {
    "slideshow": {
     "slide_type": "subslide"
    }
   },
   "source": [
    "#### Sorting Alphabetically\n",
    "\n",
    "If the list contains strings of alphabet characters, the list is sorted by alphabetical order. "
   ]
  },
  {
   "cell_type": "code",
   "execution_count": 45,
   "metadata": {},
   "outputs": [
    {
     "name": "stdout",
     "output_type": "stream",
     "text": [
      "['Sara', 'Mari', 'Quang']\n",
      "['Mari', 'Quang', 'Sara']\n"
     ]
    }
   ],
   "source": [
    "lab_group0 = [\"Sara\", \"Mari\", \"Quang\"]\n",
    "\n",
    "print(lab_group0)\n",
    "\n",
    "lab_group0 = sorted(lab_group0)\n",
    "\n",
    "print(lab_group0)"
   ]
  },
  {
   "cell_type": "markdown",
   "metadata": {
    "slideshow": {
     "slide_type": "subslide"
    }
   },
   "source": [
    "As with `len()` we include the name of the list we want to sort in the brackets. "
   ]
  },
  {
   "cell_type": "markdown",
   "metadata": {
    "slideshow": {
     "slide_type": "subslide"
    }
   },
   "source": [
    "`sort` is known as a 'method' of a `list`. \n",
    "\n",
    "If we suffix a list with `.sort()`, it performs an *in-place* sort."
   ]
  },
  {
   "cell_type": "code",
   "execution_count": 46,
   "metadata": {
    "slideshow": {
     "slide_type": "-"
    }
   },
   "outputs": [
    {
     "name": "stdout",
     "output_type": "stream",
     "text": [
      "['Sara', 'Mari', 'Quang']\n",
      "['Mari', 'Quang', 'Sara']\n"
     ]
    }
   ],
   "source": [
    "lab_group0 = [\"Sara\", \"Mari\", \"Quang\"]\n",
    "\n",
    "print(lab_group0)\n",
    "\n",
    "#lab_group0 = sorted(lab_group0)\n",
    "lab_group0.sort()\n",
    "\n",
    "print(lab_group0)"
   ]
  },
  {
   "cell_type": "markdown",
   "metadata": {
    "slideshow": {
     "slide_type": "subslide"
    }
   },
   "source": [
    "__Try it yourself__\n",
    "\n",
    "In the cell provided in your textbook create a list of __numeric__ or __string__ values.\n",
    "\n",
    "Sort the list using `sorted()` __or__ `.sort()`.\n",
    "\n",
    "Print the sorted list.\n",
    "\n",
    "Print the length of the list using `len()`."
   ]
  },
  {
   "cell_type": "code",
   "execution_count": 47,
   "metadata": {
    "collapsed": true
   },
   "outputs": [],
   "source": [
    "# Sorting a list"
   ]
  },
  {
   "cell_type": "markdown",
   "metadata": {
    "slideshow": {
     "slide_type": "slide"
    }
   },
   "source": [
    "### Removing an Item from a List\n",
    "\n",
    "We can remove items from a list using the method `pop`.\n",
    "\n",
    "We place the index of the element we wish to remove in brackets. "
   ]
  },
  {
   "cell_type": "code",
   "execution_count": 1,
   "metadata": {
    "slideshow": {
     "slide_type": "subslide"
    }
   },
   "outputs": [
    {
     "name": "stdout",
     "output_type": "stream",
     "text": [
      "['Sara', 'Mari', 'Quang', 'Sam', 'Ryo']\n",
      "['Sara', 'Quang', 'Sam', 'Ryo']\n"
     ]
    }
   ],
   "source": [
    "lab_group0 = [\"Sara\", \"Mari\", \"Quang\", \"Sam\", \"Ryo\"]\n",
    "print(lab_group0)\n",
    "\n",
    "# Remove the second student from the list: lab_group (remember indexing starts from 0 so 1 is the second element)\n",
    "\n",
    "lab_group0.pop(1)\n",
    "print(lab_group0)"
   ]
  },
  {
   "cell_type": "code",
   "execution_count": 49,
   "metadata": {
    "slideshow": {
     "slide_type": "subslide"
    }
   },
   "outputs": [
    {
     "name": "stdout",
     "output_type": "stream",
     "text": [
      "['Sara', 'Quang', 'Sam']\n"
     ]
    }
   ],
   "source": [
    "# By default, pop removes the last element\n",
    "\n",
    "lab_group0.pop()\n",
    "print(lab_group0)"
   ]
  },
  {
   "cell_type": "code",
   "execution_count": 50,
   "metadata": {
    "slideshow": {
     "slide_type": "subslide"
    }
   },
   "outputs": [
    {
     "name": "stdout",
     "output_type": "stream",
     "text": [
      "['Sara', 'Sam']\n",
      "Quang\n"
     ]
    }
   ],
   "source": [
    "# Pop can by used to assign the removed value to a variable name\n",
    "\n",
    "group_member = lab_group0.pop(1)\n",
    "print(lab_group0)\n",
    "print(group_member)"
   ]
  },
  {
   "cell_type": "markdown",
   "metadata": {
    "slideshow": {
     "slide_type": "slide"
    }
   },
   "source": [
    "### Adding an Item to a List\n",
    "\n",
    "We can add items to a list using the method `insert`.\n",
    "\n",
    "We place the desired index of new element in brackets. "
   ]
  },
  {
   "cell_type": "code",
   "execution_count": 51,
   "metadata": {},
   "outputs": [
    {
     "name": "stdout",
     "output_type": "stream",
     "text": [
      "['Sara', 'Sam', 'Mark']\n"
     ]
    }
   ],
   "source": [
    "# Add new student \"Mark\" to the list\n",
    "lab_group0.insert(2, \"Mark\")\n",
    "print(lab_group0)"
   ]
  },
  {
   "cell_type": "markdown",
   "metadata": {
    "slideshow": {
     "slide_type": "subslide"
    }
   },
   "source": [
    "We can add items at the end of a list using the method `append`.\n",
    "\n",
    "We place the element we want to add to the end of the list in brackets. "
   ]
  },
  {
   "cell_type": "code",
   "execution_count": 4,
   "metadata": {},
   "outputs": [
    {
     "name": "stdout",
     "output_type": "stream",
     "text": [
      "['Sara', 'Quang', 'Sam', 'Ryo', 'Lia', 1, 'Lia']\n"
     ]
    }
   ],
   "source": [
    "# Add new student \"Lia\" at the end of the list\n",
    "lab_group0.append('Lia')\n",
    "print(lab_group0)"
   ]
  },
  {
   "cell_type": "markdown",
   "metadata": {
    "slideshow": {
     "slide_type": "subslide"
    }
   },
   "source": [
    "### Changing a list entry.\n",
    "We can change the entry of a list using indexing."
   ]
  },
  {
   "cell_type": "code",
   "execution_count": 53,
   "metadata": {},
   "outputs": [
    {
     "name": "stdout",
     "output_type": "stream",
     "text": [
      "['Sara', 'Sam', 'Mark', 'Am']\n"
     ]
    }
   ],
   "source": [
    "lab_group0[3] = \"Am\"\n",
    "print(lab_group0)\n",
    "\n",
    "# Adding and removing items from a list."
   ]
  },
  {
   "cell_type": "markdown",
   "metadata": {
    "slideshow": {
     "slide_type": "subslide"
    }
   },
   "source": [
    "__Try it yourself__\n",
    "\n",
    "In the cell provided in your textbook.\n",
    "\n",
    "Remove \"Sara\" from the list.\n",
    "\n",
    "Print the new list.\n",
    "\n",
    "Add a new lab group member, Tom, to the list.\n",
    "\n",
    "Print the new list."
   ]
  },
  {
   "cell_type": "code",
   "execution_count": 54,
   "metadata": {},
   "outputs": [
    {
     "name": "stdout",
     "output_type": "stream",
     "text": [
      "['Sara', 'Mari', 'Quang', 'Sam', 'Ryo']\n"
     ]
    }
   ],
   "source": [
    "lab_group0 = [\"Sara\", \"Mari\", \"Quang\", \"Sam\", \"Ryo\"]\n",
    "print(lab_group0)\n",
    "\n",
    "# Adding and removing items from a list."
   ]
  },
  {
   "cell_type": "markdown",
   "metadata": {
    "collapsed": true,
    "slideshow": {
     "slide_type": "slide"
    }
   },
   "source": [
    "<a id='NestedList'></a>\n",
    "### Nested Data Structures: Lists of Lists\n",
    "\n",
    "A *nested list* is a list within a list. \n",
    "\n",
    "(Recall *nested loops* from the last seminar 1; Control Flow). \n",
    "\n"
   ]
  },
  {
   "cell_type": "markdown",
   "metadata": {
    "slideshow": {
     "slide_type": "subslide"
    }
   },
   "source": [
    "To access a __single element__ we need as many indices as there are levels of nested list. \n",
    "\n",
    "This is more easily explained with an example:"
   ]
  },
  {
   "cell_type": "markdown",
   "metadata": {
    "slideshow": {
     "slide_type": "subslide"
    }
   },
   "source": [
    "`lab_groups` is a nested list containing the lists:\n",
    " - `lab_group0`\n",
    " - `lab_group1`\n",
    " - `lab_group2`"
   ]
  },
  {
   "cell_type": "code",
   "execution_count": 6,
   "metadata": {
    "collapsed": true,
    "slideshow": {
     "slide_type": "-"
    }
   },
   "outputs": [],
   "source": [
    "lab_group0 = [\"Sara\", \"Mika\", \"Ryo\", \"Am\"]\n",
    "lab_group1 = [\"Hemma\", \"Miri\", \"Quy\", \"Sajid\"]\n",
    "lab_group2 = [\"Adam\", \"Yukari\", \"Farad\", \"Fumitoshi\"]\n",
    "\n",
    "lab_groups = [lab_group0, lab_group1, lab_group2]"
   ]
  },
  {
   "cell_type": "markdown",
   "metadata": {
    "slideshow": {
     "slide_type": "subslide"
    }
   },
   "source": [
    "To select and element from `lab_group1` we:\n",
    "- first give the index of `lab_group1` in th list `lab_groups`\n",
    "- second give the index of the element within `lab_group1`"
   ]
  },
  {
   "cell_type": "code",
   "execution_count": 9,
   "metadata": {
    "slideshow": {
     "slide_type": "-"
    }
   },
   "outputs": [
    {
     "name": "stdout",
     "output_type": "stream",
     "text": [
      "['Hemma', 'Miri', 'Quy', 'Sajid']\n",
      "Quy\n"
     ]
    }
   ],
   "source": [
    "group = lab_groups[1]\n",
    "print(group)\n",
    "\n",
    "name = lab_groups[1][2]\n",
    "print(name)"
   ]
  },
  {
   "cell_type": "markdown",
   "metadata": {
    "slideshow": {
     "slide_type": "slide"
    }
   },
   "source": [
    "<a id='IteratingLists'></a>\n",
    "### Iterating Over Lists\n",
    "\n",
    "Looping over each item in a list is called *iterating*. \n",
    "\n",
    "To iterate over a list of the lab group we  can use a `for` loop.\n",
    "\n"
   ]
  },
  {
   "cell_type": "markdown",
   "metadata": {
    "slideshow": {
     "slide_type": "subslide"
    }
   },
   "source": [
    "In the followig example, each iteration, variable `d` takes the value of the next item in the list:"
   ]
  },
  {
   "cell_type": "code",
   "execution_count": 57,
   "metadata": {},
   "outputs": [
    {
     "name": "stdout",
     "output_type": "stream",
     "text": [
      "the value of d is: 1\n",
      "the value of d is: 2.0\n",
      "the value of d is: three\n"
     ]
    }
   ],
   "source": [
    "for d in [1, 2.0, \"three\"]:    \n",
    "    print(\"the value of d is:\", d)"
   ]
  },
  {
   "cell_type": "markdown",
   "metadata": {
    "slideshow": {
     "slide_type": "subslide"
    }
   },
   "source": [
    "We could also express this as:"
   ]
  },
  {
   "cell_type": "code",
   "execution_count": 58,
   "metadata": {},
   "outputs": [
    {
     "name": "stdout",
     "output_type": "stream",
     "text": [
      "the value of d is: 1\n",
      "the value of d is: 2.0\n",
      "the value of d is: three\n"
     ]
    }
   ],
   "source": [
    "data = [1, 2.0, \"three\"]\n",
    "\n",
    "for d in data:    \n",
    "    print(\"the value of d is:\", d)"
   ]
  },
  {
   "cell_type": "markdown",
   "metadata": {},
   "source": [
    "Iterating backwards over a list can be acheived using the built in `reversed` function."
   ]
  },
  {
   "cell_type": "code",
   "execution_count": 59,
   "metadata": {},
   "outputs": [
    {
     "name": "stdout",
     "output_type": "stream",
     "text": [
      "the value of d is: three\n",
      "the value of d is: 2.0\n",
      "the value of d is: 1\n"
     ]
    }
   ],
   "source": [
    "data = [1, 2.0, \"three\"]\n",
    "\n",
    "for d in reversed(data):    \n",
    "    print(\"the value of d is:\", d)\n",
    "\n"
   ]
  },
  {
   "cell_type": "markdown",
   "metadata": {
    "slideshow": {
     "slide_type": "subslide"
    }
   },
   "source": [
    "__Try it yourself__\n",
    "\n",
    "\n",
    "In the cell provided in your textbook *iterate* over the list `data = [1, 2.0, \"three\"]`.\n",
    "\n",
    "Each time the code loops:\n",
    "1. print the value of data __cast as a string__ (Seminar 1 Data Types and Operators)\n",
    "1. print the variable type<br>(to demonstrate that the variable has been cast. Note that otherwise the variable appears to remain unchanged)."
   ]
  },
  {
   "cell_type": "code",
   "execution_count": 60,
   "metadata": {},
   "outputs": [
    {
     "name": "stdout",
     "output_type": "stream",
     "text": [
      "1 <class 'int'>\n",
      "2.0 <class 'float'>\n",
      "three <class 'str'>\n"
     ]
    }
   ],
   "source": [
    "# Iterate over a list and cast each item as a string\n",
    "data = [1, 2.0, \"three\"]\n",
    "for n in data:\n",
    "    print(n,type(n))"
   ]
  },
  {
   "cell_type": "markdown",
   "metadata": {
    "collapsed": true,
    "slideshow": {
     "slide_type": "subslide"
    }
   },
   "source": [
    "### Indexing when Iterating over Lists\n",
    "Indexing can be useful when iterating over a list.\n",
    "\n"
   ]
  },
  {
   "cell_type": "markdown",
   "metadata": {
    "slideshow": {
     "slide_type": "subslide"
    }
   },
   "source": [
    "For example, we can select a range of elements to iterate over:"
   ]
  },
  {
   "cell_type": "code",
   "execution_count": 61,
   "metadata": {},
   "outputs": [
    {
     "name": "stdout",
     "output_type": "stream",
     "text": [
      "name: Quang\n",
      "name: Sam\n",
      "name: Ryo\n"
     ]
    }
   ],
   "source": [
    "lab_group0 = [\"Sara\", \"Mari\", \"Quang\", \"Sam\", \"Ryo\", \"Nao\", \"Takashi\"]\n",
    "\n",
    "for member in lab_group0[2:5]:    \n",
    "    print(\"name:\", member)"
   ]
  },
  {
   "cell_type": "markdown",
   "metadata": {
    "slideshow": {
     "slide_type": "subslide"
    }
   },
   "source": [
    "A third value can used to choose a step size (similar to `range()`).\n",
    "\n",
    "For example, if we want to choose every other lab member we use step size, 2:"
   ]
  },
  {
   "cell_type": "code",
   "execution_count": 62,
   "metadata": {},
   "outputs": [
    {
     "name": "stdout",
     "output_type": "stream",
     "text": [
      "name: Sara\n",
      "name: Quang\n",
      "name: Ryo\n",
      "name: Takashi\n"
     ]
    }
   ],
   "source": [
    "lab_group0 = [\"Sara\", \"Mari\", \"Quang\", \"Sam\", \"Ryo\", \"Nao\", \"Takashi\",\"ungerade\"]\n",
    "\n",
    "for member in lab_group0[::2]:    \n",
    "    print(\"name:\", member)"
   ]
  },
  {
   "cell_type": "markdown",
   "metadata": {
    "slideshow": {
     "slide_type": "subslide"
    }
   },
   "source": [
    "__Note:__<br>\n",
    "Some data structures that support *iterating* but do not support *indexing*.\n",
    "\n",
    "e.g. dictionaries, which we will learn about later. \n",
    "\n",
    "When possible, it is better to iterate over a list rather than use indexing."
   ]
  },
  {
   "cell_type": "markdown",
   "metadata": {
    "slideshow": {
     "slide_type": "slide"
    }
   },
   "source": [
    "### `enumerate()`\n",
    "The function `enumerate` can be used to return the index of each element.\n",
    "<br>This information is cast as a list to allow us to read it."
   ]
  },
  {
   "cell_type": "code",
   "execution_count": 63,
   "metadata": {
    "slideshow": {
     "slide_type": "-"
    }
   },
   "outputs": [
    {
     "name": "stdout",
     "output_type": "stream",
     "text": [
      "<enumerate object at 0x10d219090>\n",
      "[(0, 'Sara'), (1, 'Mari'), (2, 'Quang'), (3, 'Sam'), (4, 'Ryo'), (5, 'Nao'), (6, 'Takashi')]\n"
     ]
    }
   ],
   "source": [
    "lab_group0 = [\"Sara\", \"Mari\", \"Quang\", \"Sam\", \"Ryo\", \"Nao\", \"Takashi\"]\n",
    "a = enumerate(lab_group0)\n",
    "b = list(enumerate(lab_group0))\n",
    "print(a)\n",
    "print(b)\n",
    "\n"
   ]
  },
  {
   "cell_type": "code",
   "execution_count": 64,
   "metadata": {
    "slideshow": {
     "slide_type": "subslide"
    }
   },
   "outputs": [
    {
     "name": "stdout",
     "output_type": "stream",
     "text": [
      "[(0, 's'), (1, 't'), (2, 'r'), (3, 'i'), (4, 'n'), (5, 'g')]\n"
     ]
    }
   ],
   "source": [
    "string = \"string\"\n",
    "a = list(enumerate(string))\n",
    "print(a)"
   ]
  },
  {
   "cell_type": "markdown",
   "metadata": {
    "slideshow": {
     "slide_type": "slide"
    }
   },
   "source": [
    "### Iterating Over Multiple Lists Using `zip()`\n",
    "It can be very useful to iterate through multiple lists within the same loop. than one list."
   ]
  },
  {
   "cell_type": "markdown",
   "metadata": {
    "slideshow": {
     "slide_type": "subslide"
    }
   },
   "source": [
    "For example if we have a list of group members and a list of their scores for an assignemt, we can print the score that corresponds to each lab member:"
   ]
  },
  {
   "cell_type": "code",
   "execution_count": 65,
   "metadata": {},
   "outputs": [
    {
     "name": "stdout",
     "output_type": "stream",
     "text": [
      "Sara : score = 72\n",
      "Mari : score = 56\n",
      "Quang : score = 65\n",
      "Sam : score = 52\n",
      "Ryo : score = 71\n",
      "Nao : score = 60\n"
     ]
    }
   ],
   "source": [
    "lab_group0 =  [\"Sara\", \"Mari\", \"Quang\", \"Sam\", \"Ryo\", \"Nao\", \"Takashi\"]\n",
    "\n",
    "assignment1 = [72, 56, 65, 52, 71, 60]\n",
    "\n",
    "for member, score in zip(lab_group0, assignment1):    \n",
    "    print(member, \": score =\", score)"
   ]
  },
  {
   "cell_type": "markdown",
   "metadata": {
    "slideshow": {
     "slide_type": "subslide"
    }
   },
   "source": [
    "In this example \n",
    "\n",
    "`member` is the name given to the *current* value from the list `lab_group0`\n",
    "\n",
    "`score` is the names given to the *current* value from the list `assignment1`.  "
   ]
  },
  {
   "cell_type": "markdown",
   "metadata": {
    "slideshow": {
     "slide_type": "subslide"
    }
   },
   "source": [
    "\n",
    "We can include any number of lists in `zip`."
   ]
  },
  {
   "cell_type": "markdown",
   "metadata": {
    "slideshow": {
     "slide_type": "subslide"
    }
   },
   "source": [
    "For example it may be useful to print the combined score a lab member has achieved for all assigments this semester:"
   ]
  },
  {
   "cell_type": "code",
   "execution_count": 66,
   "metadata": {},
   "outputs": [
    {
     "name": "stdout",
     "output_type": "stream",
     "text": [
      "Sara : score = 195\n",
      "Mari : score = 188\n",
      "Quang : score = 208\n",
      "Sam : score = 173\n",
      "Ryo : score = 194\n",
      "Nao : score = 186\n"
     ]
    }
   ],
   "source": [
    "lab_group0 =  [\"Sara\", \"Mari\", \"Quang\", \"Sam\", \"Ryo\", \"Nao\", \"Takashi\"]\n",
    "\n",
    "assignment1 = [72, 56, 65, 52, 71, 60]\n",
    "assignment2 = [52, 61, 73, 55, 62, 55]\n",
    "assignment3 = [71, 71, 70, 66, 61, 71]\n",
    "\n",
    "for member, score1, score2, score3 in zip(lab_group0, \n",
    "                                          assignment1, \n",
    "                                          assignment2, \n",
    "                                          assignment3):    \n",
    "    print(member, \": score =\", (score1 + score2 + score3))"
   ]
  },
  {
   "cell_type": "markdown",
   "metadata": {
    "slideshow": {
     "slide_type": "slide"
    }
   },
   "source": [
    "### Lists Example: Vectors\n",
    "\n",
    "__Vector:__ A quantity with magnitude and direction."
   ]
  },
  {
   "cell_type": "markdown",
   "metadata": {
    "slideshow": {
     "slide_type": "subslide"
    }
   },
   "source": [
    "Position vectors (or displacement vectors) in 3D space can be expressed in terms of x,y, and z-directions.  \n",
    "\n",
    "<img src=\"img/3d_position_vector.png\" alt=\"Drawing\" style=\"width: 300px;\"/>\n",
    "\n"
   ]
  },
  {
   "cell_type": "markdown",
   "metadata": {
    "slideshow": {
     "slide_type": "subslide"
    }
   },
   "source": [
    "The position vector 𝒓 indicates the position of a point in 3D space.\n",
    "\n",
    "$$\n",
    "\\mathbf{r} = x\\mathbf{i} + y\\mathbf{j} + z\\mathbf{k}\n",
    "$$\n",
    "\n",
    "$\\mathbf{i}$ is the displacement one unit in the x-direction<br>\n",
    "$\\mathbf{j}$ is the displacement one unit in the y-direction<br>\n",
    "$\\mathbf{k}$ is the displacement one unit in the z-direction\n"
   ]
  },
  {
   "cell_type": "markdown",
   "metadata": {
    "slideshow": {
     "slide_type": "subslide"
    }
   },
   "source": [
    "We can conveniently express $\\mathbf{r}$ in matrix (or basis vector) form using the coefficients $x, y$ and $z$: \n",
    "$$\n",
    "\\mathbf{r} = [x, y, z]\n",
    "$$\n",
    "\n",
    "__...which looks a lot like a Python list!__\n"
   ]
  },
  {
   "cell_type": "markdown",
   "metadata": {
    "slideshow": {
     "slide_type": "subslide"
    }
   },
   "source": [
    "You will encounter 3D vectors a lot in your engineering studies.\n",
    "\n",
    "They are used to describe many physical quantities, e.g. force."
   ]
  },
  {
   "cell_type": "markdown",
   "metadata": {
    "slideshow": {
     "slide_type": "subslide"
    }
   },
   "source": [
    "<a id='DotProductLists'></a>\n",
    "\n",
    "### Iterating with Zip \n",
    "\n",
    "#### Example: The dot product of two vectors:\n",
    "\n",
    "The __dot product__ is a really useful algebraic operation.\n",
    "\n",
    "It takes two equal-length *sequences of numbers* (often coordinate vectors) and returns a single number. \n",
    " "
   ]
  },
  {
   "cell_type": "markdown",
   "metadata": {
    "slideshow": {
     "slide_type": "slide"
    }
   },
   "source": [
    "__GEOMETRIC REPRESENTATION OF THE DOT PRODUCT__\n",
    "\n",
    "\\begin{align}\n",
    "\\mathbf{A} \\cdot \\mathbf{B} = |\\mathbf{A}| |\\mathbf{B}| cos(\\theta)\n",
    "\\end{align}\n",
    "\n",
    "Where:\n",
    "$|\\mathbf{A}|$ and $|\\mathbf{B}|$ are the *magnitudes* of $\\mathbf{A}$ and $\\mathbf{B}$\n",
    "\n",
    "$\\theta$ is the angle between the two vectors."
   ]
  },
  {
   "cell_type": "markdown",
   "metadata": {
    "slideshow": {
     "slide_type": "subslide"
    }
   },
   "source": [
    "__NOTATION:__ *Magnitude*\n",
    "\n",
    "<br>__3D vector__ \n",
    "<br>$\\mathbf{r} = [x, y, z]$\n",
    "\n",
    "magnitude of $\\mathbf{r}$:\n",
    "<br>$|\\mathbf{r}| = \\sqrt{x^2 + y^2 + z^2}$\n",
    "\n"
   ]
  },
  {
   "cell_type": "markdown",
   "metadata": {
    "slideshow": {
     "slide_type": "subslide"
    }
   },
   "source": [
    "__2D vector__ \n",
    "<br>$\\mathbf{r} = [x, y]$\n",
    "\n",
    "magnitude of $\\mathbf{r}$:\n",
    "<br>$|\\mathbf{r}| = \\sqrt{x^2 + y^2}$"
   ]
  },
  {
   "cell_type": "markdown",
   "metadata": {
    "slideshow": {
     "slide_type": "subslide"
    }
   },
   "source": [
    "__ALGEBRAIC REPRESENTATION OF THE DOT PRODUCT__\n",
    "\n",
    "The dot product of two $n$-length-vectors:\n",
    "<br> $ \\mathbf{A} = [A_1, A_2, ... A_n]$\n",
    "<br> $ \\mathbf{B} = [B_1, B_2, ... B_n]$\n",
    "\n",
    "\\begin{align}\n",
    "\\mathbf{A} \\cdot \\mathbf{B} = \\sum_{i=1}^n A_i B_i\n",
    "\\end{align}\n",
    "\n"
   ]
  },
  {
   "cell_type": "markdown",
   "metadata": {
    "slideshow": {
     "slide_type": "subslide"
    }
   },
   "source": [
    "So the dot product of two 3D vectors:\n",
    "<br> $ \\mathbf{A} = [A_x, A_y, A_z]$\n",
    "<br> $ \\mathbf{B} = [B_x, B_y, B_z]$\n",
    "\n",
    "\n",
    "\\begin{align}\n",
    "\\mathbf{A} \\cdot \\mathbf{B} &= \\sum_{i=1}^n A_i B_i \\\\\n",
    "&= A_x B_x + A_y B_y + A_z B_z\n",
    "\\end{align}\n",
    "\n"
   ]
  },
  {
   "cell_type": "markdown",
   "metadata": {
    "slideshow": {
     "slide_type": "subslide"
    }
   },
   "source": [
    "__Example:__ \n",
    "<br> The dot product $\\mathbf{A} \\cdot \\mathbf{B}$:\n",
    "<br> $ \\mathbf{A} = [1, 3, −5]$\n",
    "<br> $ \\mathbf{B} = [4, −2, −1]$\n",
    "\n",
    "\n",
    "\n",
    "\\begin{align}\n",
    "      {\\displaystyle {\\begin{aligned}\\ [1,3,-5]\\cdot [4,-2,-1]&=(1)(4)+(3)(-2)+(-5)(-1)\\\\& = 4 \\qquad - 6 \\qquad + 5 \\\\&=3\\end{aligned}}} \n",
    "\\end{align}"
   ]
  },
  {
   "cell_type": "markdown",
   "metadata": {
    "slideshow": {
     "slide_type": "subslide"
    }
   },
   "source": [
    "We can solve this very easily using a Python `for` loop.\n",
    "\n",
    "With each iteration of the loop we increase the value of `dot_product` (initial value = 0.0) by the product of `a` and `b`.  "
   ]
  },
  {
   "cell_type": "code",
   "execution_count": 67,
   "metadata": {
    "slideshow": {
     "slide_type": "-"
    }
   },
   "outputs": [
    {
     "name": "stdout",
     "output_type": "stream",
     "text": [
      "3.0\n"
     ]
    }
   ],
   "source": [
    "A = [1.0, 3.0, -5.0]\n",
    "B = [4.0, -2.0, -1.0]\n",
    "\n",
    "# Create a variable called dot_product with value, 0.0\n",
    "dot_product = 0.0\n",
    "\n",
    "for a, b in zip(A, B): \n",
    "    dot_product += a * b\n",
    "\n",
    "print(dot_product)"
   ]
  },
  {
   "cell_type": "markdown",
   "metadata": {
    "collapsed": true,
    "slideshow": {
     "slide_type": "subslide"
    }
   },
   "source": [
    "Example uses of the dot product:\n",
    "\n",
    "\\begin{align}\n",
    "\\mathbf{A} \\cdot \\mathbf{B} = |\\mathbf{A}| |\\mathbf{B}| cos(\\theta)\n",
    "\\end{align}\n",
    "\n",
    " - Find the angle between two vectors (from its cosine).\n",
    " - Check if the angle between two vectors is:\n",
    "   - acute ($\\mathbf{A} \\cdot \\mathbf{B}>0$)\n",
    "   - obtuse ($\\mathbf{A} \\cdot \\mathbf{B}<0$)\n",
    "   - right angle ($\\mathbf{A} \\cdot \\mathbf{B}==0$)\n",
    "\n",
    " "
   ]
  },
  {
   "cell_type": "markdown",
   "metadata": {
    "slideshow": {
     "slide_type": "subslide"
    }
   },
   "source": [
    "\\begin{align}\n",
    "\\mathbf{A} \\cdot \\mathbf{B} = |\\mathbf{A}| |\\mathbf{B}| cos(\\theta)\n",
    "\\end{align}\n",
    "\n",
    "- Find the magnitude of one vector in the direction of another.\n",
    "- Find physical quantities <br> e.g. the work, W, done pushing an object distance, d, with force, F:\n",
    " \n",
    " <img src=\"img/work_equation.jpg\" alt=\"Drawing\" style=\"width: 500px;\"/>\n"
   ]
  },
  {
   "cell_type": "markdown",
   "metadata": {
    "slideshow": {
     "slide_type": "subslide"
    }
   },
   "source": [
    "__Try it yourself:__ \n",
    "\n",
    "$\\mathbf{C} = [2, 4, 3.5]$\n",
    "\n",
    "$\\mathbf{D} = [1, 2, -6]$\n",
    "\n",
    "In the cell below find the dot product:\n",
    "$\\mathbf{C} \\cdot \\mathbf{D}$\n",
    "\n",
    "Is the angle between the vectors obtuse or acute or are the vectors perpendicular? <br> \n",
    "(Perpendicular if $\\mathbf{A} \\cdot \\mathbf{B}==0$, acute if $\\mathbf{A} \\cdot \\mathbf{B}>0$, or obtuse if $\\mathbf{A} \\cdot \\mathbf{B}<0$).\n",
    " "
   ]
  },
  {
   "cell_type": "code",
   "execution_count": 68,
   "metadata": {},
   "outputs": [
    {
     "name": "stdout",
     "output_type": "stream",
     "text": [
      "-11.0\n"
     ]
    }
   ],
   "source": [
    "# The dot product of C and D\n",
    "dot=0\n",
    "c=[2,4,3.5]\n",
    "d=[1,2,-6]\n",
    "for a,b in zip(c,d):\n",
    "    dot+=a*b\n",
    "print(dot)"
   ]
  },
  {
   "cell_type": "markdown",
   "metadata": {
    "slideshow": {
     "slide_type": "subslide"
    }
   },
   "source": [
    "## List comprehension\n",
    "\n",
    "A list is a really useful way to build lists from other lists. \n",
    "\n",
    "However, it can be difficult to interpret when reading.\n",
    "\n",
    "Look carefully at the following example.\n",
    "\n"
   ]
  },
  {
   "cell_type": "markdown",
   "metadata": {
    "slideshow": {
     "slide_type": "subslide"
    }
   },
   "source": [
    "We have a list of numbers Y.\n",
    "\n",
    "`Y = [4, 6, 10, 11]`\n",
    "\n",
    "We want a new list of numbers, X where every element is the square of the element of the same index in Y. "
   ]
  },
  {
   "cell_type": "code",
   "execution_count": 69,
   "metadata": {
    "slideshow": {
     "slide_type": "subslide"
    }
   },
   "outputs": [
    {
     "name": "stdout",
     "output_type": "stream",
     "text": [
      "[4, 6, 10, 11]\n",
      "[16, 36, 100, 121]\n"
     ]
    }
   ],
   "source": [
    "Y = [4, 6, 10, 11]\n",
    "\n",
    "X = [y**2 for y in Y]\n",
    "\n",
    "print(Y)\n",
    "print(X)"
   ]
  },
  {
   "cell_type": "markdown",
   "metadata": {
    "slideshow": {
     "slide_type": "subslide"
    }
   },
   "source": [
    "#### Interpreting the comprehension:\n",
    "\n",
    "\"<font color='blue'>y**2</font> for <font color='green'>y</font> in <font color='red'>Y</font>\" \n",
    "\n",
    "means:\n",
    "- <font color='red'>Loop through each value in the list Y.</font>\n",
    "- With each iteration:\n",
    " - <font color='green'>assign the value of the next element in Y to the variable y.</font>\n",
    " - <font color='blue'>square it to get the next element in X.</font>"
   ]
  },
  {
   "cell_type": "markdown",
   "metadata": {
    "slideshow": {
     "slide_type": "subslide"
    }
   },
   "source": [
    "This is equivalent to:"
   ]
  },
  {
   "cell_type": "code",
   "execution_count": 70,
   "metadata": {},
   "outputs": [
    {
     "name": "stdout",
     "output_type": "stream",
     "text": [
      "[4, 6, 10, 11]\n",
      "[16, 36, 100, 121]\n"
     ]
    }
   ],
   "source": [
    "Y = [4, 6, 10, 11]\n",
    "\n",
    "#Create an empty list\n",
    "X = []\n",
    "\n",
    "for y in Y:\n",
    "    X.append(y**2)\n",
    "    \n",
    "print(Y)\n",
    "print(X)"
   ]
  },
  {
   "cell_type": "markdown",
   "metadata": {
    "slideshow": {
     "slide_type": "subslide"
    }
   },
   "source": [
    "...but the list comprehension is more succinct.\n",
    "\n"
   ]
  },
  {
   "cell_type": "markdown",
   "metadata": {
    "slideshow": {
     "slide_type": "subslide"
    }
   },
   "source": [
    "#### Comprehension: Operations on All Items in a List\n",
    "\n",
    "A list comprehension is useful if we want to perform an operation on all items of a list. \n",
    "\n",
    "Consider the exercise you completed earlier:"
   ]
  },
  {
   "cell_type": "markdown",
   "metadata": {},
   "source": [
    ">*__Try it yourself__<br>\n",
    ">In the cell provided in your textbook *iterate* over the list `data = [1, 2.0, \"three\"]`.*<br>\n",
    "*Each time the code loops:*\n",
    ">1. *print the value of data __cast as a string__ *\n",
    ">1. *print the variable type*\n",
    "\n"
   ]
  },
  {
   "cell_type": "markdown",
   "metadata": {
    "slideshow": {
     "slide_type": "subslide"
    }
   },
   "source": [
    "You probably wrote something like..."
   ]
  },
  {
   "cell_type": "code",
   "execution_count": 71,
   "metadata": {},
   "outputs": [
    {
     "name": "stdout",
     "output_type": "stream",
     "text": [
      "<class 'str'>\n",
      "<class 'str'>\n",
      "<class 'str'>\n"
     ]
    }
   ],
   "source": [
    "data = [1, 2.0, \"three\"]\n",
    "\n",
    "for d in data:    \n",
    "    d = str(d)\n",
    "    print(type(d))"
   ]
  },
  {
   "cell_type": "markdown",
   "metadata": {
    "slideshow": {
     "slide_type": "subslide"
    }
   },
   "source": [
    "The original value of in `data` remain unchanged:"
   ]
  },
  {
   "cell_type": "code",
   "execution_count": 72,
   "metadata": {},
   "outputs": [
    {
     "name": "stdout",
     "output_type": "stream",
     "text": [
      "<class 'int'> <class 'float'> <class 'str'>\n"
     ]
    }
   ],
   "source": [
    "print(type(data[0]), type(data[1]), type(data[2]))"
   ]
  },
  {
   "cell_type": "markdown",
   "metadata": {
    "collapsed": true,
    "slideshow": {
     "slide_type": "subslide"
    }
   },
   "source": [
    "Using a list comprehension:"
   ]
  },
  {
   "cell_type": "code",
   "execution_count": 73,
   "metadata": {},
   "outputs": [
    {
     "name": "stdout",
     "output_type": "stream",
     "text": [
      "['1', '2.0', 'three']\n",
      "<class 'str'> <class 'str'> <class 'str'>\n"
     ]
    }
   ],
   "source": [
    "data = [str(d) for d in data]\n",
    "\n",
    "print(data)\n",
    "\n",
    "print(type(data[0]), type(data[1]), type(data[2]))"
   ]
  },
  {
   "cell_type": "markdown",
   "metadata": {
    "slideshow": {
     "slide_type": "subslide"
    }
   },
   "source": [
    "#### Comprehensions with Conditionals\n",
    "\n",
    "Comprehensions can be written so that elements will only be added to a list  if they satisfy a condition."
   ]
  },
  {
   "cell_type": "markdown",
   "metadata": {
    "slideshow": {
     "slide_type": "subslide"
    }
   },
   "source": [
    "In the example below, elements remain in list, `items`, if their value is greater than 2."
   ]
  },
  {
   "cell_type": "code",
   "execution_count": 74,
   "metadata": {},
   "outputs": [
    {
     "name": "stdout",
     "output_type": "stream",
     "text": [
      "[3, 5, 7, 3]\n"
     ]
    }
   ],
   "source": [
    "items = [1, 3, 5, 7, 3, 2, 1]\n",
    "\n",
    "items = [i for i in items if i > 2]\n",
    "\n",
    "print(items)"
   ]
  },
  {
   "cell_type": "markdown",
   "metadata": {
    "slideshow": {
     "slide_type": "subslide"
    }
   },
   "source": [
    "In the example below, elements are squared and added to new list `squares` if their value is greater than 2."
   ]
  },
  {
   "cell_type": "code",
   "execution_count": 75,
   "metadata": {},
   "outputs": [
    {
     "name": "stdout",
     "output_type": "stream",
     "text": [
      "[1, 3, 5, 7, 3, 2, 1]\n",
      "[9, 25, 49, 9]\n"
     ]
    }
   ],
   "source": [
    "items = [1, 3, 5, 7, 3, 2, 1]\n",
    "\n",
    "squares = [i**2 for i in items if i > 2]\n",
    "\n",
    "print(items)\n",
    "print(squares)"
   ]
  },
  {
   "cell_type": "markdown",
   "metadata": {
    "slideshow": {
     "slide_type": "subslide"
    }
   },
   "source": [
    "__Try it yourself__\n",
    "\n",
    "In the cell below, create a new list `V`, of the even numbers of list `U`, multiplied by 2."
   ]
  },
  {
   "cell_type": "code",
   "execution_count": 5,
   "metadata": {},
   "outputs": [
    {
     "name": "stdout",
     "output_type": "stream",
     "text": [
      "[4, 12, 16, 4, 8]\n"
     ]
    }
   ],
   "source": [
    "U = [2, 3, 6, 8, 9, 1, 2, 4]\n",
    "V=[u*2 for u in U if not u%2]\n",
    "print(V)"
   ]
  },
  {
   "cell_type": "markdown",
   "metadata": {
    "slideshow": {
     "slide_type": "slide"
    }
   },
   "source": [
    "## Tuples\n",
    "\n",
    "In many ways, tuples are similar to lists. \n",
    "\n",
    "However, after creatig a tuple:\n",
    " - you cannot __add__ or __remove__ elements from it without creating a new tuple (e.g. connecting two tuples). \n",
    " - you cannot change the value of a single tuple element e.g. by indexing. \n",
    "\n",
    "\n"
   ]
  },
  {
   "cell_type": "markdown",
   "metadata": {
    "slideshow": {
     "slide_type": "subslide"
    }
   },
   "source": [
    "Tuples are therefore used for values that should not change after being created.\n",
    "<br>e.g. a vector of length three with fixed entries\n",
    "\n",
    "It is 'safer' in this case since it cannot be modified accidentally in a program. \n",
    "\n",
    "To create a tuple, use () parentheses.\n"
   ]
  },
  {
   "cell_type": "markdown",
   "metadata": {
    "slideshow": {
     "slide_type": "subslide"
    }
   },
   "source": [
    "__Example__\n",
    "<br>At Kyoto University, each professor is assigned an office.\n",
    "\n",
    "Philamore-sensei is given room 32:"
   ]
  },
  {
   "cell_type": "code",
   "execution_count": 77,
   "metadata": {},
   "outputs": [
    {
     "name": "stdout",
     "output_type": "stream",
     "text": [
      "Room allocation: ('Philamore', 32)\n",
      "Length of entry: 2\n",
      "<class 'tuple'>\n"
     ]
    }
   ],
   "source": [
    "room = (\"Philamore\", 32)\n",
    "\n",
    "print(\"Room allocation:\", room)\n",
    "\n",
    "print(\"Length of entry:\", len(room))\n",
    "\n",
    "print(type(room))"
   ]
  },
  {
   "cell_type": "markdown",
   "metadata": {
    "slideshow": {
     "slide_type": "subslide"
    }
   },
   "source": [
    "<a id='IteratingTuples'></a>\n",
    "### Iterating over Tuples \n",
    "\n",
    "We can *iterate* over tuples in the same way as with lists,"
   ]
  },
  {
   "cell_type": "code",
   "execution_count": 78,
   "metadata": {},
   "outputs": [
    {
     "name": "stdout",
     "output_type": "stream",
     "text": [
      "Philamore\n",
      "32\n"
     ]
    }
   ],
   "source": [
    "# Iterate over tuple values\n",
    "for d in room:\n",
    "    print(d)"
   ]
  },
  {
   "cell_type": "markdown",
   "metadata": {
    "slideshow": {
     "slide_type": "subslide"
    }
   },
   "source": [
    "###  Indexing\n",
    "\n",
    "We can index into a tuple:"
   ]
  },
  {
   "cell_type": "code",
   "execution_count": 79,
   "metadata": {},
   "outputs": [
    {
     "name": "stdout",
     "output_type": "stream",
     "text": [
      "32\n",
      "Philamore\n"
     ]
    }
   ],
   "source": [
    "# Index into tuple values\n",
    "print(room[1])\n",
    "print(room[0])"
   ]
  },
  {
   "cell_type": "markdown",
   "metadata": {
    "slideshow": {
     "slide_type": "subslide"
    }
   },
   "source": [
    "__Note__ Take care when creating a tuple of length 1..."
   ]
  },
  {
   "cell_type": "markdown",
   "metadata": {
    "slideshow": {
     "slide_type": "subslide"
    }
   },
   "source": [
    "In this example, we create a *list* of length 1:"
   ]
  },
  {
   "cell_type": "code",
   "execution_count": 80,
   "metadata": {},
   "outputs": [
    {
     "name": "stdout",
     "output_type": "stream",
     "text": [
      "[1]\n",
      "<class 'list'>\n",
      "1\n"
     ]
    }
   ],
   "source": [
    "# Creating a list of length 1 \n",
    "a = [1]\n",
    "print(a)\n",
    "print(type(a))\n",
    "print(len(a))"
   ]
  },
  {
   "cell_type": "markdown",
   "metadata": {
    "slideshow": {
     "slide_type": "subslide"
    }
   },
   "source": [
    "However, if we use the same process for a tuple:"
   ]
  },
  {
   "cell_type": "code",
   "execution_count": 81,
   "metadata": {},
   "outputs": [
    {
     "name": "stdout",
     "output_type": "stream",
     "text": [
      "1\n",
      "<class 'int'>\n"
     ]
    }
   ],
   "source": [
    "a = (1)\n",
    "print(a)\n",
    "print(type(a))\n",
    "#print(len(a))"
   ]
  },
  {
   "cell_type": "markdown",
   "metadata": {
    "slideshow": {
     "slide_type": "subslide"
    }
   },
   "source": [
    "To create a tuple of length 1, we use a comma:"
   ]
  },
  {
   "cell_type": "code",
   "execution_count": 82,
   "metadata": {},
   "outputs": [
    {
     "name": "stdout",
     "output_type": "stream",
     "text": [
      "(1,)\n",
      "<class 'tuple'>\n",
      "1\n"
     ]
    }
   ],
   "source": [
    "a = (1,)\n",
    "print(a)\n",
    "print(type(a))\n",
    "print(len(a))"
   ]
  },
  {
   "cell_type": "markdown",
   "metadata": {
    "slideshow": {
     "slide_type": "subslide"
    }
   },
   "source": [
    "For example, Endo-sensei is a visiting professor who has not been assigned a room:"
   ]
  },
  {
   "cell_type": "code",
   "execution_count": 83,
   "metadata": {},
   "outputs": [
    {
     "name": "stdout",
     "output_type": "stream",
     "text": [
      "Room allocation: ('Endo',)\n",
      "Length of entry: 1\n",
      "<class 'tuple'>\n"
     ]
    }
   ],
   "source": [
    "room = (\"Endo\",)\n",
    "print(\"Room allocation:\", room)\n",
    "print(\"Length of entry:\", len(room))\n",
    "print(type(room))"
   ]
  },
  {
   "cell_type": "markdown",
   "metadata": {
    "slideshow": {
     "slide_type": "subslide"
    }
   },
   "source": [
    "### Nested Data Structures: Lists of Tuples\n",
    "As part of a rooms database, we can create a list of tuples:"
   ]
  },
  {
   "cell_type": "code",
   "execution_count": 84,
   "metadata": {},
   "outputs": [
    {
     "name": "stdout",
     "output_type": "stream",
     "text": [
      "[('Endo',), ('Philamore', 32), ('Matsuno', 31), ('Sawaragi', 28), ('Okino', 28), ('Kumegawa', 19)]\n"
     ]
    }
   ],
   "source": [
    "room_allocations = [(\"Endo\",), \n",
    "                   (\"Philamore\", 32), \n",
    "                   (\"Matsuno\", 31), \n",
    "                   (\"Sawaragi\", 28), \n",
    "                   (\"Okino\", 28), \n",
    "                   (\"Kumegawa\", 19)]\n",
    "\n",
    "print(room_allocations)"
   ]
  },
  {
   "cell_type": "markdown",
   "metadata": {
    "slideshow": {
     "slide_type": "subslide"
    }
   },
   "source": [
    "__Try it yourself:__ \n",
    "\n",
    "Refer to <a href='#NestedList'>Nested Lists</a> for how to index into *nested* data structures.\n",
    "\n",
    "In the cell below use indexing to print:\n",
    " - Matsuno-sensei's room number\n",
    " - Kumegawa-sensei's room number\n",
    " - The variable type of Kumegawa-sensei's room number"
   ]
  },
  {
   "cell_type": "code",
   "execution_count": 85,
   "metadata": {
    "slideshow": {
     "slide_type": "-"
    }
   },
   "outputs": [
    {
     "name": "stdout",
     "output_type": "stream",
     "text": [
      "31\n",
      "19\n",
      "<class 'int'>\n"
     ]
    }
   ],
   "source": [
    "# Matsuno-sensei's room number\n",
    "print(room_allocations[2][1])\n",
    "# Kumegawa-sensei's room number\n",
    "print(room_allocations[-1][1])\n",
    "\n",
    "# The Python variable type of Kumegawa-sensei's room number\n",
    "print(type(room_allocations[-1][1]))\n"
   ]
  },
  {
   "cell_type": "markdown",
   "metadata": {
    "slideshow": {
     "slide_type": "subslide"
    }
   },
   "source": [
    "### Sorting Tuples\n",
    "To make it easier to look up the office number of each professor, we can __sort__ the list of tuples into an office directory."
   ]
  },
  {
   "cell_type": "markdown",
   "metadata": {
    "slideshow": {
     "slide_type": "subslide"
    }
   },
   "source": [
    "The ordering rule is determined by the __first element__ of each tuple:\n",
    "\n",
    "If the first element of each tuple is a __numeric__ type (`int`, `float`...)\n",
    "<br>the tulpes are sorted by ascending __numerical__ order of the first element:\n",
    "\n",
    "If the first element of each tuple is a __`string`__ (as in this case), \n",
    "<br>the tuples are sorted by alphabetical __order__ of the first element."
   ]
  },
  {
   "cell_type": "markdown",
   "metadata": {
    "slideshow": {
     "slide_type": "subslide"
    }
   },
   "source": [
    "A tuple is sorted using the same method to sort a list.\n",
    "\n",
    "Jump to <a href='#SortLists'>Sorting Lists</a>.\n",
    "\n",
    "__Try it yourself__\n",
    "\n",
    "In the cell provided below, sort the tuple, `room_allocations` by alphabetical order. "
   ]
  },
  {
   "cell_type": "code",
   "execution_count": 86,
   "metadata": {},
   "outputs": [
    {
     "name": "stdout",
     "output_type": "stream",
     "text": [
      "[('Endo',), ('Kumegawa', 19), ('Matsuno', 31), ('Okino', 28), ('Philamore', 32), ('Sawaragi', 28)]\n"
     ]
    }
   ],
   "source": [
    "# room_allocation sorted by alphabetical order\n",
    "room_allocations.sort()\n",
    "print(room_allocations)"
   ]
  },
  {
   "cell_type": "markdown",
   "metadata": {
    "slideshow": {
     "slide_type": "subslide"
    }
   },
   "source": [
    "The office directory can be improved by excluding professors who do not have an office at Yoshida campus:"
   ]
  },
  {
   "cell_type": "code",
   "execution_count": 87,
   "metadata": {},
   "outputs": [
    {
     "name": "stdout",
     "output_type": "stream",
     "text": [
      "Name: Kumegawa, Room: 19\n",
      "Name: Matsuno, Room: 31\n",
      "Name: Okino, Room: 28\n",
      "Name: Philamore, Room: 32\n",
      "Name: Sawaragi, Room: 28\n"
     ]
    }
   ],
   "source": [
    "for entry in room_allocations:\n",
    "    \n",
    "    # only professors with an office have an entry length > 1\n",
    "    if len(entry) > 1:\n",
    "        print(f\"Name: {entry[0]}, Room: {entry[1]}\")"
   ]
  },
  {
   "cell_type": "markdown",
   "metadata": {
    "slideshow": {
     "slide_type": "slide"
    }
   },
   "source": [
    "__Note:__ By prefixing the string you are printing with `f` you can interspace text with variables by placing the variable in { } braces. <br>This is known as a *formatted string* or *\"f-string\"*."
   ]
  },
  {
   "cell_type": "markdown",
   "metadata": {
    "slideshow": {
     "slide_type": "slide"
    }
   },
   "source": [
    "<a id='Dictionaries'></a>\n",
    "## Dictionaries \n",
    "\n",
    "We used a list of tuples in the previous section to store room allocations. \n",
    "\n",
    "What if we wanted to use a program to find which room a particular professor has been allocated?\n",
    "\n"
   ]
  },
  {
   "cell_type": "markdown",
   "metadata": {},
   "source": [
    "Ee would need to either:\n",
    "- iterate through the list and check each name. \n",
    "\n",
    "> For a very large list, this might not be very efficient.\n",
    "\n",
    "- use the index to select a specific entry of a list or tuple. \n",
    "\n",
    "> This works if we know the index to the entry of interest. For a very large list, this is unlikely."
   ]
  },
  {
   "cell_type": "markdown",
   "metadata": {
    "slideshow": {
     "slide_type": "subslide"
    }
   },
   "source": [
    "A human looking would identify individuals in an office directory by name (or \"keyword\") rather than a continuous set of integers. \n",
    "\n",
    "Using a Python __dictionary__ we can build a 'map' from names (*keys*) to room numbers (*values*). "
   ]
  },
  {
   "cell_type": "markdown",
   "metadata": {
    "slideshow": {
     "slide_type": "subslide"
    }
   },
   "source": [
    "<a id='DeclaringDict'></a>\n",
    "A Python dictionary (`dict`) is declared using curly braces:"
   ]
  },
  {
   "cell_type": "code",
   "execution_count": 12,
   "metadata": {},
   "outputs": [
    {
     "name": "stdout",
     "output_type": "stream",
     "text": [
      "{'Endo': None, 'Philamore': 32, 'Matsuno': 31, 'Sawaragi': 28, 'Okino': 28, 'Kumegawa': 19}\n",
      "<class 'dict'>\n"
     ]
    }
   ],
   "source": [
    "empty_dictionary = {}\n",
    "\n",
    "room_allocations = {\"Endo\": None, \n",
    "                   \"Philamore\": 32, \n",
    "                   \"Matsuno\": 31, \n",
    "                   \"Sawaragi\": 28, \n",
    "                   \"Okino\": 28, \n",
    "                   \"Kumegawa\": 19}\n",
    "\n",
    "\n",
    "print(room_allocations)\n",
    "print(type(room_allocations))"
   ]
  },
  {
   "cell_type": "markdown",
   "metadata": {
    "slideshow": {
     "slide_type": "subslide"
    }
   },
   "source": [
    "Each entry is separated by a comma. \n",
    "\n",
    "For each entry we have:\n",
    " - a 'key' (followed by a colon)\n",
    " - a 'value'. \n",
    " \n",
    "\n"
   ]
  },
  {
   "cell_type": "markdown",
   "metadata": {
    "slideshow": {
     "slide_type": "subslide"
    }
   },
   "source": [
    "__Note:__ For empty values (e.g. `Endo` in the example above) we use '`None`' for the value.\n",
    "\n",
    "`None` is a Python keyword for 'nothing' or 'empty'."
   ]
  },
  {
   "cell_type": "markdown",
   "metadata": {
    "slideshow": {
     "slide_type": "subslide"
    }
   },
   "source": [
    "\n",
    "Now if we want to know which office belongs to Philamore-sensei, we can query the dictionary by key:"
   ]
  },
  {
   "cell_type": "code",
   "execution_count": 89,
   "metadata": {},
   "outputs": [
    {
     "name": "stdout",
     "output_type": "stream",
     "text": [
      "32\n"
     ]
    }
   ],
   "source": [
    "philamore_office = room_allocations[\"Philamore\"]\n",
    "print(philamore_office)"
   ]
  },
  {
   "cell_type": "markdown",
   "metadata": {
    "slideshow": {
     "slide_type": "subslide"
    }
   },
   "source": [
    "### Iterating over Dictionaries\n",
    "\n",
    "We can __*iterate*__ over the keys in a dictionary as we iterated over the elements of a list or tuple:\n",
    "\n",
    "__Try it yourself:__\n",
    "<br>\n",
    "Refer back to:\n",
    " - <a href='#IteratingLists'>Iterating Over Lists</a>\n",
    " - <a href='#IteratingTuples'>Iterating Over Tuples</a>\n",
    "<br>to remind yourself how to *iterate* over a data structure.\n",
    "\n",
    "<br>\n",
    "Using __exactly the same method__, iterate over the entries in the dictionary `room allocations` using a `for` loop.\n",
    "<br>\n",
    "Each time the code loops, print the next dictionary entry. "
   ]
  },
  {
   "cell_type": "code",
   "execution_count": 90,
   "metadata": {},
   "outputs": [
    {
     "name": "stdout",
     "output_type": "stream",
     "text": [
      "Name: Endo, Room: None\n",
      "Name: Philamore, Room: 32\n",
      "Name: Matsuno, Room: 31\n",
      "Name: Sawaragi, Room: 28\n",
      "Name: Okino, Room: 28\n",
      "Name: Kumegawa, Room: 19\n"
     ]
    }
   ],
   "source": [
    "# iterate over the dictionary, room_allocations.\n",
    "for d in room_allocations:\n",
    "    print(f\"Name: {d}, Room: {room_allocations[d]}\")\n",
    "# print each entry\n"
   ]
  },
  {
   "cell_type": "markdown",
   "metadata": {
    "slideshow": {
     "slide_type": "subslide"
    }
   },
   "source": [
    "Notice that this only prints the keys.\n",
    "\n",
    "We can access `keys` and `values` seperately by:\n",
    " - creating two variable names before `in` \n",
    " - putting `items()` after the dictionary name"
   ]
  },
  {
   "cell_type": "code",
   "execution_count": 91,
   "metadata": {
    "slideshow": {
     "slide_type": "subslide"
    }
   },
   "outputs": [
    {
     "name": "stdout",
     "output_type": "stream",
     "text": [
      "Endo None\n",
      "Philamore 32\n",
      "Matsuno 31\n",
      "Sawaragi 28\n",
      "Okino 28\n",
      "Kumegawa 19\n"
     ]
    }
   ],
   "source": [
    "for name, room_number in room_allocations.items():\n",
    "    print(name, room_number)    "
   ]
  },
  {
   "cell_type": "markdown",
   "metadata": {
    "slideshow": {
     "slide_type": "subslide"
    }
   },
   "source": [
    "__Try it yourself__<br>\n",
    "Copy and paste the code from the previous cell.\n",
    "<br>\n",
    "Edit it so that it prints the room numbers only. \n",
    "\n",
    "Remember you can __\"comment out\"__ the existing code (instead of deleting it) so that you can refer to it later.\n",
    "e.g.\n",
    "```python\n",
    "#print(name, room_number)\n",
    "```\n"
   ]
  },
  {
   "cell_type": "code",
   "execution_count": 92,
   "metadata": {},
   "outputs": [
    {
     "name": "stdout",
     "output_type": "stream",
     "text": [
      "None\n",
      "32\n",
      "31\n",
      "28\n",
      "28\n",
      "19\n"
     ]
    }
   ],
   "source": [
    "# Iterate over the dictionary, room_allocations.\n",
    "for d in room_allocations:\n",
    "    print(room_allocations[d])\n",
    "# Print each room number."
   ]
  },
  {
   "cell_type": "markdown",
   "metadata": {
    "slideshow": {
     "slide_type": "subslide"
    }
   },
   "source": [
    "### Look-up Keys\n",
    "\n",
    "A dictionary stores data differently from a list or tuple. \n",
    "\n",
    "Lists and tuples store entries as continuous pieces of memory, which is why we can access entries by index. \n",
    "\n",
    "Indexing cannot be used to access the entries of a dictionary. For example:\n",
    "```python\n",
    "print(room_allocations[0])\n",
    "```\n",
    "raises an error. "
   ]
  },
  {
   "cell_type": "markdown",
   "metadata": {
    "slideshow": {
     "slide_type": "subslide"
    }
   },
   "source": [
    "Dictionaries use a different type of storage which allows us to perform look-ups using a 'key'."
   ]
  },
  {
   "cell_type": "code",
   "execution_count": 93,
   "metadata": {
    "slideshow": {
     "slide_type": "-"
    }
   },
   "outputs": [
    {
     "name": "stdout",
     "output_type": "stream",
     "text": [
      "32\n"
     ]
    }
   ],
   "source": [
    "print(room_allocations[\"Philamore\"])"
   ]
  },
  {
   "cell_type": "markdown",
   "metadata": {
    "slideshow": {
     "slide_type": "subslide"
    }
   },
   "source": [
    "<a id='DictionaryAdd'></a>\n",
    "### Adding Entries to a Dictionary\n",
    "\n",
    "We use this same code to add new entries to an existing dictionary:  "
   ]
  },
  {
   "cell_type": "code",
   "execution_count": 94,
   "metadata": {},
   "outputs": [
    {
     "name": "stdout",
     "output_type": "stream",
     "text": [
      "{'Endo': None, 'Philamore': 32, 'Matsuno': 31, 'Sawaragi': 28, 'Okino': 28, 'Kumegawa': 19}\n",
      "{'Endo': None, 'Philamore': 32, 'Matsuno': 31, 'Sawaragi': 28, 'Okino': 28, 'Kumegawa': 19, 'Fujiwara': 34}\n"
     ]
    }
   ],
   "source": [
    "print(room_allocations)\n",
    "\n",
    "room_allocations[\"Fujiwara\"] = 34\n",
    "\n",
    "print(room_allocations)"
   ]
  },
  {
   "cell_type": "markdown",
   "metadata": {
    "slideshow": {
     "slide_type": "subslide"
    }
   },
   "source": [
    "<a id='DictionaryRemove'></a>\n",
    "### Removing Entries from a Dictionary\n",
    "\n",
    "To remove an item from a disctionary we use the command `del`."
   ]
  },
  {
   "cell_type": "code",
   "execution_count": 95,
   "metadata": {},
   "outputs": [
    {
     "name": "stdout",
     "output_type": "stream",
     "text": [
      "{'Endo': None, 'Philamore': 32, 'Matsuno': 31, 'Sawaragi': 28, 'Okino': 28, 'Kumegawa': 19, 'Fujiwara': 34}\n",
      "{'Endo': None, 'Philamore': 32, 'Matsuno': 31, 'Sawaragi': 28, 'Okino': 28, 'Kumegawa': 19}\n"
     ]
    }
   ],
   "source": [
    "print(room_allocations)\n",
    "\n",
    "del room_allocations[\"Fujiwara\"]\n",
    "\n",
    "print(room_allocations)"
   ]
  },
  {
   "cell_type": "markdown",
   "metadata": {
    "slideshow": {
     "slide_type": "subslide"
    }
   },
   "source": [
    "__Try it yourself__\n",
    "<br>\n",
    "Okino-sensei is leaving Kyoto University. \n",
    "\n",
    "Her office will be re-allocated to a new member of staff, Ito-sensei.\n",
    "\n",
    "In the cell below, update the dictionary by deleting the entry for Okino-sensei and creating a new entry for Ito-sensei.\n",
    "\n",
    "Print the new dictionary."
   ]
  },
  {
   "cell_type": "code",
   "execution_count": 96,
   "metadata": {},
   "outputs": [
    {
     "name": "stdout",
     "output_type": "stream",
     "text": [
      "{'Endo': None, 'Philamore': 32, 'Matsuno': 31, 'Sawaragi': 28, 'Kumegawa': 19, 'Ito': 28}\n"
     ]
    }
   ],
   "source": [
    "# Remove Okino-sensei (room 28) from the dictionary.\n",
    "del room_allocations[\"Okino\"]\n",
    "# Add a new entry for Ito-sensei (room 28)\n",
    "room_allocations[\"Ito\"]=28\n",
    "print(room_allocations)"
   ]
  },
  {
   "cell_type": "markdown",
   "metadata": {
    "slideshow": {
     "slide_type": "subslide"
    }
   },
   "source": [
    "So far we have used a string variable types for the dictionary keys.\n",
    "\n",
    "However, we can use almost any variable type as a key and we can mix types. \n",
    "\n"
   ]
  },
  {
   "cell_type": "markdown",
   "metadata": {
    "slideshow": {
     "slide_type": "subslide"
    }
   },
   "source": [
    "### Sorting Dictionaries\n",
    "\n",
    "A tuple is sorted using the same method to sort a list. \n",
    "\n",
    "Jump to <a href='#SortLists'>Sorting Lists</a>."
   ]
  },
  {
   "cell_type": "code",
   "execution_count": 97,
   "metadata": {
    "slideshow": {
     "slide_type": "subslide"
    }
   },
   "outputs": [
    {
     "name": "stdout",
     "output_type": "stream",
     "text": [
      "{'Endo': None, 'Philamore': 32, 'Matsuno': 31, 'Sawaragi': 28, 'Kumegawa': 19, 'Ito': 28}\n",
      "['Endo', 'Ito', 'Kumegawa', 'Matsuno', 'Philamore', 'Sawaragi']\n",
      "['Endo', 'Ito', 'Kumegawa', 'Matsuno', 'Philamore', 'Sawaragi']\n"
     ]
    },
    {
     "ename": "TypeError",
     "evalue": "'<' not supported between instances of 'int' and 'NoneType'",
     "output_type": "error",
     "traceback": [
      "\u001b[0;31m---------------------------------------------------------------------------\u001b[0m",
      "\u001b[0;31mTypeError\u001b[0m                                 Traceback (most recent call last)",
      "\u001b[0;32m<ipython-input-97-76f5d2a840f9>\u001b[0m in \u001b[0;36m<module>\u001b[0;34m()\u001b[0m\n\u001b[1;32m      9\u001b[0m \u001b[0;34m\u001b[0m\u001b[0m\n\u001b[1;32m     10\u001b[0m \u001b[0;31m# So to sort by value:\u001b[0m\u001b[0;34m\u001b[0m\u001b[0;34m\u001b[0m\u001b[0m\n\u001b[0;32m---> 11\u001b[0;31m \u001b[0mprint\u001b[0m\u001b[0;34m(\u001b[0m\u001b[0msorted\u001b[0m\u001b[0;34m(\u001b[0m\u001b[0mroom_allocations\u001b[0m\u001b[0;34m.\u001b[0m\u001b[0mvalues\u001b[0m\u001b[0;34m(\u001b[0m\u001b[0;34m)\u001b[0m\u001b[0;34m)\u001b[0m\u001b[0;34m)\u001b[0m\u001b[0;34m\u001b[0m\u001b[0m\n\u001b[0m",
      "\u001b[0;31mTypeError\u001b[0m: '<' not supported between instances of 'int' and 'NoneType'"
     ]
    }
   ],
   "source": [
    "room_allocations[\"Endo\"]\n",
    "print(room_allocations)\n",
    "             \n",
    "# By default, the entries are sorted by key \n",
    "print(sorted(room_allocations))\n",
    "\n",
    "# This is the same as:\n",
    "print(sorted(room_allocations.keys()))\n",
    "      \n",
    "# So to sort by value:\n",
    "print(sorted(room_allocations.values()))"
   ]
  },
  {
   "cell_type": "markdown",
   "metadata": {
    "slideshow": {
     "slide_type": "subslide"
    }
   },
   "source": [
    "__Note:__ The value `None` cannot be sorted. "
   ]
  },
  {
   "cell_type": "markdown",
   "metadata": {
    "slideshow": {
     "slide_type": "subslide"
    }
   },
   "source": [
    "This is where a __comprehension__ can be useful.\n",
    "\n",
    "Let's produce a dictionary of the professors with offices only."
   ]
  },
  {
   "cell_type": "code",
   "execution_count": null,
   "metadata": {
    "collapsed": true
   },
   "outputs": [],
   "source": [
    "occupied_rooms = {key: val for key, val in room_allocations.items() if val}\n",
    "\n",
    "print(sorted(occupied_rooms.values()))\n",
    "print(occupied_rooms)"
   ]
  },
  {
   "cell_type": "markdown",
   "metadata": {},
   "source": [
    "\n",
    "\n",
    "room_number: name for name, room_number in room_allocation.items()\n",
    "\n",
    "#### Interpreting the comprehension:\n",
    "\n",
    "\"<font color='purple'>key: val</font> for <font color='green'>key</font>, <font color='blue'>val</font> in room_allocations.items() if <font color='red'>val</font>\"\n",
    "\n",
    "means:\n",
    "<font color='red'>If the dictionary entry has a value (val)</font>, create an <font color='purple'>entry</font> in the new list using its:\n",
    "<br><font color='green'>key</font>\n",
    "<br><font color='blue'>value</font>\n",
    " "
   ]
  },
  {
   "cell_type": "markdown",
   "metadata": {
    "slideshow": {
     "slide_type": "subslide"
    }
   },
   "source": [
    "<a id='DictionaryRestructure'></a>\n",
    "### Re-structuring to make a new Dictionary\n",
    "__Example__: We could 'invert' the room allocation dictionary to create a room-to-name map.\n",
    "\n",
    "Let's build a new dictionary (`room_map`) by looping through the old dictionary (`room_allocation`) using a `for` loop:"
   ]
  },
  {
   "cell_type": "code",
   "execution_count": 101,
   "metadata": {
    "slideshow": {
     "slide_type": "subslide"
    }
   },
   "outputs": [
    {
     "name": "stdout",
     "output_type": "stream",
     "text": [
      "{None: 'Endo', 32: 'Philamore', 31: 'Matsuno', 28: 'Ito', 19: 'Kumegawa'}\n"
     ]
    }
   ],
   "source": [
    "# Create empty dictionary\n",
    "room_map = {}\n",
    "\n",
    "# Build dictionary to map 'room number' -> name \n",
    "for name, room_number in room_allocations.items():\n",
    "    \n",
    "    # Insert entry into new dictionary\n",
    "    room_map[room_number] = name\n",
    "\n",
    "print(room_map)"
   ]
  },
  {
   "cell_type": "markdown",
   "metadata": {
    "slideshow": {
     "slide_type": "subslide"
    }
   },
   "source": [
    "A more efficient way is to use a comprehension to do this:"
   ]
  },
  {
   "cell_type": "code",
   "execution_count": 106,
   "metadata": {},
   "outputs": [
    {
     "name": "stdout",
     "output_type": "stream",
     "text": [
      "{32: 'Philamore', 31: 'Matsuno', 28: 'Ito', 19: 'Kumegawa'}\n"
     ]
    }
   ],
   "source": [
    "room_map = {room_number: name for name, room_number in room_allocations.items() if room_number!=None}\n",
    "print(room_map)"
   ]
  },
  {
   "cell_type": "markdown",
   "metadata": {
    "slideshow": {
     "slide_type": "subslide"
    }
   },
   "source": [
    "We can now consult the room-to-name map to find out if a particular room is occupied and by whom.\n",
    "\n",
    "Let's assume some rooms are unoccupied and therefore do not exist in this dictionary.\n",
    "\n",
    "\n"
   ]
  },
  {
   "cell_type": "markdown",
   "metadata": {
    "slideshow": {
     "slide_type": "subslide"
    }
   },
   "source": [
    "If we try to use a key that does not exist in the dictionary, e.g.\n",
    "\n",
    "> `occupant17 = room_map[17]`\n",
    "\n",
    "Python will give an error (raise an exception). \n",
    "\n",
    "\n"
   ]
  },
  {
   "cell_type": "markdown",
   "metadata": {
    "slideshow": {
     "slide_type": "subslide"
    }
   },
   "source": [
    "If we're not sure that a __key__ is present (that a room is occupied or unocupied in this case), we can check using the function in '`in`'. \n",
    "<br>(We used this function to check wether an entry exists in a __list__.)"
   ]
  },
  {
   "cell_type": "code",
   "execution_count": 107,
   "metadata": {
    "slideshow": {
     "slide_type": "-"
    }
   },
   "outputs": [
    {
     "name": "stdout",
     "output_type": "stream",
     "text": [
      "True\n",
      "False\n"
     ]
    }
   ],
   "source": [
    "print(19 in room_map)\n",
    "print(17 in room_map)"
   ]
  },
  {
   "cell_type": "markdown",
   "metadata": {},
   "source": [
    "So we know that:\n",
    " - room 19 is occupied\n",
    " - room 17 is unoccupied\n",
    "\n"
   ]
  },
  {
   "cell_type": "markdown",
   "metadata": {
    "slideshow": {
     "slide_type": "subslide"
    }
   },
   "source": [
    "The same result can be acheieved using:"
   ]
  },
  {
   "cell_type": "code",
   "execution_count": 108,
   "metadata": {
    "slideshow": {
     "slide_type": "-"
    }
   },
   "outputs": [
    {
     "name": "stdout",
     "output_type": "stream",
     "text": [
      "True\n",
      "False\n"
     ]
    }
   ],
   "source": [
    "print(19 in room_map.keys())\n",
    "print(17 in room_map.keys())"
   ]
  },
  {
   "cell_type": "markdown",
   "metadata": {
    "slideshow": {
     "slide_type": "subslide"
    }
   },
   "source": [
    "When using `in`, take care to check for the __key__ (not the value)"
   ]
  },
  {
   "cell_type": "code",
   "execution_count": 109,
   "metadata": {},
   "outputs": [
    {
     "name": "stdout",
     "output_type": "stream",
     "text": [
      "False\n"
     ]
    }
   ],
   "source": [
    "print('Kumegawa' in room_map)"
   ]
  },
  {
   "cell_type": "markdown",
   "metadata": {
    "slideshow": {
     "slide_type": "subslide"
    }
   },
   "source": [
    "If we instead need to check that a __value__ is present:"
   ]
  },
  {
   "cell_type": "code",
   "execution_count": 110,
   "metadata": {},
   "outputs": [
    {
     "name": "stdout",
     "output_type": "stream",
     "text": [
      "True\n"
     ]
    }
   ],
   "source": [
    "print('Kumegawa' in room_map.values())"
   ]
  },
  {
   "cell_type": "markdown",
   "metadata": {
    "slideshow": {
     "slide_type": "subslide"
    }
   },
   "source": [
    "#### Avoiding Errors \n",
    "\n",
    "It can be useful to check if a variable exists.\n",
    "\n",
    "If your program tries to use a variable that does not exist, errors can occur. \n",
    "\n"
   ]
  },
  {
   "cell_type": "markdown",
   "metadata": {
    "slideshow": {
     "slide_type": "subslide"
    }
   },
   "source": [
    "An example check is shown below.\n",
    "\n",
    "After the `if` statement we can include code that is only to be executed if the room is occupied. "
   ]
  },
  {
   "cell_type": "code",
   "execution_count": 111,
   "metadata": {},
   "outputs": [
    {
     "name": "stdout",
     "output_type": "stream",
     "text": [
      "Room 17 is unoccupied.\n",
      "Room 19 is occupied by Kumegawa-sensei\n"
     ]
    }
   ],
   "source": [
    "rooms_to_check = [17, 19]\n",
    "\n",
    "for room in rooms_to_check:\n",
    "    \n",
    "    if room in room_map:\n",
    "        print(f\"Room {room} is occupied by {room_map[room]}-sensei\")\n",
    "    \n",
    "    else:\n",
    "        print(f\"Room {room} is unoccupied.\")"
   ]
  },
  {
   "cell_type": "markdown",
   "metadata": {
    "slideshow": {
     "slide_type": "slide"
    }
   },
   "source": [
    "## Choosing a data structure\n",
    "\n",
    "An important task when developing a computer program is selecting the *appropriate* data structure for a task.\n",
    "\n",
    "Here are some examples of the suitablity of the data types we have studied for some common computing tasks.\n"
   ]
  },
  {
   "cell_type": "markdown",
   "metadata": {
    "slideshow": {
     "slide_type": "subslide"
    }
   },
   "source": [
    "- __Dynamically changing individual elements of a data structure.__ \n",
    "\n",
    "e.g. updating the occupant of a room number or adding a name to a list of group members.\n",
    "\n",
    "__Lists and dictionaries__ allow us to do this.<br> \n",
    "__Tuples__ do not."
   ]
  },
  {
   "cell_type": "markdown",
   "metadata": {
    "slideshow": {
     "slide_type": "subslide"
    }
   },
   "source": [
    "- __Performing an operation on every item in a sequence.__ \n",
    "\n",
    "e.g. checking every item in a data set against a particular condition (e.g. prime number, multiple of 5....etc), performing an algebraic operation on every item in a data set. \n",
    "\n",
    "__Lists and tuples__ make this simple as we can call each entry in turn using its index.\n",
    "<br> \n",
    "__Dictionaries__ this is less efficient as it requires more code."
   ]
  },
  {
   "cell_type": "markdown",
   "metadata": {
    "slideshow": {
     "slide_type": "subslide"
    }
   },
   "source": [
    "- __Selecting a single item from a data structure without knowing its position in a sequence.__  \n",
    "\n",
    "e.g. looking up the profile of a person using their name, avoiding looping through a large data set in order to identify a single entry. \n",
    "\n",
    "__Dictionaries__ allow us to select a single entry by an associated (unique) key variable.\n",
    "<br> \n",
    "__Lists and tuples__ make this difficult as to pick out a single value we must either i) know it's position in an ordered sequence, ii) loop through every item until we find it."
   ]
  },
  {
   "cell_type": "markdown",
   "metadata": {
    "slideshow": {
     "slide_type": "subslide"
    }
   },
   "source": [
    "\n",
    "- __Protecting individual items of a data sequence from being added, removed or changed within the program.__\n",
    "\n",
    "e.g. representing a vector of fixed length with fixed values, representing the coordintes of a fixed point. \n",
    "\n",
    "__Tuples__ allow us to do this.\n",
    "<br> \n",
    "__Lists and dictionaries__ do not."
   ]
  },
  {
   "cell_type": "markdown",
   "metadata": {
    "slideshow": {
     "slide_type": "subslide"
    }
   },
   "source": [
    "- __Speed__\n",
    "\n",
    "For many numerical computations, efficiency is essential. \n",
    "\n",
    "More flexible data structures:\n",
    "- are generally less efficient computationally. \n",
    "- require more computer memory. \n",
    "\n",
    "We will study the difference in speed there can be between different data structures in a later seminar."
   ]
  },
  {
   "cell_type": "markdown",
   "metadata": {
    "slideshow": {
     "slide_type": "subslide"
    }
   },
   "source": [
    "- __Storing items in a particular sequence (so that they can be addressed by index or in a particular order)__.\n",
    "\n",
    "e.g. representing the x, y, z coordinates of a 3D position vector, storing data collected from an experiment as a time series. \n",
    "\n",
    "__Lists and tuples__ allow us to do this.\n",
    "<br> \n",
    "__Dictionaries__ do not."
   ]
  },
  {
   "cell_type": "markdown",
   "metadata": {
    "slideshow": {
     "slide_type": "slide"
    }
   },
   "source": [
    "## Review Exercises\n",
    "Here are a series of engineering problems for you to practise each of the new Python skills that you have learnt today."
   ]
  },
  {
   "cell_type": "markdown",
   "metadata": {},
   "source": [
    "### Review Exercise:  Data structures.\n",
    "\n",
    "__(A)__ In the cell below, what type of data structure is C?\n",
    "\n",
    "__(B)__ Write a line of code that checks whether 3 exists within the data structure.\n",
    "\n",
    "__(C)__ Write a line of code that checks whether 3.0 exists within the data structure.\n",
    "\n",
    "__(D)__ Write a line of code that checks whether \"3\" exists within the data structure.\n"
   ]
  },
  {
   "cell_type": "code",
   "execution_count": 113,
   "metadata": {
    "collapsed": true
   },
   "outputs": [],
   "source": [
    "C = (2, 3, 5, 6, 1, \"hello\")"
   ]
  },
  {
   "cell_type": "code",
   "execution_count": 114,
   "metadata": {},
   "outputs": [
    {
     "name": "stdout",
     "output_type": "stream",
     "text": [
      "<class 'tuple'>\n",
      "True\n",
      "True\n",
      "False\n"
     ]
    }
   ],
   "source": [
    "# Example solution \n",
    "\n",
    "print(type(C))\n",
    "\n",
    "print(3 in C)\n",
    "\n",
    "print(3.0 in C)\n",
    "\n",
    "print(\"3\" in C)"
   ]
  },
  {
   "cell_type": "markdown",
   "metadata": {},
   "source": [
    "### Review Exercise:  Using a single list with a `for` loop.\n",
    "In the cell below, use a `for` loop to print the first letter of each month in the list.\n",
    "\n",
    "Jump to <a href='#Indexing'>Indexing</a> for how to pick out individual letters of a string.\n",
    "\n",
    "Jump to <a href='#IteratingLists'>Iterating over lists</a> for how to loop through each element of a list.\n",
    "\n"
   ]
  },
  {
   "cell_type": "code",
   "execution_count": 118,
   "metadata": {},
   "outputs": [
    {
     "name": "stdout",
     "output_type": "stream",
     "text": [
      "J\n",
      "F\n",
      "M\n",
      "A\n",
      "M\n",
      "J\n",
      "J\n",
      "A\n",
      "S\n",
      "O\n",
      "N\n",
      "D\n"
     ]
    }
   ],
   "source": [
    "# Print the first letter of each month in the list\n",
    "\n",
    "months = [\"January\",\n",
    "         \"February\",\n",
    "         \"March\",\n",
    "         \"April\",\n",
    "         \"May\",\n",
    "         \"June\",\n",
    "         \"July\",\n",
    "         \"August\",\n",
    "         \"September\",\n",
    "         \"October\",\n",
    "         \"November\",\n",
    "         \"December\"]\n",
    "for m in months:\n",
    "    print(m[0])"
   ]
  },
  {
   "cell_type": "code",
   "execution_count": null,
   "metadata": {
    "collapsed": true
   },
   "outputs": [],
   "source": [
    "# Example solution \n",
    "\n",
    "months = [\"January\", \"February\",\n",
    "         \"March\", \"April\",\n",
    "         \"May\", \"June\",\n",
    "         \"July\", \"August\",\n",
    "         \"September\", \"October\",\n",
    "         \"November\", \"December\"]\n",
    "\n",
    "for m in months:\n",
    "    print(m[0])"
   ]
  },
  {
   "cell_type": "markdown",
   "metadata": {},
   "source": [
    "### Review Exercise:  Using multiple lists with a `for` loop - Indexing or iterating.\n",
    "\n",
    "In the cell below:\n",
    "\n",
    "- Create a list with the names of the months. \n",
    "<br>\n",
    "- Create a second list with the number of days in each month (for a regular year). \n",
    "<br>\n",
    "- Create a `for` loop that prints:\n",
    "\n",
    "`The number of days in MONTH is XX days`\n",
    "\n",
    "where, `MONTH` is the name of the month and `XX` is the correct number of days in that month.\n",
    "\n",
    "Hint: Refer to <a href='#DotProductLists'>Indexing Example: The dot product of two vectors</a> for how to use two lists in a loop.\n"
   ]
  },
  {
   "cell_type": "code",
   "execution_count": 119,
   "metadata": {},
   "outputs": [
    {
     "name": "stdout",
     "output_type": "stream",
     "text": [
      "The number of days in January is 31 days\n",
      "The number of days in February is 28 days\n",
      "The number of days in March is 31 days\n",
      "The number of days in April is 30 days\n",
      "The number of days in May is 31 days\n",
      "The number of days in June is 30 days\n",
      "The number of days in July is 31 days\n",
      "The number of days in August is 31 days\n",
      "The number of days in September is 30 days\n",
      "The number of days in October is 31 days\n",
      "The number of days in November is 30 days\n",
      "The number of days in December is 31 days\n"
     ]
    }
   ],
   "source": [
    "# A for loop to print the number of days in each month\n",
    "months = [\"January\",\n",
    "         \"February\",\n",
    "         \"March\",\n",
    "         \"April\",\n",
    "         \"May\",\n",
    "         \"June\",\n",
    "         \"July\",\n",
    "         \"August\",\n",
    "         \"September\",\n",
    "         \"October\",\n",
    "         \"November\",\n",
    "         \"December\"]\n",
    "\n",
    "days= [31, 28, 31, 30, 31, 30, 31, 31, 30, 31, 30, 31]\n",
    "\n",
    "for d,m in zip(days,months):\n",
    "    print(f\"The number of days in {m} is {d} days\")"
   ]
  },
  {
   "cell_type": "code",
   "execution_count": 120,
   "metadata": {},
   "outputs": [
    {
     "name": "stdout",
     "output_type": "stream",
     "text": [
      "The number of days in January is 31\n",
      "The number of days in February is 28\n",
      "The number of days in March is 31\n",
      "The number of days in April is 30\n",
      "The number of days in May is 31\n",
      "The number of days in June is 30\n",
      "The number of days in July is 31\n",
      "The number of days in August is 31\n",
      "The number of days in September is 30\n",
      "The number of days in October is 31\n",
      "The number of days in November is 30\n",
      "The number of days in December is 31\n"
     ]
    }
   ],
   "source": [
    "# Example solution \n",
    "\n",
    "months = [\"January\",\n",
    "         \"February\",\n",
    "         \"March\",\n",
    "         \"April\",\n",
    "         \"May\",\n",
    "         \"June\",\n",
    "         \"July\",\n",
    "         \"August\",\n",
    "         \"September\",\n",
    "         \"October\",\n",
    "         \"November\",\n",
    "         \"December\"]\n",
    "\n",
    "days= [31, 28, 31, 30, 31, 30, 31, 31, 30, 31, 30, 31]\n",
    "\n",
    "# Iterating (using zip)\n",
    "for m, d in zip(months, days): \n",
    "    print(f\"The number of days in {m} is {d}\")\n",
    "\n",
    "# # Indexing (without using zip)\n",
    "# for i in range(12):\n",
    "#     print(f\"The number of days in {months[i]} is {days[i]}\")"
   ]
  },
  {
   "cell_type": "markdown",
   "metadata": {},
   "source": [
    "### Review Exercise: More Indexing or iterating.\n",
    "\n",
    "__(A)__ In the cell below write a program that adds two vectors, $\\mathbf{A}$ and $\\mathbf{B}$, expressed as lists \n",
    "<br> \n",
    "\n",
    "$\\mathbf{A} = [-2, 1, 3]$\n",
    "\n",
    "$\\mathbf{B} = [6, 2, 2]$\n",
    "\n",
    " $ \\mathbf{C} = [C_1, \n",
    "                 C_2, ...\n",
    "                 C_n] = \\mathbf{A} + \\mathbf{B} = [(A_1 + B_1), \n",
    "                                                           (A_2 + B_2), ... \n",
    "                                                           (A_n + B_n)]$\n",
    "\n",
    "__Hints:__ \n",
    "- Refer to <a href='#DotProductLists'>Indexing Example: The dot product of two vectors</a> for how to use two vectors in a loop. \n",
    "- Start by creating an empty list, `C = []`. \n",
    "<br>Add an element to the list each time the code loops using the method `C.append()`\n",
    "<br><a href='#Append'>Jump to Adding an Item to a List</a>\n",
    " \n",
    "<br>\n",
    "__(B)__ To add two vectors, the number of elements in each vectors must be equal. \n",
    "<br>Use the function `len()` to print the length of $\\mathbf{A}$ and the length of $\\mathbf{B}$ before adding the two vectors.\n",
    "<br><a href='#Length'>Jump to Finding the Length of a List</a>\n",
    "\n",
    "<br>\n",
    "__(C)__ Use `if` and `else` statements (Seminar 2) to:\n",
    "- add the two vectors __only__ if the length of $\\mathbf{A}$ and the length of $\\mathbf{B}$ are equal.\n",
    "- otherwise print a message  (e.g. \"`unequal vector lengths!`\") \n",
    "\n",
    "Hint: Use a logical operator (`==`, `<`, `>`....) to compare the lengths of $\\mathbf{A}$ and $\\mathbf{B}$. <br>Refer to __Logical Operators__ (Seminar 2). \n",
    "\n",
    "<br>\n",
    "__(D)__ Check your code works by using it to try and add two vectors with:\n",
    "<br>i) the same number of elements in each vector\n",
    "<br>ii) a different number of elements in each vector"
   ]
  },
  {
   "cell_type": "code",
   "execution_count": 130,
   "metadata": {},
   "outputs": [
    {
     "name": "stdout",
     "output_type": "stream",
     "text": [
      "3\n",
      "3\n",
      "[4, 3, 5]\n"
     ]
    }
   ],
   "source": [
    "# Vector addition program with length check.\n",
    "A=[-2,1,3]\n",
    "B = [6, 2, 2]\n",
    "print(len(A))\n",
    "print(len(B))\n",
    "if len(A)==len(B):\n",
    "    C=[a+b for a,b in zip(A,B)]\n",
    "    print(C)\n",
    "else:\n",
    "    print(\"error\")\n"
   ]
  },
  {
   "cell_type": "code",
   "execution_count": 128,
   "metadata": {},
   "outputs": [
    {
     "name": "stdout",
     "output_type": "stream",
     "text": [
      "3\n",
      "3\n",
      "[-12, 2, 6]\n"
     ]
    }
   ],
   "source": [
    "# Example solution \n",
    "\n",
    "A = [-2, 1, 3]\n",
    "\n",
    "B = [6, 2, 2]\n",
    "\n",
    "print(len(A))\n",
    "print(len(B))\n",
    "\n",
    "if (len(A) == len(B)):\n",
    "\n",
    "    C = []\n",
    "    \n",
    "    # Iterating (using zip) \n",
    "    for a, b in zip(A, B):\n",
    "        C.append(a * b)\n",
    "      \n",
    "    # Indexing (without using zip)\n",
    "#     for i in range(len(A)):\n",
    "#         C.append(A[i] + B[i])\n",
    "\n",
    "    print(C)\n",
    "\n",
    "else:\n",
    "    print(\"unequal vector length!\")"
   ]
  },
  {
   "cell_type": "markdown",
   "metadata": {},
   "source": [
    "### Review Exercise: `if`, `elif` and `else` statements with a `for` loop\n",
    "In the cell below, create a `for` loop to iterate over each name in the list of months. \n",
    "\n",
    "Within the `for` loop, use `if`, `elif` and `else` statements to do the following for each month in the list:\n",
    "- print `month_name begins with M` if the name starts with the letter M. \n",
    "- print `month_name begins with J` if the name starts with the letter J. \n",
    "- print `month_name does not begin with M or J` if the name starts with a letter other than M or J. \n",
    "(In each case replace '`month_name`' with the actual month name)"
   ]
  },
  {
   "cell_type": "code",
   "execution_count": 131,
   "metadata": {},
   "outputs": [
    {
     "name": "stdout",
     "output_type": "stream",
     "text": [
      "January begins with J\n",
      "February does not begin with M or J\n",
      "March begins with M\n",
      "April does not begin with M or J\n",
      "May begins with M\n",
      "June begins with J\n",
      "July begins with J\n",
      "August does not begin with M or J\n",
      "September does not begin with M or J\n",
      "October does not begin with M or J\n",
      "November does not begin with M or J\n",
      "December does not begin with M or J\n"
     ]
    }
   ],
   "source": [
    "# Use if, elif and else within a for loop\n",
    "\n",
    "months = [\"January\",\n",
    "         \"February\",\n",
    "         \"March\",\n",
    "         \"April\",\n",
    "         \"May\",\n",
    "         \"June\",\n",
    "         \"July\",\n",
    "         \"August\",\n",
    "         \"September\",\n",
    "         \"October\",\n",
    "         \"November\",\n",
    "         \"December\"]\n",
    "for m in months:\n",
    "    if(m[0]=='M'):\n",
    "        print(f\"{m} begins with M\")\n",
    "    elif(m[0]=='J'):\n",
    "        print(f\"{m} begins with J\")\n",
    "    else:\n",
    "        print(f\"{m} does not begin with M or J\")\n",
    "\n"
   ]
  },
  {
   "cell_type": "code",
   "execution_count": null,
   "metadata": {
    "collapsed": true
   },
   "outputs": [],
   "source": [
    "# Example solution \n",
    "\n",
    "months = [\"January\",\n",
    "         \"February\",\n",
    "         \"March\",\n",
    "         \"April\",\n",
    "         \"May\",\n",
    "         \"June\",\n",
    "         \"July\",\n",
    "         \"August\",\n",
    "         \"September\",\n",
    "         \"October\",\n",
    "         \"November\",\n",
    "         \"December\"]\n",
    "\n",
    "for m in months:\n",
    "    if m[0]=='M':\n",
    "        print(f'{m} begins with M')\n",
    "        \n",
    "    elif m[0]=='J':\n",
    "        print(f'{m} begins with J')\n",
    "        \n",
    "    else:\n",
    "        print(f'{m} does not begin with M or J')"
   ]
  },
  {
   "cell_type": "markdown",
   "metadata": {},
   "source": [
    "### Review Exercise: `if` and `else` statements\n",
    "\n",
    "Copy and paste the program you wrote earlier to <a href='#DotProductLists'>find the dot product of two vectors</a>  into the cell below.\n",
    "\n",
    "Within the loop use `if`, `elif` and else `else` to make the program print:\n",
    " - \"`The angle between vectors is acute`\" if the dot product is positive.\n",
    " - \"`The angle between vectors is obtuse`\" if the dot product is negative.\n",
    " - \"`The vectors are perpendicular`\" if the dot product is 0."
   ]
  },
  {
   "cell_type": "code",
   "execution_count": null,
   "metadata": {
    "collapsed": true
   },
   "outputs": [],
   "source": [
    "# Determinig angle types using the dot product."
   ]
  },
  {
   "cell_type": "code",
   "execution_count": null,
   "metadata": {
    "collapsed": true
   },
   "outputs": [],
   "source": [
    "# Example solution \n",
    "\n",
    "A = [1.0, 3.0, -5.0]\n",
    "B = [4.0, -2.0, -1.0]\n",
    "\n",
    "# Create a variable called dot_product with value, 0.\n",
    "dot_product = 0.0\n",
    "\n",
    "# Iterating (using zip) \n",
    "for a, b in zip(A, B):\n",
    "    dot_product += a * b\n",
    "\n",
    "# Indexing (without using zip)\n",
    "# for i in range(len(A)):\n",
    "#     dot_product += A[i]*B[i]\n",
    "\n",
    "print(dot_product)\n",
    "\n",
    "if (dot_product > 0):\n",
    "    print(\"The angle between vectors is acute\")\n",
    "    \n",
    "elif (dot_product < 0):\n",
    "    print(\"The angle between vectors is obtuse\")\n",
    "    \n",
    "else:\n",
    "    print(\"The vectors are perpendicular\")"
   ]
  },
  {
   "cell_type": "markdown",
   "metadata": {},
   "source": [
    "### Review Exercise: Dictionaries\n",
    "Given the dictionary, `inventory` in the cell below, do the folowing:\n",
    " - Add a key to inventory called 'pocket'.\n",
    " - Set the value of 'pocket' to be a list consisting of the strings 'seashell', 'strange berry', and 'lint'.\n",
    " - Remove('dagger') from the list of items stored under the 'backpack' key.<br><a href='#DictionaryRemove'>Jump to Removing Entries from a Dictionary</a>\n",
    " - Sort()the items in the list stored as a value under the 'backpack' key. <br>Dictionaries can be sorted in the same way as other data structures e.g. <a href='#SortLists'>Sorting Lists</a>.\n",
    " - Add 50 to the number stored under the 'gold' key.\n",
    " \n",
    "Print `inventory` to check your answer. "
   ]
  },
  {
   "cell_type": "code",
   "execution_count": 140,
   "metadata": {
    "collapsed": true
   },
   "outputs": [],
   "source": [
    "inventory = {\n",
    "    'gold' : 500,\n",
    "    'pouch' : ['flint', 'twine', 'gemstone'],\n",
    "    'backpack' : ['xylophone','dagger', 'bedroll','bread loaf']\n",
    "}\n",
    "inventory[\"pocket\"]=['seashell', 'strange berry',\"lint\"];\n",
    "inventory[\"backpack\"].pop(1);\n",
    "inventory[\"backpack\"]=inventory[\"backpack\"].sort;\n",
    "inventory[\"gold\"]+=50"
   ]
  },
  {
   "cell_type": "code",
   "execution_count": 139,
   "metadata": {},
   "outputs": [
    {
     "name": "stdout",
     "output_type": "stream",
     "text": [
      "{'gold': 550, 'pouch': ['flint', 'twine', 'gemstone'], 'backpack': ['bedroll', 'bread loaf', 'xylophone'], 'pocket': ['seashell', 'strange berry', 'lint']}\n"
     ]
    }
   ],
   "source": [
    "# Example solution\n",
    "\n",
    "inventory = {\n",
    "    'gold' : 500,\n",
    "    'pouch' : ['flint', 'twine', 'gemstone'],\n",
    "    'backpack' : ['xylophone','dagger', 'bedroll','bread loaf']\n",
    "}\n",
    "\n",
    "# add \n",
    "inventory['pocket'] = ['seashell', 'strange berry', 'lint']\n",
    "\n",
    "# remove \n",
    "del inventory['backpack'][1]\n",
    "\n",
    "# sort \n",
    "# either\n",
    "inventory['backpack'].sort()\n",
    "# or\n",
    "inventory['backpack'] = sorted(inventory['backpack'])\n",
    "\n",
    "# edit \n",
    "inventory['gold'] += 50\n",
    "\n",
    "print(inventory)"
   ]
  },
  {
   "cell_type": "markdown",
   "metadata": {},
   "source": [
    "### Review Exercise: Dictionaries - Calculating stock value.\n",
    "In the cell below, there is a dictionary called `stock`.\n",
    "\n",
    "Make a second dictionary called `prices`.\n",
    "- The `keys` in `prices` should be the same fruit names as in `stock`, in the same order.\n",
    "- The `values` in `prices` should be the price of each fruit, expressed as numeric value; you can choose the values.\n",
    "\n",
    "Make a third dictionary called `stock_value`. This dictionary should be empty. \n",
    "<br>Jump to <a href='#DeclaringDict'>creating an empty dictionary.</a>   \n",
    "\n",
    "\n",
    "\n",
    "Use a `for` loop to iterate over two dictionaries; `stock` and `prices`.\n",
    "\n",
    "For each fruit type:\n",
    "1. Multiply the number of fruit in stock by the price of a single fruit to get the total stock value.\n",
    "1. Add the total stock value to the dictionary `stock_value`. The `keys` in `stock_value` should be the same fruit names as in `stock` and `prices`.\n",
    "\n",
    "Print `stock_value` to check your answer."
   ]
  },
  {
   "cell_type": "code",
   "execution_count": 144,
   "metadata": {},
   "outputs": [
    {
     "name": "stdout",
     "output_type": "stream",
     "text": [
      "{'banana': 24, 'apple': 0, 'orange': 48.0, 'pear': 45}\n",
      "{'banana': 24, 'apple': 0, 'orange': 48.0, 'pear': 45}\n"
     ]
    }
   ],
   "source": [
    "stock = {\n",
    "    \"banana\": 6,\n",
    "    \"apple\": 0,\n",
    "    \"orange\": 32,\n",
    "    \"pear\": 15\n",
    "}\n",
    "prices = {\n",
    "    \"banana\": 4,\n",
    "    \"apple\": 2,\n",
    "    \"orange\": 1.5,\n",
    "    \"pear\": 3\n",
    "}\n",
    "\n",
    "stock_value={}\n",
    "for s in stock:\n",
    "    stock_value[s]=prices[s]*stock[s]\n",
    "print(stock_value)\n",
    "\n",
    "stock_value={s:sv*pv for s,sv,p,pv in zip(stock,stock.values(),prices,prices.values())}\n",
    "print(stock_value)\n",
    "    "
   ]
  },
  {
   "cell_type": "code",
   "execution_count": 142,
   "metadata": {},
   "outputs": [
    {
     "name": "stdout",
     "output_type": "stream",
     "text": [
      "{'banana': 24, 'apple': 0, 'orange': 48.0, 'pear': 45}\n"
     ]
    }
   ],
   "source": [
    "# Example solution\n",
    "\n",
    "stock = {\n",
    "    \"banana\": 6,\n",
    "    \"apple\": 0,\n",
    "    \"orange\": 32,\n",
    "    \"pear\": 15\n",
    "}\n",
    "\n",
    "prices = {\n",
    "    \"banana\": 4,\n",
    "    \"apple\": 2,\n",
    "    \"orange\": 1.5,\n",
    "    \"pear\": 3\n",
    "}\n",
    "\n",
    "stock_value = {}\n",
    "\n",
    "for s in stock:\n",
    "    stock_value[s]=stock[s]*prices[s]\n",
    "\n",
    "print(stock_value)"
   ]
  },
  {
   "cell_type": "markdown",
   "metadata": {},
   "source": [
    "### Review Exercise: Dictionaries - The Periodic Table.\n",
    "\n",
    "<img src=\"img/newperiodictable.jpg\" alt=\"Drawing\" style=\"width: 500px;\"/>\n",
    "\n",
    "__(A)__ Choose 5 elements from the periodic table.\n",
    "<br>\n",
    "In the cell below create a dictionary: \n",
    "<a href='#Dictionaries'>Jump to Dictionaries</a>\n",
    " - __keys:__ chemical symbol names \n",
    " - __values:__ atomic numbers \n",
    " \n",
    " e.g. \n",
    " ```python\n",
    " dictionary = {\"C\":6, \"N\":7, \"O\":8....}\n",
    " \n",
    " ```\n",
    "\n",
    "\n",
    "__(B)__ Remove one entry from the dictionary and print the updated version.\n",
    "<br><a href='#DictionaryRemove'>Jump to Removing Entries from a Dictionary</a>\n",
    "\n",
    "__(C)__ Add a new entry (chemical symbol and atomic number) to the dictionary and print the updated version.\n",
    "<br><a href='#DictionaryAdd'>Jump to Adding Entries to a Dictionary</a>\n",
    "\n",
    "__(D)__ Use a `for` loop to create a new dictionary:  \n",
    " - __keys:__ atomic numbers \n",
    " - __values:__ chemical symbols\n",
    "using your original dictionary. \n",
    "<br> Hint: Refer to the earlier example of <a href='#DictionaryRestructure'>re-structuring to make a new dictioary.</a> \n",
    "\n",
    "__*Optional Extension*__\n",
    "\n",
    "__(E)__ Print a __list__ of the chemical symbols in your dictionary, sorted into alphabetical order.\n",
    "Hints:\n",
    " - Create an empty list \n",
    " - Use a for loop to add each chemical symbol to the list \n",
    " - Sort the list in alphabetical order "
   ]
  },
  {
   "cell_type": "code",
   "execution_count": null,
   "metadata": {
    "collapsed": true
   },
   "outputs": [],
   "source": [
    "# Dictionary of periodic table items."
   ]
  },
  {
   "cell_type": "code",
   "execution_count": null,
   "metadata": {
    "collapsed": true
   },
   "outputs": [],
   "source": [
    "# Example solution \n",
    "\n",
    "# (A) \n",
    "dictionary = {\"C\":6, \"N\":7, \"O\":8, \"Li\":3, \"Mg\":12}\n",
    "\n",
    "# (B)\n",
    "del dictionary[\"N\"]\n",
    "print(dictionary)\n",
    "\n",
    "# (C)\n",
    "dictionary[\"La\"] = 57\n",
    "print(dictionary)\n",
    "\n",
    "# (D)\n",
    "inverted_dictionary = {}\n",
    "\n",
    "for chemical, number in dictionary.items():\n",
    "    inverted_dictionary[number] = chemical\n",
    "    \n",
    "print(inverted_dictionary)\n",
    "\n",
    "# (E) \n",
    "chemical_list = []\n",
    "\n",
    "for chemical, number in dictionary.items():\n",
    "    chemical_list.append(chemical)\n",
    "    \n",
    "chemical_list.sort()\n",
    "\n",
    "print(chemical_list)"
   ]
  },
  {
   "cell_type": "markdown",
   "metadata": {},
   "source": [
    "### Review Exercise: `while` loops (bisection)\n",
    "\n",
    "Bisection is an iterative method for approximating a root of a function $y = F(x)$ \n",
    "<br>i.e. a value of $x$ for which the function $F(x)$ is equal to zero. \n",
    "<br>Therefore the roots are found where the line of the function F(x) __crosses__ the x axis (the red dot indicates the root of the function):\n",
    "\n",
    "\n",
    "<img src=\"img/bisection_method.png\" alt=\"Drawing\" style=\"width: 300px;\"/>\n",
    "\n",
    "\n",
    "If we know such a __crossing point__ lies within the interval x = a and x = b we can repeatedly *bisect* this interval to narrow down the interval in which x = root must lie. \n",
    "\n",
    "Each iteration, x$_{mid} = \\frac{a + b}{2}$ is determined and used to determine whether the crossing point is between x$_{mid}$ and a or x$_{mid}$ and b.\n",
    "<br>This is used to define a new, narrower interval in which we know the crossing point lies.\n",
    "\n",
    "      x_mid = (a + b) / 2 \n",
    "\n",
    "      # If F(x) changes sign between F(x_mid) and F(a), \n",
    "      # the root must lie between F(x_mid) and F(a)\n",
    "      \n",
    "      if F(x_mid) * F(a) < 0:\n",
    "          b = x_mid\n",
    "          x_mid = (a + b)/2          \n",
    "          \n",
    "      # If F(x) changes sign between F(x_mid) and F(b), \n",
    "      # the root must lie between F(x_mid) and F(b)\n",
    "      \n",
    "      else:\n",
    "          a = x_mid\n",
    "          x_mid = (a + b)/2  \n",
    "\n",
    "          \n",
    "<img src=\"img/bisection_method_simple.png\" alt=\"Drawing\" style=\"width: 300px;\"/>\n",
    "\n",
    "In the example shown, the midpoint (x$_{mid}$) of a$_1$  and b$_1$ is b$_2$ \n",
    "<br>F(a$_1$) $\\times$ F(b$_2$) = negative\n",
    "<br>F(b$_1$) $\\times$ F(b$_2$) = positive\n",
    "\n",
    "So the new increment is between a$_1$ and b$_2$.\n",
    "\n",
    "<br>\n",
    "\n",
    "By repeating this process, the value of F(x$_{mid}$) should become closer to zero with each iteration.\n",
    "\n",
    "The process is repeated until the *absolute* value |F(x$_{mid}$)| is sufficiently small (below a predetermined value (*tolerance*)). \n",
    "\n",
    "We then determine x$_{mid}$ is the root of the function. \n",
    "\n",
    "**Task:** \n",
    "\n",
    "$$\n",
    "F(x) = 4x^3 - 3x^2 - 25x - 6\n",
    "$$\n",
    "\n",
    "<img src=\"img/graph_polynomial.png\" alt=\"Drawing\" style=\"width: 300px;\"/>\n",
    "\n",
    "The function has one root between x = 0 and x = -0.6.\n",
    "\n",
    "__(A)__ Use the bisection method to estimate the value of the root between x = 0 and x = -0.6.\n",
    "<br>Instructions:\n",
    "- Use a while loop to repeat the code above __while__ absF(x$_{mid}$) > 1 $\\times10^{-6}$.\n",
    "- Each time the code loops:\n",
    " - __Compute__ F(a), F(b) and F(x_mid) [Hint: Use approprate variable names that don't contain () parentheses) \n",
    " - __Print__ F(x$_{mid}$) to check absF(x$_{mid}$)  $< 1 \\times10^{-6}$. <br>Use  the function `abs()` to compute the absolute value of a number, <br>https://docs.python.org/3/library/functions.html#abs  <br> e.g. `y = abs(x)` assigns the absolute value of `x` to `y`. \n",
    " - __Bisect__ the increment using the code shown above\n",
    "- __After__ the loop print the final value of x$_{mid}$ using `print(\"root = \", x_mid) `. <br>This value is the estimate of the root.\n",
    "\n",
    "<a href='#WhileLoops'>Jump to While Loops'</a>\n",
    "\n",
    "__(B)__ The bisection method is only effective where F(a) and F(b) are of opposite sign.\n",
    "<br> i.e. where F(a) $\\times$ F(b) $ < 0$\n",
    "<br>Add an if statement to your code so that the while loop is only run *if* the inputs a and b are of opposite sign."
   ]
  },
  {
   "cell_type": "code",
   "execution_count": 148,
   "metadata": {},
   "outputs": [
    {
     "name": "stdout",
     "output_type": "stream",
     "text": [
      "-0.2499996185302734\n"
     ]
    }
   ],
   "source": [
    "# Bisection while loop\n",
    "a=-0.6\n",
    "b=0\n",
    "x=(a+b)/2;\n",
    "fa=(4*a**3)-(3*a*a)-25*a-6\n",
    "fb=(4*b**3)-(3*b*b)-25*b-6\n",
    "fx=(4*x**3)-(3*x*x)-25*x-6\n",
    "if(fa*fb<0):\n",
    "    while (abs(fx)>=10E-6):\n",
    "        x=(a+b)/2\n",
    "        fa=(4*a**3)-(3*a*a)-25*a-6\n",
    "        fb=(4*b**3)-(3*b*b)-25*b-6\n",
    "        fx=(4*x**3)-(3*x*x)-25*x-6\n",
    "        if (fa*fx<=0):\n",
    "            b=x\n",
    "        else:\n",
    "            a=x\n",
    "print(x)"
   ]
  },
  {
   "cell_type": "code",
   "execution_count": 147,
   "metadata": {},
   "outputs": [
    {
     "name": "stdout",
     "output_type": "stream",
     "text": [
      "1.122\n",
      "-2.331\n",
      "-0.572438\n",
      "0.28343\n",
      "-0.142421\n",
      "0.071035\n",
      "-0.035562\n",
      "0.01777\n",
      "-0.008888\n",
      "0.004443\n",
      "-0.002222\n",
      "0.001111\n",
      "-0.000555\n",
      "0.000278\n",
      "-0.000139\n",
      "6.9e-05\n",
      "-3.5e-05\n",
      "1.7e-05\n",
      "-9e-06\n",
      "root =  -0.25\n"
     ]
    }
   ],
   "source": [
    "# Example solution \n",
    "\n",
    "a = -0.6\n",
    "b = 0\n",
    "x_mid = (a + b) / 2\n",
    "\n",
    "Fa = (4 * a**3) - (3 * a**2) - (25 * a) - 6\n",
    "\n",
    "Fb = (4 * b**3) - (3 * b**2) - (25 * b) - 6\n",
    "\n",
    "Fxmid = (4 * x_mid**3) - (3 * x_mid**2) - (25 * x_mid) - 6\n",
    "\n",
    "\n",
    "if ((Fa * Fb) < 0): \n",
    "\n",
    "    while (abs(Fxmid) > 10E-6):\n",
    "\n",
    "        Fa = (4 * a**3) - (3 * a**2) - (25 * a) - 6\n",
    "\n",
    "        Fb = (4 * b**3) - (3 * b**2) - (25 * b) - 6\n",
    "\n",
    "        Fxmid = (4 * x_mid**3) - (3 * x_mid**2) - (25 * x_mid) - 6\n",
    "        \n",
    "        print(round(Fxmid, 6))\n",
    "\n",
    "        # If F(x) changes sign between F(x_mid) and F(a), \n",
    "        # the root must lie between F(x_mid) and F(a)\n",
    "        if Fxmid * Fa < 0:\n",
    "            b = x_mid\n",
    "            x_mid = (a + b)/2\n",
    "\n",
    "\n",
    "        # If F(x) changes sign between F(x_mid) and F(b), \n",
    "        # the root must lie between F(x_mid) and F(b)    \n",
    "        else:\n",
    "            a = x_mid\n",
    "            x_mid = (a + b)/2  \n",
    "\n",
    "print(\"root = \", round(x_mid, 3)) "
   ]
  },
  {
   "cell_type": "markdown",
   "metadata": {},
   "source": [
    " __(C)__ In the previous example you stopped the while loop when the value of the function was sufficiently small (abs(F(x$_{mid}$)) $< 1 \\times10^{-6}$) that we can consider the corresponding value of x to be a root of the function.  \n",
    "\n",
    "This time we are going to edit your code so that the loop is stopped when it reaches a __maximum number of iterations__.  <br>Copy and paste your code from the cell above in the cel below. \n",
    "<br>Replace your __while loop__ with a __for loop__ that runs the code in the loop 25 times then stops.  \n",
    "\n",
    "__(D)__ Within the for loop, add a `break` statement.\n",
    "<br>The `break` statement should exit the for loop __if__ abs(F(x$_{mid}$)) $< 1 \\times10^{-6}$\n",
    "<br>i.e. __if__ abs(F(x$_{mid}$)) $< 1 \\times10^{-6}$ the loop will stop before the maximum number of iterations is reached.\n",
    "<br>Before the command `break`, print the value of x$_{mid}$ using `print(\"root =\", x_mid) `. <br>This value is the estimate of the root.\n",
    "\n",
    "<a href='#Break'>Jump to break</a> "
   ]
  },
  {
   "cell_type": "code",
   "execution_count": null,
   "metadata": {
    "collapsed": true
   },
   "outputs": [],
   "source": [
    "# Copy and paste your code from the cell above, here"
   ]
  },
  {
   "cell_type": "code",
   "execution_count": 149,
   "metadata": {},
   "outputs": [
    {
     "name": "stdout",
     "output_type": "stream",
     "text": [
      "1.1219999999999999\n",
      "1.1219999999999999\n",
      "-2.331\n",
      "-0.5724375000000013\n",
      "0.2834296874999991\n",
      "-0.14242089843750083\n",
      "0.07103503417968593\n",
      "-0.035561508178711954\n",
      "0.01776977348327513\n",
      "-0.008887634038925896\n",
      "0.004443130463360312\n",
      "-0.002221736904234106\n",
      "0.0011108255381691023\n",
      "-0.0005554234980964523\n",
      "0.0002777090668590887\n",
      "-0.00013885520398559947\n",
      "6.942743435445209e-05\n",
      "-3.4713759087701135e-05\n",
      "1.7356869064677483e-05\n",
      "-8.678437152909169e-06\n",
      "root =  -0.25000019073486324\n"
     ]
    }
   ],
   "source": [
    "# Example solution \n",
    "\n",
    "a = -0.6\n",
    "b = 0\n",
    "x_mid = (a + b) / 2\n",
    "\n",
    "Fa = (4 * a**3) - (3 * a**2) - (25 * a) -6\n",
    "\n",
    "Fb = (4 * b**3) - (3 * b**2) - (25 * b) -6\n",
    "\n",
    "Fxmid = (4 * x_mid**3) - (3 * x_mid**2) - (25 * x_mid) -6\n",
    "\n",
    "# max number of iterations\n",
    "nmax = 25\n",
    "\n",
    "\n",
    "if ((Fa * Fb) < 0): \n",
    "\n",
    "    for i in range(nmax):\n",
    "\n",
    "        print(Fxmid)\n",
    "        \n",
    "        if (abs(Fxmid) < 10E-6):\n",
    "            print(\"root = \", x_mid) \n",
    "            break\n",
    "        \n",
    "        Fa = (4 * a**3) - (3 * a**2) - (25 * a) -6\n",
    "\n",
    "        Fb = (4 * b**3) - (3 * b**2) - (25 * b) -6\n",
    "\n",
    "        Fxmid = (4 * x_mid**3) - (3 * x_mid**2) - (25 * x_mid) -6\n",
    "\n",
    "\n",
    "        # If F(x) changes sign between F(x_mid) and F(a), \n",
    "        # the root must lie between F(x_mid) and F(a)\n",
    "        if Fxmid * Fa < 0:\n",
    "            b = x_mid\n",
    "            x_mid = (a + b)/2\n",
    "\n",
    "\n",
    "        # If F(x) changes sign between F(x_mid) and F(b), \n",
    "        # the root must lie between F(x_mid) and F(b)    \n",
    "        else:\n",
    "            a = x_mid\n",
    "            x_mid = (a + b)/2  "
   ]
  },
  {
   "cell_type": "markdown",
   "metadata": {
    "slideshow": {
     "slide_type": "slide"
    }
   },
   "source": [
    "# Updating your git repository\n",
    "\n",
    "You have made several changes to your interactive textbook.\n",
    "\n",
    " > Save your work.\n",
    " > <br> `git add -A`\n",
    " > <br>`git commit -m \"A short message describing changes\"`\n",
    " > <br>`git push`\n",
    " "
   ]
  },
  {
   "cell_type": "markdown",
   "metadata": {
    "collapsed": true,
    "slideshow": {
     "slide_type": "slide"
    }
   },
   "source": [
    "## Summary\n",
    " - A data structure is used to assign a collection of values to a single collection name.\n",
    " - A Python list can store multiple items of data in sequentially numbered elements (numbering starts at zero)\n",
    " - Data stored in a list element can be referenced using the list name can be referenced using the list name followed by an index number in [] square brackets.\n",
    " - The `len()` function returns the length of a specified list.\n",
    " - A Python tuple whose values can not be individually changed, removed or added to (except by adding another tuple).\n",
    " - Data stored in a tuple element can be referenced using the tuple name followed by an index number in [] square brackets.\n",
    " - A Python dictionary is a list of key: value pairs of data in which each key must be unique.\n",
    " - Data stored in a dictionary element can be referenced using the dictionary name followed by its key in [] square brackets. "
   ]
  },
  {
   "cell_type": "markdown",
   "metadata": {
    "collapsed": true,
    "slideshow": {
     "slide_type": "slide"
    }
   },
   "source": [
    "# Homework \n",
    "\n",
    "1. __COMPLETE__ any unfinished Review Exercises.<br>In particular, please complete: __Review Exercise: `while` loops (bisection)__.<br>You will need to refer to your answer in next week's Seminar. \n",
    "1. __PUSH__ the changes you make at home to your online repository. \n",
    "\n"
   ]
  }
 ],
 "metadata": {
  "kernelspec": {
   "display_name": "Python 3",
   "language": "python",
   "name": "python3"
  },
  "language_info": {
   "codemirror_mode": {
    "name": "ipython",
    "version": 3
   },
   "file_extension": ".py",
   "mimetype": "text/x-python",
   "name": "python",
   "nbconvert_exporter": "python",
   "pygments_lexer": "ipython3",
   "version": "3.6.2"
  }
 },
 "nbformat": 4,
 "nbformat_minor": 2
}
