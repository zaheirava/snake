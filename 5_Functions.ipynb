{
 "cells": [
  {
   "cell_type": "code",
   "execution_count": 79,
   "metadata": {
    "slideshow": {
     "slide_type": "skip"
    }
   },
   "outputs": [
    {
     "data": {
      "text/html": [
       "<style>\n",
       "\n",
       "body {\n",
       " counter-reset: h2counter;\n",
       "}\n",
       "h1 {\n",
       " counter-reset: h2counter;\n",
       "}\n",
       "h2:before {\n",
       " content: counter(h2counter) \".\\0000a0\\0000a0\";\n",
       " counter-increment: h2counter;\n",
       " counter-reset: h3counter;\n",
       "}\n",
       "\n",
       "\n",
       "</style>\n"
      ],
      "text/plain": [
       "<IPython.core.display.HTML object>"
      ]
     },
     "execution_count": 79,
     "metadata": {},
     "output_type": "execute_result"
    }
   ],
   "source": [
    "from IPython.core.display import HTML\n",
    "def css_styling():\n",
    "    styles = open(\"./styles/custom.css\", \"r\").read()\n",
    "    return HTML(styles)\n",
    "css_styling()"
   ]
  },
  {
   "cell_type": "code",
   "execution_count": null,
   "metadata": {
    "collapsed": true
   },
   "outputs": [],
   "source": []
  },
  {
   "cell_type": "markdown",
   "metadata": {
    "slideshow": {
     "slide_type": "slide"
    }
   },
   "source": [
    "### BEFORE YOU DO ANYTHING...\n",
    "In the terminal:\n",
    "1. Navigate to __inside__ your ILAS_Python repository.\n",
    "2. __COMMIT__ any un-commited work on your personal computer.\n",
    "3. __PULL__ any changes *you* have made using another computer.\n",
    "4. __PULL__ textbook updates (including homework answers)."
   ]
  },
  {
   "cell_type": "markdown",
   "metadata": {
    "slideshow": {
     "slide_type": "slide"
    }
   },
   "source": [
    "1. __Open Jupyter notebook:__   Start >> Programs (すべてのプログラム) >> Programming >> Anaconda3 >> JupyterNotebook\n",
    "1. __Navigate to the ILAS_Python folder__. \n",
    "1. __Open today's seminar__  by clicking on 5_Functions."
   ]
  },
  {
   "cell_type": "markdown",
   "metadata": {
    "collapsed": true,
    "slideshow": {
     "slide_type": "slide"
    }
   },
   "source": [
    "# Functions\n",
    "\n",
    "# Lesson Goal\n",
    "\n",
    "To encapsulate the code you have been writing as Python functions to be called within your programs. \n",
    "\n"
   ]
  },
  {
   "cell_type": "markdown",
   "metadata": {
    "slideshow": {
     "slide_type": "slide"
    }
   },
   "source": [
    "# Objectives\n",
    "\n",
    "- Learn to write a user-defined Python function.  \n",
    "- Pass arguments to a function to give it inputs.\n",
    "- Use global and local variables within functions.  \n",
    "- Generate sequences of values recursively using functions [and generators].\n",
    "- [Generating functions using an alternative method (lamda functions)]."
   ]
  },
  {
   "cell_type": "markdown",
   "metadata": {
    "slideshow": {
     "slide_type": "slide"
    }
   },
   "source": [
    "Why we are studying this:\n",
    "\n",
    "  - To produce code that is shorter and more concise. \n",
    "  - To produce code that we can re-use making the code we write less repetitive. \n",
    "  - To quickly apply our code to multiple (sometimes very large numbes of) variables. \n",
    "  - To have less code to \"debug\", reducing our risk of errors. \n"
   ]
  },
  {
   "cell_type": "markdown",
   "metadata": {
    "slideshow": {
     "slide_type": "slide"
    }
   },
   "source": [
    " Lesson structure:\n",
    " - What is a function? (Anatomy of a function)\n",
    " - Function arguments\n",
    " - Scope\n",
    " - Recursive functions\n",
    " - [Extension topics (Generators and Callbacks)]\n",
    " - Review exercises \n",
    " - Summary"
   ]
  },
  {
   "cell_type": "markdown",
   "metadata": {
    "slideshow": {
     "slide_type": "slide"
    }
   },
   "source": [
    "Let’s start by finding out what a function is…"
   ]
  },
  {
   "cell_type": "markdown",
   "metadata": {
    "slideshow": {
     "slide_type": "slide"
    }
   },
   "source": [
    "## What is a function?\n",
    "\n",
    "Functions are one of the most important concepts in computing. \n",
    "\n",
    "In mathematics, a function is a relation between __inputs__ and a set of permissible __outputs__.\n",
    "\n",
    "Example: The function relating $x$ to $x^2$ is:\n",
    "$$ \n",
    "f(x) = x \\cdot x\n",
    "$$"
   ]
  },
  {
   "cell_type": "markdown",
   "metadata": {
    "slideshow": {
     "slide_type": "subslide"
    }
   },
   "source": [
    "In programming, a function behaves in a similar way. \n",
    "\n",
    "__Function__: A named section of a code that performs a specific task. \n",
    "\n"
   ]
  },
  {
   "cell_type": "markdown",
   "metadata": {
    "slideshow": {
     "slide_type": "subslide"
    }
   },
   "source": [
    "Functions can (although do no always) take data as __inputs__ and return __outputs__.\n",
    "\n",
    " \n",
    "A simple function example:\n",
    " - Inputs: the coordinates of the vertices of a triangle.\n",
    " - Output: the area of the triangle. "
   ]
  },
  {
   "cell_type": "markdown",
   "metadata": {
    "slideshow": {
     "slide_type": "subslide"
    }
   },
   "source": [
    "You are already familiar with some *built in* Python functions..."
   ]
  },
  {
   "cell_type": "markdown",
   "metadata": {
    "collapsed": true,
    "slideshow": {
     "slide_type": "subslide"
    }
   },
   "source": [
    "\n",
    "\n",
    " `print()` takes the __input__ in the parentheses and __outputs__ a visible representation.\n",
    "  "
   ]
  },
  {
   "cell_type": "code",
   "execution_count": 80,
   "metadata": {},
   "outputs": [
    {
     "name": "stdout",
     "output_type": "stream",
     "text": [
      "Today we will learn about functions\n"
     ]
    }
   ],
   "source": [
    "print(\"Today we will learn about functions\")"
   ]
  },
  {
   "cell_type": "markdown",
   "metadata": {
    "collapsed": true,
    "slideshow": {
     "slide_type": "subslide"
    }
   },
   "source": [
    "  `len()` takes a data structure as __input__ in the parentheses and __outputs__ the number of items in the data structure (in one direction).\n",
    "  "
   ]
  },
  {
   "cell_type": "code",
   "execution_count": 81,
   "metadata": {},
   "outputs": [
    {
     "name": "stdout",
     "output_type": "stream",
     "text": [
      "35\n"
     ]
    }
   ],
   "source": [
    "print(len(\"Today we will learn about functions\"))"
   ]
  },
  {
   "cell_type": "markdown",
   "metadata": {
    "slideshow": {
     "slide_type": "subslide"
    }
   },
   "source": [
    "`sorted()` takes a data structure as __input__ in the parentheses and __outputs__ the data structure sorted by a rule determined by the data type.\n",
    "   "
   ]
  },
  {
   "cell_type": "code",
   "execution_count": 82,
   "metadata": {},
   "outputs": [
    {
     "name": "stdout",
     "output_type": "stream",
     "text": [
      "[' ', ' ', ' ', ' ', ' ', 'T', 'a', 'a', 'a', 'b', 'c', 'd', 'e', 'e', 'f', 'i', 'i', 'l', 'l', 'l', 'n', 'n', 'n', 'o', 'o', 'o', 'r', 's', 't', 't', 'u', 'u', 'w', 'w', 'y']\n"
     ]
    }
   ],
   "source": [
    "print(sorted(\"Today we will learn about functions\"))"
   ]
  },
  {
   "cell_type": "markdown",
   "metadata": {
    "slideshow": {
     "slide_type": "subslide"
    }
   },
   "source": [
    "Most Python programs contain a number of *custom functions*. \n",
    "\n",
    "These are functions, created by the programmer (you!) to perform a specific task."
   ]
  },
  {
   "cell_type": "markdown",
   "metadata": {
    "slideshow": {
     "slide_type": "slide"
    }
   },
   "source": [
    "## The Anatomy of a Function\n",
    "\n",
    "Here is a python function in pseudocode:\n",
    "        \n",
    "        def function_name():\n",
    "            code to execute\n",
    "            more code to execute\n",
    "            \n",
    "\n"
   ]
  },
  {
   "cell_type": "markdown",
   "metadata": {
    "slideshow": {
     "slide_type": "subslide"
    }
   },
   "source": [
    "### Function Checklist\n",
    "\n",
    "A custom function is __declared__ using:\n",
    "1. The definition keyword, __`def`__.\n",
    "1. A __function name__ of your choice.\n",
    "1. __() parentheses__ which optionally contain __arguments__\n",
    "1. __: a colon__ character\n",
    "1. The __body code__ to be executed when the function is *called*.\n",
    "1. An optional __return__ statement \n",
    "\n"
   ]
  },
  {
   "cell_type": "markdown",
   "metadata": {
    "slideshow": {
     "slide_type": "subslide"
    }
   },
   "source": [
    "Below is an example of a Python function.\n"
   ]
  },
  {
   "cell_type": "code",
   "execution_count": 83,
   "metadata": {
    "collapsed": true
   },
   "outputs": [],
   "source": [
    "def sum_and_increment(a, b):    \n",
    "    c = a + b + 1\n",
    "    return c"
   ]
  },
  {
   "cell_type": "markdown",
   "metadata": {
    "slideshow": {
     "slide_type": "subslide"
    }
   },
   "source": [
    "__Function name:__  `sum_and_increment`\n",
    "\n",
    "__Arguments:__ \n",
    "<br>`a` and `b`\n",
    "<br> Function inputs are placed within () parentheses.\n",
    "\n",
    "  ```python\n",
    "  def sum_and_increment(a, b): \n",
    "  \n",
    "  ```\n",
    " \n",
    "\n"
   ]
  },
  {
   "cell_type": "markdown",
   "metadata": {
    "slideshow": {
     "slide_type": "subslide"
    }
   },
   "source": [
    "__Body:__ \n",
    "<br>The code to be executed when the function is called. \n",
    "<br> Indented by four spaces. \n",
    "<br>Indentation happens automatically. \n",
    "<br>Code indented to the same level (or less) as `def` falls __outside__ of the function body.\n",
    "\n",
    "  ```python\n",
    "    def sum_and_increment(a, b): \n",
    "          c = a + b + 1\n",
    "\n",
    "  ```"
   ]
  },
  {
   "cell_type": "markdown",
   "metadata": {
    "slideshow": {
     "slide_type": "subslide"
    }
   },
   "source": [
    "__`return`__ statement: \n",
    "<br>Defines what result the function should return. \n",
    "<br>Often placed at the end of a function.\n",
    "<br>A function doesn't always include a return statement.\n",
    "\n",
    "\n",
    "  ```python\n",
    "    def sum_and_increment(a, b): \n",
    "          c = a + b + 1\n",
    "          return c\n",
    "    \n",
    "  ```"
   ]
  },
  {
   "cell_type": "markdown",
   "metadata": {
    "slideshow": {
     "slide_type": "subslide"
    }
   },
   "source": [
    "<a id='DocString'></a>\n",
    "### The Documentation String\n",
    "It is best practise to include a *documentation string* (\"docstring\").\n",
    " - Describes __in words__ what the function does.\n",
    " - Begins and end with `\"\"\"`.\n",
    " - *Optional* - however it makes your code much more understandadble. "
   ]
  },
  {
   "cell_type": "code",
   "execution_count": 84,
   "metadata": {
    "collapsed": true
   },
   "outputs": [],
   "source": [
    "def sum_and_increment(a, b):\n",
    "    \"\"\"\"\n",
    "    Return the sum of a and b, plus 1\n",
    "    \"\"\"\n",
    "    c = a + b + 1\n",
    "    return c\n"
   ]
  },
  {
   "cell_type": "markdown",
   "metadata": {
    "slideshow": {
     "slide_type": "slide"
    }
   },
   "source": [
    "To execute (*call*) the function, type:\n",
    " - a variable name to store the output (`n` in the example below)\n",
    " - the function name\n",
    " - any arguments in parentheses"
   ]
  },
  {
   "cell_type": "code",
   "execution_count": 85,
   "metadata": {},
   "outputs": [
    {
     "name": "stdout",
     "output_type": "stream",
     "text": [
      "8\n"
     ]
    }
   ],
   "source": [
    "def sum_and_increment(a, b):\n",
    "    \"\"\"\"\n",
    "    Return the sum of a and b, plus 1\n",
    "    \"\"\"\n",
    "    c = a + b + 1\n",
    "    return c\n",
    "\n",
    "m = sum_and_increment(3, 4)\n",
    "print(m)  # Expect 8"
   ]
  },
  {
   "cell_type": "code",
   "execution_count": 86,
   "metadata": {
    "slideshow": {
     "slide_type": "subslide"
    }
   },
   "outputs": [
    {
     "name": "stdout",
     "output_type": "stream",
     "text": [
      "21\n"
     ]
    }
   ],
   "source": [
    "m = 10\n",
    "n = sum_and_increment(m, m)\n",
    "print(n)  # Expect 21"
   ]
  },
  {
   "cell_type": "code",
   "execution_count": 87,
   "metadata": {},
   "outputs": [
    {
     "name": "stdout",
     "output_type": "stream",
     "text": [
      "12\n"
     ]
    }
   ],
   "source": [
    "l = 5\n",
    "m = 6\n",
    "n = sum_and_increment(m, l)\n",
    "print(n) "
   ]
  },
  {
   "cell_type": "markdown",
   "metadata": {
    "slideshow": {
     "slide_type": "subslide"
    }
   },
   "source": [
    "__Example:__ a function that:\n",
    "- does not take any arguments\n",
    "- does not return any variables."
   ]
  },
  {
   "cell_type": "code",
   "execution_count": 88,
   "metadata": {},
   "outputs": [
    {
     "name": "stdout",
     "output_type": "stream",
     "text": [
      "The function 'print_message' has been called.\n"
     ]
    }
   ],
   "source": [
    "def print_message():\n",
    "    print(\"The function 'print_message' has been called.\")\n",
    "\n",
    "print_message()"
   ]
  },
  {
   "cell_type": "markdown",
   "metadata": {
    "slideshow": {
     "slide_type": "subslide"
    }
   },
   "source": [
    "Functions are good for repetitive tasks. \n",
    "\n",
    "Computer code can be re-used multiple times with different input data. \n",
    "\n",
    "Re-using code reduces the risk of making mistakes or errors. \n",
    "\n"
   ]
  },
  {
   "cell_type": "markdown",
   "metadata": {
    "slideshow": {
     "slide_type": "subslide"
    }
   },
   "source": [
    "Below is a simple example of a function using `if` and `else` control statements.`\n",
    "\n"
   ]
  },
  {
   "cell_type": "code",
   "execution_count": 89,
   "metadata": {
    "collapsed": true
   },
   "outputs": [],
   "source": [
    "def process_value(x):\n",
    "    \"Return a value that depends on the input value x \"\n",
    "    if x > 10:\n",
    "        return 0\n",
    "    elif x > 5:\n",
    "        return x*x\n",
    "    elif x > 0:\n",
    "        return x**3\n",
    "    else:\n",
    "        return x"
   ]
  },
  {
   "cell_type": "markdown",
   "metadata": {
    "slideshow": {
     "slide_type": "subslide"
    }
   },
   "source": [
    "By placing these in a function we can avoid duplicating the `if-elif-else` statement every time we want to use it. \n"
   ]
  },
  {
   "cell_type": "code",
   "execution_count": 90,
   "metadata": {},
   "outputs": [
    {
     "name": "stdout",
     "output_type": "stream",
     "text": [
      "27\n"
     ]
    }
   ],
   "source": [
    "print(process_value(3))"
   ]
  },
  {
   "cell_type": "markdown",
   "metadata": {
    "slideshow": {
     "slide_type": "slide"
    }
   },
   "source": [
    "Below is a simple example of a function being 'called' numerous times from inside a `for` loop."
   ]
  },
  {
   "cell_type": "code",
   "execution_count": 91,
   "metadata": {},
   "outputs": [
    {
     "name": "stdout",
     "output_type": "stream",
     "text": [
      "0\n",
      "1\n",
      "8\n",
      "\n",
      "0\n",
      "1\n",
      "8\n"
     ]
    }
   ],
   "source": [
    "# calling the function within a for loop...\n",
    "for x in range(3):\n",
    "    print(process_value(x))\n",
    "\n",
    "print()\n",
    "    \n",
    "# is more concise than...    \n",
    "for x in range(3):\n",
    "    if x > 10:\n",
    "        print(0)\n",
    "    elif x > 5:\n",
    "        print(x*x)\n",
    "    elif x > 0:\n",
    "        print(x**3)\n",
    "    else:\n",
    "        print(x)\n",
    "    \n",
    "# but gives the same result:"
   ]
  },
  {
   "cell_type": "markdown",
   "metadata": {
    "slideshow": {
     "slide_type": "subslide"
    }
   },
   "source": [
    "The more times we want to use the function within a program, the more useful this becomes."
   ]
  },
  {
   "cell_type": "markdown",
   "metadata": {
    "slideshow": {
     "slide_type": "subslide"
    }
   },
   "source": [
    "Functions can make programs more readable.<br>\n",
    "\n",
    "__Example:__ <br>\n",
    "A function called `sin`, that computes and returns $\\sin(x)$, <br>\n",
    "is far more readable and less prone to error than writing <br>an equation for  $\\sin(x)$ every time we want to use it. "
   ]
  },
  {
   "cell_type": "markdown",
   "metadata": {
    "slideshow": {
     "slide_type": "slide"
    }
   },
   "source": [
    "## Function Arguments\n",
    "\n",
    "It is important to input arguments in the correct order when calling a function.         \n",
    "\n"
   ]
  },
  {
   "cell_type": "code",
   "execution_count": 92,
   "metadata": {
    "collapsed": true,
    "slideshow": {
     "slide_type": "subslide"
    }
   },
   "outputs": [],
   "source": [
    "def sum_and_increment(a, b):\n",
    "            \"\"\"\"\n",
    "            Return the sum of a and b, plus 1\n",
    "            \"\"\"\n",
    "            c = a + b + 1\n",
    "            return c"
   ]
  },
  {
   "cell_type": "markdown",
   "metadata": {
    "slideshow": {
     "slide_type": "subslide"
    }
   },
   "source": [
    "The function `sum_and_increment` adds:\n",
    " - the first argument, `a`\n",
    " - ...to the second argument `b`\n",
    " - ...to 1.\n",
    " \n",
    "If the order of a and b is switched, the result is the same.\n"
   ]
  },
  {
   "cell_type": "code",
   "execution_count": 93,
   "metadata": {},
   "outputs": [
    {
     "name": "stdout",
     "output_type": "stream",
     "text": [
      "8\n",
      "8\n"
     ]
    }
   ],
   "source": [
    "print(sum_and_increment(3,4))\n",
    "print(sum_and_increment(4,3))"
   ]
  },
  {
   "cell_type": "markdown",
   "metadata": {
    "slideshow": {
     "slide_type": "subslide"
    }
   },
   "source": [
    "However, if we subtract one argument from the other, the result depends on the input order: "
   ]
  },
  {
   "cell_type": "code",
   "execution_count": 94,
   "metadata": {},
   "outputs": [
    {
     "name": "stdout",
     "output_type": "stream",
     "text": [
      "0\n",
      "2\n"
     ]
    }
   ],
   "source": [
    "def subtract_and_increment(a, b):\n",
    "    \"\"\"\"\n",
    "    Return a minus b, plus 1\n",
    "    \"\"\"\n",
    "    c = a - b + 1\n",
    "    return c\n",
    "\n",
    "print(subtract_and_increment(3,4))\n",
    "print(subtract_and_increment(4,3))"
   ]
  },
  {
   "cell_type": "markdown",
   "metadata": {
    "slideshow": {
     "slide_type": "slide"
    }
   },
   "source": [
    "### Named Arguments\n",
    "\n",
    "It can be easy to make a mistake in the input order.  \n",
    "\n",
    "This can lead to a bug.  \n",
    "\n",
    "We can reduce this risk by giving inputs as *named* arguments. \n",
    "\n",
    "Named arguments also enhances program readability. \n",
    "\n",
    "When we use named arguments, the order of input does not matter.  "
   ]
  },
  {
   "cell_type": "code",
   "execution_count": 95,
   "metadata": {
    "slideshow": {
     "slide_type": "subslide"
    }
   },
   "outputs": [
    {
     "name": "stdout",
     "output_type": "stream",
     "text": [
      "0\n",
      "0\n"
     ]
    }
   ],
   "source": [
    "def subtract_and_increment(a, b):\n",
    "    \"Return a minus b, plus 1\"\n",
    "    c = a - b + 1\n",
    "    return c\n",
    "\n",
    "alpha = 3\n",
    "beta = 4\n",
    "\n",
    "print(subtract_and_increment(a=alpha, b=beta))\n",
    "print(subtract_and_increment(b=beta, a=alpha))  "
   ]
  },
  {
   "cell_type": "markdown",
   "metadata": {
    "slideshow": {
     "slide_type": "subslide"
    }
   },
   "source": [
    "### What can be passed as a function argument?\n",
    "\n",
    "*Object* types that can be passed as arguments to functions include:\n",
    "- single variables (`int`, `float`...)\n",
    "- data structures (`list`, `tuple`, `dict`...)\n",
    "- other functions \n",
    "\n"
   ]
  },
  {
   "cell_type": "markdown",
   "metadata": {
    "slideshow": {
     "slide_type": "slide"
    }
   },
   "source": [
    "<a id='DataStrcuturesAsArguments'></a>\n",
    "### Data Structures as Function Arguments. \n",
    "__Indexing__ can be useful when data structures are used as function arguments."
   ]
  },
  {
   "cell_type": "markdown",
   "metadata": {
    "slideshow": {
     "slide_type": "subslide"
    }
   },
   "source": [
    "__Example: Area of a Triangle__ \n",
    "The coordinates of the vertices of a triangle are $(x_0, y_0)$, $(x_1, y_1)$ and $(x_2, y_2)$.\n",
    "\n",
    "<img src=\"img/triangle.jpg\" alt=\"Drawing\" style=\"width: 200px;\"/> \n",
    "\n",
    "The area $A$ of the triangle is given by:\n",
    "\n",
    "$$\n",
    "A = \\left| \\frac{x_0(y_1  - y_2) + x_1(y_2 - y_0) + x_2(y_0 - y_1)}{2} \\right|\n",
    "$$"
   ]
  },
  {
   "cell_type": "markdown",
   "metadata": {
    "slideshow": {
     "slide_type": "subslide"
    }
   },
   "source": [
    "\n",
    "The function `triangle_area` takes three arguments:\n",
    " - a __tuple__ containig the coordinates of vertex 0\n",
    " - a __tuple__ containig the coordinates of vertex 1\n",
    " - a __tuple__ containig the coordinates of vertex 2\n",
    " \n",
    "\n",
    "The individual elements of the tuples are referenced within the function by *indexing*. "
   ]
  },
  {
   "cell_type": "code",
   "execution_count": 96,
   "metadata": {
    "slideshow": {
     "slide_type": "subslide"
    }
   },
   "outputs": [
    {
     "name": "stdout",
     "output_type": "stream",
     "text": [
      "6.5\n"
     ]
    }
   ],
   "source": [
    "vtex0 = (1, 1)   #(x, y) coordinates of vertex 0\n",
    "vtex1 = (6, 2)   #(x, y) coordinates of vertex 1\n",
    "vtex2 = (3, 4)   #(x, y) coordinates of vertex 2\n",
    "\n",
    "def triangle_area(v0, v1, v2):\n",
    "    \n",
    "    A = abs( (v0[0] * (v1[1] - v2[1]) +\n",
    "              v1[0] * (v2[1] - v0[1]) +\n",
    "              v2[0] * (v0[1] - v1[1])) / 2 )\n",
    "    \n",
    "    return A\n",
    "\n",
    "print(triangle_area(vtex0, vtex1, vtex2))"
   ]
  },
  {
   "cell_type": "markdown",
   "metadata": {
    "slideshow": {
     "slide_type": "subslide"
    }
   },
   "source": [
    "__Data Type:__\n",
    "<br>By organising the 6 variables into 3 pairs (tuples), rather than expressing them as individual values we are less likely to make a mistake.\n",
    "<br> e.g. entering variables in the wrong order such as putting x and y the wrong way round.\n",
    "\n",
    "__Readability:__ \n",
    "<br>The equation for A is organised onto 3 lines to make it easier to read. \n",
    "<br>We can make the function easier to understand by using assignment."
   ]
  },
  {
   "cell_type": "markdown",
   "metadata": {
    "slideshow": {
     "slide_type": "subslide"
    }
   },
   "source": [
    "__Readability:__ \n",
    "<br>We can also use local variables are used to limit the scope, allowing `x` and `y` to be used as names for variable outside of the function. "
   ]
  },
  {
   "cell_type": "code",
   "execution_count": 1,
   "metadata": {},
   "outputs": [
    {
     "name": "stdout",
     "output_type": "stream",
     "text": [
      "6.5\n"
     ]
    }
   ],
   "source": [
    "vtex0 = (1, 1)   #(x, y) coordinates of vertex 0\n",
    "vtex1 = (6, 2)   #(x, y) coordinates of vertex 1\n",
    "vtex2 = (3, 4)   #(x, y) coordinates of vertex 2\n",
    "\n",
    "def triangle_area(v0, v1, v2):\n",
    "    x, y = 0, 1\n",
    "    \n",
    "    A = abs( (v0[x] * (v1[y] - v2[y]) +\n",
    "              v1[x] * (v2[y] - v0[y]) +\n",
    "              v2[x] * (v0[y] - v1[y])) / 2 )\n",
    "    \n",
    "    return A\n",
    "\n",
    "print(triangle_area(vtex0, vtex1, vtex2))"
   ]
  },
  {
   "cell_type": "markdown",
   "metadata": {
    "slideshow": {
     "slide_type": "slide"
    }
   },
   "source": [
    "<a id='FunctionsAsArguments'></a>\n",
    "### Functions as Function Arguments. \n",
    "__Example:__ The function `is_positive` checks if the value of a function $f$, evaluated at $x$, is positive:"
   ]
  },
  {
   "cell_type": "code",
   "execution_count": 2,
   "metadata": {},
   "outputs": [
    {
     "name": "stdout",
     "output_type": "stream",
     "text": [
      "True\n",
      "False\n"
     ]
    }
   ],
   "source": [
    "def is_positive(f, x):\n",
    "    \"Checks if the function value f(x) is positive\"\n",
    "    return f(x) > 0\n",
    "    \n",
    "def f0(x):\n",
    "    \"Computes x^2 - 1\"\n",
    "    return x*x - 1\n",
    "\n",
    "def f1(c):\n",
    "    \"Computes -c^2 + 2c + 1\"\n",
    "    return -c*c + 2*c + 1\n",
    "    \n",
    "# Value of x to test\n",
    "x = 4.5\n",
    "\n",
    "# Test function f0\n",
    "print(is_positive(f0, x))\n",
    "\n",
    "# Test function f1\n",
    "print(is_positive(f1, x))"
   ]
  },
  {
   "cell_type": "markdown",
   "metadata": {
    "slideshow": {
     "slide_type": "subslide"
    }
   },
   "source": [
    "__Note:__ The order that we *define* the functions does not effect the output. "
   ]
  },
  {
   "cell_type": "markdown",
   "metadata": {
    "slideshow": {
     "slide_type": "slide"
    }
   },
   "source": [
    "<a id='DefaultArguments'></a>\n",
    "### Default / Keyword Arguments\n",
    "\n",
    "'Default' or 'keyword' arguments have a default initial value.\n",
    "\n",
    "The default value can be overridden when the function is called. \n",
    "\n",
    "In some cases it just saves the programmer effort - they can write less code. \n",
    "\n",
    "\n",
    "\n"
   ]
  },
  {
   "cell_type": "markdown",
   "metadata": {
    "slideshow": {
     "slide_type": "subslide"
    }
   },
   "source": [
    "In other cases default arguments a function to be applied to a wider range of problems. "
   ]
  },
  {
   "cell_type": "markdown",
   "metadata": {
    "slideshow": {
     "slide_type": "slide"
    }
   },
   "source": [
    "<a id='DefaultArguments2D3DVector'></a>\n",
    "__Example: A function that takes either two OR three input arguments.__\n",
    "\n",
    "This simple function to express x, y (and z) inputs as a list. <br>(e.g. coordinates to define a position vector). \n",
    "\n",
    "We can use the same function for 2 inputs (x and y coordinates) and 3 inputs (x, y and z coordinates). \n",
    "\n",
    "The default value for the z component is zero.\n",
    "\n",
    "The *default* or *keyword* argument z = 0.0 is overridden if a z coordinate is included when the function is called. "
   ]
  },
  {
   "cell_type": "code",
   "execution_count": 99,
   "metadata": {
    "collapsed": true
   },
   "outputs": [],
   "source": [
    "def vector_3D(x, y, z=0.0):\n",
    "    \"\"\"\n",
    "    Expresses 2D or 3D vector in 3D coordinates, as a list.\n",
    "    \"\"\"\n",
    "    return[x, y, z]"
   ]
  },
  {
   "cell_type": "markdown",
   "metadata": {
    "slideshow": {
     "slide_type": "subslide"
    }
   },
   "source": [
    "__Important Note:__ Non-default (*positional*) arguments must always appear __before__ default (*keyword*) arguments in the function definition). "
   ]
  },
  {
   "cell_type": "code",
   "execution_count": 100,
   "metadata": {
    "slideshow": {
     "slide_type": "subslide"
    }
   },
   "outputs": [
    {
     "name": "stdout",
     "output_type": "stream",
     "text": [
      "[2.0, 1.5, 6.0]\n",
      "[2.0, 1.5, 0.0]\n"
     ]
    }
   ],
   "source": [
    "print(vector_3D(2.0, 1.5, 6.0))  \n",
    "print(vector_3D(2.0, 1.5))\n"
   ]
  },
  {
   "cell_type": "markdown",
   "metadata": {
    "slideshow": {
     "slide_type": "subslide"
    }
   },
   "source": [
    "<a id='DefaultArguments1D2D3DVector'></a>\n",
    "__Example: A function that takes either one OR two OR three input arguments.__\n",
    "\n",
    "The default values for the y and z components are both zero."
   ]
  },
  {
   "cell_type": "code",
   "execution_count": 101,
   "metadata": {
    "collapsed": true
   },
   "outputs": [],
   "source": [
    "def vector_3D(x, y=0.0, z=0.0):\n",
    "    \"\"\"\n",
    "    Expresses 1D, 2D or 3D vector in 3D coordinates, as a list.\n",
    "    \"\"\"\n",
    "    return [x, y, z]"
   ]
  },
  {
   "cell_type": "code",
   "execution_count": 102,
   "metadata": {
    "slideshow": {
     "slide_type": "subslide"
    }
   },
   "outputs": [
    {
     "name": "stdout",
     "output_type": "stream",
     "text": [
      "[2.0, 1.5, 6.0]\n",
      "[2.0, 1.5, 0.0]\n",
      "[2.0, 0.0, 0.0]\n"
     ]
    }
   ],
   "source": [
    "print(vector_3D(2.0, 1.5, 6.0))\n",
    "print(vector_3D(2.0, 1.5))\n",
    "print(vector_3D(2.0))"
   ]
  },
  {
   "cell_type": "markdown",
   "metadata": {
    "slideshow": {
     "slide_type": "subslide"
    }
   },
   "source": [
    "__Example: A particle moving with constant acceleration.__\n",
    "<br>\n",
    "Find the position $r$ of a particle, relative to the datum $r=0$, at time, $t$  when:\n",
    " - initial position $r_{0}$ \n",
    " - initial velocity $v_{0}$\n",
    " - constant acceleration $a$. \n",
    "\n",
    "From the equations of motion, the position $r$ at time $t$ is given by:  \n",
    "\n",
    "$$\n",
    "r(t) = r(0) + v(0) t + \\frac{1}{2} a t^{2}\n",
    "$$\n",
    "\n"
   ]
  },
  {
   "cell_type": "markdown",
   "metadata": {
    "slideshow": {
     "slide_type": "subslide"
    }
   },
   "source": [
    "__A particle moving with constant acceleration.__\n",
    "<br>Example: An object falling from rest at $r(0)$, under constant acceleration due to gravity. \n",
    "<br>(*particle*: neglect air resistance)\n",
    "\n",
    "<img src=\"img/gravity_falling.png\" alt=\"Drawing\" style=\"width: 250px;\"/> \n",
    "\n"
   ]
  },
  {
   "cell_type": "markdown",
   "metadata": {
    "slideshow": {
     "slide_type": "subslide"
    }
   },
   "source": [
    " - $a = g = -9.81$ m s$^{-2}$ is sufficiently accurate *in most cases*. \n",
    " - $v(0) = 0$ in __every__ case: \"...falling from rest...\"\n",
    " - $r(0) =$ the height from which the object falls. \n",
    " - $t = $ the time at which we want to find the objects position.\n",
    " \n",
    "We can use keyword arguments for the velocity `v0` and the acceleration `a`:"
   ]
  },
  {
   "cell_type": "code",
   "execution_count": 103,
   "metadata": {
    "collapsed": true
   },
   "outputs": [],
   "source": [
    "def position(t, r0, v0=0.0, a=-9.81):\n",
    "    \"\"\"\n",
    "    Computes position of a particle at time t when falling from rest at initial height r0.\n",
    "    \"\"\"\n",
    "    return r0 + (v0 * t) + (0.5 * a * t**2)"
   ]
  },
  {
   "cell_type": "markdown",
   "metadata": {
    "slideshow": {
     "slide_type": "subslide"
    }
   },
   "source": [
    "__Note__ that we __do not__ need to include the default variables in the brackets when calling the function. \n",
    "\n"
   ]
  },
  {
   "cell_type": "code",
   "execution_count": 104,
   "metadata": {},
   "outputs": [
    {
     "name": "stdout",
     "output_type": "stream",
     "text": [
      "height = 0.8038 m\n"
     ]
    }
   ],
   "source": [
    "def position(t, r0, v0=0.0, a=-9.81):\n",
    "    \"\"\"\n",
    "    Computes position of a particle at time t when falling from rest at initial height r0.\n",
    "    \"\"\"\n",
    "    return r0 + (v0 * t) + (0.5 * a * t**2)\n",
    "\n",
    "# Position at t = 0.2s, when dropped from r0 = 1m\n",
    "p = position(0.2, 1.0)\n",
    "\n",
    "print(\"height =\", p, \"m\")"
   ]
  },
  {
   "cell_type": "markdown",
   "metadata": {
    "slideshow": {
     "slide_type": "subslide"
    }
   },
   "source": [
    "At the equator, the acceleration due to gravity is lower, $a= g = -9.78$ m s$^{-2}$\n",
    "\n",
    "For some calculations, this makes a significnat difference. \n",
    "\n",
    "In this case, we simply override the default value for acceleration:  "
   ]
  },
  {
   "cell_type": "code",
   "execution_count": 105,
   "metadata": {
    "slideshow": {
     "slide_type": "subslide"
    }
   },
   "outputs": [
    {
     "name": "stdout",
     "output_type": "stream",
     "text": [
      "height = 0.8038 m\n",
      "height = 0.8044 m\n"
     ]
    }
   ],
   "source": [
    "# Position at t = 0.2s, when dropped from r0 = 1m\n",
    "p = position(0.2, 1.0)\n",
    "\n",
    "print(\"height =\", p, \"m\")\n",
    "\n",
    "# Position at t = 0.2s, when dropped from r0 = 1m at the equator\n",
    "p = position(0.2, 1, 0.0, -9.78)\n",
    "\n",
    "print(\"height =\", p, \"m\")"
   ]
  },
  {
   "cell_type": "markdown",
   "metadata": {
    "slideshow": {
     "slide_type": "subslide"
    }
   },
   "source": [
    "__Note__ that we have *also* entered the initial velocity, `v`.\n",
    "\n",
    "As the value to overide is the 4th argument, the 3rd argument must also be input. \n",
    "\n",
    "The function interprets:\n",
    "\n",
    "    p = position(0.2, 1, -9.78)\n",
    "    \n",
    "as\n",
    "\n",
    "    p = position(0.2, 1, -9.78 -9.81)\n",
    "    \n",
    "\n"
   ]
  },
  {
   "cell_type": "markdown",
   "metadata": {
    "slideshow": {
     "slide_type": "subslide"
    }
   },
   "source": [
    "Manually inputting an argument, `v0` when we want to use its default is a potential source of error.  \n",
    "\n",
    "We may accidentally input the default value of `v0` incorrectly, causing a bug. \n",
    "\n",
    "A more robust solution is to specify the acceleration by using a named argument. "
   ]
  },
  {
   "cell_type": "code",
   "execution_count": 106,
   "metadata": {
    "slideshow": {
     "slide_type": "subslide"
    }
   },
   "outputs": [
    {
     "name": "stdout",
     "output_type": "stream",
     "text": [
      "height = 0.8044 m\n"
     ]
    }
   ],
   "source": [
    "# Position at t = 0.2s, when dropped from r0 = 1m at the equator\n",
    "p = position(0.2, 1, 0.0, -9.78)\n",
    "\n",
    "print(\"height =\", p, \"m\")"
   ]
  },
  {
   "cell_type": "markdown",
   "metadata": {
    "collapsed": true
   },
   "source": [
    "The program overwrites the correct default value.\n",
    "\n",
    "We do not have to specify `v`. "
   ]
  },
  {
   "cell_type": "markdown",
   "metadata": {
    "slideshow": {
     "slide_type": "subslide"
    }
   },
   "source": [
    "#### Forcing Default Arguments\n",
    "<a id='ForcingDefaultArguments'></a>\n",
    "As an additional safety measure, you can force arguments to be enetered as named arguments by preceding them with a * star in the function definition.\n",
    "\n",
    "All arguments after the star must be entered as named arguments.\n",
    "\n",
    "Below is an example:"
   ]
  },
  {
   "cell_type": "code",
   "execution_count": 107,
   "metadata": {
    "collapsed": true
   },
   "outputs": [],
   "source": [
    "# redefine position function, forcing keyword arguments\n",
    "def position(t, r0, *, v0=0.0, a= -9.81):\n",
    "    \"\"\"\n",
    "    Computes position of an accelerating particle.\n",
    "    \"\"\"\n",
    "    return r0 + (v0 * t) + (0.5 * a * t**2)\n",
    "\n",
    "# Now entering default arguments without a keyword retruns an error\n",
    "# p = position(0.2, 1.0, 3)\n",
    "\n",
    "p = position(0.2, 1.0, v0=3)"
   ]
  },
  {
   "cell_type": "markdown",
   "metadata": {
    "slideshow": {
     "slide_type": "subslide"
    }
   },
   "source": [
    "__Try it yourself__\n",
    "\n",
    "__Hydrostatic Pressure 静水圧__\n",
    "\n",
    "The hydrostatic pressure (Pa = Nm$^{-2}$ = kg m$^{-1}$s$^{-2}$) is the pressure on a submerged object due to the overlying fluid):\n",
    "\n",
    "$$\n",
    "P = \\rho g h\n",
    "$$\n",
    "\n",
    "$g$ = acceleration due to gravity, m s$^{-2}$\n",
    "<br> $\\rho $ = fluid density, kg m$^{-3}$\n",
    "<br> $h$ = height of the fluid above the object, m. \n",
    "\n",
    "<img src=\"img/HydrostaticPressure.png\" alt=\"Drawing\" style=\"width: 350px;\"/>\n",
    "\n"
   ]
  },
  {
   "cell_type": "markdown",
   "metadata": {
    "slideshow": {
     "slide_type": "subslide"
    }
   },
   "source": [
    "In the cell below, write a function that:\n",
    " - takes $g$, $\\rho$ and $h$ as __inputs__\n",
    " - returns (__outputs__) the hydrostatic pressure $P$\n",
    " \n",
    "\n",
    "Assume:\n",
    "<br>The function will mostly to be used for calculating the hydrostatic pressure on objects submerged in __water__.\n",
    " - The acceleration due to gravity, $g = 9.81$ m s$^{-2}$ is sufficiently accurate *in most cases*.<br>(Note: acceleration due to gravity is postive in this example.)\n",
    " - The density of water, $\\rho_w$ = 1000 kg m$^{-3}$ is sufficiently accurate *in most cases*.\n",
    "\n",
    "Therefore use keyword arguments for `g` and `rho` in your function.\n",
    "\n",
    "Remember, keyword/default arguments should appear *after* non-default arguments.\n",
    "\n",
    "Include a doc-string to say what your function does."
   ]
  },
  {
   "cell_type": "code",
   "execution_count": 9,
   "metadata": {},
   "outputs": [],
   "source": [
    "# Function to compute hydrostatic pressure.\n",
    "def pressure(h,g=9.81,p=1000):\n",
    "    return g*p*h"
   ]
  },
  {
   "cell_type": "markdown",
   "metadata": {
    "slideshow": {
     "slide_type": "subslide"
    }
   },
   "source": [
    "__Call__ your function to find the hydrostatic pressure on an object, submerged in water, at a depth of 10m.\n",
    "\n"
   ]
  },
  {
   "cell_type": "code",
   "execution_count": 10,
   "metadata": {},
   "outputs": [
    {
     "name": "stdout",
     "output_type": "stream",
     "text": [
      "98100.0\n"
     ]
    }
   ],
   "source": [
    "# The hydrostatic pressure (Pa) on an object at a depth of 10m in WATER\n",
    "print(pressure(h=10))"
   ]
  },
  {
   "cell_type": "markdown",
   "metadata": {
    "slideshow": {
     "slide_type": "subslide"
    }
   },
   "source": [
    "Then use a suitable value for `g` to find the hydrostatic pressure on an object submerged in water:\n",
    "- at a depth of 10m\n",
    "- at the equator\n",
    "\n"
   ]
  },
  {
   "cell_type": "code",
   "execution_count": 12,
   "metadata": {},
   "outputs": [
    {
     "name": "stdout",
     "output_type": "stream",
     "text": [
      "100258.2\n"
     ]
    }
   ],
   "source": [
    "# The hydrostatic pressure (Pa) on an object:\n",
    "# at a depth of 10m, at the equator \n",
    "print(pressure(h=10,p=1022))"
   ]
  },
  {
   "cell_type": "markdown",
   "metadata": {
    "slideshow": {
     "slide_type": "subslide"
    }
   },
   "source": [
    "Due to it's salt content, seawater has a higher density, $\\rho_{sw}$ = 1022 kg m$^{-3}$.<br>\n",
    "Finally, find the hydrostatic pressure on an object:\n",
    "- submerged in __sea water__\n",
    "- at a depth of 10m\n",
    "- at the equator"
   ]
  },
  {
   "cell_type": "code",
   "execution_count": 111,
   "metadata": {
    "collapsed": true
   },
   "outputs": [],
   "source": [
    "# The hydrostatic pressure (Pa) on an object:\n",
    "# at a depth of 10m, in SEA WATER, at the EQUATOR."
   ]
  },
  {
   "cell_type": "markdown",
   "metadata": {
    "slideshow": {
     "slide_type": "subslide"
    }
   },
   "source": [
    "__Note__ \n",
    "<br> In the last seminar we looked at how to store mulitple variables (e.g. vectors) as lists. \n",
    "<br> The functions above could be implemented more efficiently using lists or tuples. \n",
    "<br>  We will look at how to do this later today. "
   ]
  },
  {
   "cell_type": "markdown",
   "metadata": {
    "slideshow": {
     "slide_type": "slide"
    }
   },
   "source": [
    "## Introduction to Scope\n",
    "\n",
    "__Global variables:__ Variable that are *declared* __outside__ of a function *can* be used __inside__ on the function. <br>\n",
    "They have *global scope*. \n",
    "\n",
    "__Local variables:__ Variables that are *declared* __inside__ of a function *can not* be used __outside__ of the function. \n",
    "<br>\n",
    "They have *local scope*. "
   ]
  },
  {
   "cell_type": "code",
   "execution_count": 16,
   "metadata": {
    "slideshow": {
     "slide_type": "subslide"
    }
   },
   "outputs": [
    {
     "name": "stdout",
     "output_type": "stream",
     "text": [
      "Global variable\n",
      "Local variable\n",
      "Global variable\n"
     ]
    }
   ],
   "source": [
    "# global variable\n",
    "global_var = \"Global variable\"\n",
    "\n",
    "def my_func():\n",
    "    \"\"\"\n",
    "    Prints a global variable and a local variable \n",
    "    \"\"\"\n",
    "    # the function can access the global variable\n",
    "    print(global_var)    \n",
    "     \n",
    "    local_var = \"Local variable\"\n",
    "    print(local_var)\n",
    "\n",
    "# call the function\n",
    "my_func()\n",
    "\n",
    "# Global variables are accessible anywhere\n",
    "print(global_var)\n",
    "\n",
    "# Local variables only accessible within the function in which they are defined\n",
    "# print(local_var)"
   ]
  },
  {
   "cell_type": "markdown",
   "metadata": {
    "slideshow": {
     "slide_type": "subslide"
    }
   },
   "source": [
    "Due to scope, variables with the *same name* can appear globally and locally without conflict. \n",
    "\n",
    "This prevents variables declared inside a function from unexpectedly affecting other parts of a program. \n",
    "\n"
   ]
  },
  {
   "cell_type": "markdown",
   "metadata": {
    "slideshow": {
     "slide_type": "subslide"
    }
   },
   "source": [
    "Where a local and global variable have the same name, the program will use the __local__ version.\n",
    "\n",
    "Let's modify our function `my_func` so now both the local and global varibale have the same name...\n",
    "\n",
    "This time the first `print(var)` raises an error.\n",
    "\n",
    "The local variable overrides the global variable, \n",
    "<br>however the local variable has not yet been assigned a value."
   ]
  },
  {
   "cell_type": "code",
   "execution_count": 22,
   "metadata": {
    "slideshow": {
     "slide_type": "subslide"
    }
   },
   "outputs": [
    {
     "ename": "UnboundLocalError",
     "evalue": "local variable 'var' referenced before assignment",
     "output_type": "error",
     "traceback": [
      "\u001b[0;31m---------------------------------------------------------------------------\u001b[0m",
      "\u001b[0;31mUnboundLocalError\u001b[0m                         Traceback (most recent call last)",
      "\u001b[0;32m<ipython-input-22-3322619ed25b>\u001b[0m in \u001b[0;36m<module>\u001b[0;34m()\u001b[0m\n\u001b[1;32m     11\u001b[0m \u001b[0;34m\u001b[0m\u001b[0m\n\u001b[1;32m     12\u001b[0m \u001b[0;31m# Call the function.\u001b[0m\u001b[0;34m\u001b[0m\u001b[0;34m\u001b[0m\u001b[0m\n\u001b[0;32m---> 13\u001b[0;31m \u001b[0mmy_func\u001b[0m\u001b[0;34m(\u001b[0m\u001b[0;34m)\u001b[0m\u001b[0;34m\u001b[0m\u001b[0m\n\u001b[0m",
      "\u001b[0;32m<ipython-input-22-3322619ed25b>\u001b[0m in \u001b[0;36mmy_func\u001b[0;34m()\u001b[0m\n\u001b[1;32m      4\u001b[0m \u001b[0;32mdef\u001b[0m \u001b[0mmy_func\u001b[0m\u001b[0;34m(\u001b[0m\u001b[0;34m)\u001b[0m\u001b[0;34m:\u001b[0m\u001b[0;34m\u001b[0m\u001b[0m\n\u001b[1;32m      5\u001b[0m     \u001b[0;31m# notice what happens this time if we try to access the global variable within the function\u001b[0m\u001b[0;34m\u001b[0m\u001b[0;34m\u001b[0m\u001b[0m\n\u001b[0;32m----> 6\u001b[0;31m     \u001b[0mprint\u001b[0m\u001b[0;34m(\u001b[0m\u001b[0mvar\u001b[0m\u001b[0;34m)\u001b[0m\u001b[0;34m\u001b[0m\u001b[0m\n\u001b[0m\u001b[1;32m      7\u001b[0m \u001b[0;34m\u001b[0m\u001b[0m\n\u001b[1;32m      8\u001b[0m     \u001b[0;31m# local variable of the same name\u001b[0m\u001b[0;34m\u001b[0m\u001b[0;34m\u001b[0m\u001b[0m\n",
      "\u001b[0;31mUnboundLocalError\u001b[0m: local variable 'var' referenced before assignment"
     ]
    }
   ],
   "source": [
    "# global variable\n",
    "var = \"Global variable\"\n",
    "\n",
    "def my_func():\n",
    "    # notice what happens this time if we try to access the global variable within the function\n",
    "    print(var)    \n",
    "     \n",
    "    # local variable of the same name\n",
    "    var = \"Local variable\"\n",
    "    print(var)\n",
    "    \n",
    "# Call the function.\n",
    "my_func()"
   ]
  },
  {
   "cell_type": "markdown",
   "metadata": {
    "slideshow": {
     "slide_type": "subslide"
    }
   },
   "source": [
    "\n",
    "\n",
    "The global variable `var` is unaffected by the local variable `var`."
   ]
  },
  {
   "cell_type": "code",
   "execution_count": 114,
   "metadata": {},
   "outputs": [
    {
     "name": "stdout",
     "output_type": "stream",
     "text": [
      "Local variable\n",
      "Global variable\n",
      "Local variable\n"
     ]
    }
   ],
   "source": [
    "# global variable\n",
    "var = \"Global variable\"\n",
    "\n",
    "def my_func():\n",
    "     \n",
    "    # local variable of the same name\n",
    "    var = \"Local variable\"\n",
    "    return var\n",
    "\n",
    "# Call the function.\n",
    "print(my_func())\n",
    "\n",
    "# The global variable is unaffected by the local variable\n",
    "print(var)\n",
    "\n",
    "# We can overwrite the global varibale with the returned value\n",
    "var = my_func()\n",
    "print(var)"
   ]
  },
  {
   "cell_type": "markdown",
   "metadata": {
    "slideshow": {
     "slide_type": "subslide"
    }
   },
   "source": [
    "If we *really* want to use a global variable and a local variable \n",
    "<br>with the same name \n",
    "<br>within the same function, \n",
    "<br>we can input use the global variable as a __function argument__.  \n",
    "\n",
    "By inputting it as an argument we rename the global variable for use within the function...."
   ]
  },
  {
   "cell_type": "code",
   "execution_count": 115,
   "metadata": {
    "slideshow": {
     "slide_type": "subslide"
    }
   },
   "outputs": [
    {
     "name": "stdout",
     "output_type": "stream",
     "text": [
      "Global variable\n",
      "Local variable\n",
      "Global variable Local variable\n"
     ]
    }
   ],
   "source": [
    "# Global \n",
    "var = \"Global variable\"\n",
    "\n",
    "def my_func(input_var):\n",
    "    # The argument is given the name input_variable for use within the function \n",
    "    print(input_var)    \n",
    "     \n",
    "    # Local\n",
    "    var = \"Local variable\"\n",
    "    print(var)\n",
    "    \n",
    "    return (input_var + \" \" + var)\n",
    "\n",
    "# Run the function, giving the global variable as an argument\n",
    "print(my_func(var))"
   ]
  },
  {
   "cell_type": "markdown",
   "metadata": {
    "slideshow": {
     "slide_type": "subslide"
    }
   },
   "source": [
    "The global variable is unaffected by the function"
   ]
  },
  {
   "cell_type": "code",
   "execution_count": 116,
   "metadata": {},
   "outputs": [
    {
     "name": "stdout",
     "output_type": "stream",
     "text": [
      "Global variable\n"
     ]
    }
   ],
   "source": [
    "print(var)"
   ]
  },
  {
   "cell_type": "markdown",
   "metadata": {
    "slideshow": {
     "slide_type": "subslide"
    }
   },
   "source": [
    "...unless we overwrite the value of the global variable."
   ]
  },
  {
   "cell_type": "code",
   "execution_count": 117,
   "metadata": {},
   "outputs": [
    {
     "name": "stdout",
     "output_type": "stream",
     "text": [
      "Global variable\n",
      "Global variable\n",
      "Local variable\n",
      "Global variable Local variable\n"
     ]
    }
   ],
   "source": [
    "print(var)\n",
    "\n",
    "var = my_func(var)\n",
    "print(var)"
   ]
  },
  {
   "cell_type": "markdown",
   "metadata": {
    "slideshow": {
     "slide_type": "subslide"
    }
   },
   "source": [
    "__Try it yourself__\n",
    "In the cell below:\n",
    "1. Create a global variable called `my_var`, with a numeric value\n",
    "1. Create a function, called `my_func`, that:\n",
    "    - takes a single argument, `input_var` \n",
    "    - creates a local variable called `my_var` (same name as global variable).\n",
    "    - returns the sum of the function argument and the local variable: `input_var + my_var`.<br><br>\n",
    "1. Print the output when the function `my_func` is called, giving the global varable `my_var` as the input agument.\n",
    "1. print the global variable `my_var`.\n",
    "1. Add a docstring to say what your function does"
   ]
  },
  {
   "cell_type": "code",
   "execution_count": 118,
   "metadata": {
    "collapsed": true
   },
   "outputs": [],
   "source": [
    "# Global and local scope"
   ]
  },
  {
   "cell_type": "markdown",
   "metadata": {
    "slideshow": {
     "slide_type": "subslide"
    }
   },
   "source": [
    "\n",
    "\n",
    "A global variable can be modified from inside a function by:\n",
    "1. Use Python `global` keyword. Give the variable a name.\n",
    "```python\n",
    "global var\n",
    "```\n",
    "1. Assign the variable a value.\n",
    "```python\n",
    "var = 10\n",
    "```"
   ]
  },
  {
   "cell_type": "code",
   "execution_count": 119,
   "metadata": {
    "slideshow": {
     "slide_type": "subslide"
    }
   },
   "outputs": [
    {
     "name": "stdout",
     "output_type": "stream",
     "text": [
      "Before calling the function var = Global variable\n",
      "After calling the function var = Locally assigned global variable\n"
     ]
    }
   ],
   "source": [
    "# global variable\n",
    "var = \"Global variable\"\n",
    "\n",
    "def my_func():\n",
    "     \n",
    "    # Locally assigned global variable\n",
    "    global var\n",
    "    var = \"Locally assigned global variable\"\n",
    "    \n",
    "    \n",
    "print(\"Before calling the function var =\", var)\n",
    "\n",
    "# Call the function.\n",
    "my_func()\n",
    "\n",
    "print(\"After calling the function var =\", var)"
   ]
  },
  {
   "cell_type": "markdown",
   "metadata": {
    "slideshow": {
     "slide_type": "subslide"
    }
   },
   "source": [
    "__Try it yourself__\n",
    "\n",
    "In the cell below:\n",
    "1. Copy and paste your code from the previous exercise.\n",
    "1. Edit your code so that:\n",
    " - The function `my_func` takes no input arguments. \n",
    " - The global variable `my_var` is overwritten within the function using the prefix `global`.  \n",
    "1. Print the global variable before and after calling the function to check your code. \n",
    "1. Modify the docstring as necessary."
   ]
  },
  {
   "cell_type": "code",
   "execution_count": 120,
   "metadata": {
    "collapsed": true
   },
   "outputs": [],
   "source": [
    "# Copy and paste code here:"
   ]
  },
  {
   "cell_type": "markdown",
   "metadata": {
    "slideshow": {
     "slide_type": "subslide"
    }
   },
   "source": [
    "As we have seen, a *local variable* can be accessed from outside the function by *returning* it. "
   ]
  },
  {
   "cell_type": "markdown",
   "metadata": {
    "slideshow": {
     "slide_type": "slide"
    }
   },
   "source": [
    "### Return arguments\n",
    "\n",
    "A __single__ Python function can return:\n",
    "- no values\n",
    "- a single value \n",
    "- multiple return values"
   ]
  },
  {
   "cell_type": "markdown",
   "metadata": {
    "slideshow": {
     "slide_type": "subslide"
    }
   },
   "source": [
    "For example, we could have a function that:\n",
    " - takes three values (`x0, x1, x2`)\n",
    " - returns the maximum, the minimum and the mean"
   ]
  },
  {
   "cell_type": "code",
   "execution_count": 121,
   "metadata": {
    "slideshow": {
     "slide_type": "subslide"
    }
   },
   "outputs": [
    {
     "name": "stdout",
     "output_type": "stream",
     "text": [
      "-20 0.5 -6.466666666666666\n"
     ]
    }
   ],
   "source": [
    "def compute_max_min_mean(x0, x1, x2):\n",
    "    \"Return maximum, minimum and mean values\"\n",
    "    \n",
    "    x_min = x0\n",
    "    if x1 < x_min:\n",
    "        x_min = x1\n",
    "    if x2 < x_min:\n",
    "        x_min = x2\n",
    "\n",
    "    x_max = x0\n",
    "    if x1 > x_max:\n",
    "        x_max = x1\n",
    "    if x2 > x_max:\n",
    "        x_max = x2\n",
    "\n",
    "    x_mean = (x0 + x1 + x2)/3    \n",
    "        \n",
    "    return x_min, x_max, x_mean\n",
    "\n",
    "\n",
    "xmin, xmax, xmean = compute_max_min_mean(0.5, 0.1, -20)\n",
    "print(xmin, xmax, xmean)"
   ]
  },
  {
   "cell_type": "markdown",
   "metadata": {
    "slideshow": {
     "slide_type": "subslide"
    }
   },
   "source": [
    "The __`return`__ keyword works a bit like the __`break`__ statement does in a loop.\n",
    "\n",
    "It returns the value and then exits the function before running the rest of the code.\n",
    "\n",
    "This can provide an efficient way to structure the code.\n",
    "<br>"
   ]
  },
  {
   "cell_type": "markdown",
   "metadata": {
    "slideshow": {
     "slide_type": "subslide"
    }
   },
   "source": [
    "However, if we want the program to do something else before exiting the function it must come before the return statement.\n",
    "\n",
    "In the following example, we want the function to :\n",
    "- return the input value of global variabale `x` as a string, with some information.\n",
    "- increase the value of `x` by 1\n",
    "\n",
    "If we call the function repeatedly, we should see the printed value of global variable `x` increasing. "
   ]
  },
  {
   "cell_type": "markdown",
   "metadata": {
    "slideshow": {
     "slide_type": "subslide"
    }
   },
   "source": [
    "If we increase x by one last after `return`,  the value of `x` does not increase. \n",
    "<br> The program exits the function before `\"Increment global x by +1 \".\n"
   ]
  },
  {
   "cell_type": "code",
   "execution_count": 122,
   "metadata": {
    "slideshow": {
     "slide_type": "subslide"
    }
   },
   "outputs": [
    {
     "name": "stdout",
     "output_type": "stream",
     "text": [
      "1 > 0\n",
      "1 > 0\n",
      "1 > 0\n"
     ]
    }
   ],
   "source": [
    "x = 1\n",
    "\n",
    "def process_value(X):\n",
    "    \"Returns a value that depends on the input value x \"\n",
    "    \n",
    "    if X > 10:\n",
    "        return str(X) + \" > 10\"\n",
    "    elif X > 5:\n",
    "        return str(X) + \" > 5\"\n",
    "    elif X > 0:\n",
    "        return str(X) + \" > 0\"\n",
    "    else:\n",
    "        return str(X)\n",
    "    \n",
    "    # Increment global x by +1\n",
    "    global x\n",
    "    x = X + 1 \n",
    "    \n",
    "print(process_value(x))\n",
    "print(process_value(x))\n",
    "print(process_value(x))"
   ]
  },
  {
   "cell_type": "markdown",
   "metadata": {
    "slideshow": {
     "slide_type": "subslide"
    }
   },
   "source": [
    "The return statement must come last."
   ]
  },
  {
   "cell_type": "code",
   "execution_count": 123,
   "metadata": {},
   "outputs": [
    {
     "name": "stdout",
     "output_type": "stream",
     "text": [
      "1 > 0\n",
      "2 > 0\n",
      "3 > 0\n"
     ]
    }
   ],
   "source": [
    "x = 1\n",
    "\n",
    "def process_value(X):\n",
    "    \"Returns a value that depends on the input value x \"\n",
    "    \n",
    "    #Increment global x by +1 \n",
    "    global x\n",
    "    x = X + 1 \n",
    "    \n",
    "    if x > 10:\n",
    "        return str(X) + \" > 10\"\n",
    "    elif x > 5:\n",
    "        return str(X) + \" > 5\"\n",
    "    elif x > 0:\n",
    "        return str(X) + \" > 0\"\n",
    "    else:\n",
    "        return str(X)    \n",
    "    \n",
    "print(process_value(x))\n",
    "print(process_value(x))\n",
    "print(process_value(x))"
   ]
  },
  {
   "cell_type": "markdown",
   "metadata": {
    "slideshow": {
     "slide_type": "subslide"
    }
   },
   "source": [
    "It may be more appropriate to store the return item as a varable if multiple items are to be returned...\n",
    "<br> "
   ]
  },
  {
   "cell_type": "code",
   "execution_count": 124,
   "metadata": {
    "slideshow": {
     "slide_type": "subslide"
    }
   },
   "outputs": [
    {
     "name": "stdout",
     "output_type": "stream",
     "text": [
      "(None, '-3 < 0')\n",
      "(None, '-2 < 0')\n",
      "(None, '-1 < 0')\n",
      "(None, '0 < 10')\n",
      "('1 > 0', '1 < 10')\n",
      "('2 > 0', '2 < 10')\n",
      "('3 > 0', '3 < 10')\n",
      "('4 > 0', '4 < 10')\n",
      "('5 > 0', '5 < 10')\n",
      "('6 > 0', '6 < 10')\n",
      "('7 > 0', '7 < 10')\n",
      "('8 > 0', '8 < 10')\n",
      "('9 > 0', '9 < 10')\n",
      "('10 > 0', None)\n"
     ]
    }
   ],
   "source": [
    "x = -3\n",
    "\n",
    "def process_value(X):    \n",
    "    \"Returns two values that depend on the input value x \"\n",
    "    if X > 10:\n",
    "        i = (str(X) + \" > 10\")\n",
    "    elif X > 0:\n",
    "        i = (str(X) + \" > 0\")\n",
    "    else:\n",
    "        i = None\n",
    "        \n",
    "    if X < 0:\n",
    "        j = (str(X) + \" < 0\")\n",
    "    elif X < 10:\n",
    "        j = (str(X) + \" < 10\")\n",
    "    else:\n",
    "        j = None\n",
    "    \n",
    "    global x\n",
    "    x = X + 1 \n",
    "    \n",
    "    return i, j\n",
    "    \n",
    "#     if i and j:    \n",
    "#         return i, j  \n",
    "#     elif i:\n",
    "#         return (i,)\n",
    "#     else:\n",
    "#         return (j,)\n",
    "\n",
    "for k in range(14):\n",
    "    print(process_value(x))"
   ]
  },
  {
   "cell_type": "markdown",
   "metadata": {
    "slideshow": {
     "slide_type": "subslide"
    }
   },
   "source": [
    "<a id='RecursiveFunctions'></a>\n",
    "## Recursive Functions\n",
    "\n",
    "A recursive function is a function that makes calls to itself.\n",
    "\n",
    "Let's consider a well-known example, the Fibonacci series of numbers."
   ]
  },
  {
   "cell_type": "markdown",
   "metadata": {
    "slideshow": {
     "slide_type": "subslide"
    }
   },
   "source": [
    "### The Fibonacci Sequence\n",
    "\n",
    "An integer sequence characterised by the fact that every number (after the first two) is the sum of the two preceding numbers. \n",
    "\n",
    "i.e. the $n$th term $f_{n}$ is computed from the preceding terms $f_{n-1}$ and $f_{n-2}$. \n",
    "\n",
    "$$\n",
    "f_n = f_{n-1} + f_{n-2}\n",
    "$$\n",
    "\n",
    "for $n > 1$, and with $f_0 = 0$ and $f_1 = 1$. \n",
    "\n",
    "Due to this dependency on previous terms, we say the series is defined __recursively__.\n",
    "\n",
    "\n",
    "\n",
    "\n",
    "\n",
    "\n",
    "\n"
   ]
  },
  {
   "cell_type": "markdown",
   "metadata": {
    "slideshow": {
     "slide_type": "subslide"
    }
   },
   "source": [
    "The number sequence appears in many natural geometric arrangements: \n",
    "\n",
    "<img src=\"img/FibonacciSpiral.png\" alt=\"Drawing\" style=\"width: 200px;\"/> \n",
    "<img src=\"img/fibonacci-whelk.jpg\" alt=\"Drawing\" style=\"width: 200px;\"/>"
   ]
  },
  {
   "cell_type": "markdown",
   "metadata": {
    "slideshow": {
     "slide_type": "subslide"
    }
   },
   "source": [
    "Below is a function that computes the $n$th number in the Fibonacci sequence using a `for` loop inside the function."
   ]
  },
  {
   "cell_type": "code",
   "execution_count": 125,
   "metadata": {
    "slideshow": {
     "slide_type": "subslide"
    }
   },
   "outputs": [
    {
     "name": "stdout",
     "output_type": "stream",
     "text": [
      "55\n"
     ]
    }
   ],
   "source": [
    "def fib(n):\n",
    "    \"Compute the nth Fibonacci number\"\n",
    "    # Starting values for f0 and f1\n",
    "    f0, f1 = 0, 1\n",
    "\n",
    "    # Handle cases n==0 and n==1\n",
    "    if n == 0:\n",
    "        return 0\n",
    "    elif n == 1:\n",
    "        return 1\n",
    "    \n",
    "    # Start loop (from n = 2)    \n",
    "    for i in range(2, n + 1):\n",
    "        \n",
    "        # Compute next term in sequence\n",
    "        f = f1 + f0\n",
    "\n",
    "        # Update f0 and f1    \n",
    "        f0 = f1\n",
    "        f1 = f\n",
    "        \n",
    "    # Return Fibonacci number\n",
    "    return f\n",
    "\n",
    "print(fib(10))"
   ]
  },
  {
   "cell_type": "markdown",
   "metadata": {
    "slideshow": {
     "slide_type": "subslide"
    }
   },
   "source": [
    "The __recursive function__ below return the same result.\n",
    "\n",
    "It is simpler and has a more \"mathematical\" structure."
   ]
  },
  {
   "cell_type": "code",
   "execution_count": 126,
   "metadata": {
    "slideshow": {
     "slide_type": "subslide"
    }
   },
   "outputs": [
    {
     "name": "stdout",
     "output_type": "stream",
     "text": [
      "55\n"
     ]
    }
   ],
   "source": [
    "def f(n): \n",
    "    \"Compute the nth Fibonacci number using recursion\"\n",
    "    if n == 0:\n",
    "        return 0  # This doesn't call f, so it breaks out of the recursion loop\n",
    "    elif n == 1:\n",
    "        return 1  # This doesn't call f, so it breaks out of the recursion loop\n",
    "    else:\n",
    "        return f(n - 1) + f(n - 2)  # This calls f for n-1 and n-2 (recursion), and returns the sum \n",
    "\n",
    "print(f(10))"
   ]
  },
  {
   "cell_type": "markdown",
   "metadata": {
    "slideshow": {
     "slide_type": "subslide"
    }
   },
   "source": [
    "Care needs to be taken when using recursion that a program does not enter an infinite recursion loop. \n",
    "\n",
    "There must be a mechanism to 'break out' of the recursion cycle. "
   ]
  },
  {
   "cell_type": "markdown",
   "metadata": {
    "slideshow": {
     "slide_type": "slide"
    }
   },
   "source": [
    "<a id='Generators'></a>\n",
    "## Extension: Generators \n",
    "\n",
    "When a Python function is called:\n",
    "1. It excutes the code within the function\n",
    "1. It returns any values \n",
    "The state of the variables within the function are not retained.\n",
    "\n",
    "i.e. the next time the function is called it will process the code within the function exactly as before.\n",
    "\n"
   ]
  },
  {
   "cell_type": "markdown",
   "metadata": {
    "slideshow": {
     "slide_type": "subslide"
    }
   },
   "source": [
    "A generator is a special type of function.\n",
    " - They contain the keyword `yield`.\n",
    " - When called, any variables within the function retain their value at the end of the function call. \n",
    " - Values following the keyword `yield` are \"returned\" by the generator function.\n",
    "\n"
   ]
  },
  {
   "cell_type": "markdown",
   "metadata": {
    "slideshow": {
     "slide_type": "subslide"
    }
   },
   "source": [
    "Intuitively, generators can be used to increment a value. \n",
    "\n",
    "Let's consider our examlpe from earlier, which incremented a value every time called. "
   ]
  },
  {
   "cell_type": "code",
   "execution_count": 127,
   "metadata": {
    "slideshow": {
     "slide_type": "subslide"
    }
   },
   "outputs": [
    {
     "name": "stdout",
     "output_type": "stream",
     "text": [
      "1 > 0\n",
      "2 > 0\n",
      "3 > 0\n"
     ]
    }
   ],
   "source": [
    "x = 1\n",
    "\n",
    "def process_value(X):\n",
    "    \n",
    "    \"Return a value that depends on the input value x \"\n",
    "    if X > 10:\n",
    "        i = (str(X) + \" > 10\")\n",
    "    elif X > 5:\n",
    "        i = (str(X) + \" > 5\")\n",
    "    elif X > 0:\n",
    "        i = (str(X) + \" > 0\")\n",
    "    else:\n",
    "        i = str(X)\n",
    "    \n",
    "    \"Increment global x by +1 \"\n",
    "    global x\n",
    "    x = X + 1 \n",
    "    \n",
    "    return i    \n",
    "    \n",
    "print(process_value(x))\n",
    "print(process_value(x))\n",
    "print(process_value(x))"
   ]
  },
  {
   "cell_type": "markdown",
   "metadata": {
    "slideshow": {
     "slide_type": "subslide"
    }
   },
   "source": [
    "A more concise way to express this is as a generator.\n",
    "1. Use the function definition line as normal\n",
    "1. Initialise the variable(s) you are going to increment.\n",
    "1. Start a while loop. `while True` creates an infinite while loop. <br> The program won't get stuck as it will only execute 1 loop every time the function is called.\n",
    "1. The value to yield each loop.\n",
    "1. The operation to perform each loop\n"
   ]
  },
  {
   "cell_type": "code",
   "execution_count": 128,
   "metadata": {
    "collapsed": true,
    "slideshow": {
     "slide_type": "subslide"
    }
   },
   "outputs": [],
   "source": [
    "# `def` is used as normal\n",
    "def incr():\n",
    "    \n",
    "    # create an initial value, i\n",
    "    i = 1\n",
    "    \n",
    "    # while loop\n",
    "    while True:\n",
    "        \n",
    "        # the value to return at each call\n",
    "        yield i \n",
    "        \n",
    "        # the operation to perform on i at each call\n",
    "        i += 1  \n"
   ]
  },
  {
   "cell_type": "markdown",
   "metadata": {
    "slideshow": {
     "slide_type": "subslide"
    }
   },
   "source": [
    "We create a *generator object* by assigning the generator to a name:"
   ]
  },
  {
   "cell_type": "code",
   "execution_count": 129,
   "metadata": {
    "collapsed": true
   },
   "outputs": [],
   "source": [
    "inc = incr()"
   ]
  },
  {
   "cell_type": "markdown",
   "metadata": {
    "slideshow": {
     "slide_type": "-"
    }
   },
   "source": [
    "The next value can be called using the `next` keyword:"
   ]
  },
  {
   "cell_type": "code",
   "execution_count": 130,
   "metadata": {},
   "outputs": [
    {
     "name": "stdout",
     "output_type": "stream",
     "text": [
      "1\n",
      "2\n",
      "3\n"
     ]
    }
   ],
   "source": [
    "print(next(inc))\n",
    "print(next(inc))\n",
    "print(next(inc))\n",
    "\n"
   ]
  },
  {
   "cell_type": "markdown",
   "metadata": {
    "slideshow": {
     "slide_type": "subslide"
    }
   },
   "source": [
    "It is not very efficient to print next mulitple times.\n",
    "\n",
    "We can call the generator multiple times using a for loop.\n",
    "\n"
   ]
  },
  {
   "cell_type": "markdown",
   "metadata": {
    "collapsed": true,
    "slideshow": {
     "slide_type": "subslide"
    }
   },
   "source": [
    "As the generator contains an infinite while loop, we must specify where the code should stop running to avoid getting trapped in an infinite loop. \n",
    "\n",
    "There is more than one way to do this.\n",
    "\n",
    "Here are two examples..."
   ]
  },
  {
   "cell_type": "code",
   "execution_count": 131,
   "metadata": {
    "slideshow": {
     "slide_type": "subslide"
    }
   },
   "outputs": [
    {
     "name": "stdout",
     "output_type": "stream",
     "text": [
      "4\n",
      "5\n",
      "6\n",
      "7\n",
      "8\n",
      "9\n",
      "10\n",
      "11\n",
      "12\n",
      "13\n"
     ]
    }
   ],
   "source": [
    "# to print the result of the next 10 loops\n",
    "for j in range(10):\n",
    "    print(next(inc))"
   ]
  },
  {
   "cell_type": "code",
   "execution_count": 132,
   "metadata": {
    "slideshow": {
     "slide_type": "subslide"
    }
   },
   "outputs": [
    {
     "name": "stdout",
     "output_type": "stream",
     "text": [
      "14\n",
      "15\n",
      "16\n",
      "17\n",
      "18\n",
      "19\n",
      "20\n"
     ]
    }
   ],
   "source": [
    "# to keep looping until the incremented value exceeds a specified threshold \n",
    "for i in inc: \n",
    "    if i > 20:\n",
    "        break\n",
    "    else:\n",
    "        print(i)"
   ]
  },
  {
   "cell_type": "markdown",
   "metadata": {
    "slideshow": {
     "slide_type": "subslide"
    }
   },
   "source": [
    "### The Fibonacci Sequence (Continued)\n",
    "\n",
    "The followig example shows how a generator can be used to produce the Fibonacci number sequence. "
   ]
  },
  {
   "cell_type": "code",
   "execution_count": 133,
   "metadata": {
    "slideshow": {
     "slide_type": "subslide"
    }
   },
   "outputs": [
    {
     "name": "stdout",
     "output_type": "stream",
     "text": [
      "0\n",
      "1\n",
      "1\n",
      "2\n",
      "3\n",
      "5\n",
      "8\n",
      "13\n",
      "21\n",
      "34\n",
      "55\n",
      "89\n"
     ]
    }
   ],
   "source": [
    "def fibonacci():\n",
    "    # first two values in the sequence\n",
    "    a = 0\n",
    "    b = 1\n",
    "    \n",
    "    # infinite while loop\n",
    "    while True:\n",
    "        \n",
    "        # value to return\n",
    "        yield a        \n",
    "        \n",
    "        a, b = b, a + b\n",
    "        \n",
    "# Create a generator object called fib        \n",
    "fib = fibonacci()\n",
    "\n",
    "# Call single loops of the function\n",
    "print(next(fib))\n",
    "print(next(fib))\n",
    "print(next(fib))\n",
    "\n",
    "# Repeatedly call the function until the sequence exceeds 100.\n",
    "for i in fib: \n",
    "    if i > 100:\n",
    "        break\n",
    "    else:\n",
    "        print(i)"
   ]
  },
  {
   "cell_type": "markdown",
   "metadata": {
    "slideshow": {
     "slide_type": "slide"
    }
   },
   "source": [
    "## Extension: Callbacks\n",
    "\n",
    "When we create a function using the `def` keyword we assign it to a function name. \n",
    "<br> e.g. in the function above we assign the name fibonacci:\n",
    "```python\n",
    "def fibonacci():\n",
    "```\n",
    "\n"
   ]
  },
  {
   "cell_type": "markdown",
   "metadata": {
    "slideshow": {
     "slide_type": "subslide"
    }
   },
   "source": [
    "We can also create un-named functions using the `lambda` keyword.\n",
    "\n",
    "An un-named function: \n",
    " - may contain a single expression, only\n",
    " - must always return a value\n",
    " \n"
   ]
  },
  {
   "cell_type": "markdown",
   "metadata": {
    "slideshow": {
     "slide_type": "slide"
    }
   },
   "source": [
    "The next example shows the definition of a function and a lambda function.\n",
    "<br> Both perform exactly the same task; computing the value of `x`$^2$.\n",
    "\n",
    "Both can be called using:\n",
    "```python\n",
    "square(5)\n",
    "```\n",
    "with the number in brackets being the value that you want to square. "
   ]
  },
  {
   "cell_type": "code",
   "execution_count": 134,
   "metadata": {},
   "outputs": [
    {
     "name": "stdout",
     "output_type": "stream",
     "text": [
      "25\n",
      "25\n"
     ]
    }
   ],
   "source": [
    "# function definition expressed on two lines\n",
    "#def square(x):\n",
    "#    return x ** 2\n",
    "\n",
    "# function definition expressed on one line\n",
    "def square(x) :  return x ** 2\n",
    "\n",
    "print(square(5))\n",
    "\n",
    "# un-named function\n",
    "square = lambda x : x ** 2\n",
    "    \n",
    "print(square(5))"
   ]
  },
  {
   "cell_type": "markdown",
   "metadata": {
    "collapsed": true,
    "slideshow": {
     "slide_type": "slide"
    }
   },
   "source": [
    "So what is the point of the un-named function? "
   ]
  },
  {
   "cell_type": "markdown",
   "metadata": {
    "slideshow": {
     "slide_type": "slide"
    }
   },
   "source": [
    "\n",
    "- Short functions can be written more concisely.\n",
    "- Functions can be embedded within main body of the code, for example within a list.\n",
    "- This is not possible with a regular function...\n"
   ]
  },
  {
   "cell_type": "code",
   "execution_count": 135,
   "metadata": {
    "slideshow": {
     "slide_type": "slide"
    }
   },
   "outputs": [
    {
     "name": "stdout",
     "output_type": "stream",
     "text": [
      "25\n",
      "125\n",
      "625\n"
     ]
    }
   ],
   "source": [
    "# 1. Define functions\n",
    "def function1(x): return x ** 2\n",
    "def function2(x): return x ** 3\n",
    "def function3(x): return x ** 4\n",
    "\n",
    "# 2. Compile list\n",
    "callbacks = [function1, function2, function3]\n",
    "\n",
    "# 3. Call each function\n",
    "for function in callbacks:\n",
    "    print(function(5))"
   ]
  },
  {
   "cell_type": "code",
   "execution_count": 136,
   "metadata": {
    "slideshow": {
     "slide_type": "slide"
    }
   },
   "outputs": [
    {
     "name": "stdout",
     "output_type": "stream",
     "text": [
      "25\n",
      "125\n",
      "625\n"
     ]
    }
   ],
   "source": [
    "# 1. Define lamda functions within list\n",
    "callbacks = [lambda x : x ** 2, lambda x : x ** 3, lambda x : x ** 4]\n",
    "\n",
    "# 3. Call each function\n",
    "for function in callbacks:\n",
    "    print(function(5))"
   ]
  },
  {
   "cell_type": "markdown",
   "metadata": {
    "collapsed": true,
    "slideshow": {
     "slide_type": "slide"
    }
   },
   "source": [
    "## Review Exercises\n",
    "The following review problems are designed to:\n",
    " - test your understanding of the different techniques for building functions that we have learnt today.\n",
    " - test your ability to use user-defined Pyhton functions to solve the type of engineering problems you will encounter in your studies. "
   ]
  },
  {
   "cell_type": "markdown",
   "metadata": {
    "slideshow": {
     "slide_type": "slide"
    }
   },
   "source": [
    "### Review Exercise: Simple function\n",
    "\n",
    "In the cell below, write a function called `is_even` that determines if a number is even by running:\n",
    "\n",
    "```python\n",
    "is_even(n)\n",
    "```\n",
    "\n",
    "__Input:__ `n` (an integer). \n",
    "\n",
    "__Output:__ The function should return:\n",
    " - `True` if the argument is even\n",
    " - `False` if the argument is not even\n",
    " \n",
    "Include a __documentation string (docstring)__ to say what your function does.\n",
    "\n",
    "<a href='#DocString'>Jump to Documentation Strings</a>\n",
    " \n",
    "Print the output of your function for several input values."
   ]
  },
  {
   "cell_type": "code",
   "execution_count": 137,
   "metadata": {
    "collapsed": true
   },
   "outputs": [],
   "source": [
    "# A simple function"
   ]
  },
  {
   "cell_type": "code",
   "execution_count": 138,
   "metadata": {},
   "outputs": [
    {
     "name": "stdout",
     "output_type": "stream",
     "text": [
      "False\n",
      "True\n",
      "False\n",
      "True\n"
     ]
    }
   ],
   "source": [
    "# Example Solution \n",
    "\n",
    "def is_even(n):\n",
    "    \"\"\"\n",
    "    Returns boolean true if input is even and boolean false if input is odd\n",
    "    \"\"\"\n",
    "    #return (n % 2 == 0)\n",
    "    return (not n % 2)\n",
    "\n",
    "print(is_even(1))\n",
    "print(is_even(2))\n",
    "print(is_even(3))\n",
    "print(is_even(4))"
   ]
  },
  {
   "cell_type": "markdown",
   "metadata": {},
   "source": [
    "### Review Exercise: Expressing Calculations as Functions\n",
    "\n",
    "In the cell below, copy and paste your answer from previous seminar __Control Flow__:\n",
    "<br>__Review Exercise: `for` loops and `if`, `else` and `continue` statements.__\n",
    "\n",
    "__(A)__ Us the pasted code to write a function called `square_root` that prints the square root of an input argument by running:\n",
    "\n",
    "```python\n",
    "square_root(n)\n",
    "```\n",
    "\n",
    "__Input:__ Argument is `n` (a numeric variable). \n",
    "\n",
    "__Output:__ The function should return the square root of `n`\n",
    "\n",
    "Include a doc-string to say what your function does. \n",
    "\n",
    "<a href='#DocString'>Jump to Documentation Strings'</a> \n",
    "\n",
    "__(B)__ Using your answer to __Control Flow, Review Exercise: `for` loops and `if`, `else` and `continue` statements__,\n",
    " to print the sqaure root of the first 25 odd positive integers."
   ]
  },
  {
   "cell_type": "code",
   "execution_count": 139,
   "metadata": {
    "collapsed": true
   },
   "outputs": [],
   "source": [
    "# A function to find the square root of an input"
   ]
  },
  {
   "cell_type": "code",
   "execution_count": 140,
   "metadata": {},
   "outputs": [
    {
     "name": "stdout",
     "output_type": "stream",
     "text": [
      "1.0\n",
      "1.7320508075688772\n",
      "2.23606797749979\n",
      "2.6457513110645907\n",
      "3.0\n",
      "3.3166247903554\n",
      "3.605551275463989\n",
      "3.872983346207417\n",
      "4.123105625617661\n",
      "4.358898943540674\n",
      "4.58257569495584\n",
      "4.795831523312719\n",
      "5.0\n",
      "5.196152422706632\n",
      "5.385164807134504\n",
      "5.5677643628300215\n",
      "5.744562646538029\n",
      "5.916079783099616\n",
      "6.082762530298219\n",
      "6.244997998398398\n",
      "6.4031242374328485\n",
      "6.557438524302\n",
      "6.708203932499369\n",
      "6.855654600401044\n",
      "7.0\n"
     ]
    }
   ],
   "source": [
    "# Example Solution\n",
    "def square_root(n):\n",
    "    \"\"\"\n",
    "    Returns the square root of an input value. \n",
    "    \"\"\"\n",
    "    return (n ** (1/2))\n",
    "    \n",
    "    \n",
    "for x in range(1, 50, 2):\n",
    "    print(square_root(x))"
   ]
  },
  {
   "cell_type": "markdown",
   "metadata": {},
   "source": [
    "### Review Exercise: Using Data Structures as Function Arguments - Counter\n",
    "In the cell below write a function:\n",
    "\n",
    "__Input:__ Argument is a list. e.g. `[\"fizz\", \"buzz\", \"buzz\", \"fizz\", \"fizz\", \"fizz\"]`\n",
    "\n",
    "__Output:__ The function should return the numer of times \"fizz\" appears in a list.\n",
    "\n",
    "Demonstrate that your function works by inputting a list.\n",
    "\n",
    "*Hint 1:* Create a local variable, `count`, within your function.\n",
    "<br>Increment the count by one for each instance of `fizz`.\n",
    "\n",
    "*Hint 2:* Use a `for` loop to iterate over the list to count the number of times `fizz` appears."
   ]
  },
  {
   "cell_type": "code",
   "execution_count": 141,
   "metadata": {
    "collapsed": true
   },
   "outputs": [],
   "source": [
    "# Counter"
   ]
  },
  {
   "cell_type": "code",
   "execution_count": 142,
   "metadata": {},
   "outputs": [
    {
     "data": {
      "text/plain": [
       "4"
      ]
     },
     "execution_count": 142,
     "metadata": {},
     "output_type": "execute_result"
    }
   ],
   "source": [
    "#Example Solution\n",
    "\n",
    "def fizz_counter(words):\n",
    "    count=0\n",
    "    for w in words:\n",
    "        if w == \"fizz\":\n",
    "            count=count +1\n",
    "    return count\n",
    "            \n",
    "fizz_buzz = [\"fizz\", \"buzz\", \"buzz\", \"fizz\", \"fizz\", \"fizz\"] \n",
    "\n",
    "fizz_counter(fizz_buzz)"
   ]
  },
  {
   "cell_type": "markdown",
   "metadata": {
    "slideshow": {
     "slide_type": "slide"
    }
   },
   "source": [
    "### Review Exercise: Using Data Structures as Function Arguments - Magnitude\n",
    "\n",
    "The magnitude of an $n$ dimensional vector can be written\n",
    "\n",
    "$$\n",
    "|\\mathbf{x}|= \\sqrt{x_1^2 + x_2^2 + ... x_n^2} = \\sqrt{\\sum_{i = 1}^{n} (x_{n})^2 }\n",
    "$$\n",
    "\n",
    "Therefore...\n",
    "\n",
    "The magnitude of a 2D vector (e.g. $x = [x_1, x_2]$):\n",
    "\n",
    "$$\n",
    "|\\mathbf{x}|= \\sqrt{x_1^2 + x_2^2}\n",
    "$$\n",
    "<br>\n",
    "\n",
    "The magnitude of a 3D vector (e.g. $x = [x_1, x_2, x_3]$):\n",
    "\n",
    "$$\n",
    "|\\mathbf{x}|= \\sqrt{x_1^2 + x_2^2 + x_3^2}\n",
    "$$\n",
    "<br>\n",
    "\n",
    "__(A)__ In the cell below, write a function called `magnitude` that computes the magnitude of an n-dimensional vector.\n",
    "<br>Include a doc-string to say what your function does.\n",
    "<br>Check your function, for example use hand calculations to verify the answer is correct.  \n",
    "\n",
    "__Argument:__ `list` with n elements (e.g. [x, y]) if vector is 2D, [x, y, z]), if vector is 3D.\n",
    "\n",
    "__Return:__ Magnitude of the vector.\n",
    "\n",
    "Hints: \n",
    " - <a href='#DataStrcuturesAsArguments'>Jump to Data Structure as Arguments.</a>  \n",
    " - Use a loop to iterate over each item in the list. \n",
    "\n",
    "__(B)__ Print the output of your function to show that it works for both 2D and 3D input vectors. \n"
   ]
  },
  {
   "cell_type": "code",
   "execution_count": 143,
   "metadata": {
    "collapsed": true
   },
   "outputs": [],
   "source": [
    "# A function that computes the magnitude of an n-dimensional vector "
   ]
  },
  {
   "cell_type": "code",
   "execution_count": 144,
   "metadata": {},
   "outputs": [
    {
     "name": "stdout",
     "output_type": "stream",
     "text": [
      "3.7416573867739413\n",
      "2.23606797749979\n"
     ]
    }
   ],
   "source": [
    "#Example Solution\n",
    "def magnitude(vector):\n",
    "    \"Computes the magnitude of an n-dimensional vector\"\n",
    "    x = 0.0\n",
    "    for v in vector:\n",
    "        x += v**2\n",
    "    return x**(1/2)\n",
    "\n",
    "print(magnitude([1,2,3]))\n",
    "print(magnitude([1,2]))"
   ]
  },
  {
   "cell_type": "code",
   "execution_count": 145,
   "metadata": {},
   "outputs": [
    {
     "name": "stdout",
     "output_type": "stream",
     "text": [
      "3.7416573867739413\n",
      "2.23606797749979\n"
     ]
    }
   ],
   "source": [
    "# Improved Solution\n",
    "\n",
    "def magnitude(vector):\n",
    "    \"Computes the magnitude of an n-dimensional vector\"\n",
    "    x = [v**2 for v in vector]\n",
    "    x = sum(x)  \n",
    "    return x**(1/2)\n",
    "\n",
    "\n",
    "# ...which can be expressed more concisely as a single line\n",
    "def magnitude(vector):\n",
    "    \"Computes the magnitude of an n-dimensional vector\"\n",
    "    return (sum([v**2 for v in vector]))**(1/2)\n",
    "\n",
    "\n",
    "print(magnitude([1,2,3]))\n",
    "print(magnitude([1,2]))"
   ]
  },
  {
   "cell_type": "markdown",
   "metadata": {},
   "source": [
    "### Review Exercise: Using Functions as Function Arguments, Default Arguments. \n",
    "Copy and paste your function `is_even` from __Review Exercise: Simple function__ in the cell below.\n",
    "\n",
    "__(A)__ Edit `is_even` to:\n",
    "- take two arguments:\n",
    " - a numeric variable, `n`\n",
    " - the function `square_root` from __Review Exercise: Using Data Structures as Function Arguments__. <a href='#FunctionsAsArguments'>Jump to Using Functions as Function Arguments.</a> \n",
    "- return:\n",
    " - `True` if the square root of n is even\n",
    " - `False` if the square root of n is not even\n",
    "\n",
    "__(B)__ Make `square_root` the __default__ value of the function argument.\n",
    "<br><a href='#DefaultArguments'>Jump to Default Arguments.</a>  \n",
    "<br>Force the function argument to be input using a named argument. \n",
    "<br><a href='#ForcingDefaultArguments'>Jump to Forcing Default Arguments.</a>  \n",
    "\n",
    "__(C)__ Print the output ofthe function `is_even` for the first 25 natural numbers."
   ]
  },
  {
   "cell_type": "code",
   "execution_count": 146,
   "metadata": {
    "collapsed": true
   },
   "outputs": [],
   "source": [
    "# A function to determine if the square root of a number is odd or even"
   ]
  },
  {
   "cell_type": "code",
   "execution_count": 147,
   "metadata": {},
   "outputs": [
    {
     "name": "stdout",
     "output_type": "stream",
     "text": [
      "False\n",
      "False\n",
      "False\n",
      "True\n",
      "False\n",
      "False\n",
      "False\n",
      "False\n",
      "False\n",
      "False\n",
      "False\n",
      "False\n",
      "False\n",
      "False\n",
      "False\n",
      "True\n",
      "False\n",
      "False\n",
      "False\n",
      "False\n",
      "False\n",
      "False\n",
      "False\n",
      "False\n",
      "False\n"
     ]
    }
   ],
   "source": [
    "def square_root(n):\n",
    "    \"\"\"\n",
    "    Returns the square root of an input value. \n",
    "    \"\"\"\n",
    "    return (n ** (1/2))\n",
    "\n",
    "def is_even(n, *, f=square_root):\n",
    "    \"\"\"\n",
    "    Returns boolean true if input is even and boolean false if input is odd\n",
    "    \"\"\"    \n",
    "    return (not f(n) % 2)\n",
    " \n",
    "for x in range(1, 26):\n",
    "    print(is_even(x))"
   ]
  },
  {
   "cell_type": "markdown",
   "metadata": {},
   "source": [
    "### Review Excercise: Using Functions as Function Arguments - Bisection\n",
    "\n",
    "Refer to your answer to __Seminar 3, Review Exercise: `while` loops (bisection)__\n",
    "\n",
    "<img src=\"img/bisection_method_simple.png\" alt=\"Drawing\" style=\"width: 300px;\"/>\n",
    "\n",
    "__(A)__ Express your answer to __Seminar 3, Review Exercise: `while` loops (bisection)__, as a function called `bisection`.<br>\n",
    "The function should compute approximate the root of a function, `F`, by running:\n",
    "\n",
    "`bisection(f, a, b , tol=1e-6, nmax=30)`\n",
    "\n",
    "\n",
    "  - `f` : The function F(x) you wish to find the root of (`F` should first be defined (using `def`)).\n",
    "  - `a` : The minimum of the interval within which the root lies.  \n",
    "  - `b` : The maximum of the interval within which the root lies.  \n",
    "  - `tol` : User defined tolerance. <br> The program determines a root has been found when |F(x$_{mid}$)| < `tol`.\n",
    "  - `nmax` : The maximum number of iterations before the program breaks out of the loop.\n",
    " <br>\n",
    " \n",
    "<a href='#FunctionsAsArguments'>Jump to Functions as Function Arguments. </a>\n",
    "\n",
    " \n",
    "\n",
    "<br>\n",
    "\n",
    "__(B)__ Define the function F(x) = 4x$^3$ - 3x$^2$ - 25x - 6 using `def`.\n",
    "\n",
    "\n",
    "$$\n",
    "F(x) = 4x^3 - 3x^2 - 25x - 6\n",
    "$$\n",
    "\n",
    "<img src=\"img/graph_polynomial.png\" alt=\"Drawing\" style=\"width: 300px;\"/>\n",
    "\n",
    "__(C)__ Use you `bisection` function to find the root of F(x) that lies between a = -0.6  and  b = 0.\n",
    "<br> Use default arguments `tol=1e-6` and `nmax=25`:\n",
    "\n",
    "<br>`f` = `F`\n",
    "<br>`a` = -0.6\n",
    "<br>`b` = 0\n",
    "<br>`tol` = 1 $\\times$10$^{-6}$\n",
    "<br> `nmax` = 25\n",
    "\n",
    "`bisection(f, -0.6, 0 , tol=1e-6, nmax=30)`\n",
    "\n",
    "Compare your answer to your answer to __Seminar 3, Review Exercise: `while` loops (bisection)__.\n",
    "\n",
    "Include a doc-string to say what your function does.\n"
   ]
  },
  {
   "cell_type": "code",
   "execution_count": 148,
   "metadata": {
    "collapsed": true
   },
   "outputs": [],
   "source": [
    "# Bisection Function"
   ]
  },
  {
   "cell_type": "code",
   "execution_count": 149,
   "metadata": {},
   "outputs": [
    {
     "name": "stdout",
     "output_type": "stream",
     "text": [
      "1.122\n",
      "-2.331\n",
      "-0.57244\n",
      "0.28343\n",
      "-0.14242\n",
      "0.07104\n",
      "-0.03556\n",
      "0.01777\n",
      "-0.00889\n",
      "0.00444\n",
      "-0.00222\n",
      "0.00111\n",
      "-0.00056\n",
      "0.00028\n",
      "-0.00014\n",
      "7e-05\n",
      "-3e-05\n",
      "2e-05\n",
      "-1e-05\n",
      "root =  -0.25\n"
     ]
    }
   ],
   "source": [
    "#Example Solution\n",
    "\n",
    "def F(x):\n",
    "    return (4 * x**3) - (3 * x**2) - (25 * x) - 6\n",
    "\n",
    "def bisection(f, a, b, tol=1e-6, nmax=30):\n",
    "    \"\"\"\n",
    "    Estimates the root of a function, F(x), using two values; x = a and x = b, where F(a)F(b) < 0\n",
    "    \"\"\"\n",
    "    if (f(a) * f(b) < 0): \n",
    "        \n",
    "        xmid = (a + b) / 2\n",
    "\n",
    "        for i in range(nmax):\n",
    "\n",
    "            print(round(f(xmid), 5))\n",
    "\n",
    "            if (abs(f(xmid)) < 10E-6):\n",
    "                return xmid\n",
    "\n",
    "            # If F(x) changes sign between F(x_mid) and F(a), \n",
    "            # the root must lie between F(x_mid) and F(a)\n",
    "            if f(xmid) * f(a) < 0:\n",
    "                b = xmid\n",
    "                xmid = (a + b)/2\n",
    "\n",
    "\n",
    "            # If F(x) changes sign between F(x_mid) and F(b), \n",
    "            # the root must lie between F(x_mid) and F(b)    \n",
    "            else:\n",
    "                a = xmid\n",
    "                xmid = (a + b)/2  \n",
    "                \n",
    "root = bisection(F, -0.6, 0)\n",
    "\n",
    "print(\"root = \", round(root, 4))"
   ]
  },
  {
   "cell_type": "markdown",
   "metadata": {},
   "source": [
    "### Review Exercise: Scope\n",
    "\n",
    "In the example below, complete the comments with definition (\"local variable\"/\"global variable\") describing the scope of variables a-c."
   ]
  },
  {
   "cell_type": "code",
   "execution_count": 150,
   "metadata": {},
   "outputs": [
    {
     "name": "stdout",
     "output_type": "stream",
     "text": [
      "3\n"
     ]
    }
   ],
   "source": [
    "# In the code below: \n",
    "# a is a local variable / global variable\n",
    "# b is a ...\n",
    "# c is a ...\n",
    "# d is a ...\n",
    "\n",
    "def my_function(a):\n",
    "    b = a - 2\n",
    "    return b\n",
    "\n",
    "c = 3\n",
    "\n",
    "if c > 2:\n",
    "    d = my_function(5)\n",
    "    print(d)"
   ]
  },
  {
   "cell_type": "code",
   "execution_count": 151,
   "metadata": {
    "collapsed": true
   },
   "outputs": [],
   "source": [
    "# Example Solution\n",
    "\n",
    "# a is a local variable \n",
    "# b is a local variable \n",
    "# c is a global variable \n",
    "# d is a local variable "
   ]
  },
  {
   "cell_type": "markdown",
   "metadata": {
    "collapsed": true,
    "slideshow": {
     "slide_type": "slide"
    }
   },
   "source": [
    "### Review Exercise:  Recursive Functions\n",
    "\n",
    "The factorial of a positive integer $n$ is:\n",
    "\n",
    "\\begin{align}\n",
    "n! = \\prod_{i=1}^{n} i =1 \\cdot 2 \\cdot 3 \\cdot ... (n - 2) \\cdot (n - 1) \\cdot n\n",
    "\\end{align}\n",
    "\n",
    "We can write this *recursively*.\n",
    "<br>This means we use the value of $(n-1)!$ to compute the value of $n!$:\n",
    "\n",
    "$$\n",
    "n! = (n-1)! n \n",
    "$$\n",
    "\n",
    "Note: $0! = 1$\n",
    " \n",
    "e.g. \n",
    "<br> $1! = 1 \\cdot 0! = 1 $\n",
    "<br> $2! = 2 \\cdot 1! = 2 \\cdot 1 = 2$\n",
    "<br> $3! = 3 \\cdot 2! = 3 \\cdot 2 \\cdot 1 = 6$\n",
    "<br> $4! = 4 \\cdot 3! = 4 \\cdot 3 \\cdot 2 \\cdot 1 = 24$\n",
    "\n",
    "A recursive function is a function that calls itself. \n",
    "<br><a href='#RecursiveFunctions'>Jump to Recursive Functions</a>\n",
    "\n",
    "__(A)__ In the cell below, write a __recursive function__ called `factorial` to compute $n!$ of an input argument `n`:\n",
    "\n",
    "__Input:__ Numerical variable `n`\n",
    "\n",
    "__Output:__ `factorial(n) = factorial(n-1)*n` \n",
    "\n",
    "\n",
    "Include a doc-string to say what your function does. \n",
    "\n",
    "Test your function for correctness using hand calculations. \n",
    "\n",
    "<br>\n",
    "__(B)__ The formula above only applies to __positive integers__(with a specific exception for 0). \n",
    "<br>Include a check to make sure the input value is a positive integer or zero. \n",
    "\n",
    "Show the output of your function for several input values.\n",
    "\n"
   ]
  },
  {
   "cell_type": "code",
   "execution_count": 152,
   "metadata": {
    "collapsed": true
   },
   "outputs": [],
   "source": [
    "# A function to compute n! for input n"
   ]
  },
  {
   "cell_type": "code",
   "execution_count": 153,
   "metadata": {},
   "outputs": [
    {
     "name": "stdout",
     "output_type": "stream",
     "text": [
      "input not postive integer\n"
     ]
    },
    {
     "data": {
      "text/plain": [
       "24"
      ]
     },
     "execution_count": 153,
     "metadata": {},
     "output_type": "execute_result"
    }
   ],
   "source": [
    "#Example solution\n",
    "\n",
    "def factorial(n):\n",
    "    \n",
    "    # check if n is an integer \n",
    "    if (int(n) == n >= 0):\n",
    "        \n",
    "        # take care of case that n \n",
    "        if n < 1:\n",
    "            return 1\n",
    "        else:\n",
    "            return n * factorial(n - 1)\n",
    "    \n",
    "    else:\n",
    "        print(\"input not postive integer\")\n",
    "\n",
    "factorial(-4)\n",
    "factorial(4)"
   ]
  },
  {
   "cell_type": "markdown",
   "metadata": {},
   "source": [
    "# Updating your git repository\n",
    "\n",
    "You have made several changes to your interactive textbook.\n",
    "\n",
    "You have made several changes to your interactive textbook.\n",
    "\n",
    " > Save your work.\n",
    " > <br> `git add -A`\n",
    " > <br>`git commit -m \"A short message describing changes\"`\n",
    " > <br>`git push`"
   ]
  },
  {
   "cell_type": "markdown",
   "metadata": {
    "collapsed": true,
    "slideshow": {
     "slide_type": "slide"
    }
   },
   "source": [
    "# Summary\n",
    " - Functions are defined using the .... keyword.\n",
    " - Functions contain indented statements to execute when the function is called.\n",
    " - Global variables can be used ....(where?)\n",
    " - Local variables can be used ....(where?)\n",
    " - Function arguments (inputs) are declared between () parentheses, seperated by commas.\n",
    " - Function arguments muct be specified each time a function is called. \n",
    " - Default arguments do not need to be specified when a function is called unless .... \n",
    " - The keyword used to define the function outputs is ....\n",
    "\n"
   ]
  },
  {
   "cell_type": "markdown",
   "metadata": {
    "collapsed": true
   },
   "source": [
    "# Summary: Extension Topics\n",
    "- An un-named function can be created using the `lamda` keyword.\n",
    "- A generator function is created when the keyword `yield` is included in the function block.\n",
    "- Varibales in a generator function their state from when the function was last called.\n",
    "- The python built in `next()` function can be used to continue execution of a generator function by one iteration.\n",
    " "
   ]
  },
  {
   "cell_type": "markdown",
   "metadata": {
    "collapsed": true
   },
   "source": [
    "# Homework \n",
    "\n",
    "\n",
    "1. __COMPLETE__ any unfinished Review Exercises.<br>In particular, please complete: __Review Excercise: Using Functions as Function Arguments.__.<br>You will need to refer to your answer in next week's Seminar. \n",
    "1. __PUSH__ the changes you make at home to your online repository. "
   ]
  },
  {
   "cell_type": "code",
   "execution_count": null,
   "metadata": {
    "collapsed": true
   },
   "outputs": [],
   "source": []
  }
 ],
 "metadata": {
  "kernelspec": {
   "display_name": "Python 3",
   "language": "python",
   "name": "python3"
  },
  "language_info": {
   "codemirror_mode": {
    "name": "ipython",
    "version": 3
   },
   "file_extension": ".py",
   "mimetype": "text/x-python",
   "name": "python",
   "nbconvert_exporter": "python",
   "pygments_lexer": "ipython3",
   "version": "3.6.2"
  }
 },
 "nbformat": 4,
 "nbformat_minor": 2
}
