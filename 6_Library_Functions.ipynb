{
 "cells": [
  {
   "cell_type": "code",
   "execution_count": 2,
   "metadata": {
    "slideshow": {
     "slide_type": "skip"
    }
   },
   "outputs": [
    {
     "data": {
      "text/html": [
       "<style>\n",
       "\n",
       "body {\n",
       " counter-reset: h2counter;\n",
       "}\n",
       "h1 {\n",
       " counter-reset: h2counter;\n",
       "}\n",
       "h2:before {\n",
       " content: counter(h2counter) \".\\0000a0\\0000a0\";\n",
       " counter-increment: h2counter;\n",
       " counter-reset: h3counter;\n",
       "}\n",
       "\n",
       "\n",
       "</style>\n"
      ],
      "text/plain": [
       "<IPython.core.display.HTML object>"
      ]
     },
     "execution_count": 2,
     "metadata": {},
     "output_type": "execute_result"
    }
   ],
   "source": [
    "from IPython.core.display import HTML\n",
    "def css_styling():\n",
    "    styles = open(\"./styles/custom.css\", \"r\").read()\n",
    "    return HTML(styles)\n",
    "css_styling()"
   ]
  },
  {
   "cell_type": "markdown",
   "metadata": {
    "slideshow": {
     "slide_type": "slide"
    }
   },
   "source": [
    "### BEFORE YOU DO ANYTHING...\n",
    "In the terminal:\n",
    "1. Navigate to __inside__ your ILAS_Python repository.\n",
    "2. __COMMIT__ any un-commited work on your personal computer.\n",
    "3. __PULL__ any changes *you* have made using another computer.\n",
    "4. __PULL__ textbook updates (including homework answers)."
   ]
  },
  {
   "cell_type": "markdown",
   "metadata": {
    "slideshow": {
     "slide_type": "slide"
    }
   },
   "source": [
    "1. __Open Jupyter notebook:__   Start >> Programs (すべてのプログラム) >> Programming >> Anaconda3 >> JupyterNotebook\n",
    "1. __Navigate to the ILAS_Python folder__. \n",
    "1. __Open today's seminar__  by clicking on 6_Library_Functions."
   ]
  },
  {
   "cell_type": "markdown",
   "metadata": {
    "collapsed": true,
    "slideshow": {
     "slide_type": "slide"
    }
   },
   "source": [
    "# Library Functions\n",
    "# Lesson Goal\n",
    "\n",
    "Source and incorporate appropriate functions from external libraries to optimise your code.  \n",
    "\n",
    "\n",
    "\n"
   ]
  },
  {
   "cell_type": "markdown",
   "metadata": {
    "slideshow": {
     "slide_type": "subslide"
    }
   },
   "source": [
    "# Objectives\n",
    "\n",
    "- Review standard library functions\n",
    "- Importing and using modules\n",
    "- Understanding module documentation\n",
    "- Using imported functions to optimise the code you have written so far.\n",
    "- Determining optimal solutions by timing your code."
   ]
  },
  {
   "cell_type": "markdown",
   "metadata": {
    "slideshow": {
     "slide_type": "subslide"
    }
   },
   "source": [
    "Why we are studying this:\n",
    "    \n",
    "- To optimise your code (faster, more concise) by incorporating library functions.\n",
    "- To learn to independently source functions using the internet. \n",
    "- To learn how and when to replace user defined code with appropriate library functions. "
   ]
  },
  {
   "cell_type": "markdown",
   "metadata": {
    "slideshow": {
     "slide_type": "subslide"
    }
   },
   "source": [
    "__Lesson structure:__ Today we will learn about functions that we import from external files or “libraries”. \n",
    " - Libraries\n",
    " - The standard library\n",
    " - Reading function documentation\n",
    " - Namespaces\n",
    " - Importing a function\n",
    " - Using package functions\n",
    " - Using package functions to optimise your code\n",
    " - Importing algorithms as functions \n",
    " - Review excercises \n",
    " - Update GitHub repository. \n",
    " - Summary"
   ]
  },
  {
   "cell_type": "markdown",
   "metadata": {
    "slideshow": {
     "slide_type": "slide"
    }
   },
   "source": [
    "## Libraries\n",
    "\n",
    "Python, like other modern programming languages, has an extensive *library* of built-in functions. \n",
    "\n",
    "These functions are designed, tested and optimised by the developers of the Python langauge.  \n",
    "\n",
    "We can use these functions to make our code shorter, faster and more reliable.\n"
   ]
  },
  {
   "cell_type": "markdown",
   "metadata": {
    "slideshow": {
     "slide_type": "subslide"
    }
   },
   "source": [
    "You are already familiar with some *built in* Python functions:\n",
    "\n",
    "   - `print()` takes the __input__ in the parentheses and __outputs__ a visible representation.\n",
    "   - `len()` takes a data structure as __input__ in the parentheses and __outputs__ the number of items in the data structure (in one direction).\n",
    "   - `sorted()` takes a data structure as __input__ in the parentheses and __outputs__ the data structure sorted by a rule determined by the data type.\n",
    "   - `abs()` takes a numeric variable as  __input__ in the parentheses and __outputs__ the mathematical absolute value of the input."
   ]
  },
  {
   "cell_type": "markdown",
   "metadata": {
    "slideshow": {
     "slide_type": "subslide"
    }
   },
   "source": [
    "These functions belong to Python's __standard library__..."
   ]
  },
  {
   "cell_type": "markdown",
   "metadata": {
    "slideshow": {
     "slide_type": "slide"
    }
   },
   "source": [
    "## The Standard Library"
   ]
  },
  {
   "cell_type": "markdown",
   "metadata": {
    "slideshow": {
     "slide_type": "subslide"
    }
   },
   "source": [
    "Python has a large standard library. \n",
    "\n",
    "It is simply a collection of Python files called 'modules'.\n",
    "\n",
    "These files are installed on the computer you are using.\n",
    "\n",
    "Each module contains code very much like the code that you have been writing, defining various variables, functions and methods. \n",
    "\n",
    "There are multiple modules to keep the code sorted and well organised. "
   ]
  },
  {
   "cell_type": "markdown",
   "metadata": {
    "slideshow": {
     "slide_type": "subslide"
    }
   },
   "source": [
    "__Function:__\n",
    "<br>A piece of code that is called by name. \n",
    "<br>It can be *passed* data to operate on (i.e., the parameters) and can optionally *return* data (the return value). \n",
    "\n",
    "__Example__\n",
    "```Python\n",
    "sorted([5, 2, 3, 1, 4])\n",
    "```"
   ]
  },
  {
   "cell_type": "markdown",
   "metadata": {
    "slideshow": {
     "slide_type": "subslide"
    }
   },
   "source": [
    "__Method:__\n",
    "<br>A method is a piece of code that is called by name.\n",
    "<br>It is already associated with an object type (e.g. a list) so it is expressed after a . dot at the end of the object name. \n",
    "<br>It mostly behaves the same as a function  except:  \n",
    "- It is automatically passed for the object which it is attached to.\n",
    "- (It can only operate on objects that contain the method. It can operate on data insde of that class.)  \n",
    "\n",
    "__Example__\n",
    "```Python\n",
    "a = [1, 5, 2, 7, 5]\n",
    "a.sort()\n",
    "```"
   ]
  },
  {
   "cell_type": "markdown",
   "metadata": {
    "collapsed": true,
    "slideshow": {
     "slide_type": "subslide"
    }
   },
   "source": [
    "The standard libary contains many useful functions. \n",
    "\n",
    "They are listed on the Python website:\n",
    "https://docs.python.org/3/library/functions.html\n",
    "\n",
    "If you want to do something, for example a mathematical operation, it worth trying an internet search for a built-in function already exists.\n",
    "\n"
   ]
  },
  {
   "cell_type": "markdown",
   "metadata": {
    "slideshow": {
     "slide_type": "subslide"
    }
   },
   "source": [
    "For example, a quick google search for \"python function to sum all the numbers in a list\"...\n",
    "\n",
    "https://www.google.co.jp/search?q=python+function+to+sum+all+the+numbers+in+a+list&rlz=1C5CHFA_enJP751JP751&oq=python+function+to+sum+&aqs=chrome.0.0j69i57j0l4.7962j0j7&sourceid=chrome&ie=UTF-8\n",
    "\n",
    "...returns the function `sum()`."
   ]
  },
  {
   "cell_type": "markdown",
   "metadata": {
    "slideshow": {
     "slide_type": "subslide"
    }
   },
   "source": [
    "\n",
    "\n",
    "`sum()` finds the sum of the values in a data strcuture. "
   ]
  },
  {
   "cell_type": "code",
   "execution_count": 3,
   "metadata": {
    "slideshow": {
     "slide_type": "subslide"
    }
   },
   "outputs": [
    {
     "name": "stdout",
     "output_type": "stream",
     "text": [
      "15\n",
      "15\n",
      "15\n"
     ]
    }
   ],
   "source": [
    "print(sum([1,2,3,4,5]))\n",
    "\n",
    "print(sum((1,2,3,4,5)))\n",
    "\n",
    "a = [1,2,3,4,5]\n",
    "print(sum(a))"
   ]
  },
  {
   "cell_type": "markdown",
   "metadata": {
    "slideshow": {
     "slide_type": "subslide"
    }
   },
   "source": [
    "The function `max()` finds the maximum value in data structure."
   ]
  },
  {
   "cell_type": "code",
   "execution_count": 4,
   "metadata": {
    "slideshow": {
     "slide_type": "subslide"
    }
   },
   "outputs": [
    {
     "name": "stdout",
     "output_type": "stream",
     "text": [
      "61\n",
      "15\n",
      "5\n"
     ]
    }
   ],
   "source": [
    "print(max([4,61,12,9,2]))\n",
    "\n",
    "print(max((3,6,9,12,15)))\n",
    "\n",
    "a = [1,2,3,4,5]\n",
    "print(max(a))"
   ]
  },
  {
   "cell_type": "markdown",
   "metadata": {
    "slideshow": {
     "slide_type": "slide"
    }
   },
   "source": [
    "## Packages\n",
    "\n",
    "The standard library tools are available in any Python environment.\n",
    "\n",
    "More specialised libraries are available. \n",
    "\n",
    "We call these packages. \n",
    "\n"
   ]
  },
  {
   "cell_type": "markdown",
   "metadata": {
    "slideshow": {
     "slide_type": "subslide"
    }
   },
   "source": [
    "Two widely used packages for mathematics, science and engineeirng are `NumPy` and `SciPy`.\n",
    "\n",
    "These are already installed as part of Anaconda.\n",
    "\n",
    "A package is a collection of Python modules: \n",
    "- a __module__ is a single Python file\n",
    "- a __package__ is a directory of Python modules.<br>(It contains an __init__.py file, to distinguish it from folders that are not libraries)."
   ]
  },
  {
   "cell_type": "markdown",
   "metadata": {
    "slideshow": {
     "slide_type": "subslide"
    }
   },
   "source": [
    "### Importing a Package\n",
    "\n",
    "To use an installed package, we  simply `import` it. "
   ]
  },
  {
   "cell_type": "markdown",
   "metadata": {
    "slideshow": {
     "slide_type": "subslide"
    }
   },
   "source": [
    "Packages contain functions and constants for more specific tasks e.g. solving trigonometric functions. \n",
    "\n",
    "We simply install the modules on the computer where we want to use them. "
   ]
  },
  {
   "cell_type": "code",
   "execution_count": 1,
   "metadata": {
    "slideshow": {
     "slide_type": "subslide"
    }
   },
   "outputs": [
    {
     "name": "stdout",
     "output_type": "stream",
     "text": [
      "0.540302305868\n",
      "3.141592653589793\n"
     ]
    }
   ],
   "source": [
    "import numpy \n",
    "\n",
    "x = 1\n",
    "\n",
    "y = numpy.cos(x)\n",
    "\n",
    "print(y)\n",
    "\n",
    "print(numpy.pi)"
   ]
  },
  {
   "cell_type": "markdown",
   "metadata": {
    "slideshow": {
     "slide_type": "subslide"
    }
   },
   "source": [
    "The `import` statement must appear before the use of the package in the code.  \n",
    "\n",
    "        import numpy \n",
    "\n",
    "After this, any function in `numpy` can be called as:\n",
    "\n",
    "        `numpy.function()`\n",
    "        \n",
    "and, any constant in `numpy` can be called as:\n",
    "\n",
    "        `numpy.constant`.\n",
    "\n",
    "There are a many mathematical functions available. <br>\n",
    "https://docs.scipy.org/doc/numpy-1.13.0/reference/routines.math.html"
   ]
  },
  {
   "cell_type": "markdown",
   "metadata": {
    "slideshow": {
     "slide_type": "subslide"
    }
   },
   "source": [
    "We can change the name of a package e.g. to keep our code short and neat.\n",
    "\n",
    "Using the __`as`__ keyword:"
   ]
  },
  {
   "cell_type": "code",
   "execution_count": 6,
   "metadata": {
    "slideshow": {
     "slide_type": "subslide"
    }
   },
   "outputs": [
    {
     "name": "stdout",
     "output_type": "stream",
     "text": [
      "3.141592653589793\n"
     ]
    }
   ],
   "source": [
    "import numpy as np\n",
    "print(np.pi)"
   ]
  },
  {
   "cell_type": "markdown",
   "metadata": {
    "slideshow": {
     "slide_type": "subslide"
    }
   },
   "source": [
    "We only need to import a package once, at the start of the program or notebook."
   ]
  },
  {
   "cell_type": "markdown",
   "metadata": {
    "slideshow": {
     "slide_type": "slide"
    }
   },
   "source": [
    "## Reading function documentation\n",
    "\n",
    "To check how to use a function e.g.:\n",
    "- what arguments to include in the () parentheses\n",
    "- allowable data types to use as arguments\n",
    "- the order in which arguments should be given \n",
    " \n",
    "you can:\n",
    "\n",
    "- search for the documentation online e.g. https://docs.scipy.org/doc/numpy-1.13.0/reference/routines.math.html\n",
    "- press \"Shift\" + \"Tab\" when the curser is between the () parentheses of a function call (Jupyter notebook only).\n",
    "\n"
   ]
  },
  {
   "cell_type": "markdown",
   "metadata": {
    "slideshow": {
     "slide_type": "subslide"
    }
   },
   "source": [
    "For example, the documentation for the function numpy.cos: <br> https://docs.scipy.org/doc/numpy-1.13.0/reference/routines.math.html includes:\n",
    "\n",
    "##### What the function does.\n",
    "\"Cosine element-wise.\"\n",
    "\n",
    "##### All possible function arguments (parameters)\n",
    "\n",
    "<img src=\"img/numpy_cos.png\" alt=\"Drawing\" style=\"width: 500px;\"/> \n",
    "\n",
    ">numpy.cos(<font color='blue'>x</font>, /, <font color='red'>out=None</font>, *, <font color='green'>where=True, casting='same_kind', order='K', dtype=None, subok=True</font> [, <font color='purple'>signature, extobj</font> ]) \n",
    "\n",
    "In the () parentheses following the function name are:\n",
    "- <font color='blue'>*positional* arguments (required)</font>\n",
    "- <font color='red'>*keyword* arguments (with a default value, optionally set). Listed after the `/` slash.</font>\n",
    "- <font color='green'>arguments that must be explicitly named. Listed after the `*` star.</font> \n",
    "  <br><font color='purple'>(including arguments without a default value.  Listed in `[]` brackets.)</font>\n",
    "\n",
    "##### Function argument definitions and acceptable forms.  \n",
    "\n",
    "<img src=\"img/numpy_cos_params.png\" alt=\"Drawing\" style=\"width: 500px;\"/> \n",
    "\n",
    "x : array_like *(it can be an `int`, `float`, `list` or `tuple`)*\n",
    "\n",
    "out : ndarray, None, or tuple of ndarray and None, optional\n",
    "\n",
    "where : array_like, optional \n",
    "\n",
    "##### What the function returns\n",
    "__y__ : ndarray<br>\n",
    "&nbsp; &nbsp; &nbsp; &nbsp; The corresponding cosine values."
   ]
  },
  {
   "cell_type": "code",
   "execution_count": 7,
   "metadata": {
    "slideshow": {
     "slide_type": "subslide"
    }
   },
   "outputs": [
    {
     "name": "stdout",
     "output_type": "stream",
     "text": [
      "0.87758256189\n",
      "0.87758256189 [[ 1.]]\n",
      "[[ 0.87758256]]\n"
     ]
    }
   ],
   "source": [
    "import numpy as np\n",
    "\n",
    "x = 0.5\n",
    "z = np.ones((1,1))\n",
    "\n",
    "# cos with posistional argument\n",
    "print(np.cos(x))\n",
    "\n",
    "# cos with positional and default arguments\n",
    "print(np.cos(x), z)\n",
    "\n",
    "# cos with positional argument, default argument and keyword argument\n",
    "print(np.cos(x, z, where=True))"
   ]
  },
  {
   "cell_type": "markdown",
   "metadata": {
    "slideshow": {
     "slide_type": "subslide"
    }
   },
   "source": [
    "Let's look at the function numpy.degrees:\n",
    "https://docs.scipy.org/doc/numpy-1.13.0/reference/generated/numpy.degrees.html\n",
    "\n",
    "What does the function do?\n",
    "\n",
    "What __arguments__ does it take (and are there any default arguments)? \n",
    "\n",
    "How would we __write__ the function when __calling__ it (accept defaults)?\n",
    "\n",
    "What __data type__ should our input be? "
   ]
  },
  {
   "cell_type": "markdown",
   "metadata": {
    "slideshow": {
     "slide_type": "slide"
    }
   },
   "source": [
    "## `args*` and `kwargs**`\n",
    "You may have noticed the word `**kwargs` listed in the function documentation. \n",
    "<br>`*args` and `**kwargs` can be used when we don't know the exact number of arguments we want to pass to the function.\n",
    "\n",
    "`*args` lets us pass any number of *arguments*.\n",
    "\n",
    "`**kwargs` lets us pass any number of *keyword arguments*. \n",
    "\n",
    "(Actually, `*` and `**` are the only required code. The names `args` and `kwargs` are widely accepted convention)."
   ]
  },
  {
   "cell_type": "markdown",
   "metadata": {
    "slideshow": {
     "slide_type": "subslide"
    }
   },
   "source": [
    "### Packing: `*args` and `**kwargs in function definitions`\n",
    "In a function definition, `*args` must appear before `**kwargs`."
   ]
  },
  {
   "cell_type": "markdown",
   "metadata": {
    "slideshow": {
     "slide_type": "subslide"
    }
   },
   "source": [
    "### Packing `*args`\n",
    "Sometimes we want the number of arguments we can pass to a function to be flexible.\n",
    "\n",
    "Consider the example below which we studied in the last seminar \n",
    "\n",
    "This simple function to express x, (y and z) inputs as a list. <br>(e.g. coordinates to define a position vector). \n",
    "\n"
   ]
  },
  {
   "cell_type": "code",
   "execution_count": 8,
   "metadata": {
    "slideshow": {
     "slide_type": "-"
    }
   },
   "outputs": [
    {
     "data": {
      "text/plain": [
       "[1, 2, 3]"
      ]
     },
     "execution_count": 8,
     "metadata": {},
     "output_type": "execute_result"
    }
   ],
   "source": [
    "def vector_3D(x, y=0.0, z=0.0):\n",
    "    \"\"\"\n",
    "    Expresses 1D, 2D or 3D vector in 3D coordinates, as a list.\n",
    "    \"\"\"\n",
    "    return [x, y, z]\n",
    "\n",
    "vector_3D(1, 2, 3)"
   ]
  },
  {
   "cell_type": "markdown",
   "metadata": {
    "slideshow": {
     "slide_type": "subslide"
    }
   },
   "source": [
    "However, it is still limited to a maximum of *three* inputs.\n",
    "\n",
    "Sometimes it can be convenient to allow any number of inputs:\n",
    " - enter __any number__ or arguments. \n",
    " - have the function store the arguments as a single tuple (behaves like any other tuple).\n",
    " \n",
    "This is called *packing*.\n",
    "\n",
    "By allowing the function to take any number of `*args`, we make it more __flexible__."
   ]
  },
  {
   "cell_type": "code",
   "execution_count": 9,
   "metadata": {
    "slideshow": {
     "slide_type": "subslide"
    }
   },
   "outputs": [
    {
     "data": {
      "text/plain": [
       "[1, 2, 3, 4]"
      ]
     },
     "execution_count": 9,
     "metadata": {},
     "output_type": "execute_result"
    }
   ],
   "source": [
    "def var_to_list(*args):\n",
    "    \"\"\"\n",
    "    Expresses any numbe of inputs as a list. \n",
    "    \"\"\"\n",
    "    var_list = []\n",
    "    \n",
    "    for a in args:\n",
    "        var_list.append(a)\n",
    "        \n",
    "    return var_list\n",
    "\n",
    "var_to_list(1, 2, 3, 4)"
   ]
  },
  {
   "cell_type": "markdown",
   "metadata": {
    "slideshow": {
     "slide_type": "subslide"
    }
   },
   "source": [
    "Arguments must be listed before keyword arguments as usual."
   ]
  },
  {
   "cell_type": "code",
   "execution_count": 10,
   "metadata": {
    "collapsed": true,
    "slideshow": {
     "slide_type": "skip"
    }
   },
   "outputs": [],
   "source": [
    "def var_to_list(*args, extra=2):\n",
    "    \"\"\"\n",
    "    Expresses a vector of any length as a list. \n",
    "    \"\"\"\n",
    "    var_list = []\n",
    "    \n",
    "    for a in args:\n",
    "        var_list.append(a)\n",
    "        \n",
    "    return var_list"
   ]
  },
  {
   "cell_type": "code",
   "execution_count": 11,
   "metadata": {
    "slideshow": {
     "slide_type": "skip"
    }
   },
   "outputs": [
    {
     "name": "stdout",
     "output_type": "stream",
     "text": [
      "[1, 2, 3, 4, 5]\n",
      "[1, 2, 3, 4]\n"
     ]
    }
   ],
   "source": [
    "print(var_to_list(1, 2, 3, 4, 5))\n",
    "\n",
    "print(var_to_list(1, 2, 3, 4, extra=5))\n"
   ]
  },
  {
   "cell_type": "markdown",
   "metadata": {
    "slideshow": {
     "slide_type": "subslide"
    }
   },
   "source": [
    "### Packing `**kwargs`\n",
    "`**` allows multiple keyword-variable pairs to be entered which it stores in the form of a dictionary.\n",
    "<br>This is useful as we can access the keyword and the variables seperately."
   ]
  },
  {
   "cell_type": "code",
   "execution_count": 12,
   "metadata": {
    "slideshow": {
     "slide_type": "-"
    }
   },
   "outputs": [
    {
     "name": "stdout",
     "output_type": "stream",
     "text": [
      "thing1 : robot\n",
      "thing2 : melon\n"
     ]
    }
   ],
   "source": [
    "def table_things(**kwargs):\n",
    "    \"Prints key-value pairs seperated by a colon\"\n",
    "    for name, value in kwargs.items():\n",
    "        print(f\"{name} : {value}\")\n",
    "\n",
    "table_things(thing1 = 'robot', thing2 = 'melon')   "
   ]
  },
  {
   "cell_type": "markdown",
   "metadata": {
    "slideshow": {
     "slide_type": "subslide"
    }
   },
   "source": [
    "Packing can make your code more efficient by skipping unecessary sections."
   ]
  },
  {
   "cell_type": "code",
   "execution_count": 2,
   "metadata": {
    "slideshow": {
     "slide_type": "-"
    }
   },
   "outputs": [
    {
     "name": "stdout",
     "output_type": "stream",
     "text": [
      "(1,1)\n",
      "(3,4)\n"
     ]
    }
   ],
   "source": [
    "x = 1\n",
    "y = 1\n",
    "\n",
    "def position(**kwargs):\n",
    "    \"Prints x, y coordinates of current position\"\n",
    "    \n",
    "    if \"new_pos\" in kwargs:\n",
    "        global x, y \n",
    "        x = kwargs[\"new_pos\"][0]\n",
    "        y = kwargs[\"new_pos\"][1]\n",
    "        \n",
    "    print(f\"({x},{y})\")    \n",
    "\n",
    "pos_update = position()\n",
    "\n",
    "pos_update = position(new_pos=[3,4])"
   ]
  },
  {
   "cell_type": "markdown",
   "metadata": {
    "slideshow": {
     "slide_type": "subslide"
    }
   },
   "source": [
    "So in function documentation, for example, __`**kwargs`__refers to a series of keyword arguments of which you may enter as few or as many as you wish to set. \n",
    "\n",
    "<img src=\"img/numpy_cos.png\" alt=\"Drawing\" style=\"width: 500px;\"/> \n",
    "\n",
    "<img src=\"img/numpy_cos_params.png\" alt=\"Drawing\" style=\"width: 500px;\"/> \n",
    "\n"
   ]
  },
  {
   "cell_type": "markdown",
   "metadata": {
    "slideshow": {
     "slide_type": "subslide"
    }
   },
   "source": [
    "### Unpacking: `*args` and `**kwargs when calling functions`\n",
    "\n",
    "Sometimes it can be convenient to do the opposite:\n",
    " - enter a __single data structure__; all the functin arguments packed up somewhere earlier in the program.\n",
    " - have the function unpack the list for us into __multiple containers__; the individual function arguments. \n",
    "\n",
    "<br>This reverse process to packing is known as *unpacking*.\n",
    "\n",
    "By packing the arguments as a single input, calling the function can become more __efficient__. "
   ]
  },
  {
   "cell_type": "markdown",
   "metadata": {
    "slideshow": {
     "slide_type": "subslide"
    }
   },
   "source": [
    "### Unpacking `*args`\n",
    "A single data structure e.g. a list, unpacks as the function arguments in the order they appear.\n",
    "<br>Therefore the data structure should be the *same* length as the number of arguments it is being used to input.\n",
    "<br>In other words, unlike packing, the number of arguments is now fixed."
   ]
  },
  {
   "cell_type": "code",
   "execution_count": 14,
   "metadata": {
    "slideshow": {
     "slide_type": "subslide"
    }
   },
   "outputs": [
    {
     "name": "stdout",
     "output_type": "stream",
     "text": [
      "1 4 5 6\n",
      "1 2 4 5\n"
     ]
    }
   ],
   "source": [
    "def test_args_func(first, second, third, fourth):\n",
    "    \"Prints each argument of the function\"\n",
    "    print(first, second, third, fourth)\n",
    "    \n",
    "to_unpack = [4, 5, 6]\n",
    "\n",
    "test_args_func(1, *to_unpack)\n",
    "test_args_func(1, 2, *to_unpack[:2])"
   ]
  },
  {
   "cell_type": "markdown",
   "metadata": {
    "slideshow": {
     "slide_type": "subslide"
    }
   },
   "source": [
    "### Unpacking `**kwargs`\n",
    "Values in the dictionary are adddressed using the function arguments as keywords.\n",
    "<br>This means that the arguments can appear in the dictinary in any order.\n",
    "<br>The dictionary should be the *same* length as the number of arguments it is being used to input *and* the dictionary entried should have the same names."
   ]
  },
  {
   "cell_type": "code",
   "execution_count": 7,
   "metadata": {
    "slideshow": {
     "slide_type": "subslide"
    }
   },
   "outputs": [
    {
     "name": "stdout",
     "output_type": "stream",
     "text": [
      "1 12 13 14\n"
     ]
    }
   ],
   "source": [
    "def test_args_func(first, second, third, fourth):\n",
    "    \"Prints each argument of the function\"\n",
    "    print(first, second, third, fourth)\n",
    "    \n",
    "dictionary = {\"second\": 12, \"fourth\": 14, \"third\": 13}\n",
    "\n",
    "test_args_func(1, **dictionary)"
   ]
  },
  {
   "cell_type": "markdown",
   "metadata": {
    "collapsed": true,
    "slideshow": {
     "slide_type": "slide"
    }
   },
   "source": [
    "## Namespaces\n",
    "<br>By prefixing `cos` with `np`, we are using a *namespace* (which in this case is `np`).\n",
    "\n"
   ]
  },
  {
   "cell_type": "markdown",
   "metadata": {
    "slideshow": {
     "slide_type": "subslide"
    }
   },
   "source": [
    "The namespace shows we want to use the `cos` function from the Numpy package.\n",
    "\n",
    "If `cos` appears in more than one package we import, then there will be more than one `cos` function available.\n",
    "\n",
    "We must make it clear which `cos` we want to use. \n",
    "\n",
    "\n"
   ]
  },
  {
   "cell_type": "markdown",
   "metadata": {
    "slideshow": {
     "slide_type": "subslide"
    }
   },
   "source": [
    "Often, functions with the same name, from different packages, will use a different algorithms for performing the same or similar operation. \n",
    "\n",
    "They may vary in speed and accuracy. \n",
    "\n",
    "In some applications we might need an accurate method for computing the square root, for example, and the speed of the program may not be important. For other applications we might need speed with an allowable compromise on accuracy.\n"
   ]
  },
  {
   "cell_type": "markdown",
   "metadata": {
    "slideshow": {
     "slide_type": "subslide"
    }
   },
   "source": [
    "Below are two functions, both named `sqrt`. \n",
    "\n",
    "Both functions compute the square root of the input.\n",
    "\n",
    " - `math.sqrt`, from the package, `math`, gives an error if the input is a negative number. It does not support complex numbers.\n",
    " - `cmath.sqrt`, from the package, `cmath`, supports complex numbers.\n"
   ]
  },
  {
   "cell_type": "code",
   "execution_count": 16,
   "metadata": {
    "slideshow": {
     "slide_type": "subslide"
    }
   },
   "outputs": [
    {
     "name": "stdout",
     "output_type": "stream",
     "text": [
      "2.0\n"
     ]
    }
   ],
   "source": [
    "import math\n",
    "import cmath\n",
    "print(math.sqrt(4))\n",
    "#print(math.sqrt-5)\n",
    "#print(cmath.sqrt(-5))"
   ]
  },
  {
   "cell_type": "markdown",
   "metadata": {
    "slideshow": {
     "slide_type": "subslide"
    }
   },
   "source": [
    "Two developers collaborating on the same program might choose the same name for two functions that perform similar tasks. \n",
    "\n",
    "If these functions are in different modules, there will be no name clash since the module name provides a 'namespace'. "
   ]
  },
  {
   "cell_type": "markdown",
   "metadata": {
    "slideshow": {
     "slide_type": "slide"
    }
   },
   "source": [
    "## Importing a Function\n",
    "Single functions can be imported without importing the entire package e.g. use:\n",
    "\n",
    "        from numpy import cos\n",
    "\n",
    "instead of:\n",
    "\n",
    "        import numpy \n",
    "\n",
    "After this you call the function without the numpy prefix: "
   ]
  },
  {
   "cell_type": "code",
   "execution_count": 17,
   "metadata": {
    "slideshow": {
     "slide_type": "-"
    }
   },
   "outputs": [
    {
     "data": {
      "text/plain": [
       "-0.65364362086361194"
      ]
     },
     "execution_count": 17,
     "metadata": {},
     "output_type": "execute_result"
    }
   ],
   "source": [
    "from numpy import cos\n",
    "\n",
    "cos(x)"
   ]
  },
  {
   "cell_type": "markdown",
   "metadata": {
    "slideshow": {
     "slide_type": "subslide"
    }
   },
   "source": [
    "Be careful when doing this as there can be only one definition of each function.\n",
    "In the case that a function name is already defined, it will be overwritten by a more recent definition. "
   ]
  },
  {
   "cell_type": "code",
   "execution_count": 8,
   "metadata": {
    "slideshow": {
     "slide_type": "-"
    }
   },
   "outputs": [
    {
     "name": "stdout",
     "output_type": "stream",
     "text": [
      "1j\n"
     ]
    }
   ],
   "source": [
    "from cmath import sqrt\n",
    "print(sqrt(-1))\n",
    "from math import sqrt\n",
    "#print(sqrt(-1))"
   ]
  },
  {
   "cell_type": "markdown",
   "metadata": {
    "slideshow": {
     "slide_type": "subslide"
    }
   },
   "source": [
    "A potential solution to this is to rename individual functions or constants when we import them:"
   ]
  },
  {
   "cell_type": "code",
   "execution_count": 19,
   "metadata": {
    "slideshow": {
     "slide_type": "-"
    }
   },
   "outputs": [
    {
     "data": {
      "text/plain": [
       "-0.65364362086361194"
      ]
     },
     "execution_count": 19,
     "metadata": {},
     "output_type": "execute_result"
    }
   ],
   "source": [
    "from numpy import cos as cosine\n",
    "\n",
    "cosine(x)"
   ]
  },
  {
   "cell_type": "code",
   "execution_count": 20,
   "metadata": {},
   "outputs": [
    {
     "data": {
      "text/plain": [
       "3.141592653589793"
      ]
     },
     "execution_count": 20,
     "metadata": {},
     "output_type": "execute_result"
    }
   ],
   "source": [
    "from numpy import pi as pi\n",
    "pi"
   ]
  },
  {
   "cell_type": "markdown",
   "metadata": {
    "slideshow": {
     "slide_type": "subslide"
    }
   },
   "source": [
    "This can be useful when importing functions from different modules:"
   ]
  },
  {
   "cell_type": "code",
   "execution_count": 21,
   "metadata": {},
   "outputs": [
    {
     "name": "stdout",
     "output_type": "stream",
     "text": [
      "2.0\n",
      "1j\n"
     ]
    }
   ],
   "source": [
    "from math import sqrt as square_root\n",
    "from cmath import sqrt as complex_square_root\n",
    "\n",
    "print(square_root(4))\n",
    "print(complex_square_root(-1))"
   ]
  },
  {
   "cell_type": "markdown",
   "metadata": {
    "slideshow": {
     "slide_type": "subslide"
    }
   },
   "source": [
    "Function names should be chosen wisely.\n",
    " - relevant\n",
    " - concise"
   ]
  },
  {
   "cell_type": "markdown",
   "metadata": {
    "slideshow": {
     "slide_type": "slide"
    }
   },
   "source": [
    "<a id='UsingPackageFunctions'></a>\n",
    "## Using Package Functions. \n",
    "\n",
    "Let's learn to use `numpy` functions in our programs. \n",
    "\n",
    "\n",
    "\n"
   ]
  },
  {
   "cell_type": "markdown",
   "metadata": {
    "slideshow": {
     "slide_type": "subslide"
    }
   },
   "source": [
    "To check how to use a function e.g.:\n",
    " - what arguments to include in the () parentheses\n",
    " - allowable data types to use as arguments\n",
    " - the order in which arguments should be given \n",
    " \n",
    "look at the Numpy documentation."
   ]
  },
  {
   "cell_type": "markdown",
   "metadata": {
    "slideshow": {
     "slide_type": "subslide"
    }
   },
   "source": [
    "A google search for 'numpy functions' returns:\n",
    "\n",
    "https://docs.scipy.org/doc/numpy-1.13.0/reference/routines.math.html\n",
    "\n",
    "(this list is not exhaustive). "
   ]
  },
  {
   "cell_type": "code",
   "execution_count": 10,
   "metadata": {
    "slideshow": {
     "slide_type": "subslide"
    }
   },
   "outputs": [
    {
     "name": "stdout",
     "output_type": "stream",
     "text": [
      "0.841470984808\n",
      "1.55740772465\n",
      "0.785398163397\n",
      "57.2957795131\n",
      "1.0\n"
     ]
    }
   ],
   "source": [
    "# Some Numpy functions with their definitions as given in the documentation\n",
    "import numpy as np\n",
    "x = 1\n",
    "y = 2\n",
    "z = 3\n",
    "\n",
    "# Trigonometric sine, element-wise.\n",
    "print(np.sin(x))\n",
    "\n",
    "# Compute tangent element-wise.\n",
    "print(np.tan(x))\n",
    "\n",
    "# Trigonometric inverse tangent\n",
    "print(np.arctan(x))\n",
    "\n",
    "# Convert angles from radians to degrees\n",
    "degrees = np.degrees(x)\n",
    "print(degrees)\n",
    "\n",
    "# Convert angles from degrees to radians\n",
    "radians = np.radians(degrees)\n",
    "print(radians)   "
   ]
  },
  {
   "cell_type": "markdown",
   "metadata": {
    "slideshow": {
     "slide_type": "subslide"
    }
   },
   "source": [
    "__Try it yourself:__\n",
    "<br> Find a function in the Python Numpy documentation that matches the function definition and use it to solve the following problem:   \n",
    "\n",
    "Given the “legs” of a right angle triangle, return its hypotenuse.<br> If  the lengths of the two shorter sides of a right angle triangle are 6 units  and 3 units, what is the length of the hypotenuse?"
   ]
  },
  {
   "cell_type": "code",
   "execution_count": 23,
   "metadata": {
    "collapsed": true
   },
   "outputs": [],
   "source": [
    "# The “legs” of a right angle triangle are 6 units and 3 units, \n",
    "a=6\n",
    "b=3\n",
    "# Return its hypotenuse in units.\n",
    "c=(a**2+b**2)**0.5"
   ]
  },
  {
   "cell_type": "markdown",
   "metadata": {
    "slideshow": {
     "slide_type": "subslide"
    }
   },
   "source": [
    "Numpy functions often appear within user defined functions e.g.:\n",
    "\n",
    "$f(x)= \\cos(x) \\qquad x <0$\n",
    "\n",
    "$f(x) = \\exp(-x) \\qquad x \\ge 0$"
   ]
  },
  {
   "cell_type": "code",
   "execution_count": 11,
   "metadata": {},
   "outputs": [
    {
     "name": "stdout",
     "output_type": "stream",
     "text": [
      "0.0432139182638\n",
      "0.592384847188\n"
     ]
    }
   ],
   "source": [
    "def f(x):\n",
    "    if x < 0:\n",
    "        f = np.cos(x)\n",
    "    else:\n",
    "        f = np.exp(-x)\n",
    "    return f\n",
    "\n",
    "print(f(np.pi))\n",
    "print(f(np.pi/6))"
   ]
  },
  {
   "cell_type": "markdown",
   "metadata": {
    "collapsed": true,
    "slideshow": {
     "slide_type": "subslide"
    }
   },
   "source": [
    "Package functions can be passed to other functions as arguments.\n",
    "\n",
    "Recall __Seminar 4, What can be passed as a function argument?__\n",
    "\n"
   ]
  },
  {
   "cell_type": "markdown",
   "metadata": {
    "slideshow": {
     "slide_type": "subslide"
    }
   },
   "source": [
    "<a id='is_positive'></a>\n",
    "Example: the function `is_positive` checks if the value of a function $f$, evaluated at $x$, is positive.\n",
    "<br> The arguments are:\n",
    " - the function $f$\n",
    " - the value of $x$,in $f(x)$"
   ]
  },
  {
   "cell_type": "code",
   "execution_count": 12,
   "metadata": {},
   "outputs": [
    {
     "name": "stdout",
     "output_type": "stream",
     "text": [
      "False\n",
      "True\n"
     ]
    }
   ],
   "source": [
    "def is_positive(f, x):\n",
    "\n",
    "    return f(x) > 0\n",
    "    \n",
    "def f0(x):\n",
    "    \"\"\"\n",
    "    Computes x^2 - 1\n",
    "    \"\"\"\n",
    "    return x*x - 1\n",
    "    \n",
    "# Value of x to test\n",
    "x = 0.5\n",
    "\n",
    "# Test sign of function f0 (user defined)\n",
    "print(is_positive(f0, x))\n",
    "\n",
    "# Test sign of function np.cos (numpy function)\n",
    "print(is_positive(np.cos, x))"
   ]
  },
  {
   "cell_type": "markdown",
   "metadata": {
    "slideshow": {
     "slide_type": "subslide"
    }
   },
   "source": [
    "__Try it yourself:__\n",
    "<br> Search online for the numpy function for each of the following mathematical functions: \n",
    "- $f = \\arcsin(x)$\n",
    "- $f = \\sqrt x$\n",
    "\n",
    "<br> In the cell below: use the function `is_positive` to test the sign of output of the functions.  "
   ]
  },
  {
   "cell_type": "code",
   "execution_count": 26,
   "metadata": {
    "collapsed": true
   },
   "outputs": [],
   "source": [
    "# Test sign of numpy function for arcsin(x)\n",
    "\n",
    "# Test sign of numpy function for square root of x\n"
   ]
  },
  {
   "cell_type": "markdown",
   "metadata": {
    "slideshow": {
     "slide_type": "subslide"
    }
   },
   "source": [
    "##### Try it yourself\n",
    "In the cell below, copy and paste the `bisection` function you wrote for __Seminar 4: Review Excercise: Using Functions as Function Arguments.__\n",
    "\n",
    "Demonstrate that your `bisection` function works correctly by finding the zero of the Numpy $\\cos(x)$ function that lies in the interval $x_1=0$ to $x_2=3$. "
   ]
  },
  {
   "cell_type": "code",
   "execution_count": 27,
   "metadata": {
    "collapsed": true
   },
   "outputs": [],
   "source": [
    "# Bisection"
   ]
  },
  {
   "cell_type": "markdown",
   "metadata": {
    "slideshow": {
     "slide_type": "slide"
    }
   },
   "source": [
    "## Using Package Functions to Optimise your Code\n",
    "\n",
    "We will take previous excercises that you have completed  and look at how we can optimise them using Numpy functions.\n",
    "\n",
    "<br> If you *have not* completed the excercises mentioned in previous seminars  you can:\n",
    "1. complete the exercise from the previous seminar (without Numpy functions) then optimise using Numpy.\n",
    "1. complete the excercise using Numpy functions (without completing the preceding excercise).  "
   ]
  },
  {
   "cell_type": "markdown",
   "metadata": {
    "slideshow": {
     "slide_type": "subslide"
    }
   },
   "source": [
    "Consider the function min_max_mean from __Seminar 5: Functions: Return Arguments__. \n",
    "<br>This is obviously a very limited way to compute the minimum, maximum and mean. \n",
    "<br>The algorithm relies on there being only 3 arguments."
   ]
  },
  {
   "cell_type": "code",
   "execution_count": 28,
   "metadata": {},
   "outputs": [
    {
     "name": "stdout",
     "output_type": "stream",
     "text": [
      "-20 0.5 -6.466666666666666\n"
     ]
    }
   ],
   "source": [
    "# Using Pure Python only\n",
    "def max_min_mean(x0, x1, x2):\n",
    "    \"Return maximum, minimum and mean values\"\n",
    "    \n",
    "    x_min = x0\n",
    "    if x1 < x_min:\n",
    "        x_min = x1\n",
    "    if x2 < x_min:\n",
    "        x_min = x2\n",
    "\n",
    "    x_max = x0\n",
    "    if x1 > x_max:\n",
    "        x_max = x1\n",
    "    if x2 > x_max:\n",
    "        x_max = x2\n",
    "\n",
    "    x_mean = (x0 + x1 + x2)/3    \n",
    "        \n",
    "    return x_min, x_max, x_mean\n",
    "\n",
    "\n",
    "xmin, xmax, xmean = max_min_mean(0.5, 0.1, -20)\n",
    "print(xmin, xmax, xmean)"
   ]
  },
  {
   "cell_type": "markdown",
   "metadata": {
    "slideshow": {
     "slide_type": "subslide"
    }
   },
   "source": [
    "We are going to re-write the function `compute_max_min_mean` using Numpy."
   ]
  },
  {
   "cell_type": "code",
   "execution_count": 29,
   "metadata": {},
   "outputs": [
    {
     "name": "stdout",
     "output_type": "stream",
     "text": [
      "-20.0 0.5 -6.46666666667\n"
     ]
    }
   ],
   "source": [
    "def np_max_min_mean(x0, x1, x2):\n",
    "    \"Return maximum, minimum and mean values\"\n",
    "    \n",
    "    x_min = np.min([x0, x1, x2])\n",
    "    x_max = np.max([x0, x1, x2])\n",
    "    x_mean = np.mean([x0, x1, x2])\n",
    "            \n",
    "    return x_min, x_max, x_mean\n",
    "\n",
    "\n",
    "xmin, xmax, xmean = np_max_min_mean(0.5, 0.1, -20)\n",
    "print(xmin, xmax, xmean)"
   ]
  },
  {
   "cell_type": "markdown",
   "metadata": {
    "slideshow": {
     "slide_type": "subslide"
    }
   },
   "source": [
    "### Data Structures as Function Arguments. \n",
    "Notice that the Numpy functions `amin`, `amax` and `amean` take lists as argumets.\n",
    "\n",
    "Therefore a single list (of any length) is a more convenient way to input the function arguments. "
   ]
  },
  {
   "cell_type": "code",
   "execution_count": 30,
   "metadata": {
    "slideshow": {
     "slide_type": "subslide"
    }
   },
   "outputs": [
    {
     "name": "stdout",
     "output_type": "stream",
     "text": [
      "(-20.0, 0.5, -6.4666666666666659)\n",
      "(-2, 12, 3.3999999999999999)\n"
     ]
    }
   ],
   "source": [
    "import numpy as np\n",
    "def np_max_min_mean(x_list):\n",
    "    \"Return maximum, minimum and mean values\"\n",
    "    \n",
    "    x_min = np.amin(x_list)\n",
    "    x_max = np.amax(x_list)\n",
    "    x_mean = np.mean(x_list)\n",
    "            \n",
    "    return x_min, x_max, x_mean\n",
    "\n",
    "numbers = [0.5, 0.1, -20]\n",
    "print(np_max_min_mean(numbers))\n",
    "\n",
    "numbers = [-2, -1, 3, 5, 12]\n",
    "print(np_max_min_mean(numbers))"
   ]
  },
  {
   "cell_type": "markdown",
   "metadata": {
    "slideshow": {
     "slide_type": "subslide"
    }
   },
   "source": [
    "<a id='ElementwiseFunctions'></a>\n",
    "### Elementwise Functions\n",
    "Numpy functions often operate *elementwise*. \n",
    "<br> This means if the argument is a list, they will perform the same function on each element of the list.\n",
    "\n",
    "For example, to find the square root of each number in a list, we can use:"
   ]
  },
  {
   "cell_type": "code",
   "execution_count": 31,
   "metadata": {},
   "outputs": [
    {
     "name": "stdout",
     "output_type": "stream",
     "text": [
      "[ 3.  5.  6.]\n"
     ]
    }
   ],
   "source": [
    "a = [9, 25, 36]\n",
    "print(np.sqrt(a))"
   ]
  },
  {
   "cell_type": "markdown",
   "metadata": {
    "slideshow": {
     "slide_type": "subslide"
    }
   },
   "source": [
    "<a id='MagicFunctions'></a>\n",
    "### Magic Functions\n",
    "We can use *magic function* (http://ipython.readthedocs.io/en/stable/interactive/magics.html), `%timeit`, to compare the time the user-defined function takes to execute compared to the Numpy function. \n",
    "\n",
    "It is important to optimise code for the most desirable parameter. In this example, the user defined code is significantly faster, but the function using numpy applies to a far wider range of input cases."
   ]
  },
  {
   "cell_type": "code",
   "execution_count": 32,
   "metadata": {},
   "outputs": [
    {
     "name": "stdout",
     "output_type": "stream",
     "text": [
      "406 ns ± 155 ns per loop (mean ± std. dev. of 7 runs, 1000000 loops each)\n",
      "\n",
      "24.2 µs ± 11.7 µs per loop (mean ± std. dev. of 7 runs, 100000 loops each)\n"
     ]
    }
   ],
   "source": [
    "%timeit max_min_mean(0.5, 0.1, -20)\n",
    "print()\n",
    "%timeit np_max_min_mean([0.5, 0.1, -20])"
   ]
  },
  {
   "cell_type": "markdown",
   "metadata": {
    "slideshow": {
     "slide_type": "subslide"
    }
   },
   "source": [
    "##### Try it yourself \n",
    "In the cell below, find a Numpy function that provides the same solution as the function you wrote as your answer to __Seminar 3, Review Exercise: Indexing, part (A)__: \n",
    "<br>Add two vectors, $\\mathbf{A}$ and $\\mathbf{B}$ such that:\n",
    "$ \\mathbf{A} + \\mathbf{B} = [(A_1 + B_1), \n",
    "                              (A_2 + B_2),\n",
    "                              ...\n",
    "                              (A_n + B_n)]$\n",
    "\n",
    "__(A)__ Use the Numpy function to add vectors:\n",
    "\n",
    "$\\mathbf{A} = [-2, 1, 3]$\n",
    "\n",
    "$\\mathbf{B} = [6, 2, 2]$\n",
    "\n",
    "Check that your answer is the same as your answer to __Seminar 3, Review Exercise: Indexing__.\n",
    "\n",
    "__(B)__ Using your answer to  __Seminar 3, Review Exercise: Indexing__ write a function `vector_add` that takes vectors A and B as inputs and returns the sum of the two vectors by calling:\n",
    "\n",
    "```python\n",
    "vector_add(A, B)\n",
    "```\n",
    "\n",
    "__(C)__ Use *magic function* `%timeit`, to compare the speed of the Numpy function to the user defined function `vector_add`. \n",
    "<br> Which is fastest?"
   ]
  },
  {
   "cell_type": "code",
   "execution_count": 20,
   "metadata": {},
   "outputs": [
    {
     "name": "stdout",
     "output_type": "stream",
     "text": [
      "820 ns ± 10.1 ns per loop (mean ± std. dev. of 7 runs, 1000000 loops each)\n"
     ]
    },
    {
     "ename": "NameError",
     "evalue": "name 'vector_add' is not defined",
     "output_type": "error",
     "traceback": [
      "\u001b[0;31m---------------------------------------------------------------------------\u001b[0m",
      "\u001b[0;31mNameError\u001b[0m                                 Traceback (most recent call last)",
      "\u001b[0;32m<ipython-input-20-7e508f2ae72e>\u001b[0m in \u001b[0;36m<module>\u001b[0;34m()\u001b[0m\n\u001b[1;32m      6\u001b[0m \u001b[0mB\u001b[0m\u001b[0;34m=\u001b[0m\u001b[0;34m[\u001b[0m\u001b[0;36m6\u001b[0m\u001b[0;34m,\u001b[0m\u001b[0;36m2\u001b[0m\u001b[0;34m,\u001b[0m\u001b[0;36m2\u001b[0m\u001b[0;34m]\u001b[0m\u001b[0;34m\u001b[0m\u001b[0m\n\u001b[1;32m      7\u001b[0m \u001b[0mget_ipython\u001b[0m\u001b[0;34m(\u001b[0m\u001b[0;34m)\u001b[0m\u001b[0;34m.\u001b[0m\u001b[0mmagic\u001b[0m\u001b[0;34m(\u001b[0m\u001b[0;34m'timeit add(A,B)'\u001b[0m\u001b[0;34m)\u001b[0m\u001b[0;34m\u001b[0m\u001b[0m\n\u001b[0;32m----> 8\u001b[0;31m \u001b[0mget_ipython\u001b[0m\u001b[0;34m(\u001b[0m\u001b[0;34m)\u001b[0m\u001b[0;34m.\u001b[0m\u001b[0mmagic\u001b[0m\u001b[0;34m(\u001b[0m\u001b[0;34m'timeit vector_add(A,B)'\u001b[0m\u001b[0;34m)\u001b[0m\u001b[0;34m\u001b[0m\u001b[0m\n\u001b[0m",
      "\u001b[0;32m~/anaconda3/lib/python3.6/site-packages/IPython/core/interactiveshell.py\u001b[0m in \u001b[0;36mmagic\u001b[0;34m(self, arg_s)\u001b[0m\n\u001b[1;32m   2144\u001b[0m         \u001b[0mmagic_name\u001b[0m\u001b[0;34m,\u001b[0m \u001b[0m_\u001b[0m\u001b[0;34m,\u001b[0m \u001b[0mmagic_arg_s\u001b[0m \u001b[0;34m=\u001b[0m \u001b[0marg_s\u001b[0m\u001b[0;34m.\u001b[0m\u001b[0mpartition\u001b[0m\u001b[0;34m(\u001b[0m\u001b[0;34m' '\u001b[0m\u001b[0;34m)\u001b[0m\u001b[0;34m\u001b[0m\u001b[0m\n\u001b[1;32m   2145\u001b[0m         \u001b[0mmagic_name\u001b[0m \u001b[0;34m=\u001b[0m \u001b[0mmagic_name\u001b[0m\u001b[0;34m.\u001b[0m\u001b[0mlstrip\u001b[0m\u001b[0;34m(\u001b[0m\u001b[0mprefilter\u001b[0m\u001b[0;34m.\u001b[0m\u001b[0mESC_MAGIC\u001b[0m\u001b[0;34m)\u001b[0m\u001b[0;34m\u001b[0m\u001b[0m\n\u001b[0;32m-> 2146\u001b[0;31m         \u001b[0;32mreturn\u001b[0m \u001b[0mself\u001b[0m\u001b[0;34m.\u001b[0m\u001b[0mrun_line_magic\u001b[0m\u001b[0;34m(\u001b[0m\u001b[0mmagic_name\u001b[0m\u001b[0;34m,\u001b[0m \u001b[0mmagic_arg_s\u001b[0m\u001b[0;34m)\u001b[0m\u001b[0;34m\u001b[0m\u001b[0m\n\u001b[0m\u001b[1;32m   2147\u001b[0m \u001b[0;34m\u001b[0m\u001b[0m\n\u001b[1;32m   2148\u001b[0m     \u001b[0;31m#-------------------------------------------------------------------------\u001b[0m\u001b[0;34m\u001b[0m\u001b[0;34m\u001b[0m\u001b[0m\n",
      "\u001b[0;32m~/anaconda3/lib/python3.6/site-packages/IPython/core/interactiveshell.py\u001b[0m in \u001b[0;36mrun_line_magic\u001b[0;34m(self, magic_name, line)\u001b[0m\n\u001b[1;32m   2065\u001b[0m                 \u001b[0mkwargs\u001b[0m\u001b[0;34m[\u001b[0m\u001b[0;34m'local_ns'\u001b[0m\u001b[0;34m]\u001b[0m \u001b[0;34m=\u001b[0m \u001b[0msys\u001b[0m\u001b[0;34m.\u001b[0m\u001b[0m_getframe\u001b[0m\u001b[0;34m(\u001b[0m\u001b[0mstack_depth\u001b[0m\u001b[0;34m)\u001b[0m\u001b[0;34m.\u001b[0m\u001b[0mf_locals\u001b[0m\u001b[0;34m\u001b[0m\u001b[0m\n\u001b[1;32m   2066\u001b[0m             \u001b[0;32mwith\u001b[0m \u001b[0mself\u001b[0m\u001b[0;34m.\u001b[0m\u001b[0mbuiltin_trap\u001b[0m\u001b[0;34m:\u001b[0m\u001b[0;34m\u001b[0m\u001b[0m\n\u001b[0;32m-> 2067\u001b[0;31m                 \u001b[0mresult\u001b[0m \u001b[0;34m=\u001b[0m \u001b[0mfn\u001b[0m\u001b[0;34m(\u001b[0m\u001b[0;34m*\u001b[0m\u001b[0margs\u001b[0m\u001b[0;34m,\u001b[0m\u001b[0;34m**\u001b[0m\u001b[0mkwargs\u001b[0m\u001b[0;34m)\u001b[0m\u001b[0;34m\u001b[0m\u001b[0m\n\u001b[0m\u001b[1;32m   2068\u001b[0m             \u001b[0;32mreturn\u001b[0m \u001b[0mresult\u001b[0m\u001b[0;34m\u001b[0m\u001b[0m\n\u001b[1;32m   2069\u001b[0m \u001b[0;34m\u001b[0m\u001b[0m\n",
      "\u001b[0;32m<decorator-gen-61>\u001b[0m in \u001b[0;36mtimeit\u001b[0;34m(self, line, cell)\u001b[0m\n",
      "\u001b[0;32m~/anaconda3/lib/python3.6/site-packages/IPython/core/magic.py\u001b[0m in \u001b[0;36m<lambda>\u001b[0;34m(f, *a, **k)\u001b[0m\n\u001b[1;32m    185\u001b[0m     \u001b[0;31m# but it's overkill for just that one bit of state.\u001b[0m\u001b[0;34m\u001b[0m\u001b[0;34m\u001b[0m\u001b[0m\n\u001b[1;32m    186\u001b[0m     \u001b[0;32mdef\u001b[0m \u001b[0mmagic_deco\u001b[0m\u001b[0;34m(\u001b[0m\u001b[0marg\u001b[0m\u001b[0;34m)\u001b[0m\u001b[0;34m:\u001b[0m\u001b[0;34m\u001b[0m\u001b[0m\n\u001b[0;32m--> 187\u001b[0;31m         \u001b[0mcall\u001b[0m \u001b[0;34m=\u001b[0m \u001b[0;32mlambda\u001b[0m \u001b[0mf\u001b[0m\u001b[0;34m,\u001b[0m \u001b[0;34m*\u001b[0m\u001b[0ma\u001b[0m\u001b[0;34m,\u001b[0m \u001b[0;34m**\u001b[0m\u001b[0mk\u001b[0m\u001b[0;34m:\u001b[0m \u001b[0mf\u001b[0m\u001b[0;34m(\u001b[0m\u001b[0;34m*\u001b[0m\u001b[0ma\u001b[0m\u001b[0;34m,\u001b[0m \u001b[0;34m**\u001b[0m\u001b[0mk\u001b[0m\u001b[0;34m)\u001b[0m\u001b[0;34m\u001b[0m\u001b[0m\n\u001b[0m\u001b[1;32m    188\u001b[0m \u001b[0;34m\u001b[0m\u001b[0m\n\u001b[1;32m    189\u001b[0m         \u001b[0;32mif\u001b[0m \u001b[0mcallable\u001b[0m\u001b[0;34m(\u001b[0m\u001b[0marg\u001b[0m\u001b[0;34m)\u001b[0m\u001b[0;34m:\u001b[0m\u001b[0;34m\u001b[0m\u001b[0m\n",
      "\u001b[0;32m~/anaconda3/lib/python3.6/site-packages/IPython/core/magics/execution.py\u001b[0m in \u001b[0;36mtimeit\u001b[0;34m(self, line, cell)\u001b[0m\n\u001b[1;32m   1078\u001b[0m             \u001b[0;32mfor\u001b[0m \u001b[0mindex\u001b[0m \u001b[0;32min\u001b[0m \u001b[0mrange\u001b[0m\u001b[0;34m(\u001b[0m\u001b[0;36m0\u001b[0m\u001b[0;34m,\u001b[0m \u001b[0;36m10\u001b[0m\u001b[0;34m)\u001b[0m\u001b[0;34m:\u001b[0m\u001b[0;34m\u001b[0m\u001b[0m\n\u001b[1;32m   1079\u001b[0m                 \u001b[0mnumber\u001b[0m \u001b[0;34m=\u001b[0m \u001b[0;36m10\u001b[0m \u001b[0;34m**\u001b[0m \u001b[0mindex\u001b[0m\u001b[0;34m\u001b[0m\u001b[0m\n\u001b[0;32m-> 1080\u001b[0;31m                 \u001b[0mtime_number\u001b[0m \u001b[0;34m=\u001b[0m \u001b[0mtimer\u001b[0m\u001b[0;34m.\u001b[0m\u001b[0mtimeit\u001b[0m\u001b[0;34m(\u001b[0m\u001b[0mnumber\u001b[0m\u001b[0;34m)\u001b[0m\u001b[0;34m\u001b[0m\u001b[0m\n\u001b[0m\u001b[1;32m   1081\u001b[0m                 \u001b[0;32mif\u001b[0m \u001b[0mtime_number\u001b[0m \u001b[0;34m>=\u001b[0m \u001b[0;36m0.2\u001b[0m\u001b[0;34m:\u001b[0m\u001b[0;34m\u001b[0m\u001b[0m\n\u001b[1;32m   1082\u001b[0m                     \u001b[0;32mbreak\u001b[0m\u001b[0;34m\u001b[0m\u001b[0m\n",
      "\u001b[0;32m~/anaconda3/lib/python3.6/site-packages/IPython/core/magics/execution.py\u001b[0m in \u001b[0;36mtimeit\u001b[0;34m(self, number)\u001b[0m\n\u001b[1;32m    158\u001b[0m         \u001b[0mgc\u001b[0m\u001b[0;34m.\u001b[0m\u001b[0mdisable\u001b[0m\u001b[0;34m(\u001b[0m\u001b[0;34m)\u001b[0m\u001b[0;34m\u001b[0m\u001b[0m\n\u001b[1;32m    159\u001b[0m         \u001b[0;32mtry\u001b[0m\u001b[0;34m:\u001b[0m\u001b[0;34m\u001b[0m\u001b[0m\n\u001b[0;32m--> 160\u001b[0;31m             \u001b[0mtiming\u001b[0m \u001b[0;34m=\u001b[0m \u001b[0mself\u001b[0m\u001b[0;34m.\u001b[0m\u001b[0minner\u001b[0m\u001b[0;34m(\u001b[0m\u001b[0mit\u001b[0m\u001b[0;34m,\u001b[0m \u001b[0mself\u001b[0m\u001b[0;34m.\u001b[0m\u001b[0mtimer\u001b[0m\u001b[0;34m)\u001b[0m\u001b[0;34m\u001b[0m\u001b[0m\n\u001b[0m\u001b[1;32m    161\u001b[0m         \u001b[0;32mfinally\u001b[0m\u001b[0;34m:\u001b[0m\u001b[0;34m\u001b[0m\u001b[0m\n\u001b[1;32m    162\u001b[0m             \u001b[0;32mif\u001b[0m \u001b[0mgcold\u001b[0m\u001b[0;34m:\u001b[0m\u001b[0;34m\u001b[0m\u001b[0m\n",
      "\u001b[0;32m<magic-timeit>\u001b[0m in \u001b[0;36minner\u001b[0;34m(_it, _timer)\u001b[0m\n",
      "\u001b[0;31mNameError\u001b[0m: name 'vector_add' is not defined"
     ]
    }
   ],
   "source": [
    "# Vector Addition\n",
    "import numpy\n",
    "def add(A,B):\n",
    "    return [a+b for a,b in zip(A,B)]\n",
    "A=[-2,1,3]\n",
    "B=[6,2,2]\n",
    "%timeit add(A,B)\n",
    "%timeit vector_add(A,B)"
   ]
  },
  {
   "cell_type": "markdown",
   "metadata": {
    "slideshow": {
     "slide_type": "slide"
    }
   },
   "source": [
    "<a id='ImportingAlgorithms'></a>\n",
    "## Importing Algorithms as Functions (e.g. Root finding)\n",
    "\n",
    "So far we have mostly looked at library functions that perform single mathematical operations such as trigonomtric or algebraic functions. \n",
    "\n",
    "Library functions also include those that can be used for complete multi-stage tasks.\n",
    "\n"
   ]
  },
  {
   "cell_type": "markdown",
   "metadata": {
    "slideshow": {
     "slide_type": "subslide"
    }
   },
   "source": [
    "For example, in place of the `bisection` function you wrote to find the root of a function, a number of root-finding functions from imported modules can be used. \n",
    "\n",
    "The package `scipy.optimize` contains a number of functions for estimating the roots of a function given an initial estimate or interval:\n",
    " - `scipy.optimize.bisect`\n",
    " - `scipy.optimize.fsolve` \n",
    " - `scipy.optimize.brentq`"
   ]
  },
  {
   "cell_type": "markdown",
   "metadata": {
    "slideshow": {
     "slide_type": "subslide"
    }
   },
   "source": [
    "These are useful when we want to find the root of a function in the vicinity of a particular point or interval.\n",
    "\n",
    "<img src=\"img/cos_graph.png\" alt=\"Drawing\" style=\"width: 400px;\"/> \n"
   ]
  },
  {
   "cell_type": "markdown",
   "metadata": {
    "slideshow": {
     "slide_type": "subslide"
    }
   },
   "source": [
    "The documentation for `fsolve` https://docs.scipy.org/doc/scipy-0.14.0/reference/generated/scipy.optimize.fsolve.html:\n",
    "\n",
    ">scipy.optimize.fsolve(func, x0, args=(), fprime=None, full_output=0, col_deriv=0, xtol=1.49012e-08, maxfev=0, band=None, epsfcn=None, factor=100, diag=None)[source]\n",
    "\n",
    ">Return the roots of the (non-linear) equations defined by func(x) = 0 given a starting estimate.\n",
    "\n",
    ">__func__ : callable f(x, *args)\n",
    "<br> &nbsp; &nbsp; &nbsp; A function that takes at least one (possibly vector) argument.\n",
    "<br>__x0__ : ndarray\n",
    "<br>&nbsp; &nbsp; &nbsp; The starting estimate for the roots of func(x) = 0."
   ]
  },
  {
   "cell_type": "markdown",
   "metadata": {
    "slideshow": {
     "slide_type": "subslide"
    }
   },
   "source": [
    "What does the function do?\n",
    "\n",
    "What __arguments__ does it take (and are there any default arguments)? \n",
    "\n",
    "How would we __write__ the function when __calling__ it (accept defaults)?\n",
    "\n",
    "What __data type__ should our input be? "
   ]
  },
  {
   "cell_type": "markdown",
   "metadata": {
    "slideshow": {
     "slide_type": "subslide"
    }
   },
   "source": [
    "Root finding methods\n",
    "\n",
    "__Bisection method, Brent method:__ the user selects the interval in which to look for the root. \n",
    "\n",
    "__`solve` method:__ the user selects an *initial estimate* for the root.\n",
    "\n"
   ]
  },
  {
   "cell_type": "markdown",
   "metadata": {
    "slideshow": {
     "slide_type": "subslide"
    }
   },
   "source": [
    "<img src=\"img/cos_graph.png\" alt=\"Drawing\" style=\"width: 500px;\"/> \n"
   ]
  },
  {
   "cell_type": "code",
   "execution_count": 34,
   "metadata": {},
   "outputs": [
    {
     "name": "stdout",
     "output_type": "stream",
     "text": [
      "[-4.71238898] [-1.5]\n",
      "1.5707963267948966 0.5\n"
     ]
    }
   ],
   "source": [
    "import scipy\n",
    "from scipy.optimize import fsolve\n",
    "from scipy.optimize import brentq\n",
    "\n",
    "root = scipy.optimize.fsolve(np.cos, -5)\n",
    "print(root, root/pi)\n",
    "\n",
    "root = scipy.optimize.brentq(np.cos, 0, 2.5)\n",
    "print(root, root/pi)"
   ]
  },
  {
   "cell_type": "markdown",
   "metadata": {
    "slideshow": {
     "slide_type": "subslide"
    }
   },
   "source": [
    "##### Non-repeating functions.\n",
    "<img src=\"img/polynomial2.png\" alt=\"Drawing\" style=\"width: 300px;\"/> \n",
    "__Example.__\n",
    "\n",
    "$f(x) = x^3 + 4x^2 + x - 6$ \n",
    "\n",
    "Three real roots; -3, -2, and 1.\n",
    "<br>We can use the function `np.roots()` to find all roots.\n",
    "<br>The function arguments are the coefficients of the polynomial.  \n",
    "\n",
    "\n"
   ]
  },
  {
   "cell_type": "code",
   "execution_count": 35,
   "metadata": {},
   "outputs": [
    {
     "name": "stdout",
     "output_type": "stream",
     "text": [
      "[-3. -2.  1.]\n"
     ]
    }
   ],
   "source": [
    "print(np.roots([1, 4, 1, -6]))"
   ]
  },
  {
   "cell_type": "markdown",
   "metadata": {
    "slideshow": {
     "slide_type": "subslide"
    }
   },
   "source": [
    "Check your solution."
   ]
  },
  {
   "cell_type": "code",
   "execution_count": 36,
   "metadata": {},
   "outputs": [
    {
     "name": "stdout",
     "output_type": "stream",
     "text": [
      "[-3.0, -2.0, 1.0]\n"
     ]
    }
   ],
   "source": [
    "# The equation as a Python function\n",
    "def func(x):\n",
    "    return x**3 + 4*x**2 + x - 6\n",
    "\n",
    "# A range of 600 x values (-4 to 2)\n",
    "X = [x/100 for x in list(range(-400, 200))]\n",
    "\n",
    "# The value of y for each x\n",
    "Y = [func(x) for x in X]\n",
    "\n",
    "# List comprehension: return X where Y = 0\n",
    "check_roots = [x for x,y in zip(X,Y) if y==0]\n",
    "print(check_roots)"
   ]
  },
  {
   "cell_type": "markdown",
   "metadata": {
    "collapsed": true,
    "slideshow": {
     "slide_type": "subslide"
    }
   },
   "source": [
    "Next week we will check solution by plotting curves. "
   ]
  },
  {
   "cell_type": "code",
   "execution_count": 37,
   "metadata": {
    "slideshow": {
     "slide_type": "-"
    }
   },
   "outputs": [
    {
     "data": {
      "image/png": "[encoded data removed]",
      "text/plain": [
       "<matplotlib.figure.Figure at 0x7f0a6003e2e8>"
      ]
     },
     "metadata": {},
     "output_type": "display_data"
    }
   ],
   "source": [
    "# plot to check solution\n",
    "from matplotlib import pyplot as plt \n",
    "%matplotlib inline  \n",
    "plt.plot(X,Y)\n",
    "plt.grid(True, which='both')\n",
    "\n",
    "\n"
   ]
  },
  {
   "cell_type": "markdown",
   "metadata": {
    "slideshow": {
     "slide_type": "subslide"
    }
   },
   "source": [
    "__Try it yourself:__\n",
    "<br>In the cell below use `numpy.roots()` to find the roots of the function:\n",
    "<br>$y = x^3 - 2x^2 - 11x + 12$"
   ]
  },
  {
   "cell_type": "code",
   "execution_count": 38,
   "metadata": {
    "collapsed": true
   },
   "outputs": [],
   "source": [
    "# root finding using numpy.roots()"
   ]
  },
  {
   "cell_type": "markdown",
   "metadata": {
    "slideshow": {
     "slide_type": "subslide"
    }
   },
   "source": [
    "## Stacking Functions\n",
    "If performing multiple functions on a variable or data structure, operations can be stacked to produce shorter code.\n"
   ]
  },
  {
   "cell_type": "code",
   "execution_count": 25,
   "metadata": {},
   "outputs": [
    {
     "name": "stdout",
     "output_type": "stream",
     "text": [
      "0.421623782621\n",
      "0.421623782621\n"
     ]
    }
   ],
   "source": [
    "a = list(range(10))\n",
    "a = np.cos(a)\n",
    "a = np.sum(a)\n",
    "print(a)\n",
    "\n",
    "a = np.sum(np.cos(list(range(10))))\n",
    "print(a)"
   ]
  },
  {
   "cell_type": "code",
   "execution_count": null,
   "metadata": {
    "collapsed": true
   },
   "outputs": [],
   "source": []
  },
  {
   "cell_type": "markdown",
   "metadata": {
    "slideshow": {
     "slide_type": "slide"
    }
   },
   "source": [
    "## Review Exercises\n",
    "The following excercises will help you to practise finding useful functions from external packages and applying them when solving engineering problems. "
   ]
  },
  {
   "cell_type": "markdown",
   "metadata": {
    "slideshow": {
     "slide_type": "subslide"
    }
   },
   "source": [
    "### Review Exercise: Numpy Package Functions. \n",
    "<br> Find a function in the Python Numpy documentation that matches the function definition and use it to solve the problems below:"
   ]
  },
  {
   "cell_type": "markdown",
   "metadata": {},
   "source": [
    "__(A)__ Definition: *Calculates the exponential function, $y= e^x$ for all elements in the input array.*\n",
    "\n",
    "Print a list where each element is the exponential function of the corresponding element in list `a = [0.1, 0, 10]`"
   ]
  },
  {
   "cell_type": "code",
   "execution_count": 40,
   "metadata": {
    "collapsed": true
   },
   "outputs": [],
   "source": [
    "# Print a list where each element is the exponential of the corresponding element in list a"
   ]
  },
  {
   "cell_type": "code",
   "execution_count": null,
   "metadata": {
    "collapsed": true
   },
   "outputs": [],
   "source": [
    "# Example solution\n",
    "print(np.exp(a))"
   ]
  },
  {
   "cell_type": "markdown",
   "metadata": {},
   "source": [
    "__(B)__ Definition: *Converts angles from degrees to radians.*\n",
    "\n",
    "Convert angle `theta`, expressed in degrees, to radians:\n",
    "<br>`theta` = 47"
   ]
  },
  {
   "cell_type": "code",
   "execution_count": 41,
   "metadata": {
    "collapsed": true
   },
   "outputs": [],
   "source": [
    "# convert angle `theta`, expressed in degrees, to radians"
   ]
  },
  {
   "cell_type": "code",
   "execution_count": null,
   "metadata": {
    "collapsed": true
   },
   "outputs": [],
   "source": [
    "# Example solution\n",
    "\n",
    "print(np.deg2rad(theta))\n",
    "print(np.radians(theta))"
   ]
  },
  {
   "cell_type": "markdown",
   "metadata": {
    "slideshow": {
     "slide_type": "subslide"
    }
   },
   "source": [
    "### Review Exercise: Searching Package Functions - Magnitude\n",
    "\n",
    "Refer to your answer to __Seminar 4, Review Exercise: Default Arguments.__\n",
    "<br>Copy and paste your code in the cell below.\n",
    "\n",
    "__(A)__ *Elementwise* functions perform an operation on each element of a data structure.\n",
    "<br>Within the function create a list to store the values x, y and z:\n",
    "```python\n",
    "def magnitude(x, y, z = 0):\n",
    "    \"\"\"\n",
    "    Returns the magnitude of a 2D or 3D vector\n",
    "    \"\"\"\n",
    "    vector = [x, y, z]\n",
    "```\n",
    "\n",
    " Within your function, replace the operations to square each item of the list, `vector`, with an elementwise numpy function. \n",
    " \n",
    " <a href='#ElementwiseFunctions'>Jump to Elementwise Functions</a>\n",
    "\n",
    "__(B)__ Find an Numpy functions to the replace operation for:\n",
    "\n",
    " - summation $\\sum$\n",
    " - square root $\\sqrt x$\n",
    "and include these in your function. \n",
    "\n",
    "__(C)__ Use *magic function*  `%timeit`, to compare the speed of your user-defined function (from Seminar 4) to the speed when using Numpy functions.\n",
    "<br> Which is fastest?\n",
    "\n",
    " <a href='#MagicFunctions'>Jump to Magic Functions</a>\n",
    "\n",
    "__(D)__ Search online for a single numpy function that takes a vector as input and returns the magnitide of a vector. \n",
    "<br> Use it calculate the magnitude of the vector $x$. \n",
    "<br> Check the answer against the value generated in __A__\n",
    "\n",
    "__(E)__ Use *magic function* `%timeit`, to compare the time for:\n",
    " - the Numpy function to return the magnitude\n",
    " - the function you used in parts __(A)-(C)__ \n",
    "for 2D and 3D vectors. \n"
   ]
  },
  {
   "cell_type": "code",
   "execution_count": 42,
   "metadata": {
    "collapsed": true
   },
   "outputs": [],
   "source": [
    "# Searching for Appropriate Package Functions "
   ]
  },
  {
   "cell_type": "code",
   "execution_count": null,
   "metadata": {
    "collapsed": true
   },
   "outputs": [],
   "source": [
    "# Example solution\n",
    "\n",
    "def magnitude(x, y, z = 0):\n",
    "    \"\"\"\n",
    "    Returns the magnitude of a 2D or 3D vector\n",
    "    \"\"\"\n",
    "    vector = [x, y, z]\n",
    "    \n",
    "    return(np.sqrt(np.sum(np.square(vector))))\n",
    "\n",
    "print(magnitude(3, 4))\n",
    "print(magnitude(12, 7, -9))\n",
    "\n",
    "%timeit magnitude(3, 4)\n",
    "%timeit magnitude(12, 7, -9)\n",
    "\n",
    "print(np.linalg.norm([3, 4]))\n",
    "print(np.linalg.norm([12, 7, -9]))\n",
    "\n",
    "%timeit np.linalg.norm([3, 4])\n",
    "%timeit np.linalg.norm([12, 7, -9])"
   ]
  },
  {
   "cell_type": "markdown",
   "metadata": {
    "slideshow": {
     "slide_type": "subslide"
    }
   },
   "source": [
    "### Review Exercise: Searching Package Functions - Dot Product\n",
    "Recall __Seminar 4: Daat Structures - Iterating with Zip \n",
    "\n",
    "We saw that the __dot product__ of two vectors can be experssed both geometrically and algebraically. \n",
    "\n",
    "__GEOMETRIC REPRESENTATION__\n",
    "\n",
    "\\begin{align}\n",
    "\\mathbf{A} \\cdot \\mathbf{B} = |\\mathbf{A}| |\\mathbf{B}| \\cos(\\theta)\n",
    "\\end{align}\n",
    "\n",
    "__ALGEBRAIC REPRESENTATION__\n",
    "\n",
    ">So the dot product of two 3D vectors:\n",
    "> <br> $ \\mathbf{A} = [A_x, A_y, A_z]$\n",
    "> <br> $ \\mathbf{B} = [B_x, B_y, B_z]$\n",
    "> <br> is:\n",
    "\n",
    "\\begin{align}\n",
    "\\mathbf{A} \\cdot \\mathbf{B} &= \\sum_{i=1}^n A_i B_i \\\\\n",
    "&= A_x B_x + A_y B_y + A_z B_z.\n",
    "\\end{align}\n"
   ]
  },
  {
   "cell_type": "markdown",
   "metadata": {},
   "source": [
    "\n",
    "We looked at a program that comuted the dot product of two 3D vectors using two lists. \n",
    "\n",
    "$\\mathbf{C} = [2, 4, 3.5]$\n",
    "\n",
    "$\\mathbf{D} = [1, 2, -6]$\n",
    "\n",
    "\n",
    "__(A)__ Search for a Numpy function to find the dot product of two lists.\n",
    "Use it to find the dot product of $C$ and $D$.\n",
    "\n",
    "__(B)__ Search for a Numpy function for $\\cos^{-1}$ and use it to compute $\\theta$) using the geometric expresssion for the dot product."
   ]
  },
  {
   "cell_type": "code",
   "execution_count": 43,
   "metadata": {
    "collapsed": true
   },
   "outputs": [],
   "source": [
    "# Find the dot product of A and B\n",
    "# Compute theta"
   ]
  },
  {
   "cell_type": "code",
   "execution_count": null,
   "metadata": {
    "collapsed": true
   },
   "outputs": [],
   "source": [
    "# Example Solution\n",
    "\n",
    "CDdot = np.dot(C,D)\n",
    "\n",
    "Cmag = np.linalg.norm(C)\n",
    "\n",
    "Dmag = np.linalg.norm(D)\n",
    "\n",
    "theta = np.arccos(CDdot / (Cmag * Dmag))\n",
    "\n",
    "print(f\"dot product = {CDdot}, theta = {theta}\")"
   ]
  },
  {
   "cell_type": "markdown",
   "metadata": {
    "slideshow": {
     "slide_type": "subslide"
    }
   },
   "source": [
    "### Review Exercise: Using Package Functions to Optimise your Code\n",
    "\n",
    "Search for a Numpy function that has a __similar__ function to the `is_positive` function from Section: <a href='#UsingPackageFunctions'>Using Package Functions</a>; the answer it returns should show if an input value is positive or not. \n",
    "\n",
    "In the cell below:\n",
    " - copy and paste the `is_positive` function\n",
    " - use the magic function `%timeit` to compare the speed of the `is_positive` function with the Numpy function for analysing the sign of a numerical input.\n",
    "\n",
    "<a href='#is_positive'>Jump to function:`is_positive`</a> \n",
    "\n"
   ]
  },
  {
   "cell_type": "code",
   "execution_count": 44,
   "metadata": {
    "collapsed": true
   },
   "outputs": [],
   "source": [
    "# Numpy function to test if number is positive "
   ]
  },
  {
   "cell_type": "code",
   "execution_count": null,
   "metadata": {
    "collapsed": true
   },
   "outputs": [],
   "source": [
    "# Example Solution\n",
    "np.sign(-2)"
   ]
  },
  {
   "cell_type": "markdown",
   "metadata": {
    "collapsed": true,
    "slideshow": {
     "slide_type": "subslide"
    }
   },
   "source": [
    "### Review Exercise: Importing Algorithms as Functions\n",
    "\n",
    "In <a href='#ImportingAlgorithms'>Importing Algorithms as Functions (e.g. Root finding)</a> we learnt that the package scipy.optimize contains a number of functions for estimating the roots of a function, including `scipy.optimize.bisect`.\n",
    "\n",
    "This function performs the same/a similar function to the `bisection` function that you have been developing. \n",
    "\n",
    "__(A)__ Find the documentation for the function `scipy.optimize.bisect` to learn how to use it.\n",
    "\n",
    "__(B)__ Use `scipy.optimize.bisect` to estimate the root of the function $f(x) = 2\\sin^2 x - 3\\sin x + 1$:\n",
    "<br> &nbsp; &nbsp; &nbsp; (i) between 0 and $\\frac{\\pi}{6}$\n",
    "<br> &nbsp; &nbsp; &nbsp; (ii) between 1.5 and 2\n",
    "<br> &nbsp; &nbsp; &nbsp; (iii) between $\\frac{3}{4}\\pi$ and $\\pi$\n",
    "\n",
    "__NOTE:__ &nbsp; $\\sin^2(x) = (\\sin(x))^2$\n",
    "\n",
    "__(C)__ Use the magic function %timeit to compare the speed of your user-defined function `bisection`, with the speed of `scipy.optimize.bisect`. "
   ]
  },
  {
   "cell_type": "code",
   "execution_count": 45,
   "metadata": {
    "collapsed": true
   },
   "outputs": [],
   "source": [
    "# Scipy bisection algorithm"
   ]
  },
  {
   "cell_type": "code",
   "execution_count": null,
   "metadata": {
    "collapsed": true
   },
   "outputs": [],
   "source": [
    "# Example solution\n",
    "\n",
    "import scipy\n",
    "from scipy.optimize import bisect\n",
    "\n",
    "def func(x):\n",
    "    return x**3 + 4*x**2 + x - 6\n",
    "\n",
    "def q(x):\n",
    "    return (2 * (np.sin(x))**2) - (3 * np.sin(x)) + 1\n",
    "\n",
    "scipy.optimize.bisect(func, 0, 3)\n",
    "scipy.optimize.bisect(q, 0, 1.5)"
   ]
  },
  {
   "cell_type": "markdown",
   "metadata": {},
   "source": [
    "# Updating your git repository\n",
    "\n",
    "You have made several changes to your interactive textbook.\n",
    " \n",
    " > Save your work.\n",
    " > <br> `git add -A`\n",
    " > <br>`git commit -m \"A short message describing changes\"`\n",
    "  "
   ]
  },
  {
   "cell_type": "markdown",
   "metadata": {
    "collapsed": true,
    "slideshow": {
     "slide_type": "slide"
    }
   },
   "source": [
    "# Summary\n",
    "\n",
    "- Python has an extensive __standard library__ of built-in functions. \n",
    "- More specialised libraries of functions and constants are available. We call these __packages__. \n",
    "- Packages are imported using the keyword `import`\n",
    "- The function documentation tells is what it does and how to use it.\n",
    "- When calling a library function it must be prefixed with a __namespace__ is used to show from which package it should be called.  \n",
    "- The magic function `%timeit` can be used to time the execution of a function. \n",
    "\n",
    "\n"
   ]
  },
  {
   "cell_type": "markdown",
   "metadata": {
    "collapsed": true,
    "slideshow": {
     "slide_type": "slide"
    }
   },
   "source": [
    "# Homework \n",
    "\n",
    "1. __PULL__ the changes you made in-class today to your personal computer.\n",
    "1. __COMPLETE__ any unfinished Review Exercises.\n",
    "1. __PUSH__ the changes you make at home to your online repository. "
   ]
  },
  {
   "cell_type": "code",
   "execution_count": null,
   "metadata": {
    "collapsed": true
   },
   "outputs": [],
   "source": []
  }
 ],
 "metadata": {
  "kernelspec": {
   "display_name": "Python 3",
   "language": "python",
   "name": "python3"
  },
  "language_info": {
   "codemirror_mode": {
    "name": "ipython",
    "version": 3
   },
   "file_extension": ".py",
   "mimetype": "text/x-python",
   "name": "python",
   "nbconvert_exporter": "python",
   "pygments_lexer": "ipython3",
   "version": "3.6.2"
  }
 },
 "nbformat": 4,
 "nbformat_minor": 2
}
