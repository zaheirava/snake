{
 "cells": [
  {
   "cell_type": "markdown",
   "metadata": {},
   "source": [
    "### ILAS: Introduction to Programming 2017/18\n",
    "# Coursework Assignment: Plant-life Report\n",
    "\n",
    "__Complete exercises A to D.__\n",
    "<br>__The exercises should be completed using Python programming skills we have covered in class. The questions are focussed on an imaginary case study:__ \n",
    "\n",
    ">It is though that the acidification of an area of protected land is having a destructive effect on plant populations. \n",
    "<br>Experts are particularly worried about the demise of a species of shrub called *winter heath*, that supports the area's insect populations, and the spread of an acid-loving poisonous weed called *darley heath* . <br>Chemical waste from local industries are thought to be reposonsible for the soil acidification.\n",
    "<br>Your job is to process data collected over a number of years to present as part of a report.\n",
    "<br>The report will be used as evidence to try and impose restrictions disposal of industrial waste within the area.\n",
    "\n",
    "<img src=\"img/map2.png\" alt=\"Drawing\" style=\"width: 500px;\"/>"
   ]
  },
  {
   "cell_type": "markdown",
   "metadata": {},
   "source": [
    "### Input data\n",
    "Data collectd by a plant survey over the past 20 years is given in the folder `environmental_survey` in the `sample_data` folder of the ILAS_python repository.\n",
    "\n",
    "The survey was conducted once a year. \n",
    "\n",
    "The locations and characteristics of plants and trees were recorded.\n",
    "\n",
    "Soil pH was also recorded at different locations."
   ]
  },
  {
   "cell_type": "markdown",
   "metadata": {},
   "source": [
    "### Setting up\n",
    "\n",
    "Create a new folder in which to store your project.\n",
    "\n",
    "Copy the `environmental_survey` folder into the project folder."
   ]
  },
  {
   "cell_type": "markdown",
   "metadata": {},
   "source": [
    "### Part A: Assembling a Data Set\n",
    "\n",
    "__Aim: Import plant data from .csv files and manipulate data to convert units and remove unecessary values.__\n",
    "\n",
    "__(1.) Input and Output: Data Frames \n",
    "<br>*(5 marks)*__\n",
    "<br>Write a Python program that imports the data from the file `plants2017` and stores it as a __`pandas DataFrame`__. \n",
    "\n",
    "The data set should contain only the data for shrub plants. \n",
    "<br>Remove the rows with \"tree\" in the plants column to leave only information about shrubs in your data set.\n",
    "\n",
    "(Hint: After removing data from a DataFrame use `df.reset_index(drop=True)` (where 'df' is the DataFrame name) to re-assign index numbers).  "
   ]
  },
  {
   "cell_type": "code",
   "execution_count": null,
   "metadata": {
    "collapsed": true
   },
   "outputs": [],
   "source": []
  },
  {
   "cell_type": "markdown",
   "metadata": {},
   "source": [
    "__(2.) Functions__\n",
    "<br>__*(5 marks)*__\n",
    "<br>The GPS location information for each plant is in units of decimal degrees. \n",
    "<br>To make them more \"human readable\", the values should be converted to represent each data point on a 2D grid, with units of metres (or kilometres). \n",
    "\n",
    "<img src=\"img/lat_long.png\" alt=\"Drawing\" style=\"width: 400px;\"/>\n",
    "\n",
    "The following equations can be used to approximate:\n",
    " - the vertical distance from the *equator* from `GPS_lat`\n",
    " - the horizontal distance from the *meridian* from `GPS_lon`\n",
    " \n",
    "The latitude in m from the equator:\n",
    "\n",
    "$lat = \\frac{40,008,000 \\times GPS_{lat}}{360} $\n",
    "\n",
    "\n",
    "The longitude in m from the meridian:\n",
    "\n",
    "$lon = \\frac{40,075,160 \\times GPS_{lon}}{360} \\times \\cos(GPS_{lat})$\n",
    "\n",
    "<img src=\"img/ParametricCircle.png\" alt=\"Drawing\" style=\"width: 200px;\"/>\n",
    "\n",
    "Write code to convert GPS_lat and GPS_lon in decimal degrees to units of m or km, using the equation above. \n",
    "<br>__*Hint: `GPS_lat` and `GPS_lat` are given in degrees, `numpy.cos` automatically applies to angles given in radians.*__\n",
    "\n",
    "Encapsulate your code in a function so that it can be applied to any data frame.\n",
    "(Hint: your function should take the columns of data frame to be converted as its arguments).\n",
    "\n",
    "Show your function works by applying it to your data frame.\n",
    "\n",
    "(You can also want to *rename* your column heading as they are no longer GPS coordinates.)"
   ]
  },
  {
   "cell_type": "code",
   "execution_count": null,
   "metadata": {
    "collapsed": true
   },
   "outputs": [],
   "source": []
  },
  {
   "cell_type": "markdown",
   "metadata": {},
   "source": [
    "__(3.) Functions and Data Structures: Boolean Indexing__ \n",
    "<br>__*(5 marks)*__\n",
    "<br>When fully grown, the four main shrubs that grow in the area can be identified by distinct features.\n",
    "\n",
    "To include *only fully grown* plants in your data set:\n",
    "- Write a function that selects only plants above a height of 50cm.\n",
    "- Apply the function to your data set.\n",
    "- Edit your function so that the same function may be used to:\n",
    "  - remove plants below 50cm by default\n",
    "  - remove plants below a height set by the user\n",
    "  \n"
   ]
  },
  {
   "cell_type": "code",
   "execution_count": null,
   "metadata": {
    "collapsed": true
   },
   "outputs": [],
   "source": []
  },
  {
   "cell_type": "markdown",
   "metadata": {},
   "source": [
    "### Part B: Refining the Data Set and Mapping pH\n",
    "\n",
    "__Aim: Split the area over which the survey was taken into a grid of equally sized cells. Sort the pH samples by grid cell to show how pH varies across the area.__\n",
    "\n",
    "__(1.) Input and Output__ \n",
    "<br>__*(2 marks)*__\n",
    "<br>In the same Python file you wrote in __Part A__, import the data from the file `pH_2017` and store it as a new __`pandas DataFrame`__ called `pH`.\n",
    "<br>\n",
    "\n",
    "__(2.) Functions__\n",
    "<br>__*(2 marks)*__\n",
    "<br>Use the function that you wrote in __Part A (2.)__ to convert the the columns GPS_lat and GPS_lon in `pH` to units of m or km. "
   ]
  },
  {
   "cell_type": "code",
   "execution_count": 2,
   "metadata": {},
   "outputs": [
    {
     "ename": "SyntaxError",
     "evalue": "EOL while scanning string literal (<ipython-input-2-6d4107f8d662>, line 1)",
     "output_type": "error",
     "traceback": [
      "\u001b[0;36m  File \u001b[0;32m\"<ipython-input-2-6d4107f8d662>\"\u001b[0;36m, line \u001b[0;32m1\u001b[0m\n\u001b[0;31m    ')\u001b[0m\n\u001b[0m      ^\u001b[0m\n\u001b[0;31mSyntaxError\u001b[0m\u001b[0;31m:\u001b[0m EOL while scanning string literal\n"
     ]
    }
   ],
   "source": []
  },
  {
   "cell_type": "markdown",
   "metadata": {},
   "source": [
    "The sampled area measures approximately 3445m x 3950m.\n",
    "<br>An orthoganol grid of 15 x 15 cells (3000m x 3000m) can be used to represent the sampled area:\n",
    " - the grid is chosen to be slightly smaller than the sampled area so that no unsampled regions are included.\n",
    " - the origin is chosen to be at \n",
    "  - $x = x_{min} + \\frac{3445-3000}{2}$\n",
    "  - $y =  y_{min} + \\frac{3950-3000}{2}$\n",
    "  \n",
    "<img src=\"img/map.png\" alt=\"Drawing\" style=\"width: 500px;\"/>\n",
    "\n",
    "The following equation can be used to map a point, $P$, in range A to range B.\n",
    "\n",
    "$P_B=\\frac{P_A-A_{min}}{A_{max}-A_{min}} \\times (B_{max}-B_{min}) + B_{min}$\n",
    "\n",
    "__(3.) Functions and mathematical operators.__ \n",
    "<br>__*(5 marks)*__\n",
    "\n",
    "Write a function called `scale` to map points in the range (origin, origin+3000) to the range (0, 3000).\n",
    "\n",
    "By floor dividing (seminar 2) points in the range 0 to 3000 by 200, each point can be assigned an integer value in the range 0 to 14. Create an additional step in your function that uses floor division to assign an x and y grid reference to each data point.  \n",
    "\n",
    "Note:\n",
    "- some grid references may be outside of the range 0 to 14.\n",
    "- multiple cells will blong to the same grid reference.\n",
    "\n",
    "Add two new columns to your DataFrame to store the x and y grid reference for each data point \n",
    "\n",
    "Store your function that assigns a grid index as function so that it can be applied to any data set collected in the same area."
   ]
  },
  {
   "cell_type": "code",
   "execution_count": null,
   "metadata": {
    "collapsed": true
   },
   "outputs": [],
   "source": []
  },
  {
   "cell_type": "markdown",
   "metadata": {},
   "source": [
    "__(3.) `numpy` multi-dimensional arrays.__ \n",
    "<br>__*(2 marks)*__\n",
    "<br>_Find the mean of the pH readings taken in each grid cell.\n",
    "<br>Use a 2D numpy array to store each mean reading at each 2D grid location. \n",
    "\n"
   ]
  },
  {
   "cell_type": "code",
   "execution_count": null,
   "metadata": {
    "collapsed": true
   },
   "outputs": [],
   "source": []
  },
  {
   "cell_type": "markdown",
   "metadata": {},
   "source": [
    "__(4.) Plotting__\n",
    "<br>__*(3 marks)*__\n",
    "<br>Plot the mean pH for each grid cell as a colour map of the gridded area. \n",
    "<br>You may use a *2D colour map* or a *3D plot*. \n",
    "<br>Save your figure as a .png file in your project folder.\n"
   ]
  },
  {
   "cell_type": "code",
   "execution_count": null,
   "metadata": {
    "collapsed": true
   },
   "outputs": [],
   "source": []
  },
  {
   "cell_type": "code",
   "execution_count": null,
   "metadata": {
    "collapsed": true
   },
   "outputs": [],
   "source": []
  },
  {
   "cell_type": "markdown",
   "metadata": {},
   "source": [
    "### Part C: Classifying Plants Using Simple Mathematical Operations\n",
    "\n",
    "__Aim: Sort the plant samples species. Produce a total count of each species in each grid cell.__\n",
    "\n",
    "<br>The shrub plants in your DataFrame from __Part A__ can be catagorsied as one of four species.\n",
    "\n",
    "The *average* physical characteristics of each *plant species* are shown in the table below:\n",
    "\n",
    "|Shrub       |Height (m)|Leaf length (cm)|Leaf aspect ratio|Bud length (cm)|\n",
    "|------------|----------|----------------|-----------------|---------------|\n",
    "|Winter heath|       1.2|             3.5|              2.0|            2.3|              \n",
    "|Bell heather|       1.8|             1.5|              1.2|            2.3|\n",
    "|Brush bush  |       0.7|             2.1|             10.2|            1.5|\n",
    "|Darley heath|       0.7|             2.2|              3.1|            1.7|\n",
    "\n",
    "<br>The *vector quantisation algorithm* is a simple algorithm used for catagorisation.\n",
    "\n",
    "It determines which catagory a data point should belong to from its closest proximity to a set of values representing possible catagories.\n",
    "<br>Each value represents the *average* of the corresponding catagory.\n",
    "\n",
    "The *closeness* of the characteristics of a point $(c_1, c_2, c_3, ... c_n)$ to the average value of a catagory $(ca_1, ca_2, ca_3, ... ca_n)$ can be determined by the magnitude:\n",
    "\n",
    "<br>$d = \\sqrt{(ca_1-c_1)^2 + (ca_2-c_2)^2 + (ca_3-c_3)^2 + ... + (ca_n-c_n)^2}$ <br>\n",
    "\n",
    "If $d$ is evaluated for each catagory, the catagory with the *minimium* value of $d$ represents the closest fit.\n",
    "\n",
    "The vector quantisation algorithm can be applied to each data point using a for loop or numpy broadcasting.\n",
    "\n",
    "\n",
    "\n",
    "__(1.) Mathematical compuation with Numpy__ \n",
    "<br>__*(5 marks)*__\n",
    "<br>Use the vector quantisation algorithm to determine the species of each plant.\n",
    "<br>Hint: Use a for loop or use broadcasting. \n",
    "<br>Add a column to your DataFrame called \"species\" with the species of each plant that most closely fits the plant characteristics. "
   ]
  },
  {
   "cell_type": "code",
   "execution_count": null,
   "metadata": {
    "collapsed": true
   },
   "outputs": [],
   "source": []
  },
  {
   "cell_type": "code",
   "execution_count": null,
   "metadata": {
    "collapsed": true
   },
   "outputs": [],
   "source": []
  },
  {
   "cell_type": "markdown",
   "metadata": {},
   "source": [
    "__(2.) Functions__ \n",
    "<br>__*(1 mark)*__\n",
    "<br>Use the function that you wrote for __Part B: (2.)__ to assign a grid reference to each data point.  <br>Save the grid refernce x and y value as two columns in your Data Frame.\n"
   ]
  },
  {
   "cell_type": "code",
   "execution_count": null,
   "metadata": {
    "collapsed": true
   },
   "outputs": [],
   "source": []
  },
  {
   "cell_type": "markdown",
   "metadata": {},
   "source": [
    "__(3.) Data Structures: Lists__ \n",
    "<br>__*(5 marks)*__\n",
    "\n",
    "Create a list for each of the following fields.\n",
    "1. x grid index \n",
    "1. y grid index \n",
    "1. average pH reading\n",
    "1. total count of *Winter heath* plant\n",
    "1. total count of *Bell heather* plant\n",
    "1. total count of *Brush bush* plant\n",
    "1. total count of *Darley heath* plant\n",
    "\n",
    "Loop through each grid cell and store a computed value for each field. \n",
    "\n",
    "Store the lists as a list of lists (nested lists).\n",
    "\n",
    "\n"
   ]
  },
  {
   "cell_type": "code",
   "execution_count": null,
   "metadata": {
    "collapsed": true
   },
   "outputs": [],
   "source": []
  },
  {
   "cell_type": "markdown",
   "metadata": {},
   "source": [
    "### Part D: Using Multiple Files to Produce Time-Series Data\n",
    "\n",
    "__Aim: Run all the steps that you coded in Part A-C for every envioronmental survey collected between the years 1997-2017 to produce time series data of the plant count and average pH.__\n",
    "\n",
    "__(1.) Control Flow__ \n",
    "<br>__*(5 marks)*__\n",
    "<br>Use a for loop to store a list of lists like you created in __Part C: (3.)__ for each year of the environmental survey (1997-2017)\n",
    "\n",
    "Hint: You can loop through each plant survey using:\n",
    ">```Python \n",
    "annual_data=[]\n",
    "for year in range(1997, 2018):\n",
    "    df = pd.read_csv(\"environmental_survey/plants\" + str(year) + \".csv\") \n",
    "```\n",
    "\n",
    "Hint: Append the list of lists created in __Part C: (3.)__ to the list `annual_data` each time the code loops.\n",
    "\n",
    "\n",
    ">```Python \n",
    "annual_data=[]\n",
    "for year in range(1997, 2018):\n",
    "    df = pd.read_csv(\"environmental_survey/plants\" + str(year) + \".csv\") \n",
    "```\n",
    "\n",
    "__(2.) Plotting and Curve Fitting__\n",
    "<br>__*(5 marks)*__\n",
    "\n",
    "<br>The two closest industrial sites to the area of land are:\n",
    "<br>__Sketchy inc.__ , established 1995, GPS coordinates lon = 136.7647, lat = 35.7336\n",
    "<br>__Philamore co.__ , established 1990, GPS coordinates lon = 136.8262, lat = 35.7498\n",
    "\n",
    "<br>Choose one grid cell that is close to an industrial site and one grid cell that is far from the industrial sites.\n",
    "<br>Plot a scatter graph of the average pH and plant count for each species (y axis) against time (x axis).\n",
    "<br>Fit a trendline to each data series\n",
    "<br>Show the equation of the trendline and the proximity to an industrial site as labels. "
   ]
  },
  {
   "cell_type": "code",
   "execution_count": null,
   "metadata": {
    "collapsed": true
   },
   "outputs": [],
   "source": []
  },
  {
   "cell_type": "code",
   "execution_count": null,
   "metadata": {
    "collapsed": true
   },
   "outputs": [],
   "source": []
  },
  {
   "cell_type": "code",
   "execution_count": null,
   "metadata": {
    "collapsed": true
   },
   "outputs": [],
   "source": []
  },
  {
   "cell_type": "code",
   "execution_count": null,
   "metadata": {
    "collapsed": true
   },
   "outputs": [],
   "source": []
  }
 ],
 "metadata": {
  "kernelspec": {
   "display_name": "Python 3",
   "language": "python",
   "name": "python3"
  },
  "language_info": {
   "codemirror_mode": {
    "name": "ipython",
    "version": 3
   },
   "file_extension": ".py",
   "mimetype": "text/x-python",
   "name": "python",
   "nbconvert_exporter": "python",
   "pygments_lexer": "ipython3",
   "version": "3.6.2"
  }
 },
 "nbformat": 4,
 "nbformat_minor": 2
}
